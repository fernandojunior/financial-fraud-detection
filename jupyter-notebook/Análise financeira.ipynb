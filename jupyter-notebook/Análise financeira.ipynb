{
 "cells": [
  {
   "cell_type": "markdown",
   "metadata": {},
   "source": [
    "#### Leitura dos dados"
   ]
  },
  {
   "cell_type": "code",
   "execution_count": 1,
   "metadata": {},
   "outputs": [],
   "source": [
    "import pandas as pd\n",
    "data = pd.read_csv('../data/validation_data.csv')"
   ]
  },
  {
   "cell_type": "code",
   "execution_count": 16,
   "metadata": {},
   "outputs": [],
   "source": [
    "value_column = 'Value'\n",
    "transactions_total = sum(data[value_column])"
   ]
  },
  {
   "cell_type": "markdown",
   "metadata": {},
   "source": [
    "### Análise do volume financeiro\n",
    "\n",
    "Transações genuínas correspondem a menos que 1% de todo o volume financeiro transacional."
   ]
  },
  {
   "cell_type": "code",
   "execution_count": 22,
   "metadata": {},
   "outputs": [
    {
     "data": {
      "text/plain": [
       "0.4394080931171235"
      ]
     },
     "execution_count": 22,
     "metadata": {},
     "output_type": "execute_result"
    }
   ],
   "source": [
    "transactions_genuine = sum(data[data['FraudResult']==0][value_column])\n",
    "transactions_genuine/transactions_total*100"
   ]
  },
  {
   "cell_type": "code",
   "execution_count": 23,
   "metadata": {},
   "outputs": [
    {
     "data": {
      "text/plain": [
       "99.56059190688286"
      ]
     },
     "execution_count": 23,
     "metadata": {},
     "output_type": "execute_result"
    }
   ],
   "source": [
    "transactions_fraudulent = sum(data[data['FraudResult']==1][value_column])\n",
    "transactions_fraudulent/transactions_total*100"
   ]
  },
  {
   "cell_type": "markdown",
   "metadata": {},
   "source": [
    "### Análise do impacto do modelo nas transações bancárias\n",
    "\n",
    "Vamos considerar que:\n",
    "\n",
    "- Um falso negativo indica que uma transação fraudulenta aconteceu mas o algoritmo não detectou e portanto, o banco assumirá o prejuízo integralmente.\n",
    "- Um falso positivo indica que uma transação genuína aconteceu mas o algoritmo não detectou e portanto, o banco perderá a participação dele na transação caso ela tivesse sido aprovada.\n",
    "\n",
    "Portanto, caso o algoritmo não existisse, o prejuízo seria de quase 45 BILHÕES de dólares."
   ]
  },
  {
   "cell_type": "code",
   "execution_count": 24,
   "metadata": {},
   "outputs": [
    {
     "data": {
      "text/plain": [
       "44929503107.513855"
      ]
     },
     "execution_count": 24,
     "metadata": {},
     "output_type": "execute_result"
    }
   ],
   "source": [
    "transactions_fraudulent"
   ]
  },
  {
   "cell_type": "markdown",
   "metadata": {},
   "source": [
    "#### Considerando o modelo treinado com o Catboost, o banco conseguiu economizar o seguinte montante:"
   ]
  },
  {
   "cell_type": "code",
   "execution_count": 37,
   "metadata": {},
   "outputs": [],
   "source": [
    "lost = 0\n",
    "\n",
    "for index, row in data.iterrows():\n",
    "    if row['FraudResult'] != row['CatBoostResult']:\n",
    "        if row['FraudResult']: # é fraude mas não detectou (falso negativo)\n",
    "            lost += row['Value']\n",
    "        else:\n",
    "            # é genuíno mas foi classificado como fraude\n",
    "            lost += row['Value'] * (row['PricingStrategy']/100)"
   ]
  },
  {
   "cell_type": "markdown",
   "metadata": {},
   "source": [
    "#### Esse modelo gerou prejuízo estimado de R$ 1.441.922,20"
   ]
  },
  {
   "cell_type": "code",
   "execution_count": 39,
   "metadata": {},
   "outputs": [
    {
     "data": {
      "text/plain": [
       "1441922.2"
      ]
     },
     "execution_count": 39,
     "metadata": {},
     "output_type": "execute_result"
    }
   ],
   "source": [
    "lost"
   ]
  },
  {
   "cell_type": "markdown",
   "metadata": {},
   "source": [
    "#### Ou seja, o modelo permitiu evitar mais de 99.9% do prejuízo total aos cofres da empresa"
   ]
  },
  {
   "cell_type": "code",
   "execution_count": 43,
   "metadata": {},
   "outputs": [
    {
     "data": {
      "text/plain": [
       "99.99679070076392"
      ]
     },
     "execution_count": 43,
     "metadata": {},
     "output_type": "execute_result"
    }
   ],
   "source": [
    "(1-lost/transactions_fraudulent)*100"
   ]
  }
 ],
 "metadata": {
  "kernelspec": {
   "display_name": "Python 3",
   "language": "python",
   "name": "python3"
  },
  "language_info": {
   "codemirror_mode": {
    "name": "ipython",
    "version": 3
   },
   "file_extension": ".py",
   "mimetype": "text/x-python",
   "name": "python",
   "nbconvert_exporter": "python",
   "pygments_lexer": "ipython3",
   "version": "3.7.1"
  }
 },
 "nbformat": 4,
 "nbformat_minor": 2
}
