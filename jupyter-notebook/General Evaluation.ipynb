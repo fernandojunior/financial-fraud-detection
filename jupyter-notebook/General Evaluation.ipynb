{
 "cells": [
  {
   "cell_type": "markdown",
   "metadata": {},
   "source": [
    "### Importing libs"
   ]
  },
  {
   "cell_type": "code",
   "execution_count": 5,
   "metadata": {},
   "outputs": [],
   "source": [
    "import numpy as np\n",
    "from sklearn.model_selection import train_test_split\n",
    "import pyspark.sql.functions as F\n",
    "\n",
    "import sys\n",
    "sys.path.insert(0, 'models/')\n",
    "\n",
    "import balance as bal\n",
    "import cat_boost as cat\n",
    "import isolation_forest\n",
    "import parameters as param\n",
    "import preprocessing as preprocess\n",
    "import visualization as vis\n",
    "import statistics as stats\n",
    "import io_module as io\n",
    "\n",
    "# This param when defined as True will execute the complete code, so slowly processing time\n",
    "# because is require to execute all checks and print all not essential functions.\n",
    "# When defined as False, a fast processing is applied with all core functionalities working\n",
    "# well.\n",
    "full_execution = False\n",
    "verbose_mode = True\n",
    "\n",
    "all_features = ['ProductId', 'ProductCategory', 'ChannelId', 'Value', 'PricingStrategy', 'Operation', 'PositiveAmount',\n",
    "                'avg_ps_ChannelId', 'rt_avg_ps_ChannelId', 'avg_ps_ProductCategory', 'rt_avg_ps_ProductCategory',\n",
    "                'avg_ps_ProductId', 'rt_avg_ps_ProductId']\n",
    "columns_to_remove = ['CurrencyCode', 'CountryCode', 'BatchId', 'AccountId', 'SubscriptionId',\n",
    "                     'CustomerId', 'TransactionStartTime', 'Amount']\n",
    "categorical_features = ['ProductId', 'ProductCategory', 'ChannelId']\n",
    "numerical_features = ['PositiveAmount', 'Operation', 'Value', 'PricingStrategy']\n",
    "numerical_features_augmented = ['Value', 'PricingStrategy', 'Operation', 'PositiveAmount', 'avg_ps_ChannelId',\n",
    "                                'rt_avg_ps_ChannelId', 'avg_ps_ProductCategory', 'rt_avg_ps_ProductCategory',\n",
    "                                'avg_ps_ProductId', 'rt_avg_ps_ProductId']\n",
    "\n",
    "label = 'FraudResult'\n",
    "genuine_label = 'FraudResult==0'\n",
    "fraud_label = 'FraudResult==1'\n",
    "categorical_positions = [0, 1, 2, 4];"
   ]
  },
  {
   "cell_type": "markdown",
   "metadata": {},
   "source": [
    "### Reading Data"
   ]
  },
  {
   "cell_type": "code",
   "execution_count": 2,
   "metadata": {},
   "outputs": [],
   "source": [
    "# Read Fraud Detection Challenge data\n",
    "train_data = io.read_spark_data_frame(param.get_file_name('training_data'))\n",
    "gen_train_data = train_data.filter('FraudResult == 0')\n",
    "# Create new features and remove the non used features\n",
    "train_data = preprocess.get_features_augmentation(train_data, gen_train_data)\n",
    "train_data = train_data.drop(*columns_to_remove)"
   ]
  },
  {
   "cell_type": "code",
   "execution_count": 23,
   "metadata": {},
   "outputs": [],
   "source": [
    "train_data = io.read_spark_data_frame(param.get_file_name('training_data'))\n",
    "train_data = train_data.withColumn(\"Operation\",\n",
    "                           F.when(train_data.Amount > 0, 1).when(train_data.Amount < 0, -1).otherwise(0))\n",
    "train_data = train_data.withColumn('PositiveAmount', F.abs(train_data['Amount']))\n",
    "aux = train_data.filter('FraudResult==0').select(['ChannelId', 'PositiveAmount']).groupBy('ChannelId').mean()\n"
   ]
  },
  {
   "cell_type": "code",
   "execution_count": 40,
   "metadata": {},
   "outputs": [],
   "source": [
    "item = \"ChannelId\"\n",
    "train_aux = train_data.filter('FraudResult==0').select([item, 'PositiveAmount']).groupBy(item).mean()\n",
    "test_aux = test_data.select([item, 'PositiveAmount']).groupBy(item).mean()"
   ]
  },
  {
   "cell_type": "code",
   "execution_count": 111,
   "metadata": {},
   "outputs": [
    {
     "data": {
      "text/html": [
       "<div>\n",
       "<style scoped>\n",
       "    .dataframe tbody tr th:only-of-type {\n",
       "        vertical-align: middle;\n",
       "    }\n",
       "\n",
       "    .dataframe tbody tr th {\n",
       "        vertical-align: top;\n",
       "    }\n",
       "\n",
       "    .dataframe thead th {\n",
       "        text-align: right;\n",
       "    }\n",
       "</style>\n",
       "<table border=\"1\" class=\"dataframe\">\n",
       "  <thead>\n",
       "    <tr style=\"text-align: right;\">\n",
       "      <th></th>\n",
       "      <th>ChannelId</th>\n",
       "      <th>avg(PositiveAmount)</th>\n",
       "    </tr>\n",
       "  </thead>\n",
       "  <tbody>\n",
       "    <tr>\n",
       "      <th>0</th>\n",
       "      <td>ChannelId_1</td>\n",
       "      <td>7558.333333</td>\n",
       "    </tr>\n",
       "    <tr>\n",
       "      <th>1</th>\n",
       "      <td>ChannelId_5</td>\n",
       "      <td>84226.910299</td>\n",
       "    </tr>\n",
       "    <tr>\n",
       "      <th>2</th>\n",
       "      <td>ChannelId_4</td>\n",
       "      <td>2900.000000</td>\n",
       "    </tr>\n",
       "    <tr>\n",
       "      <th>3</th>\n",
       "      <td>ChannelId_3</td>\n",
       "      <td>9206.837291</td>\n",
       "    </tr>\n",
       "    <tr>\n",
       "      <th>4</th>\n",
       "      <td>ChannelId_2</td>\n",
       "      <td>9691.750708</td>\n",
       "    </tr>\n",
       "  </tbody>\n",
       "</table>\n",
       "</div>"
      ],
      "text/plain": [
       "     ChannelId  avg(PositiveAmount)\n",
       "0  ChannelId_1          7558.333333\n",
       "1  ChannelId_5         84226.910299\n",
       "2  ChannelId_4          2900.000000\n",
       "3  ChannelId_3          9206.837291\n",
       "4  ChannelId_2          9691.750708"
      ]
     },
     "execution_count": 111,
     "metadata": {},
     "output_type": "execute_result"
    }
   ],
   "source": [
    "test_aux.toPandas()"
   ]
  },
  {
   "cell_type": "code",
   "execution_count": 49,
   "metadata": {},
   "outputs": [
    {
     "data": {
      "text/html": [
       "<div>\n",
       "<style scoped>\n",
       "    .dataframe tbody tr th:only-of-type {\n",
       "        vertical-align: middle;\n",
       "    }\n",
       "\n",
       "    .dataframe tbody tr th {\n",
       "        vertical-align: top;\n",
       "    }\n",
       "\n",
       "    .dataframe thead th {\n",
       "        text-align: right;\n",
       "    }\n",
       "</style>\n",
       "<table border=\"1\" class=\"dataframe\">\n",
       "  <thead>\n",
       "    <tr style=\"text-align: right;\">\n",
       "      <th></th>\n",
       "      <th>ChannelId</th>\n",
       "      <th>avg(PositiveAmount)</th>\n",
       "    </tr>\n",
       "  </thead>\n",
       "  <tbody>\n",
       "    <tr>\n",
       "      <th>0</th>\n",
       "      <td>ChannelId_1</td>\n",
       "      <td>27438.898876</td>\n",
       "    </tr>\n",
       "    <tr>\n",
       "      <th>1</th>\n",
       "      <td>ChannelId_5</td>\n",
       "      <td>5060.922710</td>\n",
       "    </tr>\n",
       "    <tr>\n",
       "      <th>2</th>\n",
       "      <td>ChannelId_3</td>\n",
       "      <td>8448.058854</td>\n",
       "    </tr>\n",
       "    <tr>\n",
       "      <th>3</th>\n",
       "      <td>ChannelId_2</td>\n",
       "      <td>3835.880507</td>\n",
       "    </tr>\n",
       "  </tbody>\n",
       "</table>\n",
       "</div>"
      ],
      "text/plain": [
       "     ChannelId  avg(PositiveAmount)\n",
       "0  ChannelId_1         27438.898876\n",
       "1  ChannelId_5          5060.922710\n",
       "2  ChannelId_3          8448.058854\n",
       "3  ChannelId_2          3835.880507"
      ]
     },
     "execution_count": 49,
     "metadata": {},
     "output_type": "execute_result"
    }
   ],
   "source": [
    "train_aux.toPandas()"
   ]
  },
  {
   "cell_type": "code",
   "execution_count": 121,
   "metadata": {},
   "outputs": [
    {
     "ename": "AttributeError",
     "evalue": "'DataFrame' object has no attribute 'isNull'",
     "output_type": "error",
     "traceback": [
      "\u001b[0;31m---------------------------------------------------------------------------\u001b[0m",
      "\u001b[0;31mAttributeError\u001b[0m                            Traceback (most recent call last)",
      "\u001b[0;32m<ipython-input-121-191e88ed8efc>\u001b[0m in \u001b[0;36m<module>\u001b[0;34m\u001b[0m\n\u001b[1;32m      1\u001b[0m \u001b[0mitem\u001b[0m\u001b[0;34m=\u001b[0m\u001b[0;34m'ChannelId'\u001b[0m\u001b[0;34m\u001b[0m\u001b[0;34m\u001b[0m\u001b[0m\n\u001b[0;32m----> 2\u001b[0;31m \u001b[0mtest_aux\u001b[0m\u001b[0;34m.\u001b[0m\u001b[0mjoin\u001b[0m\u001b[0;34m(\u001b[0m\u001b[0mtrain_aux\u001b[0m\u001b[0;34m,\u001b[0m \u001b[0mon\u001b[0m\u001b[0;34m=\u001b[0m\u001b[0;34m[\u001b[0m\u001b[0mitem\u001b[0m\u001b[0;34m]\u001b[0m\u001b[0;34m,\u001b[0m \u001b[0mhow\u001b[0m\u001b[0;34m=\u001b[0m\u001b[0;34m'outer'\u001b[0m\u001b[0;34m)\u001b[0m\u001b[0;34m.\u001b[0m\u001b[0mwhere\u001b[0m\u001b[0;34m(\u001b[0m\u001b[0mtrain_aux\u001b[0m\u001b[0;34m.\u001b[0m\u001b[0misNull\u001b[0m\u001b[0;34m(\u001b[0m\u001b[0;34m)\u001b[0m\u001b[0;34m)\u001b[0m\u001b[0;34m.\u001b[0m\u001b[0mtoPandas\u001b[0m\u001b[0;34m(\u001b[0m\u001b[0;34m)\u001b[0m\u001b[0;34m\u001b[0m\u001b[0;34m\u001b[0m\u001b[0m\n\u001b[0m\u001b[1;32m      3\u001b[0m \u001b[0;34m\u001b[0m\u001b[0m\n\u001b[1;32m      4\u001b[0m \u001b[0;31m#test_aux.join(train_aux, on=[item], how='outer').toPandas()\u001b[0m\u001b[0;34m\u001b[0m\u001b[0;34m\u001b[0m\u001b[0;34m\u001b[0m\u001b[0m\n",
      "\u001b[0;32m~/anaconda3/lib/python3.7/site-packages/pyspark/sql/dataframe.py\u001b[0m in \u001b[0;36m__getattr__\u001b[0;34m(self, name)\u001b[0m\n\u001b[1;32m   1298\u001b[0m         \u001b[0;32mif\u001b[0m \u001b[0mname\u001b[0m \u001b[0;32mnot\u001b[0m \u001b[0;32min\u001b[0m \u001b[0mself\u001b[0m\u001b[0;34m.\u001b[0m\u001b[0mcolumns\u001b[0m\u001b[0;34m:\u001b[0m\u001b[0;34m\u001b[0m\u001b[0;34m\u001b[0m\u001b[0m\n\u001b[1;32m   1299\u001b[0m             raise AttributeError(\n\u001b[0;32m-> 1300\u001b[0;31m                 \"'%s' object has no attribute '%s'\" % (self.__class__.__name__, name))\n\u001b[0m\u001b[1;32m   1301\u001b[0m         \u001b[0mjc\u001b[0m \u001b[0;34m=\u001b[0m \u001b[0mself\u001b[0m\u001b[0;34m.\u001b[0m\u001b[0m_jdf\u001b[0m\u001b[0;34m.\u001b[0m\u001b[0mapply\u001b[0m\u001b[0;34m(\u001b[0m\u001b[0mname\u001b[0m\u001b[0;34m)\u001b[0m\u001b[0;34m\u001b[0m\u001b[0;34m\u001b[0m\u001b[0m\n\u001b[1;32m   1302\u001b[0m         \u001b[0;32mreturn\u001b[0m \u001b[0mColumn\u001b[0m\u001b[0;34m(\u001b[0m\u001b[0mjc\u001b[0m\u001b[0;34m)\u001b[0m\u001b[0;34m\u001b[0m\u001b[0;34m\u001b[0m\u001b[0m\n",
      "\u001b[0;31mAttributeError\u001b[0m: 'DataFrame' object has no attribute 'isNull'"
     ]
    }
   ],
   "source": [
    "item='ChannelId'\n",
    "test_aux.join(train_aux, on=[item], how='outer').where(train_aux.isNull()).toPandas()\n",
    "\n",
    "#test_aux.join(train_aux, on=[item], how='outer').toPandas()"
   ]
  },
  {
   "cell_type": "code",
   "execution_count": null,
   "metadata": {},
   "outputs": [],
   "source": []
  },
  {
   "cell_type": "code",
   "execution_count": 3,
   "metadata": {},
   "outputs": [],
   "source": [
    "x = train_data[numerical_features_augmented].toPandas()\n",
    "y = train_data.select(label).toPandas()"
   ]
  },
  {
   "cell_type": "code",
   "execution_count": 4,
   "metadata": {},
   "outputs": [],
   "source": [
    "x = np.array(x)\n",
    "y = np.array(y.iloc[:,0])"
   ]
  },
  {
   "cell_type": "markdown",
   "metadata": {},
   "source": [
    "### Isolation Forest"
   ]
  },
  {
   "cell_type": "code",
   "execution_count": 57,
   "metadata": {},
   "outputs": [],
   "source": [
    "import pandas as pd\n",
    "#x_data, y_data = bal.balance_using_smotenc(train_data, all_features, label, categorical_positions)\n",
    "x_data = pd.read_csv('../data/x_data_smotenc.csv')\n",
    "y_data = pd.read_csv('../data/y_data_smotenc.csv')\n",
    "\n",
    "x = np.array(x_data.iloc[:,:])\n",
    "y = np.array(y_data.iloc[:,0])"
   ]
  },
  {
   "cell_type": "code",
   "execution_count": 17,
   "metadata": {},
   "outputs": [],
   "source": [
    "x = train_data[numerical_features_augmented].toPandas()"
   ]
  },
  {
   "cell_type": "code",
   "execution_count": 18,
   "metadata": {
    "scrolled": true
   },
   "outputs": [
    {
     "data": {
      "text/plain": [
       "IsolationForest(behaviour='new', bootstrap=False, contamination=0.003,\n",
       "                max_features=1.0, max_samples=500, n_estimators=100,\n",
       "                n_jobs=None, random_state=42, verbose=0, warm_start=False)"
      ]
     },
     "execution_count": 18,
     "metadata": {},
     "output_type": "execute_result"
    }
   ],
   "source": [
    "import sklearn.ensemble as ens\n",
    "isolation = ens.IsolationForest(behaviour='new', max_samples=500,\n",
    "                                         random_state=42, contamination=0.003)\n",
    "#isolation.fit(x[:,3:])\n",
    "isolation.fit(x)"
   ]
  },
  {
   "cell_type": "code",
   "execution_count": 19,
   "metadata": {},
   "outputs": [
    {
     "data": {
      "text/plain": [
       "array([1, 1, 1, ..., 1, 1, 1])"
      ]
     },
     "execution_count": 19,
     "metadata": {},
     "output_type": "execute_result"
    }
   ],
   "source": [
    "#isolation_pred = isolation.predict(x[:,3:])\n",
    "isolation.predict(x)\n",
    "#new_x = np.column_stack([x[:,3:], isolation_pred])"
   ]
  },
  {
   "cell_type": "markdown",
   "metadata": {},
   "source": [
    "### CatBoost"
   ]
  },
  {
   "cell_type": "code",
   "execution_count": 5,
   "metadata": {},
   "outputs": [
    {
     "name": "stdout",
     "output_type": "stream",
     "text": [
      "Learning rate set to 0.178057\n",
      "0:\tlearn: 0.1769156\ttotal: 76.2ms\tremaining: 22.8s\n",
      "1:\tlearn: 0.0509308\ttotal: 100ms\tremaining: 15s\n",
      "2:\tlearn: 0.0181710\ttotal: 145ms\tremaining: 14.4s\n",
      "3:\tlearn: 0.0084218\ttotal: 174ms\tremaining: 12.9s\n",
      "4:\tlearn: 0.0048271\ttotal: 198ms\tremaining: 11.7s\n",
      "5:\tlearn: 0.0032907\ttotal: 225ms\tremaining: 11s\n",
      "6:\tlearn: 0.0025729\ttotal: 240ms\tremaining: 10s\n",
      "7:\tlearn: 0.0022306\ttotal: 254ms\tremaining: 9.27s\n",
      "8:\tlearn: 0.0020166\ttotal: 271ms\tremaining: 8.76s\n",
      "9:\tlearn: 0.0019141\ttotal: 285ms\tremaining: 8.28s\n",
      "10:\tlearn: 0.0018603\ttotal: 300ms\tremaining: 7.87s\n",
      "11:\tlearn: 0.0017527\ttotal: 314ms\tremaining: 7.54s\n",
      "12:\tlearn: 0.0016876\ttotal: 329ms\tremaining: 7.25s\n",
      "13:\tlearn: 0.0016371\ttotal: 343ms\tremaining: 7s\n",
      "14:\tlearn: 0.0016058\ttotal: 357ms\tremaining: 6.78s\n",
      "15:\tlearn: 0.0015835\ttotal: 370ms\tremaining: 6.57s\n",
      "16:\tlearn: 0.0015623\ttotal: 384ms\tremaining: 6.4s\n",
      "17:\tlearn: 0.0015427\ttotal: 398ms\tremaining: 6.24s\n",
      "18:\tlearn: 0.0015298\ttotal: 424ms\tremaining: 6.26s\n",
      "19:\tlearn: 0.0015225\ttotal: 438ms\tremaining: 6.13s\n",
      "20:\tlearn: 0.0015085\ttotal: 452ms\tremaining: 6s\n",
      "21:\tlearn: 0.0014991\ttotal: 466ms\tremaining: 5.89s\n",
      "22:\tlearn: 0.0014882\ttotal: 480ms\tremaining: 5.79s\n",
      "23:\tlearn: 0.0014804\ttotal: 494ms\tremaining: 5.69s\n",
      "24:\tlearn: 0.0014760\ttotal: 508ms\tremaining: 5.59s\n",
      "25:\tlearn: 0.0014699\ttotal: 522ms\tremaining: 5.5s\n",
      "26:\tlearn: 0.0014591\ttotal: 537ms\tremaining: 5.43s\n",
      "27:\tlearn: 0.0014535\ttotal: 551ms\tremaining: 5.35s\n",
      "28:\tlearn: 0.0014456\ttotal: 565ms\tremaining: 5.28s\n",
      "29:\tlearn: 0.0014419\ttotal: 580ms\tremaining: 5.22s\n",
      "30:\tlearn: 0.0014316\ttotal: 594ms\tremaining: 5.16s\n",
      "31:\tlearn: 0.0014244\ttotal: 609ms\tremaining: 5.1s\n",
      "32:\tlearn: 0.0014221\ttotal: 631ms\tremaining: 5.11s\n",
      "33:\tlearn: 0.0014181\ttotal: 651ms\tremaining: 5.09s\n",
      "34:\tlearn: 0.0014164\ttotal: 667ms\tremaining: 5.05s\n",
      "35:\tlearn: 0.0014122\ttotal: 681ms\tremaining: 5s\n",
      "36:\tlearn: 0.0014104\ttotal: 696ms\tremaining: 4.95s\n",
      "37:\tlearn: 0.0014075\ttotal: 711ms\tremaining: 4.9s\n",
      "38:\tlearn: 0.0014018\ttotal: 725ms\tremaining: 4.85s\n",
      "39:\tlearn: 0.0013983\ttotal: 737ms\tremaining: 4.79s\n",
      "40:\tlearn: 0.0013942\ttotal: 752ms\tremaining: 4.75s\n",
      "41:\tlearn: 0.0013913\ttotal: 766ms\tremaining: 4.71s\n",
      "42:\tlearn: 0.0013859\ttotal: 780ms\tremaining: 4.66s\n",
      "43:\tlearn: 0.0013852\ttotal: 793ms\tremaining: 4.61s\n",
      "44:\tlearn: 0.0013839\ttotal: 807ms\tremaining: 4.57s\n",
      "45:\tlearn: 0.0013815\ttotal: 828ms\tremaining: 4.57s\n",
      "46:\tlearn: 0.0013806\ttotal: 853ms\tremaining: 4.59s\n",
      "47:\tlearn: 0.0013788\ttotal: 867ms\tremaining: 4.55s\n",
      "48:\tlearn: 0.0013773\ttotal: 883ms\tremaining: 4.52s\n",
      "49:\tlearn: 0.0013755\ttotal: 897ms\tremaining: 4.48s\n",
      "50:\tlearn: 0.0013725\ttotal: 911ms\tremaining: 4.45s\n",
      "51:\tlearn: 0.0013698\ttotal: 925ms\tremaining: 4.41s\n",
      "52:\tlearn: 0.0013684\ttotal: 938ms\tremaining: 4.37s\n",
      "53:\tlearn: 0.0013573\ttotal: 952ms\tremaining: 4.34s\n",
      "54:\tlearn: 0.0013567\ttotal: 966ms\tremaining: 4.3s\n",
      "55:\tlearn: 0.0013546\ttotal: 980ms\tremaining: 4.27s\n",
      "56:\tlearn: 0.0013543\ttotal: 990ms\tremaining: 4.22s\n",
      "57:\tlearn: 0.0013525\ttotal: 1s\tremaining: 4.19s\n",
      "58:\tlearn: 0.0013511\ttotal: 1.02s\tremaining: 4.15s\n",
      "59:\tlearn: 0.0013502\ttotal: 1.03s\tremaining: 4.13s\n",
      "60:\tlearn: 0.0013479\ttotal: 1.05s\tremaining: 4.11s\n",
      "61:\tlearn: 0.0013429\ttotal: 1.07s\tremaining: 4.12s\n",
      "62:\tlearn: 0.0013380\ttotal: 1.09s\tremaining: 4.09s\n",
      "63:\tlearn: 0.0013348\ttotal: 1.11s\tremaining: 4.08s\n",
      "64:\tlearn: 0.0013338\ttotal: 1.12s\tremaining: 4.06s\n",
      "65:\tlearn: 0.0013325\ttotal: 1.14s\tremaining: 4.03s\n",
      "66:\tlearn: 0.0013307\ttotal: 1.15s\tremaining: 4s\n",
      "67:\tlearn: 0.0013301\ttotal: 1.16s\tremaining: 3.97s\n",
      "68:\tlearn: 0.0013277\ttotal: 1.18s\tremaining: 3.94s\n",
      "69:\tlearn: 0.0013255\ttotal: 1.19s\tremaining: 3.92s\n",
      "70:\tlearn: 0.0013242\ttotal: 1.21s\tremaining: 3.89s\n",
      "71:\tlearn: 0.0013234\ttotal: 1.22s\tremaining: 3.86s\n",
      "72:\tlearn: 0.0013228\ttotal: 1.23s\tremaining: 3.84s\n",
      "73:\tlearn: 0.0013218\ttotal: 1.25s\tremaining: 3.81s\n",
      "74:\tlearn: 0.0013211\ttotal: 1.26s\tremaining: 3.79s\n",
      "75:\tlearn: 0.0013188\ttotal: 1.28s\tremaining: 3.78s\n",
      "76:\tlearn: 0.0013184\ttotal: 1.3s\tremaining: 3.77s\n",
      "77:\tlearn: 0.0013177\ttotal: 1.31s\tremaining: 3.74s\n",
      "78:\tlearn: 0.0013174\ttotal: 1.33s\tremaining: 3.72s\n",
      "79:\tlearn: 0.0013169\ttotal: 1.34s\tremaining: 3.69s\n",
      "80:\tlearn: 0.0013164\ttotal: 1.36s\tremaining: 3.67s\n",
      "81:\tlearn: 0.0013158\ttotal: 1.37s\tremaining: 3.64s\n",
      "82:\tlearn: 0.0013155\ttotal: 1.38s\tremaining: 3.62s\n",
      "83:\tlearn: 0.0013151\ttotal: 1.4s\tremaining: 3.6s\n",
      "84:\tlearn: 0.0013139\ttotal: 1.41s\tremaining: 3.57s\n",
      "85:\tlearn: 0.0013115\ttotal: 1.43s\tremaining: 3.55s\n",
      "86:\tlearn: 0.0013106\ttotal: 1.44s\tremaining: 3.53s\n",
      "87:\tlearn: 0.0013081\ttotal: 1.46s\tremaining: 3.51s\n",
      "88:\tlearn: 0.0013075\ttotal: 1.47s\tremaining: 3.48s\n",
      "89:\tlearn: 0.0013070\ttotal: 1.49s\tremaining: 3.48s\n",
      "90:\tlearn: 0.0013067\ttotal: 1.51s\tremaining: 3.47s\n",
      "91:\tlearn: 0.0013065\ttotal: 1.53s\tremaining: 3.45s\n",
      "92:\tlearn: 0.0013058\ttotal: 1.54s\tremaining: 3.43s\n",
      "93:\tlearn: 0.0013054\ttotal: 1.55s\tremaining: 3.41s\n",
      "94:\tlearn: 0.0013037\ttotal: 1.57s\tremaining: 3.38s\n",
      "95:\tlearn: 0.0013033\ttotal: 1.58s\tremaining: 3.36s\n",
      "96:\tlearn: 0.0013030\ttotal: 1.6s\tremaining: 3.34s\n",
      "97:\tlearn: 0.0013027\ttotal: 1.61s\tremaining: 3.32s\n",
      "98:\tlearn: 0.0013024\ttotal: 1.63s\tremaining: 3.3s\n",
      "99:\tlearn: 0.0013022\ttotal: 1.64s\tremaining: 3.28s\n",
      "100:\tlearn: 0.0013020\ttotal: 1.65s\tremaining: 3.26s\n",
      "101:\tlearn: 0.0013015\ttotal: 1.67s\tremaining: 3.24s\n",
      "102:\tlearn: 0.0013013\ttotal: 1.68s\tremaining: 3.22s\n",
      "103:\tlearn: 0.0012999\ttotal: 1.7s\tremaining: 3.2s\n",
      "104:\tlearn: 0.0012997\ttotal: 1.72s\tremaining: 3.19s\n",
      "105:\tlearn: 0.0012995\ttotal: 1.73s\tremaining: 3.17s\n",
      "106:\tlearn: 0.0012992\ttotal: 1.75s\tremaining: 3.16s\n",
      "107:\tlearn: 0.0012982\ttotal: 1.76s\tremaining: 3.14s\n",
      "108:\tlearn: 0.0012980\ttotal: 1.78s\tremaining: 3.12s\n",
      "109:\tlearn: 0.0012978\ttotal: 1.79s\tremaining: 3.1s\n",
      "110:\tlearn: 0.0012976\ttotal: 1.81s\tremaining: 3.08s\n",
      "111:\tlearn: 0.0012973\ttotal: 1.82s\tremaining: 3.06s\n",
      "112:\tlearn: 0.0012966\ttotal: 1.83s\tremaining: 3.04s\n",
      "113:\tlearn: 0.0012959\ttotal: 1.85s\tremaining: 3.02s\n",
      "114:\tlearn: 0.0012957\ttotal: 1.86s\tremaining: 2.99s\n",
      "115:\tlearn: 0.0012955\ttotal: 1.87s\tremaining: 2.97s\n",
      "116:\tlearn: 0.0012953\ttotal: 1.88s\tremaining: 2.95s\n",
      "117:\tlearn: 0.0012952\ttotal: 1.9s\tremaining: 2.92s\n",
      "118:\tlearn: 0.0012950\ttotal: 1.92s\tremaining: 2.92s\n",
      "119:\tlearn: 0.0012925\ttotal: 1.94s\tremaining: 2.91s\n",
      "120:\tlearn: 0.0012918\ttotal: 1.96s\tremaining: 2.9s\n",
      "121:\tlearn: 0.0012899\ttotal: 1.97s\tremaining: 2.88s\n",
      "122:\tlearn: 0.0012895\ttotal: 1.99s\tremaining: 2.86s\n",
      "123:\tlearn: 0.0012893\ttotal: 2s\tremaining: 2.84s\n",
      "124:\tlearn: 0.0012892\ttotal: 2.02s\tremaining: 2.82s\n",
      "125:\tlearn: 0.0012891\ttotal: 2.03s\tremaining: 2.8s\n",
      "126:\tlearn: 0.0012890\ttotal: 2.04s\tremaining: 2.78s\n",
      "127:\tlearn: 0.0012889\ttotal: 2.05s\tremaining: 2.76s\n",
      "128:\tlearn: 0.0012888\ttotal: 2.06s\tremaining: 2.74s\n",
      "129:\tlearn: 0.0012887\ttotal: 2.08s\tremaining: 2.72s\n",
      "130:\tlearn: 0.0012884\ttotal: 2.09s\tremaining: 2.7s\n",
      "131:\tlearn: 0.0012883\ttotal: 2.1s\tremaining: 2.68s\n",
      "132:\tlearn: 0.0012883\ttotal: 2.11s\tremaining: 2.65s\n",
      "133:\tlearn: 0.0012883\ttotal: 2.13s\tremaining: 2.64s\n",
      "134:\tlearn: 0.0012882\ttotal: 2.14s\tremaining: 2.62s\n",
      "135:\tlearn: 0.0012881\ttotal: 2.16s\tremaining: 2.6s\n",
      "136:\tlearn: 0.0012880\ttotal: 2.18s\tremaining: 2.59s\n",
      "137:\tlearn: 0.0012875\ttotal: 2.19s\tremaining: 2.57s\n",
      "138:\tlearn: 0.0012874\ttotal: 2.2s\tremaining: 2.55s\n",
      "139:\tlearn: 0.0012874\ttotal: 2.22s\tremaining: 2.53s\n",
      "140:\tlearn: 0.0012874\ttotal: 2.23s\tremaining: 2.52s\n",
      "141:\tlearn: 0.0012873\ttotal: 2.24s\tremaining: 2.5s\n",
      "142:\tlearn: 0.0012872\ttotal: 2.26s\tremaining: 2.48s\n",
      "143:\tlearn: 0.0012871\ttotal: 2.27s\tremaining: 2.46s\n",
      "144:\tlearn: 0.0012870\ttotal: 2.28s\tremaining: 2.44s\n",
      "145:\tlearn: 0.0012869\ttotal: 2.3s\tremaining: 2.42s\n",
      "146:\tlearn: 0.0012868\ttotal: 2.31s\tremaining: 2.4s\n",
      "147:\tlearn: 0.0012867\ttotal: 2.32s\tremaining: 2.38s\n",
      "148:\tlearn: 0.0012866\ttotal: 2.33s\tremaining: 2.37s\n",
      "149:\tlearn: 0.0012865\ttotal: 2.35s\tremaining: 2.35s\n",
      "150:\tlearn: 0.0012865\ttotal: 2.37s\tremaining: 2.33s\n",
      "151:\tlearn: 0.0012864\ttotal: 2.38s\tremaining: 2.31s\n",
      "152:\tlearn: 0.0012863\ttotal: 2.39s\tremaining: 2.3s\n",
      "153:\tlearn: 0.0012862\ttotal: 2.4s\tremaining: 2.28s\n",
      "154:\tlearn: 0.0012862\ttotal: 2.42s\tremaining: 2.26s\n",
      "155:\tlearn: 0.0012861\ttotal: 2.43s\tremaining: 2.24s\n",
      "156:\tlearn: 0.0012860\ttotal: 2.44s\tremaining: 2.22s\n",
      "157:\tlearn: 0.0012860\ttotal: 2.45s\tremaining: 2.2s\n",
      "158:\tlearn: 0.0012859\ttotal: 2.46s\tremaining: 2.19s\n",
      "159:\tlearn: 0.0012858\ttotal: 2.48s\tremaining: 2.17s\n",
      "160:\tlearn: 0.0012858\ttotal: 2.49s\tremaining: 2.15s\n",
      "161:\tlearn: 0.0012857\ttotal: 2.5s\tremaining: 2.13s\n",
      "162:\tlearn: 0.0012857\ttotal: 2.51s\tremaining: 2.11s\n",
      "163:\tlearn: 0.0012856\ttotal: 2.52s\tremaining: 2.09s\n"
     ]
    },
    {
     "name": "stdout",
     "output_type": "stream",
     "text": [
      "164:\tlearn: 0.0012856\ttotal: 2.54s\tremaining: 2.08s\n",
      "165:\tlearn: 0.0012855\ttotal: 2.56s\tremaining: 2.07s\n",
      "166:\tlearn: 0.0012855\ttotal: 2.57s\tremaining: 2.05s\n",
      "167:\tlearn: 0.0012854\ttotal: 2.58s\tremaining: 2.03s\n",
      "168:\tlearn: 0.0012854\ttotal: 2.6s\tremaining: 2.01s\n",
      "169:\tlearn: 0.0012853\ttotal: 2.61s\tremaining: 2s\n",
      "170:\tlearn: 0.0012853\ttotal: 2.62s\tremaining: 1.98s\n",
      "171:\tlearn: 0.0012852\ttotal: 2.63s\tremaining: 1.96s\n",
      "172:\tlearn: 0.0012852\ttotal: 2.65s\tremaining: 1.94s\n",
      "173:\tlearn: 0.0012851\ttotal: 2.66s\tremaining: 1.92s\n",
      "174:\tlearn: 0.0012851\ttotal: 2.67s\tremaining: 1.91s\n",
      "175:\tlearn: 0.0012850\ttotal: 2.68s\tremaining: 1.89s\n",
      "176:\tlearn: 0.0012850\ttotal: 2.69s\tremaining: 1.87s\n",
      "177:\tlearn: 0.0012850\ttotal: 2.71s\tremaining: 1.85s\n",
      "178:\tlearn: 0.0012849\ttotal: 2.72s\tremaining: 1.84s\n",
      "179:\tlearn: 0.0012849\ttotal: 2.73s\tremaining: 1.82s\n",
      "180:\tlearn: 0.0012849\ttotal: 2.75s\tremaining: 1.81s\n",
      "181:\tlearn: 0.0012848\ttotal: 2.77s\tremaining: 1.79s\n",
      "182:\tlearn: 0.0012848\ttotal: 2.78s\tremaining: 1.77s\n",
      "183:\tlearn: 0.0012848\ttotal: 2.79s\tremaining: 1.76s\n",
      "184:\tlearn: 0.0012847\ttotal: 2.8s\tremaining: 1.74s\n",
      "185:\tlearn: 0.0012847\ttotal: 2.81s\tremaining: 1.73s\n",
      "186:\tlearn: 0.0012847\ttotal: 2.83s\tremaining: 1.71s\n",
      "187:\tlearn: 0.0012847\ttotal: 2.84s\tremaining: 1.69s\n",
      "188:\tlearn: 0.0012846\ttotal: 2.85s\tremaining: 1.67s\n",
      "189:\tlearn: 0.0012846\ttotal: 2.86s\tremaining: 1.66s\n",
      "190:\tlearn: 0.0012846\ttotal: 2.87s\tremaining: 1.64s\n",
      "191:\tlearn: 0.0012846\ttotal: 2.88s\tremaining: 1.62s\n",
      "192:\tlearn: 0.0012845\ttotal: 2.9s\tremaining: 1.6s\n",
      "193:\tlearn: 0.0012845\ttotal: 2.91s\tremaining: 1.59s\n",
      "194:\tlearn: 0.0012845\ttotal: 2.92s\tremaining: 1.57s\n",
      "195:\tlearn: 0.0012844\ttotal: 2.93s\tremaining: 1.56s\n",
      "196:\tlearn: 0.0012844\ttotal: 2.95s\tremaining: 1.54s\n",
      "197:\tlearn: 0.0012844\ttotal: 2.96s\tremaining: 1.53s\n",
      "198:\tlearn: 0.0012844\ttotal: 2.98s\tremaining: 1.51s\n",
      "199:\tlearn: 0.0012844\ttotal: 2.99s\tremaining: 1.49s\n",
      "200:\tlearn: 0.0012844\ttotal: 3s\tremaining: 1.48s\n",
      "201:\tlearn: 0.0012844\ttotal: 3.01s\tremaining: 1.46s\n",
      "202:\tlearn: 0.0012843\ttotal: 3.02s\tremaining: 1.44s\n",
      "203:\tlearn: 0.0012843\ttotal: 3.03s\tremaining: 1.43s\n",
      "204:\tlearn: 0.0012843\ttotal: 3.04s\tremaining: 1.41s\n",
      "205:\tlearn: 0.0012843\ttotal: 3.06s\tremaining: 1.39s\n",
      "206:\tlearn: 0.0012843\ttotal: 3.07s\tremaining: 1.38s\n",
      "207:\tlearn: 0.0012843\ttotal: 3.08s\tremaining: 1.36s\n",
      "208:\tlearn: 0.0012843\ttotal: 3.09s\tremaining: 1.34s\n",
      "209:\tlearn: 0.0012843\ttotal: 3.1s\tremaining: 1.33s\n",
      "210:\tlearn: 0.0012843\ttotal: 3.12s\tremaining: 1.31s\n",
      "211:\tlearn: 0.0012843\ttotal: 3.13s\tremaining: 1.3s\n",
      "212:\tlearn: 0.0012843\ttotal: 3.14s\tremaining: 1.28s\n",
      "213:\tlearn: 0.0012843\ttotal: 3.15s\tremaining: 1.26s\n",
      "214:\tlearn: 0.0012843\ttotal: 3.16s\tremaining: 1.25s\n",
      "215:\tlearn: 0.0012843\ttotal: 3.17s\tremaining: 1.23s\n",
      "216:\tlearn: 0.0012843\ttotal: 3.19s\tremaining: 1.22s\n",
      "217:\tlearn: 0.0012843\ttotal: 3.2s\tremaining: 1.2s\n",
      "218:\tlearn: 0.0012843\ttotal: 3.21s\tremaining: 1.19s\n",
      "219:\tlearn: 0.0012843\ttotal: 3.22s\tremaining: 1.17s\n",
      "220:\tlearn: 0.0012843\ttotal: 3.23s\tremaining: 1.15s\n",
      "221:\tlearn: 0.0012843\ttotal: 3.24s\tremaining: 1.14s\n",
      "222:\tlearn: 0.0012843\ttotal: 3.25s\tremaining: 1.12s\n",
      "223:\tlearn: 0.0012843\ttotal: 3.26s\tremaining: 1.1s\n",
      "224:\tlearn: 0.0012843\ttotal: 3.27s\tremaining: 1.09s\n",
      "225:\tlearn: 0.0012843\ttotal: 3.28s\tremaining: 1.07s\n",
      "226:\tlearn: 0.0012843\ttotal: 3.29s\tremaining: 1.06s\n",
      "227:\tlearn: 0.0012843\ttotal: 3.3s\tremaining: 1.04s\n",
      "228:\tlearn: 0.0012843\ttotal: 3.31s\tremaining: 1.03s\n",
      "229:\tlearn: 0.0012843\ttotal: 3.32s\tremaining: 1.01s\n",
      "230:\tlearn: 0.0012843\ttotal: 3.33s\tremaining: 996ms\n",
      "231:\tlearn: 0.0012843\ttotal: 3.34s\tremaining: 980ms\n",
      "232:\tlearn: 0.0012843\ttotal: 3.35s\tremaining: 964ms\n",
      "233:\tlearn: 0.0012843\ttotal: 3.36s\tremaining: 949ms\n",
      "234:\tlearn: 0.0012843\ttotal: 3.37s\tremaining: 933ms\n",
      "235:\tlearn: 0.0012843\ttotal: 3.39s\tremaining: 920ms\n",
      "236:\tlearn: 0.0012843\ttotal: 3.4s\tremaining: 904ms\n",
      "237:\tlearn: 0.0012843\ttotal: 3.41s\tremaining: 889ms\n",
      "238:\tlearn: 0.0012843\ttotal: 3.42s\tremaining: 873ms\n",
      "239:\tlearn: 0.0012843\ttotal: 3.43s\tremaining: 858ms\n",
      "240:\tlearn: 0.0012843\ttotal: 3.44s\tremaining: 842ms\n",
      "241:\tlearn: 0.0012843\ttotal: 3.45s\tremaining: 827ms\n",
      "242:\tlearn: 0.0012843\ttotal: 3.46s\tremaining: 812ms\n",
      "243:\tlearn: 0.0012843\ttotal: 3.47s\tremaining: 797ms\n",
      "244:\tlearn: 0.0012843\ttotal: 3.48s\tremaining: 781ms\n",
      "245:\tlearn: 0.0012843\ttotal: 3.49s\tremaining: 766ms\n",
      "246:\tlearn: 0.0012843\ttotal: 3.5s\tremaining: 751ms\n",
      "247:\tlearn: 0.0012843\ttotal: 3.51s\tremaining: 736ms\n",
      "248:\tlearn: 0.0012843\ttotal: 3.52s\tremaining: 721ms\n",
      "249:\tlearn: 0.0012843\ttotal: 3.53s\tremaining: 706ms\n",
      "250:\tlearn: 0.0012843\ttotal: 3.54s\tremaining: 691ms\n",
      "251:\tlearn: 0.0012843\ttotal: 3.55s\tremaining: 676ms\n",
      "252:\tlearn: 0.0012843\ttotal: 3.56s\tremaining: 662ms\n",
      "253:\tlearn: 0.0012843\ttotal: 3.57s\tremaining: 647ms\n",
      "254:\tlearn: 0.0012843\ttotal: 3.59s\tremaining: 633ms\n",
      "255:\tlearn: 0.0012842\ttotal: 3.6s\tremaining: 619ms\n",
      "256:\tlearn: 0.0012842\ttotal: 3.61s\tremaining: 605ms\n",
      "257:\tlearn: 0.0012842\ttotal: 3.63s\tremaining: 590ms\n",
      "258:\tlearn: 0.0012842\ttotal: 3.64s\tremaining: 576ms\n",
      "259:\tlearn: 0.0012842\ttotal: 3.65s\tremaining: 561ms\n",
      "260:\tlearn: 0.0012842\ttotal: 3.66s\tremaining: 546ms\n",
      "261:\tlearn: 0.0012842\ttotal: 3.67s\tremaining: 532ms\n",
      "262:\tlearn: 0.0012842\ttotal: 3.68s\tremaining: 517ms\n",
      "263:\tlearn: 0.0012842\ttotal: 3.69s\tremaining: 503ms\n",
      "264:\tlearn: 0.0012842\ttotal: 3.7s\tremaining: 488ms\n",
      "265:\tlearn: 0.0012842\ttotal: 3.71s\tremaining: 474ms\n",
      "266:\tlearn: 0.0012842\ttotal: 3.72s\tremaining: 459ms\n",
      "267:\tlearn: 0.0012842\ttotal: 3.73s\tremaining: 445ms\n",
      "268:\tlearn: 0.0012842\ttotal: 3.74s\tremaining: 431ms\n",
      "269:\tlearn: 0.0012842\ttotal: 3.75s\tremaining: 416ms\n",
      "270:\tlearn: 0.0012842\ttotal: 3.76s\tremaining: 402ms\n",
      "271:\tlearn: 0.0012842\ttotal: 3.77s\tremaining: 388ms\n",
      "272:\tlearn: 0.0012842\ttotal: 3.78s\tremaining: 374ms\n",
      "273:\tlearn: 0.0012842\ttotal: 3.79s\tremaining: 360ms\n",
      "274:\tlearn: 0.0012842\ttotal: 3.8s\tremaining: 346ms\n",
      "275:\tlearn: 0.0012842\ttotal: 3.81s\tremaining: 332ms\n",
      "276:\tlearn: 0.0012842\ttotal: 3.83s\tremaining: 318ms\n",
      "277:\tlearn: 0.0012842\ttotal: 3.83s\tremaining: 304ms\n",
      "278:\tlearn: 0.0012842\ttotal: 3.85s\tremaining: 289ms\n",
      "279:\tlearn: 0.0012842\ttotal: 3.85s\tremaining: 275ms\n",
      "280:\tlearn: 0.0012842\ttotal: 3.87s\tremaining: 261ms\n",
      "281:\tlearn: 0.0012842\ttotal: 3.88s\tremaining: 247ms\n",
      "282:\tlearn: 0.0012842\ttotal: 3.88s\tremaining: 233ms\n",
      "283:\tlearn: 0.0012842\ttotal: 3.89s\tremaining: 219ms\n",
      "284:\tlearn: 0.0012842\ttotal: 3.9s\tremaining: 206ms\n",
      "285:\tlearn: 0.0012842\ttotal: 3.92s\tremaining: 192ms\n",
      "286:\tlearn: 0.0012842\ttotal: 3.92s\tremaining: 178ms\n",
      "287:\tlearn: 0.0012842\ttotal: 3.94s\tremaining: 164ms\n",
      "288:\tlearn: 0.0012842\ttotal: 3.94s\tremaining: 150ms\n",
      "289:\tlearn: 0.0012842\ttotal: 3.96s\tremaining: 136ms\n",
      "290:\tlearn: 0.0012842\ttotal: 3.96s\tremaining: 123ms\n",
      "291:\tlearn: 0.0012842\ttotal: 3.97s\tremaining: 109ms\n",
      "292:\tlearn: 0.0012842\ttotal: 3.98s\tremaining: 95.2ms\n",
      "293:\tlearn: 0.0012842\ttotal: 4s\tremaining: 81.6ms\n",
      "294:\tlearn: 0.0012842\ttotal: 4.01s\tremaining: 68ms\n",
      "295:\tlearn: 0.0012842\ttotal: 4.02s\tremaining: 54.3ms\n",
      "296:\tlearn: 0.0012842\ttotal: 4.03s\tremaining: 40.7ms\n",
      "297:\tlearn: 0.0012842\ttotal: 4.04s\tremaining: 27.1ms\n",
      "298:\tlearn: 0.0012842\ttotal: 4.05s\tremaining: 13.6ms\n",
      "299:\tlearn: 0.0012842\ttotal: 4.06s\tremaining: 0us\n"
     ]
    }
   ],
   "source": [
    "from catboost import CatBoostClassifier\n",
    "model = CatBoostClassifier(max_depth=8, iterations=300)\n",
    "model.fit(x, y);"
   ]
  },
  {
   "cell_type": "markdown",
   "metadata": {},
   "source": [
    "### Fixing feature augmentation"
   ]
  },
  {
   "cell_type": "code",
   "execution_count": 20,
   "metadata": {},
   "outputs": [],
   "source": [
    "# Evaluating with test data\n",
    "test_data = io.read_spark_data_frame(param.get_file_name('testing_data'))\n",
    "transactions_list = [item for item in test_data.toPandas()['TransactionId']]\n",
    "#test_data = np.array(test_data[all_features].toPandas())"
   ]
  },
  {
   "cell_type": "code",
   "execution_count": 21,
   "metadata": {},
   "outputs": [
    {
     "ename": "AnalysisException",
     "evalue": "\"cannot resolve '`FraudResult`' given input columns: [PositiveAmount, Operation, TransactionStartTime, PricingStrategy, ProductCategory, TransactionId, ChannelId, CountryCode, CustomerId, AccountId, CurrencyCode, SubscriptionId, ProviderId, BatchId, Amount, ProductId, Value]; line 1 pos 0;\\n'Filter ('FraudResult = 0)\\n+- Project [TransactionId#717, BatchId#718, AccountId#719, SubscriptionId#720, CustomerId#721, CurrencyCode#722, CountryCode#723L, ProviderId#724, ProductId#725, ProductCategory#726, ChannelId#727, Amount#728, Value#729L, TransactionStartTime#730, PricingStrategy#731L, Operation#747, abs(Amount#728) AS PositiveAmount#764]\\n   +- Project [TransactionId#717, BatchId#718, AccountId#719, SubscriptionId#720, CustomerId#721, CurrencyCode#722, CountryCode#723L, ProviderId#724, ProductId#725, ProductCategory#726, ChannelId#727, Amount#728, Value#729L, TransactionStartTime#730, PricingStrategy#731L, CASE WHEN (Amount#728 > cast(0 as double)) THEN 1 WHEN (Amount#728 < cast(0 as double)) THEN -1 ELSE 0 END AS Operation#747]\\n      +- LogicalRDD [TransactionId#717, BatchId#718, AccountId#719, SubscriptionId#720, CustomerId#721, CurrencyCode#722, CountryCode#723L, ProviderId#724, ProductId#725, ProductCategory#726, ChannelId#727, Amount#728, Value#729L, TransactionStartTime#730, PricingStrategy#731L], false\\n\"",
     "output_type": "error",
     "traceback": [
      "\u001b[0;31m---------------------------------------------------------------------------\u001b[0m",
      "\u001b[0;31mPy4JJavaError\u001b[0m                             Traceback (most recent call last)",
      "\u001b[0;32m~/anaconda3/lib/python3.7/site-packages/pyspark/sql/utils.py\u001b[0m in \u001b[0;36mdeco\u001b[0;34m(*a, **kw)\u001b[0m\n\u001b[1;32m     62\u001b[0m         \u001b[0;32mtry\u001b[0m\u001b[0;34m:\u001b[0m\u001b[0;34m\u001b[0m\u001b[0;34m\u001b[0m\u001b[0m\n\u001b[0;32m---> 63\u001b[0;31m             \u001b[0;32mreturn\u001b[0m \u001b[0mf\u001b[0m\u001b[0;34m(\u001b[0m\u001b[0;34m*\u001b[0m\u001b[0ma\u001b[0m\u001b[0;34m,\u001b[0m \u001b[0;34m**\u001b[0m\u001b[0mkw\u001b[0m\u001b[0;34m)\u001b[0m\u001b[0;34m\u001b[0m\u001b[0;34m\u001b[0m\u001b[0m\n\u001b[0m\u001b[1;32m     64\u001b[0m         \u001b[0;32mexcept\u001b[0m \u001b[0mpy4j\u001b[0m\u001b[0;34m.\u001b[0m\u001b[0mprotocol\u001b[0m\u001b[0;34m.\u001b[0m\u001b[0mPy4JJavaError\u001b[0m \u001b[0;32mas\u001b[0m \u001b[0me\u001b[0m\u001b[0;34m:\u001b[0m\u001b[0;34m\u001b[0m\u001b[0;34m\u001b[0m\u001b[0m\n",
      "\u001b[0;32m~/anaconda3/lib/python3.7/site-packages/py4j/protocol.py\u001b[0m in \u001b[0;36mget_return_value\u001b[0;34m(answer, gateway_client, target_id, name)\u001b[0m\n\u001b[1;32m    327\u001b[0m                     \u001b[0;34m\"An error occurred while calling {0}{1}{2}.\\n\"\u001b[0m\u001b[0;34m.\u001b[0m\u001b[0;34m\u001b[0m\u001b[0;34m\u001b[0m\u001b[0m\n\u001b[0;32m--> 328\u001b[0;31m                     format(target_id, \".\", name), value)\n\u001b[0m\u001b[1;32m    329\u001b[0m             \u001b[0;32melse\u001b[0m\u001b[0;34m:\u001b[0m\u001b[0;34m\u001b[0m\u001b[0;34m\u001b[0m\u001b[0m\n",
      "\u001b[0;31mPy4JJavaError\u001b[0m: An error occurred while calling o435.filter.\n: org.apache.spark.sql.AnalysisException: cannot resolve '`FraudResult`' given input columns: [PositiveAmount, Operation, TransactionStartTime, PricingStrategy, ProductCategory, TransactionId, ChannelId, CountryCode, CustomerId, AccountId, CurrencyCode, SubscriptionId, ProviderId, BatchId, Amount, ProductId, Value]; line 1 pos 0;\n'Filter ('FraudResult = 0)\n+- Project [TransactionId#717, BatchId#718, AccountId#719, SubscriptionId#720, CustomerId#721, CurrencyCode#722, CountryCode#723L, ProviderId#724, ProductId#725, ProductCategory#726, ChannelId#727, Amount#728, Value#729L, TransactionStartTime#730, PricingStrategy#731L, Operation#747, abs(Amount#728) AS PositiveAmount#764]\n   +- Project [TransactionId#717, BatchId#718, AccountId#719, SubscriptionId#720, CustomerId#721, CurrencyCode#722, CountryCode#723L, ProviderId#724, ProductId#725, ProductCategory#726, ChannelId#727, Amount#728, Value#729L, TransactionStartTime#730, PricingStrategy#731L, CASE WHEN (Amount#728 > cast(0 as double)) THEN 1 WHEN (Amount#728 < cast(0 as double)) THEN -1 ELSE 0 END AS Operation#747]\n      +- LogicalRDD [TransactionId#717, BatchId#718, AccountId#719, SubscriptionId#720, CustomerId#721, CurrencyCode#722, CountryCode#723L, ProviderId#724, ProductId#725, ProductCategory#726, ChannelId#727, Amount#728, Value#729L, TransactionStartTime#730, PricingStrategy#731L], false\n\n\tat org.apache.spark.sql.catalyst.analysis.package$AnalysisErrorAt.failAnalysis(package.scala:42)\n\tat org.apache.spark.sql.catalyst.analysis.CheckAnalysis$$anonfun$checkAnalysis$1$$anonfun$apply$3.applyOrElse(CheckAnalysis.scala:111)\n\tat org.apache.spark.sql.catalyst.analysis.CheckAnalysis$$anonfun$checkAnalysis$1$$anonfun$apply$3.applyOrElse(CheckAnalysis.scala:108)\n\tat org.apache.spark.sql.catalyst.trees.TreeNode$$anonfun$transformUp$1.apply(TreeNode.scala:281)\n\tat org.apache.spark.sql.catalyst.trees.TreeNode$$anonfun$transformUp$1.apply(TreeNode.scala:281)\n\tat org.apache.spark.sql.catalyst.trees.CurrentOrigin$.withOrigin(TreeNode.scala:70)\n\tat org.apache.spark.sql.catalyst.trees.TreeNode.transformUp(TreeNode.scala:280)\n\tat org.apache.spark.sql.catalyst.trees.TreeNode$$anonfun$3.apply(TreeNode.scala:278)\n\tat org.apache.spark.sql.catalyst.trees.TreeNode$$anonfun$3.apply(TreeNode.scala:278)\n\tat org.apache.spark.sql.catalyst.trees.TreeNode$$anonfun$4.apply(TreeNode.scala:329)\n\tat org.apache.spark.sql.catalyst.trees.TreeNode.mapProductIterator(TreeNode.scala:187)\n\tat org.apache.spark.sql.catalyst.trees.TreeNode.mapChildren(TreeNode.scala:327)\n\tat org.apache.spark.sql.catalyst.trees.TreeNode.transformUp(TreeNode.scala:278)\n\tat org.apache.spark.sql.catalyst.plans.QueryPlan$$anonfun$transformExpressionsUp$1.apply(QueryPlan.scala:93)\n\tat org.apache.spark.sql.catalyst.plans.QueryPlan$$anonfun$transformExpressionsUp$1.apply(QueryPlan.scala:93)\n\tat org.apache.spark.sql.catalyst.plans.QueryPlan$$anonfun$1.apply(QueryPlan.scala:105)\n\tat org.apache.spark.sql.catalyst.plans.QueryPlan$$anonfun$1.apply(QueryPlan.scala:105)\n\tat org.apache.spark.sql.catalyst.trees.CurrentOrigin$.withOrigin(TreeNode.scala:70)\n\tat org.apache.spark.sql.catalyst.plans.QueryPlan.transformExpression$1(QueryPlan.scala:104)\n\tat org.apache.spark.sql.catalyst.plans.QueryPlan.org$apache$spark$sql$catalyst$plans$QueryPlan$$recursiveTransform$1(QueryPlan.scala:116)\n\tat org.apache.spark.sql.catalyst.plans.QueryPlan$$anonfun$2.apply(QueryPlan.scala:126)\n\tat org.apache.spark.sql.catalyst.trees.TreeNode.mapProductIterator(TreeNode.scala:187)\n\tat org.apache.spark.sql.catalyst.plans.QueryPlan.mapExpressions(QueryPlan.scala:126)\n\tat org.apache.spark.sql.catalyst.plans.QueryPlan.transformExpressionsUp(QueryPlan.scala:93)\n\tat org.apache.spark.sql.catalyst.analysis.CheckAnalysis$$anonfun$checkAnalysis$1.apply(CheckAnalysis.scala:108)\n\tat org.apache.spark.sql.catalyst.analysis.CheckAnalysis$$anonfun$checkAnalysis$1.apply(CheckAnalysis.scala:86)\n\tat org.apache.spark.sql.catalyst.trees.TreeNode.foreachUp(TreeNode.scala:127)\n\tat org.apache.spark.sql.catalyst.analysis.CheckAnalysis$class.checkAnalysis(CheckAnalysis.scala:86)\n\tat org.apache.spark.sql.catalyst.analysis.Analyzer.checkAnalysis(Analyzer.scala:95)\n\tat org.apache.spark.sql.catalyst.analysis.Analyzer$$anonfun$executeAndCheck$1.apply(Analyzer.scala:108)\n\tat org.apache.spark.sql.catalyst.analysis.Analyzer$$anonfun$executeAndCheck$1.apply(Analyzer.scala:105)\n\tat org.apache.spark.sql.catalyst.plans.logical.AnalysisHelper$.markInAnalyzer(AnalysisHelper.scala:201)\n\tat org.apache.spark.sql.catalyst.analysis.Analyzer.executeAndCheck(Analyzer.scala:105)\n\tat org.apache.spark.sql.execution.QueryExecution.analyzed$lzycompute(QueryExecution.scala:57)\n\tat org.apache.spark.sql.execution.QueryExecution.analyzed(QueryExecution.scala:55)\n\tat org.apache.spark.sql.execution.QueryExecution.assertAnalyzed(QueryExecution.scala:47)\n\tat org.apache.spark.sql.Dataset.<init>(Dataset.scala:176)\n\tat org.apache.spark.sql.Dataset.<init>(Dataset.scala:182)\n\tat org.apache.spark.sql.Dataset$.apply(Dataset.scala:64)\n\tat org.apache.spark.sql.Dataset.withTypedPlan(Dataset.scala:3417)\n\tat org.apache.spark.sql.Dataset.filter(Dataset.scala:1490)\n\tat org.apache.spark.sql.Dataset.filter(Dataset.scala:1504)\n\tat sun.reflect.NativeMethodAccessorImpl.invoke0(Native Method)\n\tat sun.reflect.NativeMethodAccessorImpl.invoke(NativeMethodAccessorImpl.java:62)\n\tat sun.reflect.DelegatingMethodAccessorImpl.invoke(DelegatingMethodAccessorImpl.java:43)\n\tat java.lang.reflect.Method.invoke(Method.java:498)\n\tat py4j.reflection.MethodInvoker.invoke(MethodInvoker.java:244)\n\tat py4j.reflection.ReflectionEngine.invoke(ReflectionEngine.java:357)\n\tat py4j.Gateway.invoke(Gateway.java:282)\n\tat py4j.commands.AbstractCommand.invokeMethod(AbstractCommand.java:132)\n\tat py4j.commands.CallCommand.execute(CallCommand.java:79)\n\tat py4j.GatewayConnection.run(GatewayConnection.java:238)\n\tat java.lang.Thread.run(Thread.java:748)\n",
      "\nDuring handling of the above exception, another exception occurred:\n",
      "\u001b[0;31mAnalysisException\u001b[0m                         Traceback (most recent call last)",
      "\u001b[0;32m<ipython-input-21-c4fb1bd8cddb>\u001b[0m in \u001b[0;36m<module>\u001b[0;34m\u001b[0m\n\u001b[0;32m----> 1\u001b[0;31m \u001b[0mtest_data\u001b[0m \u001b[0;34m=\u001b[0m \u001b[0mpreprocess\u001b[0m\u001b[0;34m.\u001b[0m\u001b[0mget_features_augmentation\u001b[0m\u001b[0;34m(\u001b[0m\u001b[0mtest_data\u001b[0m\u001b[0;34m)\u001b[0m\u001b[0;34m\u001b[0m\u001b[0;34m\u001b[0m\u001b[0m\n\u001b[0m\u001b[1;32m      2\u001b[0m \u001b[0mt_data\u001b[0m \u001b[0;34m=\u001b[0m \u001b[0mtest_data\u001b[0m\u001b[0;34m[\u001b[0m\u001b[0mnumerical_features_augmented\u001b[0m\u001b[0;34m]\u001b[0m\u001b[0;34m.\u001b[0m\u001b[0mtoPandas\u001b[0m\u001b[0;34m(\u001b[0m\u001b[0;34m)\u001b[0m\u001b[0;34m\u001b[0m\u001b[0;34m\u001b[0m\u001b[0m\n",
      "\u001b[0;32m/media/workspace/deteccao-fraude/src/preprocessing.py\u001b[0m in \u001b[0;36mget_features_augmentation\u001b[0;34m(data, gen_train_data)\u001b[0m\n\u001b[1;32m     57\u001b[0m     \u001b[0mdata\u001b[0m \u001b[0;34m=\u001b[0m \u001b[0mdata\u001b[0m\u001b[0;34m.\u001b[0m\u001b[0mwithColumn\u001b[0m\u001b[0;34m(\u001b[0m\u001b[0;34m'PositiveAmount'\u001b[0m\u001b[0;34m,\u001b[0m \u001b[0mF\u001b[0m\u001b[0;34m.\u001b[0m\u001b[0mabs\u001b[0m\u001b[0;34m(\u001b[0m\u001b[0mdata\u001b[0m\u001b[0;34m[\u001b[0m\u001b[0;34m'Amount'\u001b[0m\u001b[0;34m]\u001b[0m\u001b[0;34m)\u001b[0m\u001b[0;34m)\u001b[0m\u001b[0;34m\u001b[0m\u001b[0;34m\u001b[0m\u001b[0m\n\u001b[1;32m     58\u001b[0m \u001b[0;34m\u001b[0m\u001b[0m\n\u001b[0;32m---> 59\u001b[0;31m     \u001b[0mgen_train_data\u001b[0m \u001b[0;34m=\u001b[0m \u001b[0mgen_train_data\u001b[0m \u001b[0;32mif\u001b[0m \u001b[0mgen_train_data\u001b[0m \u001b[0;32melse\u001b[0m \u001b[0mdata\u001b[0m\u001b[0;34m.\u001b[0m\u001b[0mfilter\u001b[0m\u001b[0;34m(\u001b[0m\u001b[0;34m'FraudResult == 0'\u001b[0m\u001b[0;34m)\u001b[0m\u001b[0;34m\u001b[0m\u001b[0;34m\u001b[0m\u001b[0m\n\u001b[0m\u001b[1;32m     60\u001b[0m     \u001b[0mitems_list\u001b[0m \u001b[0;34m=\u001b[0m \u001b[0;34m[\u001b[0m\u001b[0;34m'ChannelId'\u001b[0m\u001b[0;34m,\u001b[0m \u001b[0;34m'ProductCategory'\u001b[0m\u001b[0;34m,\u001b[0m \u001b[0;34m'ProductId'\u001b[0m\u001b[0;34m]\u001b[0m\u001b[0;34m\u001b[0m\u001b[0;34m\u001b[0m\u001b[0m\n\u001b[1;32m     61\u001b[0m     \u001b[0;32mfor\u001b[0m \u001b[0mitem\u001b[0m \u001b[0;32min\u001b[0m \u001b[0mitems_list\u001b[0m\u001b[0;34m:\u001b[0m\u001b[0;34m\u001b[0m\u001b[0;34m\u001b[0m\u001b[0m\n",
      "\u001b[0;32m~/anaconda3/lib/python3.7/site-packages/pyspark/sql/dataframe.py\u001b[0m in \u001b[0;36mfilter\u001b[0;34m(self, condition)\u001b[0m\n\u001b[1;32m   1356\u001b[0m         \"\"\"\n\u001b[1;32m   1357\u001b[0m         \u001b[0;32mif\u001b[0m \u001b[0misinstance\u001b[0m\u001b[0;34m(\u001b[0m\u001b[0mcondition\u001b[0m\u001b[0;34m,\u001b[0m \u001b[0mbasestring\u001b[0m\u001b[0;34m)\u001b[0m\u001b[0;34m:\u001b[0m\u001b[0;34m\u001b[0m\u001b[0;34m\u001b[0m\u001b[0m\n\u001b[0;32m-> 1358\u001b[0;31m             \u001b[0mjdf\u001b[0m \u001b[0;34m=\u001b[0m \u001b[0mself\u001b[0m\u001b[0;34m.\u001b[0m\u001b[0m_jdf\u001b[0m\u001b[0;34m.\u001b[0m\u001b[0mfilter\u001b[0m\u001b[0;34m(\u001b[0m\u001b[0mcondition\u001b[0m\u001b[0;34m)\u001b[0m\u001b[0;34m\u001b[0m\u001b[0;34m\u001b[0m\u001b[0m\n\u001b[0m\u001b[1;32m   1359\u001b[0m         \u001b[0;32melif\u001b[0m \u001b[0misinstance\u001b[0m\u001b[0;34m(\u001b[0m\u001b[0mcondition\u001b[0m\u001b[0;34m,\u001b[0m \u001b[0mColumn\u001b[0m\u001b[0;34m)\u001b[0m\u001b[0;34m:\u001b[0m\u001b[0;34m\u001b[0m\u001b[0;34m\u001b[0m\u001b[0m\n\u001b[1;32m   1360\u001b[0m             \u001b[0mjdf\u001b[0m \u001b[0;34m=\u001b[0m \u001b[0mself\u001b[0m\u001b[0;34m.\u001b[0m\u001b[0m_jdf\u001b[0m\u001b[0;34m.\u001b[0m\u001b[0mfilter\u001b[0m\u001b[0;34m(\u001b[0m\u001b[0mcondition\u001b[0m\u001b[0;34m.\u001b[0m\u001b[0m_jc\u001b[0m\u001b[0;34m)\u001b[0m\u001b[0;34m\u001b[0m\u001b[0;34m\u001b[0m\u001b[0m\n",
      "\u001b[0;32m~/anaconda3/lib/python3.7/site-packages/py4j/java_gateway.py\u001b[0m in \u001b[0;36m__call__\u001b[0;34m(self, *args)\u001b[0m\n\u001b[1;32m   1255\u001b[0m         \u001b[0manswer\u001b[0m \u001b[0;34m=\u001b[0m \u001b[0mself\u001b[0m\u001b[0;34m.\u001b[0m\u001b[0mgateway_client\u001b[0m\u001b[0;34m.\u001b[0m\u001b[0msend_command\u001b[0m\u001b[0;34m(\u001b[0m\u001b[0mcommand\u001b[0m\u001b[0;34m)\u001b[0m\u001b[0;34m\u001b[0m\u001b[0;34m\u001b[0m\u001b[0m\n\u001b[1;32m   1256\u001b[0m         return_value = get_return_value(\n\u001b[0;32m-> 1257\u001b[0;31m             answer, self.gateway_client, self.target_id, self.name)\n\u001b[0m\u001b[1;32m   1258\u001b[0m \u001b[0;34m\u001b[0m\u001b[0m\n\u001b[1;32m   1259\u001b[0m         \u001b[0;32mfor\u001b[0m \u001b[0mtemp_arg\u001b[0m \u001b[0;32min\u001b[0m \u001b[0mtemp_args\u001b[0m\u001b[0;34m:\u001b[0m\u001b[0;34m\u001b[0m\u001b[0;34m\u001b[0m\u001b[0m\n",
      "\u001b[0;32m~/anaconda3/lib/python3.7/site-packages/pyspark/sql/utils.py\u001b[0m in \u001b[0;36mdeco\u001b[0;34m(*a, **kw)\u001b[0m\n\u001b[1;32m     67\u001b[0m                                              e.java_exception.getStackTrace()))\n\u001b[1;32m     68\u001b[0m             \u001b[0;32mif\u001b[0m \u001b[0ms\u001b[0m\u001b[0;34m.\u001b[0m\u001b[0mstartswith\u001b[0m\u001b[0;34m(\u001b[0m\u001b[0;34m'org.apache.spark.sql.AnalysisException: '\u001b[0m\u001b[0;34m)\u001b[0m\u001b[0;34m:\u001b[0m\u001b[0;34m\u001b[0m\u001b[0;34m\u001b[0m\u001b[0m\n\u001b[0;32m---> 69\u001b[0;31m                 \u001b[0;32mraise\u001b[0m \u001b[0mAnalysisException\u001b[0m\u001b[0;34m(\u001b[0m\u001b[0ms\u001b[0m\u001b[0;34m.\u001b[0m\u001b[0msplit\u001b[0m\u001b[0;34m(\u001b[0m\u001b[0;34m': '\u001b[0m\u001b[0;34m,\u001b[0m \u001b[0;36m1\u001b[0m\u001b[0;34m)\u001b[0m\u001b[0;34m[\u001b[0m\u001b[0;36m1\u001b[0m\u001b[0;34m]\u001b[0m\u001b[0;34m,\u001b[0m \u001b[0mstackTrace\u001b[0m\u001b[0;34m)\u001b[0m\u001b[0;34m\u001b[0m\u001b[0;34m\u001b[0m\u001b[0m\n\u001b[0m\u001b[1;32m     70\u001b[0m             \u001b[0;32mif\u001b[0m \u001b[0ms\u001b[0m\u001b[0;34m.\u001b[0m\u001b[0mstartswith\u001b[0m\u001b[0;34m(\u001b[0m\u001b[0;34m'org.apache.spark.sql.catalyst.analysis'\u001b[0m\u001b[0;34m)\u001b[0m\u001b[0;34m:\u001b[0m\u001b[0;34m\u001b[0m\u001b[0;34m\u001b[0m\u001b[0m\n\u001b[1;32m     71\u001b[0m                 \u001b[0;32mraise\u001b[0m \u001b[0mAnalysisException\u001b[0m\u001b[0;34m(\u001b[0m\u001b[0ms\u001b[0m\u001b[0;34m.\u001b[0m\u001b[0msplit\u001b[0m\u001b[0;34m(\u001b[0m\u001b[0;34m': '\u001b[0m\u001b[0;34m,\u001b[0m \u001b[0;36m1\u001b[0m\u001b[0;34m)\u001b[0m\u001b[0;34m[\u001b[0m\u001b[0;36m1\u001b[0m\u001b[0;34m]\u001b[0m\u001b[0;34m,\u001b[0m \u001b[0mstackTrace\u001b[0m\u001b[0;34m)\u001b[0m\u001b[0;34m\u001b[0m\u001b[0;34m\u001b[0m\u001b[0m\n",
      "\u001b[0;31mAnalysisException\u001b[0m: \"cannot resolve '`FraudResult`' given input columns: [PositiveAmount, Operation, TransactionStartTime, PricingStrategy, ProductCategory, TransactionId, ChannelId, CountryCode, CustomerId, AccountId, CurrencyCode, SubscriptionId, ProviderId, BatchId, Amount, ProductId, Value]; line 1 pos 0;\\n'Filter ('FraudResult = 0)\\n+- Project [TransactionId#717, BatchId#718, AccountId#719, SubscriptionId#720, CustomerId#721, CurrencyCode#722, CountryCode#723L, ProviderId#724, ProductId#725, ProductCategory#726, ChannelId#727, Amount#728, Value#729L, TransactionStartTime#730, PricingStrategy#731L, Operation#747, abs(Amount#728) AS PositiveAmount#764]\\n   +- Project [TransactionId#717, BatchId#718, AccountId#719, SubscriptionId#720, CustomerId#721, CurrencyCode#722, CountryCode#723L, ProviderId#724, ProductId#725, ProductCategory#726, ChannelId#727, Amount#728, Value#729L, TransactionStartTime#730, PricingStrategy#731L, CASE WHEN (Amount#728 > cast(0 as double)) THEN 1 WHEN (Amount#728 < cast(0 as double)) THEN -1 ELSE 0 END AS Operation#747]\\n      +- LogicalRDD [TransactionId#717, BatchId#718, AccountId#719, SubscriptionId#720, CustomerId#721, CurrencyCode#722, CountryCode#723L, ProviderId#724, ProductId#725, ProductCategory#726, ChannelId#727, Amount#728, Value#729L, TransactionStartTime#730, PricingStrategy#731L], false\\n\""
     ]
    }
   ],
   "source": [
    "test_data = preprocess.get_features_augmentation(test_data, gen_train_data)\n",
    "t_data = test_data[numerical_features_augmented].toPandas()"
   ]
  },
  {
   "cell_type": "code",
   "execution_count": 171,
   "metadata": {},
   "outputs": [],
   "source": [
    "t_data = np.array(test_data[numerical_features_augmented].toPandas())\n",
    "isolation_pred = isolation.predict(t_data)\n",
    "t_data = np.column_stack([t_data, isolation_pred])"
   ]
  },
  {
   "cell_type": "code",
   "execution_count": 30,
   "metadata": {},
   "outputs": [
    {
     "ename": "NameError",
     "evalue": "name 't_data' is not defined",
     "output_type": "error",
     "traceback": [
      "\u001b[0;31m---------------------------------------------------------------------------\u001b[0m",
      "\u001b[0;31mNameError\u001b[0m                                 Traceback (most recent call last)",
      "\u001b[0;32m<ipython-input-30-275c33ddf182>\u001b[0m in \u001b[0;36m<module>\u001b[0;34m\u001b[0m\n\u001b[0;32m----> 1\u001b[0;31m \u001b[0mpredictions\u001b[0m \u001b[0;34m=\u001b[0m \u001b[0mmodel\u001b[0m\u001b[0;34m.\u001b[0m\u001b[0mpredict\u001b[0m\u001b[0;34m(\u001b[0m\u001b[0mt_data\u001b[0m\u001b[0;34m)\u001b[0m\u001b[0;34m\u001b[0m\u001b[0;34m\u001b[0m\u001b[0m\n\u001b[0m",
      "\u001b[0;31mNameError\u001b[0m: name 't_data' is not defined"
     ]
    }
   ],
   "source": [
    "predictions = model.predict(t_data)"
   ]
  },
  {
   "cell_type": "code",
   "execution_count": 176,
   "metadata": {},
   "outputs": [],
   "source": [
    "data = (predictions+1) % 2           \n",
    "io.save_predictions_xente('../data/predictions_000.txt', transactions_list, data)"
   ]
  }
 ],
 "metadata": {
  "kernelspec": {
   "display_name": "Python 3",
   "language": "python",
   "name": "python3"
  },
  "language_info": {
   "codemirror_mode": {
    "name": "ipython",
    "version": 3
   },
   "file_extension": ".py",
   "mimetype": "text/x-python",
   "name": "python",
   "nbconvert_exporter": "python",
   "pygments_lexer": "ipython3",
   "version": "3.7.1"
  }
 },
 "nbformat": 4,
 "nbformat_minor": 2
}
