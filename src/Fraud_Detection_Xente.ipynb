{
 "cells": [
  {
   "cell_type": "markdown",
   "metadata": {
    "colab_type": "text",
    "id": "view-in-github"
   },
   "source": [
    "<a href=\"https://colab.research.google.com/github/fernandojunior/deteccao-fraude/blob/master/src/Fraud_Detection_Xente.ipynb\" target=\"_parent\"><img src=\"https://colab.research.google.com/assets/colab-badge.svg\" alt=\"Open In Colab\"/></a>"
   ]
  },
  {
   "cell_type": "markdown",
   "metadata": {
    "colab_type": "text",
    "id": "ruOubwK3D3qS"
   },
   "source": [
    "# Spark load lib"
   ]
  },
  {
   "cell_type": "code",
   "execution_count": 7,
   "metadata": {
    "colab": {},
    "colab_type": "code",
    "id": "DBD-F8SW8ljy"
   },
   "outputs": [],
   "source": [
    "'''!apt-get install openjdk-8-jdk-headless -qq > /dev/null\n",
    "!wget -q https://www-us.apache.org/dist/spark/spark-2.4.4/spark-2.4.4-bin-hadoop2.7.tgz\n",
    "!tar xf spark-2.4.4-bin-hadoop2.7.tgz\n",
    "!pip install pandas_ml\n",
    "!pip install -q findspark\n",
    "!pip install catboost\n",
    "!pip install -U imbalanced-learn\n",
    "!pip install pyod seaborn catboost plotly_express==0.4.0\n",
    "!pip install --upgrade pyod\n",
    "!pip install shap\n",
    "!pip install --user --upgrade ipywidgets\n",
    "!jupyter nbextension enable --py widgetsnbextension\n",
    "#!pip install -r requirements.txt'''\n",
    "\n",
    "import os\n",
    "#os.environ[\"JAVA_HOME\"] = \"/usr/lib/jvm/java-8-openjdk-amd64\"\n",
    "#os.environ[\"SPARK_HOME\"] = \"/content/spark-2.4.4-bin-hadoop2.7\"\n",
    "\n",
    "from pyspark.sql import SparkSession\n",
    "spark = SparkSession.builder.appName('xente').getOrCreate()\n",
    "spark\n",
    "\n",
    "import pandas as pd\n",
    "import matplotlib.pyplot as plt\n",
    "import numpy as np\n",
    "import seaborn as sns\n",
    "import pyspark.sql.functions as F\n",
    "import shap\n",
    "import catboost\n",
    "from catboost import Pool, CatBoostClassifier, cv\n",
    "\n",
    "from pyspark.sql.types import IntegerType, DoubleType\n",
    "from pyspark.sql.functions import mean, udf, array, col\n",
    "from pyspark.ml.feature import StringIndexer, VectorAssembler\n",
    "from pyspark.ml.linalg import Vectors\n",
    "from imblearn.over_sampling import RandomOverSampler, SMOTE, SMOTENC, ADASYN\n",
    "from sklearn.ensemble import IsolationForest\n",
    "from sklearn.model_selection import train_test_split, learning_curve, ShuffleSplit\n",
    "from sklearn.naive_bayes import GaussianNB\n",
    "from sklearn.svm import SVC\n",
    "from sklearn.metrics import (accuracy_score, classification_report, confusion_matrix,\n",
    "                              f1_score, precision_score, recall_score, roc_auc_score)"
   ]
  },
  {
   "cell_type": "markdown",
   "metadata": {
    "colab_type": "text",
    "id": "4AjfDoGJgDYm"
   },
   "source": [
    "# Load Training Data"
   ]
  },
  {
   "cell_type": "code",
   "execution_count": 8,
   "metadata": {
    "colab": {},
    "colab_type": "code",
    "id": "VQD2FRLWZw6P"
   },
   "outputs": [],
   "source": [
    "def read_data_from_web(url):\n",
    "  data = pd.read_csv(url)\n",
    "  spark_data = spark.createDataFrame(data)\n",
    "  return spark_data\n",
    "\n",
    "fraud_data = read_data_from_web(\"https://drive.google.com/uc?export=download&id=1NrtVkKv8n_g27w5elq9HWZA1i8aFBW0G\")\n",
    "df_backup = fraud_data"
   ]
  },
  {
   "cell_type": "code",
   "execution_count": 21,
   "metadata": {},
   "outputs": [
    {
     "name": "stdout",
     "output_type": "stream",
     "text": [
      "+-------------------+------------+------------+------------------+-----------+-------+-----+---------------+-----------+\n",
      "|      TransactionId|  ProviderId|   ProductId|   ProductCategory|  ChannelId| Amount|Value|PricingStrategy|FraudResult|\n",
      "+-------------------+------------+------------+------------------+-----------+-------+-----+---------------+-----------+\n",
      "|TransactionId_76871|ProviderId_6|ProductId_10|           airtime|ChannelId_3| 1000.0| 1000|              2|          0|\n",
      "|TransactionId_73770|ProviderId_4| ProductId_6|financial_services|ChannelId_2|  -20.0|   20|              2|          0|\n",
      "|TransactionId_26203|ProviderId_6| ProductId_1|           airtime|ChannelId_3|  500.0|  500|              2|          0|\n",
      "|  TransactionId_380|ProviderId_1|ProductId_21|      utility_bill|ChannelId_3|20000.0|21800|              2|          0|\n",
      "|TransactionId_28195|ProviderId_4| ProductId_6|financial_services|ChannelId_2| -644.0|  644|              2|          0|\n",
      "+-------------------+------------+------------+------------------+-----------+-------+-----+---------------+-----------+\n",
      "only showing top 5 rows\n",
      "\n"
     ]
    }
   ],
   "source": [
    "fraud_data.show(5)"
   ]
  },
  {
   "cell_type": "markdown",
   "metadata": {
    "colab_type": "text",
    "id": "PdWRXdYugfPt"
   },
   "source": [
    "## Data Dictionary\n",
    "\n",
    "*   **TransactionId:** Unique transaction identifier on platform.\n",
    "*   **BatchId:** Unique number assigned to a batch of transactions for processing.\n",
    "*   **AccountId:** Unique number identifying the customer on platform.\n",
    "*   **SubscriptionId:** Unique number identifying the customer subscription.\n",
    "*   **CustomerId:** Unique identifier attached to Account.\n",
    "*   **CurrencyCode:** Country currency.\n",
    "*   **CountryCode:** Numerical geographical code of country.\n",
    "*   **ProviderId:** Source provider of Item bought.\n",
    "*   **ProductId:** Item name being bought.\n",
    "*   **ProductCategory:** ProductIds are organized into these broader product categories.\n",
    "*   **ChannelId:** Identifies if customer used web,Android, IOS, pay later or checkout.\n",
    "*   **Amount:** Value of the transaction. Positive for debits from customer account and negative for credit into customer account.\n",
    "*   **Value:** Absolute value of the amount.\n",
    "*   **TransactionStartTime:** Transaction start time.\n",
    "*   **PricingStrategy:** Category of Xente's pricing structure for merchants.\n",
    "*   **FraudResult:** Fraud status of transaction: 1) Yes; or 0) No."
   ]
  },
  {
   "cell_type": "code",
   "execution_count": 9,
   "metadata": {
    "colab": {
     "base_uri": "https://localhost:8080/",
     "height": 341
    },
    "colab_type": "code",
    "id": "hnjIlCVqhAK5",
    "outputId": "b850a480-4968-4446-832f-9751d4f8d1b5"
   },
   "outputs": [
    {
     "name": "stdout",
     "output_type": "stream",
     "text": [
      "root\n",
      " |-- TransactionId: string (nullable = true)\n",
      " |-- BatchId: string (nullable = true)\n",
      " |-- AccountId: string (nullable = true)\n",
      " |-- SubscriptionId: string (nullable = true)\n",
      " |-- CustomerId: string (nullable = true)\n",
      " |-- CurrencyCode: string (nullable = true)\n",
      " |-- CountryCode: long (nullable = true)\n",
      " |-- ProviderId: string (nullable = true)\n",
      " |-- ProductId: string (nullable = true)\n",
      " |-- ProductCategory: string (nullable = true)\n",
      " |-- ChannelId: string (nullable = true)\n",
      " |-- Amount: double (nullable = true)\n",
      " |-- Value: long (nullable = true)\n",
      " |-- TransactionStartTime: string (nullable = true)\n",
      " |-- PricingStrategy: long (nullable = true)\n",
      " |-- FraudResult: long (nullable = true)\n",
      "\n"
     ]
    }
   ],
   "source": [
    "fraud_data.printSchema()"
   ]
  },
  {
   "cell_type": "markdown",
   "metadata": {
    "colab_type": "text",
    "id": "Zyv5Z2E4gCdn"
   },
   "source": [
    "# Data Preprocessing"
   ]
  },
  {
   "cell_type": "markdown",
   "metadata": {},
   "source": [
    "## Missing Data Analysis"
   ]
  },
  {
   "cell_type": "code",
   "execution_count": 10,
   "metadata": {
    "colab": {
     "base_uri": "https://localhost:8080/",
     "height": 53
    },
    "colab_type": "code",
    "id": "Cc_NF1wrgnxu",
    "outputId": "6ee5aba1-d54a-4b6a-f77c-2c9e7d3a5daa"
   },
   "outputs": [
    {
     "name": "stdout",
     "output_type": "stream",
     "text": [
      "There is missing data? False.\n"
     ]
    }
   ],
   "source": [
    "def there_is_missing_data(data):\n",
    "  return data.count() != data.na.drop(how='any').count()\n",
    "\n",
    "print('There is missing data? {0}.'.format(there_is_missing_data(fraud_data)))"
   ]
  },
  {
   "cell_type": "markdown",
   "metadata": {},
   "source": [
    "## Duplicated line?"
   ]
  },
  {
   "cell_type": "code",
   "execution_count": 12,
   "metadata": {},
   "outputs": [
    {
     "name": "stdout",
     "output_type": "stream",
     "text": [
      "There is distinct data? False.\n"
     ]
    }
   ],
   "source": [
    "def there_is_duplicate_lines(data):\n",
    "  return data.count() != data.distinct().count()\n",
    "\n",
    "print('There is distinct data? {0}.'.format(there_is_duplicate_lines(fraud_data)))"
   ]
  },
  {
   "cell_type": "markdown",
   "metadata": {},
   "source": [
    "## Data Treatment"
   ]
  },
  {
   "cell_type": "code",
   "execution_count": 13,
   "metadata": {},
   "outputs": [
    {
     "name": "stdout",
     "output_type": "stream",
     "text": [
      "+-------+\n",
      "|   diff|\n",
      "+-------+\n",
      "|    0.0|\n",
      "|    0.0|\n",
      "|    0.0|\n",
      "|-1800.0|\n",
      "|    0.0|\n",
      "|    0.0|\n",
      "|    0.0|\n",
      "|    0.0|\n",
      "|    0.0|\n",
      "|    0.0|\n",
      "|    0.0|\n",
      "|    0.0|\n",
      "|    0.0|\n",
      "|    0.0|\n",
      "|    0.0|\n",
      "|    0.0|\n",
      "|    0.0|\n",
      "|    0.0|\n",
      "|    0.0|\n",
      "|    0.0|\n",
      "+-------+\n",
      "only showing top 20 rows\n",
      "\n"
     ]
    }
   ],
   "source": [
    "fraud_data.withColumn('diff', F.abs(fraud_data['Amount'])-F.col('Value')).select('diff').show()"
   ]
  },
  {
   "cell_type": "markdown",
   "metadata": {},
   "source": [
    "It shows the real transaction value. To be precise, we need to categorize the transaction, but first, let us remove unuseful features."
   ]
  },
  {
   "cell_type": "markdown",
   "metadata": {},
   "source": [
    "## Removing unuseful features"
   ]
  },
  {
   "cell_type": "code",
   "execution_count": 28,
   "metadata": {},
   "outputs": [
    {
     "name": "stdout",
     "output_type": "stream",
     "text": [
      "Different CurrencyCode Values: \t\t 1\n",
      "Different de CountryCode Values: \t 1\n",
      "Different de TransactionId Values: \t 95662\n"
     ]
    }
   ],
   "source": [
    "print('Different CurrencyCode Values: \\t\\t {0}'.format(fraud_data.select('CurrencyCode').distinct().count()))\n",
    "print('Different de CountryCode Values: \\t {0}'.format(fraud_data.select('CountryCode').distinct().count()))\n",
    "print('Different de TransactionId Values: \\t {0}'.format(fraud_data.select('TransactionId').distinct().count()))"
   ]
  },
  {
   "cell_type": "markdown",
   "metadata": {},
   "source": [
    "CurrencyCode and CountryCode columns have the same value in whole dataset, genuine or fraud."
   ]
  },
  {
   "cell_type": "code",
   "execution_count": 14,
   "metadata": {},
   "outputs": [],
   "source": [
    "# data: dataframe - columns: column list to remove\n",
    "def remove_feature(data, columns_in):\n",
    "  return data.drop(*columns_in)"
   ]
  },
  {
   "cell_type": "code",
   "execution_count": 16,
   "metadata": {},
   "outputs": [],
   "source": [
    "def clean_data(fraud_data, columns_to_remove):\n",
    "  fraud_data = remove_feature(fraud_data, columns_to_remove)\n",
    "  return fraud_data"
   ]
  },
  {
   "cell_type": "code",
   "execution_count": 17,
   "metadata": {},
   "outputs": [],
   "source": [
    "columns_to_remove = ['CurrencyCode','CountryCode','BatchId','AccountId','SubscriptionId','CustomerId', 'TransactionStartTime']\n",
    "fraud_data = clean_data(fraud_data, columns_to_remove)"
   ]
  },
  {
   "cell_type": "code",
   "execution_count": 24,
   "metadata": {},
   "outputs": [
    {
     "name": "stdout",
     "output_type": "stream",
     "text": [
      "+-------------------+------------+------------+------------------+-----------+-------+-----+---------------+-----------+\n",
      "|      TransactionId|  ProviderId|   ProductId|   ProductCategory|  ChannelId| Amount|Value|PricingStrategy|FraudResult|\n",
      "+-------------------+------------+------------+------------------+-----------+-------+-----+---------------+-----------+\n",
      "|TransactionId_76871|ProviderId_6|ProductId_10|           airtime|ChannelId_3| 1000.0| 1000|              2|          0|\n",
      "|TransactionId_73770|ProviderId_4| ProductId_6|financial_services|ChannelId_2|  -20.0|   20|              2|          0|\n",
      "|TransactionId_26203|ProviderId_6| ProductId_1|           airtime|ChannelId_3|  500.0|  500|              2|          0|\n",
      "|  TransactionId_380|ProviderId_1|ProductId_21|      utility_bill|ChannelId_3|20000.0|21800|              2|          0|\n",
      "|TransactionId_28195|ProviderId_4| ProductId_6|financial_services|ChannelId_2| -644.0|  644|              2|          0|\n",
      "+-------------------+------------+------------+------------------+-----------+-------+-----+---------------+-----------+\n",
      "only showing top 5 rows\n",
      "\n"
     ]
    }
   ],
   "source": [
    "fraud_data.show(5)"
   ]
  },
  {
   "cell_type": "code",
   "execution_count": null,
   "metadata": {},
   "outputs": [],
   "source": []
  }
 ],
 "metadata": {
  "colab": {
   "collapsed_sections": [],
   "include_colab_link": true,
   "name": "Fraud Detection - Xente",
   "provenance": []
  },
  "kernelspec": {
   "display_name": "Python 3",
   "language": "python",
   "name": "python3"
  },
  "language_info": {
   "codemirror_mode": {
    "name": "ipython",
    "version": 3
   },
   "file_extension": ".py",
   "mimetype": "text/x-python",
   "name": "python",
   "nbconvert_exporter": "python",
   "pygments_lexer": "ipython3",
   "version": "3.7.3"
  }
 },
 "nbformat": 4,
 "nbformat_minor": 1
}
