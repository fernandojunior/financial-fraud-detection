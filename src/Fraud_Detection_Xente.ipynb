{
 "cells": [
  {
   "cell_type": "markdown",
   "metadata": {
    "colab_type": "text",
    "id": "view-in-github"
   },
   "source": [
    "<a href=\"https://colab.research.google.com/github/fernandojunior/deteccao-fraude/blob/master/src/Fraud_Detection_Xente.ipynb\" target=\"_parent\"><img src=\"https://colab.research.google.com/assets/colab-badge.svg\" alt=\"Open In Colab\"/></a>"
   ]
  },
  {
   "cell_type": "markdown",
   "metadata": {
    "colab_type": "text",
    "id": "ruOubwK3D3qS"
   },
   "source": [
    "# Spark load lib"
   ]
  },
  {
   "cell_type": "code",
   "execution_count": 194,
   "metadata": {
    "colab": {},
    "colab_type": "code",
    "id": "DBD-F8SW8ljy"
   },
   "outputs": [],
   "source": [
    "!apt-get install openjdk-8-jdk-headless -qq > /dev/null\n",
    "!wget -q https://www-us.apache.org/dist/spark/spark-2.4.4/spark-2.4.4-bin-hadoop2.7.tgz\n",
    "!tar xf spark-2.4.4-bin-hadoop2.7.tgz\n",
    "!pip install pandas_ml\n",
    "!pip install -q findspark\n",
    "!pip install catboost\n",
    "!pip install -U imbalanced-learn\n",
    "!pip install pyod seaborn catboost plotly_express==0.4.0\n",
    "!pip install --upgrade pyod\n",
    "!pip install shap\n",
    "!pip install --user --upgrade ipywidgets\n",
    "!jupyter nbextension enable --py widgetsnbextension\n",
    "#!pip install -r requirements.txt\n",
    "\n",
    "import os\n",
    "os.environ[\"JAVA_HOME\"] = \"/usr/lib/jvm/java-8-openjdk-amd64\"\n",
    "os.environ[\"SPARK_HOME\"] = \"/content/spark-2.4.4-bin-hadoop2.7\"\n",
    "\n",
    "from pyspark.sql import SparkSession\n",
    "spark = SparkSession.builder.appName('xente').getOrCreate()\n",
    "spark\n",
    "\n",
    "import pandas as pd\n",
    "import matplotlib.pyplot as plt\n",
    "import numpy as np\n",
    "import seaborn as sns\n",
    "import pyspark.sql.functions as F\n",
    "import shap\n",
    "import catboost\n",
    "from catboost import Pool, CatBoostClassifier, cv\n",
    "\n",
    "from pyspark.sql.types import IntegerType, DoubleType\n",
    "from pyspark.sql.functions import mean, udf, array, col\n",
    "from pyspark.ml.feature import StringIndexer, VectorAssembler\n",
    "from pyspark.ml.linalg import Vectors\n",
    "from imblearn.over_sampling import RandomOverSampler, SMOTE, SMOTENC, ADASYN\n",
    "from sklearn.ensemble import IsolationForest\n",
    "from sklearn.model_selection import train_test_split, learning_curve, ShuffleSplit\n",
    "from sklearn.naive_bayes import GaussianNB\n",
    "from sklearn.svm import SVC\n",
    "from sklearn.metrics import (accuracy_score, classification_report, confusion_matrix,\n",
    "                              f1_score, precision_score, recall_score, roc_curve, roc_auc_score)"
   ]
  },
  {
   "cell_type": "markdown",
   "metadata": {
    "colab_type": "text",
    "id": "4AjfDoGJgDYm"
   },
   "source": [
    "# Load Training Data"
   ]
  },
  {
   "cell_type": "code",
   "execution_count": 8,
   "metadata": {
    "colab": {},
    "colab_type": "code",
    "id": "VQD2FRLWZw6P"
   },
   "outputs": [],
   "source": [
    "def read_data_from_web(url):\n",
    "  data = pd.read_csv(url)\n",
    "  spark_data = spark.createDataFrame(data)\n",
    "  return spark_data\n",
    "\n",
    "fraud_data = read_data_from_web(\"https://drive.google.com/uc?export=download&id=1NrtVkKv8n_g27w5elq9HWZA1i8aFBW0G\")\n",
    "df_backup = fraud_data"
   ]
  },
  {
   "cell_type": "code",
   "execution_count": 21,
   "metadata": {},
   "outputs": [
    {
     "name": "stdout",
     "output_type": "stream",
     "text": [
      "+-------------------+------------+------------+------------------+-----------+-------+-----+---------------+-----------+\n",
      "|      TransactionId|  ProviderId|   ProductId|   ProductCategory|  ChannelId| Amount|Value|PricingStrategy|FraudResult|\n",
      "+-------------------+------------+------------+------------------+-----------+-------+-----+---------------+-----------+\n",
      "|TransactionId_76871|ProviderId_6|ProductId_10|           airtime|ChannelId_3| 1000.0| 1000|              2|          0|\n",
      "|TransactionId_73770|ProviderId_4| ProductId_6|financial_services|ChannelId_2|  -20.0|   20|              2|          0|\n",
      "|TransactionId_26203|ProviderId_6| ProductId_1|           airtime|ChannelId_3|  500.0|  500|              2|          0|\n",
      "|  TransactionId_380|ProviderId_1|ProductId_21|      utility_bill|ChannelId_3|20000.0|21800|              2|          0|\n",
      "|TransactionId_28195|ProviderId_4| ProductId_6|financial_services|ChannelId_2| -644.0|  644|              2|          0|\n",
      "+-------------------+------------+------------+------------------+-----------+-------+-----+---------------+-----------+\n",
      "only showing top 5 rows\n",
      "\n"
     ]
    }
   ],
   "source": [
    "fraud_data.show(5)"
   ]
  },
  {
   "cell_type": "markdown",
   "metadata": {
    "colab_type": "text",
    "id": "PdWRXdYugfPt"
   },
   "source": [
    "## Data Dictionary\n",
    "\n",
    "*   **TransactionId:** Unique transaction identifier on platform.\n",
    "*   **BatchId:** Unique number assigned to a batch of transactions for processing.\n",
    "*   **AccountId:** Unique number identifying the customer on platform.\n",
    "*   **SubscriptionId:** Unique number identifying the customer subscription.\n",
    "*   **CustomerId:** Unique identifier attached to Account.\n",
    "*   **CurrencyCode:** Country currency.\n",
    "*   **CountryCode:** Numerical geographical code of country.\n",
    "*   **ProviderId:** Source provider of Item bought.\n",
    "*   **ProductId:** Item name being bought.\n",
    "*   **ProductCategory:** ProductIds are organized into these broader product categories.\n",
    "*   **ChannelId:** Identifies if customer used web,Android, IOS, pay later or checkout.\n",
    "*   **Amount:** Value of the transaction. Positive for debits from customer account and negative for credit into customer account.\n",
    "*   **Value:** Absolute value of the amount.\n",
    "*   **TransactionStartTime:** Transaction start time.\n",
    "*   **PricingStrategy:** Category of Xente's pricing structure for merchants.\n",
    "*   **FraudResult:** Fraud status of transaction: 1) Yes; or 0) No."
   ]
  },
  {
   "cell_type": "code",
   "execution_count": 9,
   "metadata": {
    "colab": {
     "base_uri": "https://localhost:8080/",
     "height": 341
    },
    "colab_type": "code",
    "id": "hnjIlCVqhAK5",
    "outputId": "b850a480-4968-4446-832f-9751d4f8d1b5"
   },
   "outputs": [
    {
     "name": "stdout",
     "output_type": "stream",
     "text": [
      "root\n",
      " |-- TransactionId: string (nullable = true)\n",
      " |-- BatchId: string (nullable = true)\n",
      " |-- AccountId: string (nullable = true)\n",
      " |-- SubscriptionId: string (nullable = true)\n",
      " |-- CustomerId: string (nullable = true)\n",
      " |-- CurrencyCode: string (nullable = true)\n",
      " |-- CountryCode: long (nullable = true)\n",
      " |-- ProviderId: string (nullable = true)\n",
      " |-- ProductId: string (nullable = true)\n",
      " |-- ProductCategory: string (nullable = true)\n",
      " |-- ChannelId: string (nullable = true)\n",
      " |-- Amount: double (nullable = true)\n",
      " |-- Value: long (nullable = true)\n",
      " |-- TransactionStartTime: string (nullable = true)\n",
      " |-- PricingStrategy: long (nullable = true)\n",
      " |-- FraudResult: long (nullable = true)\n",
      "\n"
     ]
    }
   ],
   "source": [
    "fraud_data.printSchema()"
   ]
  },
  {
   "cell_type": "markdown",
   "metadata": {
    "colab_type": "text",
    "id": "Zyv5Z2E4gCdn"
   },
   "source": [
    "# Data Preprocessing"
   ]
  },
  {
   "cell_type": "markdown",
   "metadata": {},
   "source": [
    "## Missing Data Analysis"
   ]
  },
  {
   "cell_type": "code",
   "execution_count": 10,
   "metadata": {
    "colab": {
     "base_uri": "https://localhost:8080/",
     "height": 53
    },
    "colab_type": "code",
    "id": "Cc_NF1wrgnxu",
    "outputId": "6ee5aba1-d54a-4b6a-f77c-2c9e7d3a5daa"
   },
   "outputs": [
    {
     "name": "stdout",
     "output_type": "stream",
     "text": [
      "There is missing data? False.\n"
     ]
    }
   ],
   "source": [
    "def there_is_missing_data(data):\n",
    "  return data.count() != data.na.drop(how='any').count()\n",
    "\n",
    "print('There is missing data? {0}.'.format(there_is_missing_data(fraud_data)))"
   ]
  },
  {
   "cell_type": "markdown",
   "metadata": {},
   "source": [
    "## Duplicated line?"
   ]
  },
  {
   "cell_type": "code",
   "execution_count": 12,
   "metadata": {},
   "outputs": [
    {
     "name": "stdout",
     "output_type": "stream",
     "text": [
      "There is distinct data? False.\n"
     ]
    }
   ],
   "source": [
    "def there_is_duplicate_lines(data):\n",
    "  return data.count() != data.distinct().count()\n",
    "\n",
    "print('There is distinct data? {0}.'.format(there_is_duplicate_lines(fraud_data)))"
   ]
  },
  {
   "cell_type": "markdown",
   "metadata": {},
   "source": [
    "## Data Treatment"
   ]
  },
  {
   "cell_type": "code",
   "execution_count": 13,
   "metadata": {},
   "outputs": [
    {
     "name": "stdout",
     "output_type": "stream",
     "text": [
      "+-------+\n",
      "|   diff|\n",
      "+-------+\n",
      "|    0.0|\n",
      "|    0.0|\n",
      "|    0.0|\n",
      "|-1800.0|\n",
      "|    0.0|\n",
      "|    0.0|\n",
      "|    0.0|\n",
      "|    0.0|\n",
      "|    0.0|\n",
      "|    0.0|\n",
      "|    0.0|\n",
      "|    0.0|\n",
      "|    0.0|\n",
      "|    0.0|\n",
      "|    0.0|\n",
      "|    0.0|\n",
      "|    0.0|\n",
      "|    0.0|\n",
      "|    0.0|\n",
      "|    0.0|\n",
      "+-------+\n",
      "only showing top 20 rows\n",
      "\n"
     ]
    }
   ],
   "source": [
    "fraud_data.withColumn('diff', F.abs(fraud_data['Amount'])-F.col('Value')).select('diff').show()"
   ]
  },
  {
   "cell_type": "markdown",
   "metadata": {},
   "source": [
    "It shows the real transaction value. To be precise, we need to categorize the transaction, but first, let us remove unuseful features."
   ]
  },
  {
   "cell_type": "markdown",
   "metadata": {},
   "source": [
    "## Removing unuseful features"
   ]
  },
  {
   "cell_type": "code",
   "execution_count": 28,
   "metadata": {},
   "outputs": [
    {
     "name": "stdout",
     "output_type": "stream",
     "text": [
      "Different CurrencyCode Values: \t\t 1\n",
      "Different de CountryCode Values: \t 1\n",
      "Different de TransactionId Values: \t 95662\n"
     ]
    }
   ],
   "source": [
    "print('Different CurrencyCode Values: \\t\\t {0}'.format(fraud_data.select('CurrencyCode').distinct().count()))\n",
    "print('Different de CountryCode Values: \\t {0}'.format(fraud_data.select('CountryCode').distinct().count()))\n",
    "print('Different de TransactionId Values: \\t {0}'.format(fraud_data.select('TransactionId').distinct().count()))"
   ]
  },
  {
   "cell_type": "markdown",
   "metadata": {},
   "source": [
    "CurrencyCode and CountryCode columns have the same value in whole dataset, genuine or fraud."
   ]
  },
  {
   "cell_type": "code",
   "execution_count": 14,
   "metadata": {},
   "outputs": [],
   "source": [
    "# data: dataframe - columns: column list to remove\n",
    "def remove_feature(data, columns_in):\n",
    "  return data.drop(*columns_in)"
   ]
  },
  {
   "cell_type": "code",
   "execution_count": 16,
   "metadata": {},
   "outputs": [],
   "source": [
    "def clean_data(fraud_data, columns_to_remove):\n",
    "  fraud_data = remove_feature(fraud_data, columns_to_remove)\n",
    "  return fraud_data"
   ]
  },
  {
   "cell_type": "code",
   "execution_count": 17,
   "metadata": {},
   "outputs": [],
   "source": [
    "columns_to_remove = ['CurrencyCode','CountryCode','BatchId','AccountId','SubscriptionId','CustomerId', 'TransactionStartTime']\n",
    "fraud_data = clean_data(fraud_data, columns_to_remove)"
   ]
  },
  {
   "cell_type": "code",
   "execution_count": 24,
   "metadata": {},
   "outputs": [
    {
     "name": "stdout",
     "output_type": "stream",
     "text": [
      "+-------------------+------------+------------+------------------+-----------+-------+-----+---------------+-----------+\n",
      "|      TransactionId|  ProviderId|   ProductId|   ProductCategory|  ChannelId| Amount|Value|PricingStrategy|FraudResult|\n",
      "+-------------------+------------+------------+------------------+-----------+-------+-----+---------------+-----------+\n",
      "|TransactionId_76871|ProviderId_6|ProductId_10|           airtime|ChannelId_3| 1000.0| 1000|              2|          0|\n",
      "|TransactionId_73770|ProviderId_4| ProductId_6|financial_services|ChannelId_2|  -20.0|   20|              2|          0|\n",
      "|TransactionId_26203|ProviderId_6| ProductId_1|           airtime|ChannelId_3|  500.0|  500|              2|          0|\n",
      "|  TransactionId_380|ProviderId_1|ProductId_21|      utility_bill|ChannelId_3|20000.0|21800|              2|          0|\n",
      "|TransactionId_28195|ProviderId_4| ProductId_6|financial_services|ChannelId_2| -644.0|  644|              2|          0|\n",
      "+-------------------+------------+------------+------------------+-----------+-------+-----+---------------+-----------+\n",
      "only showing top 5 rows\n",
      "\n"
     ]
    }
   ],
   "source": [
    "fraud_data.show(5)"
   ]
  },
  {
   "cell_type": "markdown",
   "metadata": {},
   "source": [
    "## Categorizing columns values"
   ]
  },
  {
   "cell_type": "code",
   "execution_count": 30,
   "metadata": {},
   "outputs": [],
   "source": [
    "fraud_data = fraud_data.withColumn('ProviderId_int', F.split(fraud_data['ProviderId'], '_').getItem(1).cast(IntegerType()) )\n",
    "fraud_data = fraud_data.withColumn('ProductId_int', F.split(fraud_data['ProductId'], '_').getItem(1).cast(IntegerType()) )\n",
    "fraud_data = fraud_data.withColumn('ChannelId_int', F.split(fraud_data['ChannelId'], '_').getItem(1).cast(IntegerType()) )"
   ]
  },
  {
   "cell_type": "markdown",
   "metadata": {},
   "source": [
    "# Creating Features"
   ]
  },
  {
   "cell_type": "markdown",
   "metadata": {},
   "source": [
    "## Removing dependeces"
   ]
  },
  {
   "cell_type": "raw",
   "metadata": {},
   "source": [
    "The column Amount represents the operation value but if that value is positive its indicates a debit transaction, otherwise is credit (negative values).\n",
    "Creating the Operation column \n",
    "    -1 : credit \n",
    "    1  : debit"
   ]
  },
  {
   "cell_type": "code",
   "execution_count": 32,
   "metadata": {},
   "outputs": [],
   "source": [
    "def get_features_augmentation(fraud_data, clean=False):\n",
    "  fraud_data = fraud_data.withColumn(\"Operation\", F.when(fraud_data.Amount > 0, 1).when(fraud_data.Amount < 0, -1).otherwise(0))\n",
    "  fraud_data = fraud_data.withColumn('PositiveAmount', F.abs(fraud_data['Amount']))\n",
    "  \n",
    "  gen_train_data = fraud_data.filter('FraudResult == 0')\n",
    "  items_list = ['ChannelId', 'ProductCategory', 'ProductId']\n",
    "\n",
    "  for item in items_list:\n",
    "    mean_column_name = 'avg_ps_{0}'.format(item)\n",
    "    ratio_column_name = 'rt_avg_ps_{0}'.format(item)\n",
    "    aux = gen_train_data.select([item,'PositiveAmount']).groupBy(item).mean()\n",
    "    aux = aux.select(col(item), col('avg(PositiveAmount)').alias(mean_column_name))\n",
    "    fraud_data = fraud_data.join(aux, on=item)\n",
    "    fraud_data = fraud_data.withColumn(ratio_column_name, (F.col('PositiveAmount')-F.col(mean_column_name))/ F.col(mean_column_name))\n",
    "  \n",
    "  if clean:\n",
    "    fraud_data = clean_data(fraud_data)\n",
    "  \n",
    "  return fraud_data"
   ]
  },
  {
   "cell_type": "code",
   "execution_count": 33,
   "metadata": {},
   "outputs": [],
   "source": [
    "fraud_data = get_features_augmentation(fraud_data)\n",
    "fraud_data = clean_data(fraud_data, columns_to_remove = ['Amount'])"
   ]
  },
  {
   "cell_type": "code",
   "execution_count": 35,
   "metadata": {},
   "outputs": [
    {
     "name": "stdout",
     "output_type": "stream",
     "text": [
      "root\n",
      " |-- ProductId: string (nullable = true)\n",
      " |-- ProductCategory: string (nullable = true)\n",
      " |-- ChannelId: string (nullable = true)\n",
      " |-- TransactionId: string (nullable = true)\n",
      " |-- BatchId: string (nullable = true)\n",
      " |-- AccountId: string (nullable = true)\n",
      " |-- SubscriptionId: string (nullable = true)\n",
      " |-- CustomerId: string (nullable = true)\n",
      " |-- CurrencyCode: string (nullable = true)\n",
      " |-- CountryCode: long (nullable = true)\n",
      " |-- ProviderId: string (nullable = true)\n",
      " |-- Value: long (nullable = true)\n",
      " |-- TransactionStartTime: string (nullable = true)\n",
      " |-- PricingStrategy: long (nullable = true)\n",
      " |-- FraudResult: long (nullable = true)\n",
      " |-- ProviderId_cat: integer (nullable = true)\n",
      " |-- ProductId_cat: integer (nullable = true)\n",
      " |-- ChannelId_cat: integer (nullable = true)\n",
      " |-- Operation: integer (nullable = false)\n",
      " |-- PositiveAmount: double (nullable = true)\n",
      " |-- avg_ps_ChannelId: double (nullable = true)\n",
      " |-- rt_avg_ps_ChannelId: double (nullable = true)\n",
      " |-- avg_ps_ProductCategory: double (nullable = true)\n",
      " |-- rt_avg_ps_ProductCategory: double (nullable = true)\n",
      " |-- avg_ps_ProductId: double (nullable = true)\n",
      " |-- rt_avg_ps_ProductId: double (nullable = true)\n",
      "\n"
     ]
    }
   ],
   "source": [
    "fraud_data.printSchema()"
   ]
  },
  {
   "cell_type": "markdown",
   "metadata": {},
   "source": [
    "# Data Analysis"
   ]
  },
  {
   "cell_type": "markdown",
   "metadata": {},
   "source": [
    "ProductCategory have a bias to fraud transaction"
   ]
  },
  {
   "cell_type": "code",
   "execution_count": 37,
   "metadata": {},
   "outputs": [
    {
     "name": "stdout",
     "output_type": "stream",
     "text": [
      "+------------------+-----+\n",
      "|   ProductCategory|count|\n",
      "+------------------+-----+\n",
      "|            ticket|  216|\n",
      "|                tv| 1279|\n",
      "|             other|    2|\n",
      "|           airtime|45009|\n",
      "|         transport|   23|\n",
      "|      data_bundles| 1613|\n",
      "|            movies|  175|\n",
      "|      utility_bill| 1908|\n",
      "|financial_services|45244|\n",
      "+------------------+-----+\n",
      "\n"
     ]
    }
   ],
   "source": [
    "fraud_data.filter('FraudResult == 0').groupBy('ProductCategory' ).count().show()"
   ]
  },
  {
   "cell_type": "code",
   "execution_count": 38,
   "metadata": {},
   "outputs": [
    {
     "name": "stdout",
     "output_type": "stream",
     "text": [
      "+------------------+-----+\n",
      "|   ProductCategory|count|\n",
      "+------------------+-----+\n",
      "|         transport|    2|\n",
      "|           airtime|   18|\n",
      "|      utility_bill|   12|\n",
      "|financial_services|  161|\n",
      "+------------------+-----+\n",
      "\n"
     ]
    }
   ],
   "source": [
    "fraud_data.filter('FraudResult == 1').groupBy('ProductCategory' ).count().show()"
   ]
  },
  {
   "cell_type": "markdown",
   "metadata": {},
   "source": [
    "Counting the number of transactions by category, let us normalize and show in histogram graphic.\n",
    "\n",
    "Percebe-se que as transações fraudulentas (representadas em azul), incidem principalmente em operações do tipo Serviço financeiro, como também Airtime e Utility_bill."
   ]
  },
  {
   "cell_type": "code",
   "execution_count": 36,
   "metadata": {},
   "outputs": [
    {
     "data": {
      "image/png": "[encoded data removed]",
      "text/plain": [
       "<Figure size 455.75x360 with 1 Axes>"
      ]
     },
     "metadata": {
      "needs_background": "light"
     },
     "output_type": "display_data"
    }
   ],
   "source": [
    "df1 = fraud_data.filter('FraudResult == 0').groupBy('ProductCategory' ).count()\n",
    "df1 = df1.withColumnRenamed('count', 'gen_count')\n",
    "\n",
    "df2 = fraud_data.filter('FraudResult == 1').groupBy('ProductCategory' ).count()\n",
    "df2 = df2.withColumnRenamed('count', 'fraud_count')\n",
    "\n",
    "new_df = df1.join(df2, on=['ProductCategory'], how='left_outer')\n",
    "new_df = new_df.fillna({'fraud_count': '0'})\n",
    "\n",
    "new_df_pd = new_df.toPandas()\n",
    "new_df_pd['gen_count'] = new_df_pd['gen_count']/sum(new_df_pd['gen_count'])\n",
    "new_df_pd['fraud_count'] = new_df_pd['fraud_count']/sum(new_df_pd['fraud_count'])\n",
    "new_df_pd = pd.melt(new_df_pd, id_vars='ProductCategory', value_vars=['fraud_count', 'gen_count'], value_name='value')\n",
    "\n",
    "sns.catplot(y='ProductCategory', hue='variable', x='value', kind='bar', data=new_df_pd);"
   ]
  },
  {
   "cell_type": "markdown",
   "metadata": {},
   "source": [
    "Categorizing ProductCategory"
   ]
  },
  {
   "cell_type": "code",
   "execution_count": 40,
   "metadata": {},
   "outputs": [],
   "source": [
    "indexer = StringIndexer(inputCol = 'ProductCategory', outputCol='ProductCategory_int')\n",
    "fraud_data = indexer.fit(fraud_data).transform(fraud_data)"
   ]
  },
  {
   "cell_type": "markdown",
   "metadata": {},
   "source": [
    "# Statistics"
   ]
  },
  {
   "cell_type": "markdown",
   "metadata": {},
   "source": [
    "## Imbalanced dataset"
   ]
  },
  {
   "cell_type": "code",
   "execution_count": 42,
   "metadata": {},
   "outputs": [
    {
     "name": "stdout",
     "output_type": "stream",
     "text": [
      "+-----------+-----+\n",
      "|FraudResult|count|\n",
      "+-----------+-----+\n",
      "|          0|95469|\n",
      "|          1|  193|\n",
      "+-----------+-----+\n",
      "\n",
      "Os dados fraudulentos representam 0.202% dos dados.\n"
     ]
    }
   ],
   "source": [
    "fraud_data.groupBy(\"FraudResult\").count().show()\n",
    "outlier_fraction = fraud_data.filter(\"FraudResult == 1\").count() / fraud_data.filter(\"FraudResult == 0\").count()\n",
    "print('Os dados fraudulentos representam {0:.3f}% dos dados.'.format(outlier_fraction*100))"
   ]
  },
  {
   "cell_type": "markdown",
   "metadata": {},
   "source": [
    "## Descriptive analysis of numerical variables"
   ]
  },
  {
   "cell_type": "markdown",
   "metadata": {},
   "source": [
    "### Value descriptions"
   ]
  },
  {
   "cell_type": "code",
   "execution_count": 103,
   "metadata": {},
   "outputs": [],
   "source": [
    "all_features = ['ProductId', 'ProductCategory', 'ChannelId', 'Value', 'PricingStrategy', \n",
    "                'Operation', 'PositiveAmount', 'avg_ps_ChannelId', 'rt_avg_ps_ChannelId', \n",
    "                'avg_ps_ProductCategory', 'rt_avg_ps_ProductCategory', 'avg_ps_ProductId', \n",
    "                'rt_avg_ps_ProductId']\n",
    "\n",
    "numerical_features = ['Value', 'PricingStrategy', 'Operation', 'PositiveAmount', \n",
    "                      'avg_ps_ChannelId', 'rt_avg_ps_ChannelId', 'avg_ps_ProductCategory', \n",
    "                      'rt_avg_ps_ProductCategory', 'avg_ps_ProductId', 'rt_avg_ps_ProductId']\n",
    "\n",
    "categorical_features = ['ProductId', 'ProductCategory', 'ChannelId', 'PricingStrategy']\n",
    "\n",
    "label = 'FraudResult'"
   ]
  },
  {
   "cell_type": "code",
   "execution_count": 67,
   "metadata": {},
   "outputs": [
    {
     "name": "stdout",
     "output_type": "stream",
     "text": [
      "Fraud data set\n"
     ]
    },
    {
     "data": {
      "text/html": [
       "<div>\n",
       "<style scoped>\n",
       "    .dataframe tbody tr th:only-of-type {\n",
       "        vertical-align: middle;\n",
       "    }\n",
       "\n",
       "    .dataframe tbody tr th {\n",
       "        vertical-align: top;\n",
       "    }\n",
       "\n",
       "    .dataframe thead th {\n",
       "        text-align: right;\n",
       "    }\n",
       "</style>\n",
       "<table border=\"1\" class=\"dataframe\">\n",
       "  <thead>\n",
       "    <tr style=\"text-align: right;\">\n",
       "      <th></th>\n",
       "      <th>Value</th>\n",
       "      <th>PricingStrategy</th>\n",
       "      <th>Operation</th>\n",
       "      <th>PositiveAmount</th>\n",
       "      <th>avg_ps_ChannelId</th>\n",
       "      <th>rt_avg_ps_ChannelId</th>\n",
       "      <th>avg_ps_ProductCategory</th>\n",
       "      <th>rt_avg_ps_ProductCategory</th>\n",
       "      <th>avg_ps_ProductId</th>\n",
       "      <th>rt_avg_ps_ProductId</th>\n",
       "    </tr>\n",
       "  </thead>\n",
       "  <tbody>\n",
       "    <tr>\n",
       "      <th>count</th>\n",
       "      <td>1.930000e+02</td>\n",
       "      <td>193.000000</td>\n",
       "      <td>193.000000</td>\n",
       "      <td>1.930000e+02</td>\n",
       "      <td>193.000000</td>\n",
       "      <td>193.000000</td>\n",
       "      <td>193.000000</td>\n",
       "      <td>193.000000</td>\n",
       "      <td>193.000000</td>\n",
       "      <td>193.000000</td>\n",
       "    </tr>\n",
       "    <tr>\n",
       "      <th>mean</th>\n",
       "      <td>1.561820e+06</td>\n",
       "      <td>1.704663</td>\n",
       "      <td>0.948187</td>\n",
       "      <td>1.560153e+06</td>\n",
       "      <td>8722.164907</td>\n",
       "      <td>184.253739</td>\n",
       "      <td>7892.490267</td>\n",
       "      <td>234.804521</td>\n",
       "      <td>21457.355427</td>\n",
       "      <td>74.729838</td>\n",
       "    </tr>\n",
       "    <tr>\n",
       "      <th>std</th>\n",
       "      <td>2.081227e+06</td>\n",
       "      <td>0.963300</td>\n",
       "      <td>0.318540</td>\n",
       "      <td>2.082015e+06</td>\n",
       "      <td>2827.016314</td>\n",
       "      <td>246.606292</td>\n",
       "      <td>8752.169640</td>\n",
       "      <td>322.101895</td>\n",
       "      <td>9101.602756</td>\n",
       "      <td>93.901093</td>\n",
       "    </tr>\n",
       "    <tr>\n",
       "      <th>min</th>\n",
       "      <td>5.000000e+02</td>\n",
       "      <td>0.000000</td>\n",
       "      <td>-1.000000</td>\n",
       "      <td>5.000000e+02</td>\n",
       "      <td>3835.880507</td>\n",
       "      <td>-0.940815</td>\n",
       "      <td>5867.800373</td>\n",
       "      <td>-0.914789</td>\n",
       "      <td>903.642597</td>\n",
       "      <td>-0.905227</td>\n",
       "    </tr>\n",
       "    <tr>\n",
       "      <th>25%</th>\n",
       "      <td>5.000000e+05</td>\n",
       "      <td>2.000000</td>\n",
       "      <td>1.000000</td>\n",
       "      <td>5.000000e+05</td>\n",
       "      <td>8448.058854</td>\n",
       "      <td>58.185194</td>\n",
       "      <td>6504.703021</td>\n",
       "      <td>75.867460</td>\n",
       "      <td>22047.949860</td>\n",
       "      <td>21.677845</td>\n",
       "    </tr>\n",
       "    <tr>\n",
       "      <th>50%</th>\n",
       "      <td>6.500000e+05</td>\n",
       "      <td>2.000000</td>\n",
       "      <td>1.000000</td>\n",
       "      <td>6.500000e+05</td>\n",
       "      <td>8448.058854</td>\n",
       "      <td>75.940752</td>\n",
       "      <td>6504.703021</td>\n",
       "      <td>91.240952</td>\n",
       "      <td>22047.949860</td>\n",
       "      <td>33.923882</td>\n",
       "    </tr>\n",
       "    <tr>\n",
       "      <th>75%</th>\n",
       "      <td>2.000000e+06</td>\n",
       "      <td>2.000000</td>\n",
       "      <td>1.000000</td>\n",
       "      <td>2.000000e+06</td>\n",
       "      <td>8448.058854</td>\n",
       "      <td>235.740775</td>\n",
       "      <td>6504.703021</td>\n",
       "      <td>306.469840</td>\n",
       "      <td>22047.949860</td>\n",
       "      <td>93.772759</td>\n",
       "    </tr>\n",
       "    <tr>\n",
       "      <th>max</th>\n",
       "      <td>9.880000e+06</td>\n",
       "      <td>4.000000</td>\n",
       "      <td>1.000000</td>\n",
       "      <td>9.880000e+06</td>\n",
       "      <td>27438.898876</td>\n",
       "      <td>1168.499428</td>\n",
       "      <td>90260.869565</td>\n",
       "      <td>1517.901012</td>\n",
       "      <td>90260.869565</td>\n",
       "      <td>447.114227</td>\n",
       "    </tr>\n",
       "  </tbody>\n",
       "</table>\n",
       "</div>"
      ],
      "text/plain": [
       "              Value  PricingStrategy   Operation  PositiveAmount  \\\n",
       "count  1.930000e+02       193.000000  193.000000    1.930000e+02   \n",
       "mean   1.561820e+06         1.704663    0.948187    1.560153e+06   \n",
       "std    2.081227e+06         0.963300    0.318540    2.082015e+06   \n",
       "min    5.000000e+02         0.000000   -1.000000    5.000000e+02   \n",
       "25%    5.000000e+05         2.000000    1.000000    5.000000e+05   \n",
       "50%    6.500000e+05         2.000000    1.000000    6.500000e+05   \n",
       "75%    2.000000e+06         2.000000    1.000000    2.000000e+06   \n",
       "max    9.880000e+06         4.000000    1.000000    9.880000e+06   \n",
       "\n",
       "       avg_ps_ChannelId  rt_avg_ps_ChannelId  avg_ps_ProductCategory  \\\n",
       "count        193.000000           193.000000              193.000000   \n",
       "mean        8722.164907           184.253739             7892.490267   \n",
       "std         2827.016314           246.606292             8752.169640   \n",
       "min         3835.880507            -0.940815             5867.800373   \n",
       "25%         8448.058854            58.185194             6504.703021   \n",
       "50%         8448.058854            75.940752             6504.703021   \n",
       "75%         8448.058854           235.740775             6504.703021   \n",
       "max        27438.898876          1168.499428            90260.869565   \n",
       "\n",
       "       rt_avg_ps_ProductCategory  avg_ps_ProductId  rt_avg_ps_ProductId  \n",
       "count                 193.000000        193.000000           193.000000  \n",
       "mean                  234.804521      21457.355427            74.729838  \n",
       "std                   322.101895       9101.602756            93.901093  \n",
       "min                    -0.914789        903.642597            -0.905227  \n",
       "25%                    75.867460      22047.949860            21.677845  \n",
       "50%                    91.240952      22047.949860            33.923882  \n",
       "75%                   306.469840      22047.949860            93.772759  \n",
       "max                  1517.901012      90260.869565           447.114227  "
      ]
     },
     "execution_count": 67,
     "metadata": {},
     "output_type": "execute_result"
    }
   ],
   "source": [
    "print('Fraud data set')\n",
    "fraud_data.select(numerical_features).filter(fraud_data['FraudResult'] == 1).toPandas().describe()"
   ]
  },
  {
   "cell_type": "code",
   "execution_count": 68,
   "metadata": {},
   "outputs": [
    {
     "name": "stdout",
     "output_type": "stream",
     "text": [
      "Genuine data set\n"
     ]
    },
    {
     "data": {
      "text/html": [
       "<div>\n",
       "<style scoped>\n",
       "    .dataframe tbody tr th:only-of-type {\n",
       "        vertical-align: middle;\n",
       "    }\n",
       "\n",
       "    .dataframe tbody tr th {\n",
       "        vertical-align: top;\n",
       "    }\n",
       "\n",
       "    .dataframe thead th {\n",
       "        text-align: right;\n",
       "    }\n",
       "</style>\n",
       "<table border=\"1\" class=\"dataframe\">\n",
       "  <thead>\n",
       "    <tr style=\"text-align: right;\">\n",
       "      <th></th>\n",
       "      <th>Value</th>\n",
       "      <th>PricingStrategy</th>\n",
       "      <th>Operation</th>\n",
       "      <th>PositiveAmount</th>\n",
       "      <th>avg_ps_ChannelId</th>\n",
       "      <th>rt_avg_ps_ChannelId</th>\n",
       "      <th>avg_ps_ProductCategory</th>\n",
       "      <th>rt_avg_ps_ProductCategory</th>\n",
       "      <th>avg_ps_ProductId</th>\n",
       "      <th>rt_avg_ps_ProductId</th>\n",
       "    </tr>\n",
       "  </thead>\n",
       "  <tbody>\n",
       "    <tr>\n",
       "      <th>count</th>\n",
       "      <td>9.546900e+04</td>\n",
       "      <td>95469.000000</td>\n",
       "      <td>95469.000000</td>\n",
       "      <td>9.546900e+04</td>\n",
       "      <td>95469.000000</td>\n",
       "      <td>9.546900e+04</td>\n",
       "      <td>95469.000000</td>\n",
       "      <td>9.546900e+04</td>\n",
       "      <td>95469.000000</td>\n",
       "      <td>9.546900e+04</td>\n",
       "    </tr>\n",
       "    <tr>\n",
       "      <th>mean</th>\n",
       "      <td>6.763227e+03</td>\n",
       "      <td>2.257089</td>\n",
       "      <td>0.200075</td>\n",
       "      <td>6.723033e+03</td>\n",
       "      <td>6723.033294</td>\n",
       "      <td>2.332712e-14</td>\n",
       "      <td>6723.033294</td>\n",
       "      <td>-2.858792e-14</td>\n",
       "      <td>6723.033294</td>\n",
       "      <td>-1.950386e-14</td>\n",
       "    </tr>\n",
       "    <tr>\n",
       "      <th>std</th>\n",
       "      <td>3.999484e+04</td>\n",
       "      <td>0.731971</td>\n",
       "      <td>0.979786</td>\n",
       "      <td>3.995819e+04</td>\n",
       "      <td>2728.030478</td>\n",
       "      <td>5.009198e+00</td>\n",
       "      <td>4884.014959</td>\n",
       "      <td>6.112775e+00</td>\n",
       "      <td>8964.072329</td>\n",
       "      <td>3.007323e+00</td>\n",
       "    </tr>\n",
       "    <tr>\n",
       "      <th>min</th>\n",
       "      <td>2.000000e+00</td>\n",
       "      <td>0.000000</td>\n",
       "      <td>-1.000000</td>\n",
       "      <td>1.200000e+00</td>\n",
       "      <td>3835.880507</td>\n",
       "      <td>-9.996872e-01</td>\n",
       "      <td>500.000000</td>\n",
       "      <td>-9.998155e-01</td>\n",
       "      <td>500.000000</td>\n",
       "      <td>-9.986720e-01</td>\n",
       "    </tr>\n",
       "    <tr>\n",
       "      <th>25%</th>\n",
       "      <td>2.500000e+02</td>\n",
       "      <td>2.000000</td>\n",
       "      <td>-1.000000</td>\n",
       "      <td>2.500000e+02</td>\n",
       "      <td>3835.880507</td>\n",
       "      <td>-9.408148e-01</td>\n",
       "      <td>5867.800373</td>\n",
       "      <td>-9.615663e-01</td>\n",
       "      <td>903.642597</td>\n",
       "      <td>-9.052272e-01</td>\n",
       "    </tr>\n",
       "    <tr>\n",
       "      <th>50%</th>\n",
       "      <td>1.000000e+03</td>\n",
       "      <td>2.000000</td>\n",
       "      <td>1.000000</td>\n",
       "      <td>1.000000e+03</td>\n",
       "      <td>8448.058854</td>\n",
       "      <td>-8.816296e-01</td>\n",
       "      <td>6504.703021</td>\n",
       "      <td>-8.295784e-01</td>\n",
       "      <td>5275.777618</td>\n",
       "      <td>-7.786736e-01</td>\n",
       "    </tr>\n",
       "    <tr>\n",
       "      <th>75%</th>\n",
       "      <td>5.000000e+03</td>\n",
       "      <td>2.000000</td>\n",
       "      <td>1.000000</td>\n",
       "      <td>5.000000e+03</td>\n",
       "      <td>8448.058854</td>\n",
       "      <td>-1.203787e-02</td>\n",
       "      <td>6504.703021</td>\n",
       "      <td>-2.313254e-01</td>\n",
       "      <td>7447.448628</td>\n",
       "      <td>-1.382419e-01</td>\n",
       "    </tr>\n",
       "    <tr>\n",
       "      <th>max</th>\n",
       "      <td>2.400000e+06</td>\n",
       "      <td>4.000000</td>\n",
       "      <td>1.000000</td>\n",
       "      <td>2.400000e+06</td>\n",
       "      <td>27438.898876</td>\n",
       "      <td>2.830889e+02</td>\n",
       "      <td>96696.759259</td>\n",
       "      <td>3.679638e+02</td>\n",
       "      <td>138383.720930</td>\n",
       "      <td>2.675483e+02</td>\n",
       "    </tr>\n",
       "  </tbody>\n",
       "</table>\n",
       "</div>"
      ],
      "text/plain": [
       "              Value  PricingStrategy     Operation  PositiveAmount  \\\n",
       "count  9.546900e+04     95469.000000  95469.000000    9.546900e+04   \n",
       "mean   6.763227e+03         2.257089      0.200075    6.723033e+03   \n",
       "std    3.999484e+04         0.731971      0.979786    3.995819e+04   \n",
       "min    2.000000e+00         0.000000     -1.000000    1.200000e+00   \n",
       "25%    2.500000e+02         2.000000     -1.000000    2.500000e+02   \n",
       "50%    1.000000e+03         2.000000      1.000000    1.000000e+03   \n",
       "75%    5.000000e+03         2.000000      1.000000    5.000000e+03   \n",
       "max    2.400000e+06         4.000000      1.000000    2.400000e+06   \n",
       "\n",
       "       avg_ps_ChannelId  rt_avg_ps_ChannelId  avg_ps_ProductCategory  \\\n",
       "count      95469.000000         9.546900e+04            95469.000000   \n",
       "mean        6723.033294         2.332712e-14             6723.033294   \n",
       "std         2728.030478         5.009198e+00             4884.014959   \n",
       "min         3835.880507        -9.996872e-01              500.000000   \n",
       "25%         3835.880507        -9.408148e-01             5867.800373   \n",
       "50%         8448.058854        -8.816296e-01             6504.703021   \n",
       "75%         8448.058854        -1.203787e-02             6504.703021   \n",
       "max        27438.898876         2.830889e+02            96696.759259   \n",
       "\n",
       "       rt_avg_ps_ProductCategory  avg_ps_ProductId  rt_avg_ps_ProductId  \n",
       "count               9.546900e+04      95469.000000         9.546900e+04  \n",
       "mean               -2.858792e-14       6723.033294        -1.950386e-14  \n",
       "std                 6.112775e+00       8964.072329         3.007323e+00  \n",
       "min                -9.998155e-01        500.000000        -9.986720e-01  \n",
       "25%                -9.615663e-01        903.642597        -9.052272e-01  \n",
       "50%                -8.295784e-01       5275.777618        -7.786736e-01  \n",
       "75%                -2.313254e-01       7447.448628        -1.382419e-01  \n",
       "max                 3.679638e+02     138383.720930         2.675483e+02  "
      ]
     },
     "execution_count": 68,
     "metadata": {},
     "output_type": "execute_result"
    }
   ],
   "source": [
    "print('Genuine data set')\n",
    "fraud_data.select(numerical_features).filter(fraud_data['FraudResult'] == 0).toPandas().describe()"
   ]
  },
  {
   "cell_type": "code",
   "execution_count": 69,
   "metadata": {},
   "outputs": [
    {
     "name": "stdout",
     "output_type": "stream",
     "text": [
      "Mean Value of transactions US$ 9900.58\n"
     ]
    }
   ],
   "source": [
    "mean_value = fraud_data.select(mean(fraud_data['value'])).collect()[0][0]\n",
    "\n",
    "print('Mean Value of transactions US$ {0:.2f}'.format(mean_value))"
   ]
  },
  {
   "cell_type": "code",
   "execution_count": 70,
   "metadata": {},
   "outputs": [
    {
     "name": "stdout",
     "output_type": "stream",
     "text": [
      "Fraud Transactions under average value: \t1.04%.\n",
      "Fraud Transactions over average value: \t98.96%.\n",
      "\n",
      "Genuine Transactions under average value: \t80.61%.\n",
      "Genuine Transactions over average value: \t\t19.39%.\n"
     ]
    }
   ],
   "source": [
    "percentFraudByAvgValueLow = fraud_data.filter(\"FraudResult == 1 and PositiveAmount < \" + str(mean_value) ).count() / fraud_data.filter('FraudResult == 1').count()\n",
    "percentGenByAvgValueLow = fraud_data.filter(\"FraudResult == 0 and PositiveAmount < \"+ str(mean_value) ).count() / fraud_data.filter('FraudResult == 0').count()\n",
    "\n",
    "percentFraudByAvgValueHigh = fraud_data.filter(\"FraudResult == 1 and PositiveAmount > \"+ str(mean_value) ).count() / fraud_data.filter('FraudResult == 1').count()\n",
    "percentGenByAvgValueHigh = fraud_data.filter(\"FraudResult == 0 and PositiveAmount > \"+ str(mean_value) ).count() / fraud_data.filter('FraudResult == 0').count()\n",
    "\n",
    "\n",
    "print('Fraud Transactions under average value: \\t{0:.2f}%.'.format(percentFraudByAvgValueLow * 100))\n",
    "print('Fraud Transactions over average value: \\t{0:.2f}%.\\n'.format(percentFraudByAvgValueHigh * 100))\n",
    "\n",
    "print('Genuine Transactions under average value: \\t{0:.2f}%.'.format(percentGenByAvgValueLow * 100))\n",
    "print('Genuine Transactions over average value: \\t\\t{0:.2f}%.'.format(percentGenByAvgValueHigh * 100))"
   ]
  },
  {
   "cell_type": "markdown",
   "metadata": {},
   "source": [
    "Under average value of dataset\n",
    "- 1% : Fraud transactions\n",
    "- 80% : Genuine transactions\n",
    "\n",
    "Considerations:\n",
    "- Most transactions are below average, ie there is a general consumption pattern, where there are many transactions costing little, and few transactions costing a lot, justifying why you pulled the average value up. \n",
    "- This bias in transaction values is greater when referring to fraudulent transactions."
   ]
  },
  {
   "cell_type": "code",
   "execution_count": 71,
   "metadata": {},
   "outputs": [
    {
     "name": "stdout",
     "output_type": "stream",
     "text": [
      "Average Value of a fraud transaction: \t\tUS$ 1561819.54.\n",
      "Average Value of a genuine transaction: \tUS$ 6763.23.\n"
     ]
    }
   ],
   "source": [
    "mean_val_fraud = fraud_data.filter(\"FraudResult == 1\").select(mean(fraud_data['value'])).collect()[0][0]\n",
    "mean_val_notfraud = fraud_data.filter(\"FraudResult == 0\").select(mean(fraud_data['value'])).collect()[0][0]\n",
    "\n",
    "print('Average Value of a fraud transaction: \\t\\tUS$ {0:.2f}.'.format(mean_val_fraud))\n",
    "print('Average Value of a genuine transaction: \\tUS$ {0:.2f}.'.format(mean_val_notfraud))"
   ]
  },
  {
   "cell_type": "code",
   "execution_count": 72,
   "metadata": {},
   "outputs": [
    {
     "name": "stdout",
     "output_type": "stream",
     "text": [
      "Mount of fraud transaction over the average: \t\t27.5%\n",
      "Mount of genuine transaction over the average: \t20.4%\n"
     ]
    }
   ],
   "source": [
    "percentFraud2ByAvgValue = fraud_data.filter(\"FraudResult == 1 and PositiveAmount > \"+ str(mean_val_fraud) ).count() / fraud_data.filter('FraudResult == 1').count()\n",
    "percentGen2ByAvgValue = fraud_data.filter(\"FraudResult == 0 and PositiveAmount > \"+ str(mean_val_notfraud) ).count() / fraud_data.filter('FraudResult == 0').count()\n",
    "\n",
    "print('Mount of fraud transaction over the average: \\t\\t{0:.1f}%'.format(percentFraud2ByAvgValue * 100))\n",
    "print('Mount of genuine transaction over the average: \\t{0:.1f}%'.format(percentGen2ByAvgValue * 100))"
   ]
  },
  {
   "cell_type": "code",
   "execution_count": 73,
   "metadata": {},
   "outputs": [
    {
     "name": "stdout",
     "output_type": "stream",
     "text": [
      "Debit Fraud Transaction:  97.4%.\n",
      "Credit Fraud Transaction: 2.6%.\n",
      "\n",
      "Debit Genuine Transaction:  60.0%.\n",
      "Credit Genuine Transaction: 40.0%.\n"
     ]
    }
   ],
   "source": [
    "percentFraudByOperation = fraud_data.filter(\"FraudResult == 1 and Operation == 1 \").count() / fraud_data.filter('FraudResult == 1').count()\n",
    "percentGenByOperation = fraud_data.filter(\"FraudResult == 0 and Operation == 1 \").count() / fraud_data.filter('FraudResult == 0').count()\n",
    "\n",
    "print('Debit Fraud Transaction:  {0:.1f}%.'.format(percentFraudByOperation * 100))\n",
    "print('Credit Fraud Transaction: {0:.1f}%.\\n'.format(100-(percentFraudByOperation * 100)))\n",
    "\n",
    "print('Debit Genuine Transaction:  {0:.1f}%.'.format(percentGenByOperation * 100))\n",
    "print('Credit Genuine Transaction: {0:.1f}%.'.format(100-(percentGenByOperation * 100)))"
   ]
  },
  {
   "cell_type": "markdown",
   "metadata": {},
   "source": [
    "- 25% of Genuine Transactions are credit\n",
    "- 75% of Fraud Transactions are debit\n",
    "- Average Value of a Genuine Transaction is $6,763.00 (mean: $1,000.00)\n",
    "- Average Value of a Fraud Transaction is $1,561,820.00 (mean: $650,000.00).\n",
    "- FraudAverageValue*4 = GenuineAverageValue"
   ]
  },
  {
   "cell_type": "markdown",
   "metadata": {},
   "source": [
    "### Product - Channel | descriptives"
   ]
  },
  {
   "cell_type": "code",
   "execution_count": 74,
   "metadata": {},
   "outputs": [
    {
     "name": "stdout",
     "output_type": "stream",
     "text": [
      "+-------------------+------------+------------+------------+------------+------------+-----------+-----------+-----------+-----------+\n",
      "|ChannelId_ProductId|ProductId_10|ProductId_13|ProductId_15|ProductId_21|ProductId_22|ProductId_3|ProductId_5|ProductId_6|ProductId_9|\n",
      "+-------------------+------------+------------+------------+------------+------------+-----------+-----------+-----------+-----------+\n",
      "|        ChannelId_1|           0|           0|           1|           0|           0|          0|          0|          0|          3|\n",
      "|        ChannelId_3|           5|           6|         156|           4|           2|          9|          2|          0|          0|\n",
      "|        ChannelId_2|           1|           0|           0|           0|           0|          3|          0|          1|          0|\n",
      "+-------------------+------------+------------+------------+------------+------------+-----------+-----------+-----------+-----------+\n",
      "\n"
     ]
    }
   ],
   "source": [
    "fraud_data.filter('FraudResult == 1').stat.crosstab(\"ChannelId\",\"ProductId\").show()"
   ]
  },
  {
   "cell_type": "code",
   "execution_count": 75,
   "metadata": {},
   "outputs": [
    {
     "name": "stdout",
     "output_type": "stream",
     "text": [
      "+-------------------+-----------+------------+------------+------------+------------+------------+------------+------------+------------+-----------+------------+------------+------------+------------+------------+------------+-----------+-----------+-----------+-----------+-----------+-----------+-----------+\n",
      "|ChannelId_ProductId|ProductId_1|ProductId_10|ProductId_11|ProductId_12|ProductId_13|ProductId_14|ProductId_15|ProductId_16|ProductId_19|ProductId_2|ProductId_20|ProductId_21|ProductId_22|ProductId_23|ProductId_24|ProductId_27|ProductId_3|ProductId_4|ProductId_5|ProductId_6|ProductId_7|ProductId_8|ProductId_9|\n",
      "+-------------------+-----------+------------+------------+------------+------------+------------+------------+------------+------------+-----------+------------+------------+------------+------------+------------+------------+-----------+-----------+-----------+-----------+-----------+-----------+-----------+\n",
      "|        ChannelId_1|         13|          95|          17|           0|           7|           0|          93|           0|           3|          3|          22|          45|           0|           0|           2|           0|        170|         22|          0|          0|         26|          2|         14|\n",
      "|        ChannelId_3|       2792|       13058|        1292|           2|         269|         789|       11714|          10|         938|        221|         194|        1374|         109|           0|         171|          29|      21238|       2278|         23|          6|         54|        190|          0|\n",
      "|        ChannelId_2|         24|        1911|           0|           0|           8|           0|           0|           0|           0|          0|           0|           9|           0|           1|           0|           0|       2555|          0|          0|      32628|          0|          0|          0|\n",
      "|        ChannelId_5|         56|         314|          68|           0|           6|           0|           0|           0|          24|         12|           0|          80|           1|           0|           2|           2|        369|        103|          0|          0|          6|          5|          0|\n",
      "+-------------------+-----------+------------+------------+------------+------------+------------+------------+------------+------------+-----------+------------+------------+------------+------------+------------+------------+-----------+-----------+-----------+-----------+-----------+-----------+-----------+\n",
      "\n"
     ]
    }
   ],
   "source": [
    "fraud_data.filter('FraudResult == 0').stat.crosstab(\"ChannelId\",\"ProductId\").show()"
   ]
  },
  {
   "cell_type": "markdown",
   "metadata": {},
   "source": [
    "- CHANNEL 3: onde ocorrem fraudes.\n",
    "- CHANNEL 3: onde ocorrem mais transacoes genuinas.\n",
    "- PRODUCT 3: produtos com maior indice busca de compra.\n",
    "- PRODUCT 15: produtos com maior indice de fraude.\n",
    "- CHANNEL 2: O PRODUCT 3 eh mais buscao neste canal."
   ]
  },
  {
   "cell_type": "markdown",
   "metadata": {},
   "source": [
    "### Histogram plotting"
   ]
  },
  {
   "cell_type": "code",
   "execution_count": 78,
   "metadata": {},
   "outputs": [
    {
     "data": {
      "text/plain": [
       "array([[<matplotlib.axes._subplots.AxesSubplot object at 0x7fdfbd9720b8>,\n",
       "        <matplotlib.axes._subplots.AxesSubplot object at 0x7fdfcade28d0>,\n",
       "        <matplotlib.axes._subplots.AxesSubplot object at 0x7fdfcaddce48>],\n",
       "       [<matplotlib.axes._subplots.AxesSubplot object at 0x7fdfc412b400>,\n",
       "        <matplotlib.axes._subplots.AxesSubplot object at 0x7fdfcabd1978>,\n",
       "        <matplotlib.axes._subplots.AxesSubplot object at 0x7fdfc069eef0>],\n",
       "       [<matplotlib.axes._subplots.AxesSubplot object at 0x7fdfc0b2a4a8>,\n",
       "        <matplotlib.axes._subplots.AxesSubplot object at 0x7fdfbeda7a58>,\n",
       "        <matplotlib.axes._subplots.AxesSubplot object at 0x7fdfbeda7a90>],\n",
       "       [<matplotlib.axes._subplots.AxesSubplot object at 0x7fdfc16b6550>,\n",
       "        <matplotlib.axes._subplots.AxesSubplot object at 0x7fdfc22ccac8>,\n",
       "        <matplotlib.axes._subplots.AxesSubplot object at 0x7fdfc9dfb080>]],\n",
       "      dtype=object)"
      ]
     },
     "execution_count": 78,
     "metadata": {},
     "output_type": "execute_result"
    },
    {
     "data": {
      "image/png": "[encoded data removed]",
      "text/plain": [
       "<Figure size 648x648 with 12 Axes>"
      ]
     },
     "metadata": {
      "needs_background": "light"
     },
     "output_type": "display_data"
    }
   ],
   "source": [
    "fraud_data.filter('Fraudresult == 0').toPandas().hist(column=numerical_features, figsize=(9,9))"
   ]
  },
  {
   "cell_type": "code",
   "execution_count": 79,
   "metadata": {},
   "outputs": [
    {
     "data": {
      "text/plain": [
       "array([[<matplotlib.axes._subplots.AxesSubplot object at 0x7fdfbfed3cf8>,\n",
       "        <matplotlib.axes._subplots.AxesSubplot object at 0x7fdfc2a25160>,\n",
       "        <matplotlib.axes._subplots.AxesSubplot object at 0x7fdfc06af438>],\n",
       "       [<matplotlib.axes._subplots.AxesSubplot object at 0x7fdfc4250668>,\n",
       "        <matplotlib.axes._subplots.AxesSubplot object at 0x7fdfc0b46f28>,\n",
       "        <matplotlib.axes._subplots.AxesSubplot object at 0x7fdfc1cef4e0>],\n",
       "       [<matplotlib.axes._subplots.AxesSubplot object at 0x7fdfc2a48a58>,\n",
       "        <matplotlib.axes._subplots.AxesSubplot object at 0x7fdfc2a1df28>,\n",
       "        <matplotlib.axes._subplots.AxesSubplot object at 0x7fdfc2a1df60>],\n",
       "       [<matplotlib.axes._subplots.AxesSubplot object at 0x7fdfc3d49a20>,\n",
       "        <matplotlib.axes._subplots.AxesSubplot object at 0x7fdfc9dfff98>,\n",
       "        <matplotlib.axes._subplots.AxesSubplot object at 0x7fdfc442f550>]],\n",
       "      dtype=object)"
      ]
     },
     "execution_count": 79,
     "metadata": {},
     "output_type": "execute_result"
    },
    {
     "data": {
      "image/png": "[encoded data removed]",
      "text/plain": [
       "<Figure size 648x648 with 12 Axes>"
      ]
     },
     "metadata": {
      "needs_background": "light"
     },
     "output_type": "display_data"
    }
   ],
   "source": [
    "fraud_data.filter('FraudResult == 1').toPandas().hist(column=numerical_features, figsize=(9,9))"
   ]
  },
  {
   "cell_type": "markdown",
   "metadata": {},
   "source": [
    "## Correlation"
   ]
  },
  {
   "cell_type": "code",
   "execution_count": 62,
   "metadata": {},
   "outputs": [],
   "source": [
    "corr = []\n",
    "def plot_heatmap(data, method):\n",
    "  global corr \n",
    "  corr = data.corr(method)\n",
    "  ax = sns.heatmap(\n",
    "    corr, \n",
    "    vmin=-1, vmax=1, center=0,\n",
    "    cmap=sns.diverging_palette(20, 220, n=200),\n",
    "    square=True\n",
    "  )\n",
    "  ax.set_xticklabels(\n",
    "    ax.get_xticklabels(),\n",
    "    rotation=45,\n",
    "    horizontalalignment='right');"
   ]
  },
  {
   "cell_type": "markdown",
   "metadata": {},
   "source": [
    "### Fraud data"
   ]
  },
  {
   "cell_type": "code",
   "execution_count": 63,
   "metadata": {},
   "outputs": [
    {
     "data": {
      "text/html": [
       "<div>\n",
       "<style scoped>\n",
       "    .dataframe tbody tr th:only-of-type {\n",
       "        vertical-align: middle;\n",
       "    }\n",
       "\n",
       "    .dataframe tbody tr th {\n",
       "        vertical-align: top;\n",
       "    }\n",
       "\n",
       "    .dataframe thead th {\n",
       "        text-align: right;\n",
       "    }\n",
       "</style>\n",
       "<table border=\"1\" class=\"dataframe\">\n",
       "  <thead>\n",
       "    <tr style=\"text-align: right;\">\n",
       "      <th></th>\n",
       "      <th>Value</th>\n",
       "      <th>PricingStrategy</th>\n",
       "      <th>Operation</th>\n",
       "      <th>PositiveAmount</th>\n",
       "      <th>avg_ps_ChannelId</th>\n",
       "      <th>rt_avg_ps_ChannelId</th>\n",
       "      <th>avg_ps_ProductCategory</th>\n",
       "      <th>rt_avg_ps_ProductCategory</th>\n",
       "      <th>avg_ps_ProductId</th>\n",
       "      <th>rt_avg_ps_ProductId</th>\n",
       "    </tr>\n",
       "  </thead>\n",
       "  <tbody>\n",
       "    <tr>\n",
       "      <th>Value</th>\n",
       "      <td>1.000000</td>\n",
       "      <td>-0.164895</td>\n",
       "      <td>0.129030</td>\n",
       "      <td>0.997347</td>\n",
       "      <td>0.090839</td>\n",
       "      <td>0.952912</td>\n",
       "      <td>0.190462</td>\n",
       "      <td>0.924054</td>\n",
       "      <td>0.261620</td>\n",
       "      <td>0.813010</td>\n",
       "    </tr>\n",
       "    <tr>\n",
       "      <th>PricingStrategy</th>\n",
       "      <td>-0.164895</td>\n",
       "      <td>1.000000</td>\n",
       "      <td>-0.156541</td>\n",
       "      <td>-0.149049</td>\n",
       "      <td>-0.080544</td>\n",
       "      <td>-0.135558</td>\n",
       "      <td>-0.267490</td>\n",
       "      <td>-0.085524</td>\n",
       "      <td>-0.140028</td>\n",
       "      <td>-0.040144</td>\n",
       "    </tr>\n",
       "    <tr>\n",
       "      <th>Operation</th>\n",
       "      <td>0.129030</td>\n",
       "      <td>-0.156541</td>\n",
       "      <td>1.000000</td>\n",
       "      <td>0.125765</td>\n",
       "      <td>0.753202</td>\n",
       "      <td>-0.033087</td>\n",
       "      <td>0.314942</td>\n",
       "      <td>0.050846</td>\n",
       "      <td>0.383530</td>\n",
       "      <td>-0.063479</td>\n",
       "    </tr>\n",
       "    <tr>\n",
       "      <th>PositiveAmount</th>\n",
       "      <td>0.997347</td>\n",
       "      <td>-0.149049</td>\n",
       "      <td>0.125765</td>\n",
       "      <td>1.000000</td>\n",
       "      <td>0.088855</td>\n",
       "      <td>0.956139</td>\n",
       "      <td>0.158946</td>\n",
       "      <td>0.934959</td>\n",
       "      <td>0.275980</td>\n",
       "      <td>0.808130</td>\n",
       "    </tr>\n",
       "    <tr>\n",
       "      <th>avg_ps_ChannelId</th>\n",
       "      <td>0.090839</td>\n",
       "      <td>-0.080544</td>\n",
       "      <td>0.753202</td>\n",
       "      <td>0.088855</td>\n",
       "      <td>1.000000</td>\n",
       "      <td>-0.162687</td>\n",
       "      <td>0.237611</td>\n",
       "      <td>0.040522</td>\n",
       "      <td>0.462473</td>\n",
       "      <td>-0.173606</td>\n",
       "    </tr>\n",
       "    <tr>\n",
       "      <th>rt_avg_ps_ChannelId</th>\n",
       "      <td>0.952912</td>\n",
       "      <td>-0.135558</td>\n",
       "      <td>-0.033087</td>\n",
       "      <td>0.956139</td>\n",
       "      <td>-0.162687</td>\n",
       "      <td>1.000000</td>\n",
       "      <td>0.092890</td>\n",
       "      <td>0.909789</td>\n",
       "      <td>0.143991</td>\n",
       "      <td>0.858124</td>\n",
       "    </tr>\n",
       "    <tr>\n",
       "      <th>avg_ps_ProductCategory</th>\n",
       "      <td>0.190462</td>\n",
       "      <td>-0.267490</td>\n",
       "      <td>0.314942</td>\n",
       "      <td>0.158946</td>\n",
       "      <td>0.237611</td>\n",
       "      <td>0.092890</td>\n",
       "      <td>1.000000</td>\n",
       "      <td>-0.147285</td>\n",
       "      <td>0.728016</td>\n",
       "      <td>-0.262611</td>\n",
       "    </tr>\n",
       "    <tr>\n",
       "      <th>rt_avg_ps_ProductCategory</th>\n",
       "      <td>0.924054</td>\n",
       "      <td>-0.085524</td>\n",
       "      <td>0.050846</td>\n",
       "      <td>0.934959</td>\n",
       "      <td>0.040522</td>\n",
       "      <td>0.909789</td>\n",
       "      <td>-0.147285</td>\n",
       "      <td>1.000000</td>\n",
       "      <td>0.032359</td>\n",
       "      <td>0.891567</td>\n",
       "    </tr>\n",
       "    <tr>\n",
       "      <th>avg_ps_ProductId</th>\n",
       "      <td>0.261620</td>\n",
       "      <td>-0.140028</td>\n",
       "      <td>0.383530</td>\n",
       "      <td>0.275980</td>\n",
       "      <td>0.462473</td>\n",
       "      <td>0.143991</td>\n",
       "      <td>0.728016</td>\n",
       "      <td>0.032359</td>\n",
       "      <td>1.000000</td>\n",
       "      <td>-0.293356</td>\n",
       "    </tr>\n",
       "    <tr>\n",
       "      <th>rt_avg_ps_ProductId</th>\n",
       "      <td>0.813010</td>\n",
       "      <td>-0.040144</td>\n",
       "      <td>-0.063479</td>\n",
       "      <td>0.808130</td>\n",
       "      <td>-0.173606</td>\n",
       "      <td>0.858124</td>\n",
       "      <td>-0.262611</td>\n",
       "      <td>0.891567</td>\n",
       "      <td>-0.293356</td>\n",
       "      <td>1.000000</td>\n",
       "    </tr>\n",
       "  </tbody>\n",
       "</table>\n",
       "</div>"
      ],
      "text/plain": [
       "                              Value  PricingStrategy  Operation  \\\n",
       "Value                      1.000000        -0.164895   0.129030   \n",
       "PricingStrategy           -0.164895         1.000000  -0.156541   \n",
       "Operation                  0.129030        -0.156541   1.000000   \n",
       "PositiveAmount             0.997347        -0.149049   0.125765   \n",
       "avg_ps_ChannelId           0.090839        -0.080544   0.753202   \n",
       "rt_avg_ps_ChannelId        0.952912        -0.135558  -0.033087   \n",
       "avg_ps_ProductCategory     0.190462        -0.267490   0.314942   \n",
       "rt_avg_ps_ProductCategory  0.924054        -0.085524   0.050846   \n",
       "avg_ps_ProductId           0.261620        -0.140028   0.383530   \n",
       "rt_avg_ps_ProductId        0.813010        -0.040144  -0.063479   \n",
       "\n",
       "                           PositiveAmount  avg_ps_ChannelId  \\\n",
       "Value                            0.997347          0.090839   \n",
       "PricingStrategy                 -0.149049         -0.080544   \n",
       "Operation                        0.125765          0.753202   \n",
       "PositiveAmount                   1.000000          0.088855   \n",
       "avg_ps_ChannelId                 0.088855          1.000000   \n",
       "rt_avg_ps_ChannelId              0.956139         -0.162687   \n",
       "avg_ps_ProductCategory           0.158946          0.237611   \n",
       "rt_avg_ps_ProductCategory        0.934959          0.040522   \n",
       "avg_ps_ProductId                 0.275980          0.462473   \n",
       "rt_avg_ps_ProductId              0.808130         -0.173606   \n",
       "\n",
       "                           rt_avg_ps_ChannelId  avg_ps_ProductCategory  \\\n",
       "Value                                 0.952912                0.190462   \n",
       "PricingStrategy                      -0.135558               -0.267490   \n",
       "Operation                            -0.033087                0.314942   \n",
       "PositiveAmount                        0.956139                0.158946   \n",
       "avg_ps_ChannelId                     -0.162687                0.237611   \n",
       "rt_avg_ps_ChannelId                   1.000000                0.092890   \n",
       "avg_ps_ProductCategory                0.092890                1.000000   \n",
       "rt_avg_ps_ProductCategory             0.909789               -0.147285   \n",
       "avg_ps_ProductId                      0.143991                0.728016   \n",
       "rt_avg_ps_ProductId                   0.858124               -0.262611   \n",
       "\n",
       "                           rt_avg_ps_ProductCategory  avg_ps_ProductId  \\\n",
       "Value                                       0.924054          0.261620   \n",
       "PricingStrategy                            -0.085524         -0.140028   \n",
       "Operation                                   0.050846          0.383530   \n",
       "PositiveAmount                              0.934959          0.275980   \n",
       "avg_ps_ChannelId                            0.040522          0.462473   \n",
       "rt_avg_ps_ChannelId                         0.909789          0.143991   \n",
       "avg_ps_ProductCategory                     -0.147285          0.728016   \n",
       "rt_avg_ps_ProductCategory                   1.000000          0.032359   \n",
       "avg_ps_ProductId                            0.032359          1.000000   \n",
       "rt_avg_ps_ProductId                         0.891567         -0.293356   \n",
       "\n",
       "                           rt_avg_ps_ProductId  \n",
       "Value                                 0.813010  \n",
       "PricingStrategy                      -0.040144  \n",
       "Operation                            -0.063479  \n",
       "PositiveAmount                        0.808130  \n",
       "avg_ps_ChannelId                     -0.173606  \n",
       "rt_avg_ps_ChannelId                   0.858124  \n",
       "avg_ps_ProductCategory               -0.262611  \n",
       "rt_avg_ps_ProductCategory             0.891567  \n",
       "avg_ps_ProductId                     -0.293356  \n",
       "rt_avg_ps_ProductId                   1.000000  "
      ]
     },
     "execution_count": 63,
     "metadata": {},
     "output_type": "execute_result"
    },
    {
     "data": {
      "image/png": "[encoded data removed]",
      "text/plain": [
       "<Figure size 432x288 with 2 Axes>"
      ]
     },
     "metadata": {
      "needs_background": "light"
     },
     "output_type": "display_data"
    }
   ],
   "source": [
    "plot_heatmap(fraud_data.filter('FraudResult == 1').select(numerical_features).toPandas(), 'spearman')\n",
    "corr"
   ]
  },
  {
   "cell_type": "code",
   "execution_count": 65,
   "metadata": {},
   "outputs": [
    {
     "data": {
      "text/html": [
       "<div>\n",
       "<style scoped>\n",
       "    .dataframe tbody tr th:only-of-type {\n",
       "        vertical-align: middle;\n",
       "    }\n",
       "\n",
       "    .dataframe tbody tr th {\n",
       "        vertical-align: top;\n",
       "    }\n",
       "\n",
       "    .dataframe thead th {\n",
       "        text-align: right;\n",
       "    }\n",
       "</style>\n",
       "<table border=\"1\" class=\"dataframe\">\n",
       "  <thead>\n",
       "    <tr style=\"text-align: right;\">\n",
       "      <th></th>\n",
       "      <th>Value</th>\n",
       "      <th>PricingStrategy</th>\n",
       "      <th>Operation</th>\n",
       "      <th>PositiveAmount</th>\n",
       "      <th>avg_ps_ChannelId</th>\n",
       "      <th>rt_avg_ps_ChannelId</th>\n",
       "      <th>avg_ps_ProductCategory</th>\n",
       "      <th>rt_avg_ps_ProductCategory</th>\n",
       "      <th>avg_ps_ProductId</th>\n",
       "      <th>rt_avg_ps_ProductId</th>\n",
       "    </tr>\n",
       "  </thead>\n",
       "  <tbody>\n",
       "    <tr>\n",
       "      <th>Value</th>\n",
       "      <td>1.000000</td>\n",
       "      <td>-0.075477</td>\n",
       "      <td>0.084975</td>\n",
       "      <td>0.999995</td>\n",
       "      <td>-0.035704</td>\n",
       "      <td>0.998006</td>\n",
       "      <td>-0.050159</td>\n",
       "      <td>0.997605</td>\n",
       "      <td>0.067352</td>\n",
       "      <td>0.977253</td>\n",
       "    </tr>\n",
       "    <tr>\n",
       "      <th>PricingStrategy</th>\n",
       "      <td>-0.075477</td>\n",
       "      <td>1.000000</td>\n",
       "      <td>-0.185917</td>\n",
       "      <td>-0.075391</td>\n",
       "      <td>-0.005402</td>\n",
       "      <td>-0.065884</td>\n",
       "      <td>0.013796</td>\n",
       "      <td>-0.072108</td>\n",
       "      <td>-0.159272</td>\n",
       "      <td>0.011406</td>\n",
       "    </tr>\n",
       "    <tr>\n",
       "      <th>Operation</th>\n",
       "      <td>0.084975</td>\n",
       "      <td>-0.185917</td>\n",
       "      <td>1.000000</td>\n",
       "      <td>0.084811</td>\n",
       "      <td>0.282608</td>\n",
       "      <td>0.039826</td>\n",
       "      <td>0.035445</td>\n",
       "      <td>0.078159</td>\n",
       "      <td>0.298601</td>\n",
       "      <td>-0.017321</td>\n",
       "    </tr>\n",
       "    <tr>\n",
       "      <th>PositiveAmount</th>\n",
       "      <td>0.999995</td>\n",
       "      <td>-0.075391</td>\n",
       "      <td>0.084811</td>\n",
       "      <td>1.000000</td>\n",
       "      <td>-0.035613</td>\n",
       "      <td>0.998014</td>\n",
       "      <td>-0.050869</td>\n",
       "      <td>0.997727</td>\n",
       "      <td>0.067146</td>\n",
       "      <td>0.977307</td>\n",
       "    </tr>\n",
       "    <tr>\n",
       "      <th>avg_ps_ChannelId</th>\n",
       "      <td>-0.035704</td>\n",
       "      <td>-0.005402</td>\n",
       "      <td>0.282608</td>\n",
       "      <td>-0.035613</td>\n",
       "      <td>1.000000</td>\n",
       "      <td>-0.080255</td>\n",
       "      <td>-0.012981</td>\n",
       "      <td>-0.035221</td>\n",
       "      <td>0.295760</td>\n",
       "      <td>-0.089022</td>\n",
       "    </tr>\n",
       "    <tr>\n",
       "      <th>rt_avg_ps_ChannelId</th>\n",
       "      <td>0.998006</td>\n",
       "      <td>-0.065884</td>\n",
       "      <td>0.039826</td>\n",
       "      <td>0.998014</td>\n",
       "      <td>-0.080255</td>\n",
       "      <td>1.000000</td>\n",
       "      <td>-0.051735</td>\n",
       "      <td>0.996023</td>\n",
       "      <td>0.045662</td>\n",
       "      <td>0.982760</td>\n",
       "    </tr>\n",
       "    <tr>\n",
       "      <th>avg_ps_ProductCategory</th>\n",
       "      <td>-0.050159</td>\n",
       "      <td>0.013796</td>\n",
       "      <td>0.035445</td>\n",
       "      <td>-0.050869</td>\n",
       "      <td>-0.012981</td>\n",
       "      <td>-0.051735</td>\n",
       "      <td>1.000000</td>\n",
       "      <td>-0.107304</td>\n",
       "      <td>0.772646</td>\n",
       "      <td>-0.102038</td>\n",
       "    </tr>\n",
       "    <tr>\n",
       "      <th>rt_avg_ps_ProductCategory</th>\n",
       "      <td>0.997605</td>\n",
       "      <td>-0.072108</td>\n",
       "      <td>0.078159</td>\n",
       "      <td>0.997727</td>\n",
       "      <td>-0.035221</td>\n",
       "      <td>0.996023</td>\n",
       "      <td>-0.107304</td>\n",
       "      <td>1.000000</td>\n",
       "      <td>0.023276</td>\n",
       "      <td>0.979910</td>\n",
       "    </tr>\n",
       "    <tr>\n",
       "      <th>avg_ps_ProductId</th>\n",
       "      <td>0.067352</td>\n",
       "      <td>-0.159272</td>\n",
       "      <td>0.298601</td>\n",
       "      <td>0.067146</td>\n",
       "      <td>0.295760</td>\n",
       "      <td>0.045662</td>\n",
       "      <td>0.772646</td>\n",
       "      <td>0.023276</td>\n",
       "      <td>1.000000</td>\n",
       "      <td>-0.076226</td>\n",
       "    </tr>\n",
       "    <tr>\n",
       "      <th>rt_avg_ps_ProductId</th>\n",
       "      <td>0.977253</td>\n",
       "      <td>0.011406</td>\n",
       "      <td>-0.017321</td>\n",
       "      <td>0.977307</td>\n",
       "      <td>-0.089022</td>\n",
       "      <td>0.982760</td>\n",
       "      <td>-0.102038</td>\n",
       "      <td>0.979910</td>\n",
       "      <td>-0.076226</td>\n",
       "      <td>1.000000</td>\n",
       "    </tr>\n",
       "  </tbody>\n",
       "</table>\n",
       "</div>"
      ],
      "text/plain": [
       "                              Value  PricingStrategy  Operation  \\\n",
       "Value                      1.000000        -0.075477   0.084975   \n",
       "PricingStrategy           -0.075477         1.000000  -0.185917   \n",
       "Operation                  0.084975        -0.185917   1.000000   \n",
       "PositiveAmount             0.999995        -0.075391   0.084811   \n",
       "avg_ps_ChannelId          -0.035704        -0.005402   0.282608   \n",
       "rt_avg_ps_ChannelId        0.998006        -0.065884   0.039826   \n",
       "avg_ps_ProductCategory    -0.050159         0.013796   0.035445   \n",
       "rt_avg_ps_ProductCategory  0.997605        -0.072108   0.078159   \n",
       "avg_ps_ProductId           0.067352        -0.159272   0.298601   \n",
       "rt_avg_ps_ProductId        0.977253         0.011406  -0.017321   \n",
       "\n",
       "                           PositiveAmount  avg_ps_ChannelId  \\\n",
       "Value                            0.999995         -0.035704   \n",
       "PricingStrategy                 -0.075391         -0.005402   \n",
       "Operation                        0.084811          0.282608   \n",
       "PositiveAmount                   1.000000         -0.035613   \n",
       "avg_ps_ChannelId                -0.035613          1.000000   \n",
       "rt_avg_ps_ChannelId              0.998014         -0.080255   \n",
       "avg_ps_ProductCategory          -0.050869         -0.012981   \n",
       "rt_avg_ps_ProductCategory        0.997727         -0.035221   \n",
       "avg_ps_ProductId                 0.067146          0.295760   \n",
       "rt_avg_ps_ProductId              0.977307         -0.089022   \n",
       "\n",
       "                           rt_avg_ps_ChannelId  avg_ps_ProductCategory  \\\n",
       "Value                                 0.998006               -0.050159   \n",
       "PricingStrategy                      -0.065884                0.013796   \n",
       "Operation                             0.039826                0.035445   \n",
       "PositiveAmount                        0.998014               -0.050869   \n",
       "avg_ps_ChannelId                     -0.080255               -0.012981   \n",
       "rt_avg_ps_ChannelId                   1.000000               -0.051735   \n",
       "avg_ps_ProductCategory               -0.051735                1.000000   \n",
       "rt_avg_ps_ProductCategory             0.996023               -0.107304   \n",
       "avg_ps_ProductId                      0.045662                0.772646   \n",
       "rt_avg_ps_ProductId                   0.982760               -0.102038   \n",
       "\n",
       "                           rt_avg_ps_ProductCategory  avg_ps_ProductId  \\\n",
       "Value                                       0.997605          0.067352   \n",
       "PricingStrategy                            -0.072108         -0.159272   \n",
       "Operation                                   0.078159          0.298601   \n",
       "PositiveAmount                              0.997727          0.067146   \n",
       "avg_ps_ChannelId                           -0.035221          0.295760   \n",
       "rt_avg_ps_ChannelId                         0.996023          0.045662   \n",
       "avg_ps_ProductCategory                     -0.107304          0.772646   \n",
       "rt_avg_ps_ProductCategory                   1.000000          0.023276   \n",
       "avg_ps_ProductId                            0.023276          1.000000   \n",
       "rt_avg_ps_ProductId                         0.979910         -0.076226   \n",
       "\n",
       "                           rt_avg_ps_ProductId  \n",
       "Value                                 0.977253  \n",
       "PricingStrategy                       0.011406  \n",
       "Operation                            -0.017321  \n",
       "PositiveAmount                        0.977307  \n",
       "avg_ps_ChannelId                     -0.089022  \n",
       "rt_avg_ps_ChannelId                   0.982760  \n",
       "avg_ps_ProductCategory               -0.102038  \n",
       "rt_avg_ps_ProductCategory             0.979910  \n",
       "avg_ps_ProductId                     -0.076226  \n",
       "rt_avg_ps_ProductId                   1.000000  "
      ]
     },
     "execution_count": 65,
     "metadata": {},
     "output_type": "execute_result"
    },
    {
     "data": {
      "image/png": "[encoded data removed]",
      "text/plain": [
       "<Figure size 432x288 with 2 Axes>"
      ]
     },
     "metadata": {
      "needs_background": "light"
     },
     "output_type": "display_data"
    }
   ],
   "source": [
    "plot_heatmap(fraud_data.filter('FraudResult == 1').select(numerical_features).toPandas(), 'pearson')\n",
    "corr"
   ]
  },
  {
   "cell_type": "markdown",
   "metadata": {},
   "source": [
    "### Genuine data"
   ]
  },
  {
   "cell_type": "code",
   "execution_count": 80,
   "metadata": {},
   "outputs": [
    {
     "data": {
      "text/html": [
       "<div>\n",
       "<style scoped>\n",
       "    .dataframe tbody tr th:only-of-type {\n",
       "        vertical-align: middle;\n",
       "    }\n",
       "\n",
       "    .dataframe tbody tr th {\n",
       "        vertical-align: top;\n",
       "    }\n",
       "\n",
       "    .dataframe thead th {\n",
       "        text-align: right;\n",
       "    }\n",
       "</style>\n",
       "<table border=\"1\" class=\"dataframe\">\n",
       "  <thead>\n",
       "    <tr style=\"text-align: right;\">\n",
       "      <th></th>\n",
       "      <th>Value</th>\n",
       "      <th>PricingStrategy</th>\n",
       "      <th>Operation</th>\n",
       "      <th>PositiveAmount</th>\n",
       "      <th>avg_ps_ChannelId</th>\n",
       "      <th>rt_avg_ps_ChannelId</th>\n",
       "      <th>avg_ps_ProductCategory</th>\n",
       "      <th>rt_avg_ps_ProductCategory</th>\n",
       "      <th>avg_ps_ProductId</th>\n",
       "      <th>rt_avg_ps_ProductId</th>\n",
       "    </tr>\n",
       "  </thead>\n",
       "  <tbody>\n",
       "    <tr>\n",
       "      <th>Value</th>\n",
       "      <td>1.000000</td>\n",
       "      <td>0.220980</td>\n",
       "      <td>0.465563</td>\n",
       "      <td>0.999659</td>\n",
       "      <td>0.472159</td>\n",
       "      <td>0.978353</td>\n",
       "      <td>-0.225025</td>\n",
       "      <td>0.988568</td>\n",
       "      <td>0.656286</td>\n",
       "      <td>0.878911</td>\n",
       "    </tr>\n",
       "    <tr>\n",
       "      <th>PricingStrategy</th>\n",
       "      <td>0.220980</td>\n",
       "      <td>1.000000</td>\n",
       "      <td>-0.040089</td>\n",
       "      <td>0.222614</td>\n",
       "      <td>-0.024289</td>\n",
       "      <td>0.223530</td>\n",
       "      <td>-0.339066</td>\n",
       "      <td>0.241727</td>\n",
       "      <td>0.095097</td>\n",
       "      <td>0.215762</td>\n",
       "    </tr>\n",
       "    <tr>\n",
       "      <th>Operation</th>\n",
       "      <td>0.465563</td>\n",
       "      <td>-0.040089</td>\n",
       "      <td>1.000000</td>\n",
       "      <td>0.464819</td>\n",
       "      <td>0.992373</td>\n",
       "      <td>0.339818</td>\n",
       "      <td>-0.505544</td>\n",
       "      <td>0.475375</td>\n",
       "      <td>0.763580</td>\n",
       "      <td>0.199150</td>\n",
       "    </tr>\n",
       "    <tr>\n",
       "      <th>PositiveAmount</th>\n",
       "      <td>0.999659</td>\n",
       "      <td>0.222614</td>\n",
       "      <td>0.464819</td>\n",
       "      <td>1.000000</td>\n",
       "      <td>0.471279</td>\n",
       "      <td>0.978936</td>\n",
       "      <td>-0.230547</td>\n",
       "      <td>0.990236</td>\n",
       "      <td>0.654093</td>\n",
       "      <td>0.880254</td>\n",
       "    </tr>\n",
       "    <tr>\n",
       "      <th>avg_ps_ChannelId</th>\n",
       "      <td>0.472159</td>\n",
       "      <td>-0.024289</td>\n",
       "      <td>0.992373</td>\n",
       "      <td>0.471279</td>\n",
       "      <td>1.000000</td>\n",
       "      <td>0.344149</td>\n",
       "      <td>-0.510993</td>\n",
       "      <td>0.481587</td>\n",
       "      <td>0.770845</td>\n",
       "      <td>0.203848</td>\n",
       "    </tr>\n",
       "    <tr>\n",
       "      <th>rt_avg_ps_ChannelId</th>\n",
       "      <td>0.978353</td>\n",
       "      <td>0.223530</td>\n",
       "      <td>0.339818</td>\n",
       "      <td>0.978936</td>\n",
       "      <td>0.344149</td>\n",
       "      <td>1.000000</td>\n",
       "      <td>-0.165681</td>\n",
       "      <td>0.964403</td>\n",
       "      <td>0.553908</td>\n",
       "      <td>0.927304</td>\n",
       "    </tr>\n",
       "    <tr>\n",
       "      <th>avg_ps_ProductCategory</th>\n",
       "      <td>-0.225025</td>\n",
       "      <td>-0.339066</td>\n",
       "      <td>-0.505544</td>\n",
       "      <td>-0.230547</td>\n",
       "      <td>-0.510993</td>\n",
       "      <td>-0.165681</td>\n",
       "      <td>1.000000</td>\n",
       "      <td>-0.313792</td>\n",
       "      <td>-0.259161</td>\n",
       "      <td>-0.211173</td>\n",
       "    </tr>\n",
       "    <tr>\n",
       "      <th>rt_avg_ps_ProductCategory</th>\n",
       "      <td>0.988568</td>\n",
       "      <td>0.241727</td>\n",
       "      <td>0.475375</td>\n",
       "      <td>0.990236</td>\n",
       "      <td>0.481587</td>\n",
       "      <td>0.964403</td>\n",
       "      <td>-0.313792</td>\n",
       "      <td>1.000000</td>\n",
       "      <td>0.639297</td>\n",
       "      <td>0.877758</td>\n",
       "    </tr>\n",
       "    <tr>\n",
       "      <th>avg_ps_ProductId</th>\n",
       "      <td>0.656286</td>\n",
       "      <td>0.095097</td>\n",
       "      <td>0.763580</td>\n",
       "      <td>0.654093</td>\n",
       "      <td>0.770845</td>\n",
       "      <td>0.553908</td>\n",
       "      <td>-0.259161</td>\n",
       "      <td>0.639297</td>\n",
       "      <td>1.000000</td>\n",
       "      <td>0.280040</td>\n",
       "    </tr>\n",
       "    <tr>\n",
       "      <th>rt_avg_ps_ProductId</th>\n",
       "      <td>0.878911</td>\n",
       "      <td>0.215762</td>\n",
       "      <td>0.199150</td>\n",
       "      <td>0.880254</td>\n",
       "      <td>0.203848</td>\n",
       "      <td>0.927304</td>\n",
       "      <td>-0.211173</td>\n",
       "      <td>0.877758</td>\n",
       "      <td>0.280040</td>\n",
       "      <td>1.000000</td>\n",
       "    </tr>\n",
       "  </tbody>\n",
       "</table>\n",
       "</div>"
      ],
      "text/plain": [
       "                              Value  PricingStrategy  Operation  \\\n",
       "Value                      1.000000         0.220980   0.465563   \n",
       "PricingStrategy            0.220980         1.000000  -0.040089   \n",
       "Operation                  0.465563        -0.040089   1.000000   \n",
       "PositiveAmount             0.999659         0.222614   0.464819   \n",
       "avg_ps_ChannelId           0.472159        -0.024289   0.992373   \n",
       "rt_avg_ps_ChannelId        0.978353         0.223530   0.339818   \n",
       "avg_ps_ProductCategory    -0.225025        -0.339066  -0.505544   \n",
       "rt_avg_ps_ProductCategory  0.988568         0.241727   0.475375   \n",
       "avg_ps_ProductId           0.656286         0.095097   0.763580   \n",
       "rt_avg_ps_ProductId        0.878911         0.215762   0.199150   \n",
       "\n",
       "                           PositiveAmount  avg_ps_ChannelId  \\\n",
       "Value                            0.999659          0.472159   \n",
       "PricingStrategy                  0.222614         -0.024289   \n",
       "Operation                        0.464819          0.992373   \n",
       "PositiveAmount                   1.000000          0.471279   \n",
       "avg_ps_ChannelId                 0.471279          1.000000   \n",
       "rt_avg_ps_ChannelId              0.978936          0.344149   \n",
       "avg_ps_ProductCategory          -0.230547         -0.510993   \n",
       "rt_avg_ps_ProductCategory        0.990236          0.481587   \n",
       "avg_ps_ProductId                 0.654093          0.770845   \n",
       "rt_avg_ps_ProductId              0.880254          0.203848   \n",
       "\n",
       "                           rt_avg_ps_ChannelId  avg_ps_ProductCategory  \\\n",
       "Value                                 0.978353               -0.225025   \n",
       "PricingStrategy                       0.223530               -0.339066   \n",
       "Operation                             0.339818               -0.505544   \n",
       "PositiveAmount                        0.978936               -0.230547   \n",
       "avg_ps_ChannelId                      0.344149               -0.510993   \n",
       "rt_avg_ps_ChannelId                   1.000000               -0.165681   \n",
       "avg_ps_ProductCategory               -0.165681                1.000000   \n",
       "rt_avg_ps_ProductCategory             0.964403               -0.313792   \n",
       "avg_ps_ProductId                      0.553908               -0.259161   \n",
       "rt_avg_ps_ProductId                   0.927304               -0.211173   \n",
       "\n",
       "                           rt_avg_ps_ProductCategory  avg_ps_ProductId  \\\n",
       "Value                                       0.988568          0.656286   \n",
       "PricingStrategy                             0.241727          0.095097   \n",
       "Operation                                   0.475375          0.763580   \n",
       "PositiveAmount                              0.990236          0.654093   \n",
       "avg_ps_ChannelId                            0.481587          0.770845   \n",
       "rt_avg_ps_ChannelId                         0.964403          0.553908   \n",
       "avg_ps_ProductCategory                     -0.313792         -0.259161   \n",
       "rt_avg_ps_ProductCategory                   1.000000          0.639297   \n",
       "avg_ps_ProductId                            0.639297          1.000000   \n",
       "rt_avg_ps_ProductId                         0.877758          0.280040   \n",
       "\n",
       "                           rt_avg_ps_ProductId  \n",
       "Value                                 0.878911  \n",
       "PricingStrategy                       0.215762  \n",
       "Operation                             0.199150  \n",
       "PositiveAmount                        0.880254  \n",
       "avg_ps_ChannelId                      0.203848  \n",
       "rt_avg_ps_ChannelId                   0.927304  \n",
       "avg_ps_ProductCategory               -0.211173  \n",
       "rt_avg_ps_ProductCategory             0.877758  \n",
       "avg_ps_ProductId                      0.280040  \n",
       "rt_avg_ps_ProductId                   1.000000  "
      ]
     },
     "execution_count": 80,
     "metadata": {},
     "output_type": "execute_result"
    },
    {
     "data": {
      "image/png": "[encoded data removed]",
      "text/plain": [
       "<Figure size 432x288 with 2 Axes>"
      ]
     },
     "metadata": {
      "needs_background": "light"
     },
     "output_type": "display_data"
    }
   ],
   "source": [
    "plot_heatmap(fraud_data.filter('FraudResult == 0').select(numerical_features).toPandas(), 'spearman')\n",
    "corr"
   ]
  },
  {
   "cell_type": "code",
   "execution_count": 81,
   "metadata": {},
   "outputs": [
    {
     "data": {
      "text/html": [
       "<div>\n",
       "<style scoped>\n",
       "    .dataframe tbody tr th:only-of-type {\n",
       "        vertical-align: middle;\n",
       "    }\n",
       "\n",
       "    .dataframe tbody tr th {\n",
       "        vertical-align: top;\n",
       "    }\n",
       "\n",
       "    .dataframe thead th {\n",
       "        text-align: right;\n",
       "    }\n",
       "</style>\n",
       "<table border=\"1\" class=\"dataframe\">\n",
       "  <thead>\n",
       "    <tr style=\"text-align: right;\">\n",
       "      <th></th>\n",
       "      <th>Value</th>\n",
       "      <th>PricingStrategy</th>\n",
       "      <th>Operation</th>\n",
       "      <th>PositiveAmount</th>\n",
       "      <th>avg_ps_ChannelId</th>\n",
       "      <th>rt_avg_ps_ChannelId</th>\n",
       "      <th>avg_ps_ProductCategory</th>\n",
       "      <th>rt_avg_ps_ProductCategory</th>\n",
       "      <th>avg_ps_ProductId</th>\n",
       "      <th>rt_avg_ps_ProductId</th>\n",
       "    </tr>\n",
       "  </thead>\n",
       "  <tbody>\n",
       "    <tr>\n",
       "      <th>Value</th>\n",
       "      <td>1.000000</td>\n",
       "      <td>0.017029</td>\n",
       "      <td>5.896341e-02</td>\n",
       "      <td>0.999963</td>\n",
       "      <td>6.919767e-02</td>\n",
       "      <td>9.712164e-01</td>\n",
       "      <td>1.237937e-01</td>\n",
       "      <td>9.833024e-01</td>\n",
       "      <td>2.260633e-01</td>\n",
       "      <td>7.556298e-01</td>\n",
       "    </tr>\n",
       "    <tr>\n",
       "      <th>PricingStrategy</th>\n",
       "      <td>0.017029</td>\n",
       "      <td>1.000000</td>\n",
       "      <td>-2.591971e-02</td>\n",
       "      <td>0.017595</td>\n",
       "      <td>-2.203710e-02</td>\n",
       "      <td>9.704142e-02</td>\n",
       "      <td>-3.875407e-02</td>\n",
       "      <td>3.267350e-02</td>\n",
       "      <td>-3.889148e-02</td>\n",
       "      <td>1.033286e-01</td>\n",
       "    </tr>\n",
       "    <tr>\n",
       "      <th>Operation</th>\n",
       "      <td>0.058963</td>\n",
       "      <td>-0.025920</td>\n",
       "      <td>1.000000e+00</td>\n",
       "      <td>0.058304</td>\n",
       "      <td>8.539959e-01</td>\n",
       "      <td>-1.117449e-14</td>\n",
       "      <td>4.624213e-02</td>\n",
       "      <td>4.816444e-02</td>\n",
       "      <td>4.567852e-01</td>\n",
       "      <td>-1.002471e-01</td>\n",
       "    </tr>\n",
       "    <tr>\n",
       "      <th>PositiveAmount</th>\n",
       "      <td>0.999963</td>\n",
       "      <td>0.017595</td>\n",
       "      <td>5.830411e-02</td>\n",
       "      <td>1.000000</td>\n",
       "      <td>6.827212e-02</td>\n",
       "      <td>9.714740e-01</td>\n",
       "      <td>1.222281e-01</td>\n",
       "      <td>9.839376e-01</td>\n",
       "      <td>2.243363e-01</td>\n",
       "      <td>7.560823e-01</td>\n",
       "    </tr>\n",
       "    <tr>\n",
       "      <th>avg_ps_ChannelId</th>\n",
       "      <td>0.069198</td>\n",
       "      <td>-0.022037</td>\n",
       "      <td>8.539959e-01</td>\n",
       "      <td>0.068272</td>\n",
       "      <td>1.000000e+00</td>\n",
       "      <td>2.247423e-15</td>\n",
       "      <td>7.529176e-02</td>\n",
       "      <td>4.963510e-02</td>\n",
       "      <td>4.388960e-01</td>\n",
       "      <td>-8.057087e-02</td>\n",
       "    </tr>\n",
       "    <tr>\n",
       "      <th>rt_avg_ps_ChannelId</th>\n",
       "      <td>0.971216</td>\n",
       "      <td>0.097041</td>\n",
       "      <td>-1.117449e-14</td>\n",
       "      <td>0.971474</td>\n",
       "      <td>2.247423e-15</td>\n",
       "      <td>1.000000e+00</td>\n",
       "      <td>1.023402e-01</td>\n",
       "      <td>9.661822e-01</td>\n",
       "      <td>1.846479e-01</td>\n",
       "      <td>8.082973e-01</td>\n",
       "    </tr>\n",
       "    <tr>\n",
       "      <th>avg_ps_ProductCategory</th>\n",
       "      <td>0.123794</td>\n",
       "      <td>-0.038754</td>\n",
       "      <td>4.624213e-02</td>\n",
       "      <td>0.122228</td>\n",
       "      <td>7.529176e-02</td>\n",
       "      <td>1.023402e-01</td>\n",
       "      <td>1.000000e+00</td>\n",
       "      <td>1.284957e-15</td>\n",
       "      <td>5.448433e-01</td>\n",
       "      <td>3.162835e-16</td>\n",
       "    </tr>\n",
       "    <tr>\n",
       "      <th>rt_avg_ps_ProductCategory</th>\n",
       "      <td>0.983302</td>\n",
       "      <td>0.032674</td>\n",
       "      <td>4.816444e-02</td>\n",
       "      <td>0.983938</td>\n",
       "      <td>4.963510e-02</td>\n",
       "      <td>9.661822e-01</td>\n",
       "      <td>1.284957e-15</td>\n",
       "      <td>1.000000e+00</td>\n",
       "      <td>1.320442e-01</td>\n",
       "      <td>7.863922e-01</td>\n",
       "    </tr>\n",
       "    <tr>\n",
       "      <th>avg_ps_ProductId</th>\n",
       "      <td>0.226063</td>\n",
       "      <td>-0.038891</td>\n",
       "      <td>4.567852e-01</td>\n",
       "      <td>0.224336</td>\n",
       "      <td>4.388960e-01</td>\n",
       "      <td>1.846479e-01</td>\n",
       "      <td>5.448433e-01</td>\n",
       "      <td>1.320442e-01</td>\n",
       "      <td>1.000000e+00</td>\n",
       "      <td>-1.661745e-15</td>\n",
       "    </tr>\n",
       "    <tr>\n",
       "      <th>rt_avg_ps_ProductId</th>\n",
       "      <td>0.755630</td>\n",
       "      <td>0.103329</td>\n",
       "      <td>-1.002471e-01</td>\n",
       "      <td>0.756082</td>\n",
       "      <td>-8.057087e-02</td>\n",
       "      <td>8.082973e-01</td>\n",
       "      <td>3.162835e-16</td>\n",
       "      <td>7.863922e-01</td>\n",
       "      <td>-1.661745e-15</td>\n",
       "      <td>1.000000e+00</td>\n",
       "    </tr>\n",
       "  </tbody>\n",
       "</table>\n",
       "</div>"
      ],
      "text/plain": [
       "                              Value  PricingStrategy     Operation  \\\n",
       "Value                      1.000000         0.017029  5.896341e-02   \n",
       "PricingStrategy            0.017029         1.000000 -2.591971e-02   \n",
       "Operation                  0.058963        -0.025920  1.000000e+00   \n",
       "PositiveAmount             0.999963         0.017595  5.830411e-02   \n",
       "avg_ps_ChannelId           0.069198        -0.022037  8.539959e-01   \n",
       "rt_avg_ps_ChannelId        0.971216         0.097041 -1.117449e-14   \n",
       "avg_ps_ProductCategory     0.123794        -0.038754  4.624213e-02   \n",
       "rt_avg_ps_ProductCategory  0.983302         0.032674  4.816444e-02   \n",
       "avg_ps_ProductId           0.226063        -0.038891  4.567852e-01   \n",
       "rt_avg_ps_ProductId        0.755630         0.103329 -1.002471e-01   \n",
       "\n",
       "                           PositiveAmount  avg_ps_ChannelId  \\\n",
       "Value                            0.999963      6.919767e-02   \n",
       "PricingStrategy                  0.017595     -2.203710e-02   \n",
       "Operation                        0.058304      8.539959e-01   \n",
       "PositiveAmount                   1.000000      6.827212e-02   \n",
       "avg_ps_ChannelId                 0.068272      1.000000e+00   \n",
       "rt_avg_ps_ChannelId              0.971474      2.247423e-15   \n",
       "avg_ps_ProductCategory           0.122228      7.529176e-02   \n",
       "rt_avg_ps_ProductCategory        0.983938      4.963510e-02   \n",
       "avg_ps_ProductId                 0.224336      4.388960e-01   \n",
       "rt_avg_ps_ProductId              0.756082     -8.057087e-02   \n",
       "\n",
       "                           rt_avg_ps_ChannelId  avg_ps_ProductCategory  \\\n",
       "Value                             9.712164e-01            1.237937e-01   \n",
       "PricingStrategy                   9.704142e-02           -3.875407e-02   \n",
       "Operation                        -1.117449e-14            4.624213e-02   \n",
       "PositiveAmount                    9.714740e-01            1.222281e-01   \n",
       "avg_ps_ChannelId                  2.247423e-15            7.529176e-02   \n",
       "rt_avg_ps_ChannelId               1.000000e+00            1.023402e-01   \n",
       "avg_ps_ProductCategory            1.023402e-01            1.000000e+00   \n",
       "rt_avg_ps_ProductCategory         9.661822e-01            1.284957e-15   \n",
       "avg_ps_ProductId                  1.846479e-01            5.448433e-01   \n",
       "rt_avg_ps_ProductId               8.082973e-01            3.162835e-16   \n",
       "\n",
       "                           rt_avg_ps_ProductCategory  avg_ps_ProductId  \\\n",
       "Value                                   9.833024e-01      2.260633e-01   \n",
       "PricingStrategy                         3.267350e-02     -3.889148e-02   \n",
       "Operation                               4.816444e-02      4.567852e-01   \n",
       "PositiveAmount                          9.839376e-01      2.243363e-01   \n",
       "avg_ps_ChannelId                        4.963510e-02      4.388960e-01   \n",
       "rt_avg_ps_ChannelId                     9.661822e-01      1.846479e-01   \n",
       "avg_ps_ProductCategory                  1.284957e-15      5.448433e-01   \n",
       "rt_avg_ps_ProductCategory               1.000000e+00      1.320442e-01   \n",
       "avg_ps_ProductId                        1.320442e-01      1.000000e+00   \n",
       "rt_avg_ps_ProductId                     7.863922e-01     -1.661745e-15   \n",
       "\n",
       "                           rt_avg_ps_ProductId  \n",
       "Value                             7.556298e-01  \n",
       "PricingStrategy                   1.033286e-01  \n",
       "Operation                        -1.002471e-01  \n",
       "PositiveAmount                    7.560823e-01  \n",
       "avg_ps_ChannelId                 -8.057087e-02  \n",
       "rt_avg_ps_ChannelId               8.082973e-01  \n",
       "avg_ps_ProductCategory            3.162835e-16  \n",
       "rt_avg_ps_ProductCategory         7.863922e-01  \n",
       "avg_ps_ProductId                 -1.661745e-15  \n",
       "rt_avg_ps_ProductId               1.000000e+00  "
      ]
     },
     "execution_count": 81,
     "metadata": {},
     "output_type": "execute_result"
    },
    {
     "data": {
      "image/png": "[encoded data removed]",
      "text/plain": [
       "<Figure size 432x288 with 2 Axes>"
      ]
     },
     "metadata": {
      "needs_background": "light"
     },
     "output_type": "display_data"
    }
   ],
   "source": [
    "plot_heatmap(fraud_data.filter('FraudResult == 0').select(numerical_features).toPandas(), 'pearson')\n",
    "corr"
   ]
  },
  {
   "cell_type": "markdown",
   "metadata": {},
   "source": [
    "## Covariance"
   ]
  },
  {
   "cell_type": "code",
   "execution_count": 82,
   "metadata": {},
   "outputs": [],
   "source": [
    "cov_ = []\n",
    "def plot_heatmap_covariance(data):\n",
    "  global cov_ \n",
    "  cov_ = data.cov()\n",
    "  ax = sns.heatmap(\n",
    "    cov_, \n",
    "    vmin=-1, vmax=1, center=0,\n",
    "    cmap=sns.diverging_palette(20, 220, n=200),\n",
    "    square=True\n",
    "  )\n",
    "  ax.set_xticklabels(\n",
    "    ax.get_xticklabels(),\n",
    "    rotation=45,\n",
    "    horizontalalignment='right');"
   ]
  },
  {
   "cell_type": "code",
   "execution_count": 83,
   "metadata": {},
   "outputs": [
    {
     "data": {
      "text/html": [
       "<div>\n",
       "<style scoped>\n",
       "    .dataframe tbody tr th:only-of-type {\n",
       "        vertical-align: middle;\n",
       "    }\n",
       "\n",
       "    .dataframe tbody tr th {\n",
       "        vertical-align: top;\n",
       "    }\n",
       "\n",
       "    .dataframe thead th {\n",
       "        text-align: right;\n",
       "    }\n",
       "</style>\n",
       "<table border=\"1\" class=\"dataframe\">\n",
       "  <thead>\n",
       "    <tr style=\"text-align: right;\">\n",
       "      <th></th>\n",
       "      <th>Value</th>\n",
       "      <th>PricingStrategy</th>\n",
       "      <th>Operation</th>\n",
       "      <th>PositiveAmount</th>\n",
       "      <th>avg_ps_ChannelId</th>\n",
       "      <th>rt_avg_ps_ChannelId</th>\n",
       "      <th>avg_ps_ProductCategory</th>\n",
       "      <th>rt_avg_ps_ProductCategory</th>\n",
       "      <th>avg_ps_ProductId</th>\n",
       "      <th>rt_avg_ps_ProductId</th>\n",
       "    </tr>\n",
       "  </thead>\n",
       "  <tbody>\n",
       "    <tr>\n",
       "      <th>Value</th>\n",
       "      <td>4.331507e+12</td>\n",
       "      <td>-151319.199401</td>\n",
       "      <td>56334.298899</td>\n",
       "      <td>4.333126e+12</td>\n",
       "      <td>-2.100714e+08</td>\n",
       "      <td>5.122205e+08</td>\n",
       "      <td>-9.136653e+08</td>\n",
       "      <td>6.687618e+08</td>\n",
       "      <td>1.275818e+09</td>\n",
       "      <td>1.909841e+08</td>\n",
       "    </tr>\n",
       "    <tr>\n",
       "      <th>PricingStrategy</th>\n",
       "      <td>-1.513192e+05</td>\n",
       "      <td>0.927947</td>\n",
       "      <td>-0.057049</td>\n",
       "      <td>-1.512045e+05</td>\n",
       "      <td>-1.471181e+01</td>\n",
       "      <td>-1.565102e+01</td>\n",
       "      <td>1.163138e+02</td>\n",
       "      <td>-2.237381e+01</td>\n",
       "      <td>-1.396425e+03</td>\n",
       "      <td>1.031706e+00</td>\n",
       "    </tr>\n",
       "    <tr>\n",
       "      <th>Operation</th>\n",
       "      <td>5.633430e+04</td>\n",
       "      <td>-0.057049</td>\n",
       "      <td>0.101468</td>\n",
       "      <td>5.624751e+04</td>\n",
       "      <td>2.544940e+02</td>\n",
       "      <td>3.128495e+00</td>\n",
       "      <td>9.881820e+01</td>\n",
       "      <td>8.019336e+00</td>\n",
       "      <td>8.657120e+02</td>\n",
       "      <td>-5.180890e-01</td>\n",
       "    </tr>\n",
       "    <tr>\n",
       "      <th>PositiveAmount</th>\n",
       "      <td>4.333126e+12</td>\n",
       "      <td>-151204.498138</td>\n",
       "      <td>56247.514033</td>\n",
       "      <td>4.334788e+12</td>\n",
       "      <td>-2.096123e+08</td>\n",
       "      <td>5.124182e+08</td>\n",
       "      <td>-9.269450e+08</td>\n",
       "      <td>6.690966e+08</td>\n",
       "      <td>1.272398e+09</td>\n",
       "      <td>1.910669e+08</td>\n",
       "    </tr>\n",
       "    <tr>\n",
       "      <th>avg_ps_ChannelId</th>\n",
       "      <td>-2.100714e+08</td>\n",
       "      <td>-14.711814</td>\n",
       "      <td>254.493979</td>\n",
       "      <td>-2.096123e+08</td>\n",
       "      <td>7.992021e+06</td>\n",
       "      <td>-5.595029e+04</td>\n",
       "      <td>-3.211840e+05</td>\n",
       "      <td>-3.207208e+04</td>\n",
       "      <td>7.610007e+06</td>\n",
       "      <td>-2.363180e+04</td>\n",
       "    </tr>\n",
       "    <tr>\n",
       "      <th>rt_avg_ps_ChannelId</th>\n",
       "      <td>5.122205e+08</td>\n",
       "      <td>-15.651016</td>\n",
       "      <td>3.128495</td>\n",
       "      <td>5.124182e+08</td>\n",
       "      <td>-5.595029e+04</td>\n",
       "      <td>6.081466e+04</td>\n",
       "      <td>-1.116620e+05</td>\n",
       "      <td>7.911644e+04</td>\n",
       "      <td>1.024895e+05</td>\n",
       "      <td>2.275738e+04</td>\n",
       "    </tr>\n",
       "    <tr>\n",
       "      <th>avg_ps_ProductCategory</th>\n",
       "      <td>-9.136653e+08</td>\n",
       "      <td>116.313760</td>\n",
       "      <td>98.818196</td>\n",
       "      <td>-9.269450e+08</td>\n",
       "      <td>-3.211840e+05</td>\n",
       "      <td>-1.116620e+05</td>\n",
       "      <td>7.660047e+07</td>\n",
       "      <td>-3.024990e+05</td>\n",
       "      <td>6.154802e+07</td>\n",
       "      <td>-8.385899e+04</td>\n",
       "    </tr>\n",
       "    <tr>\n",
       "      <th>rt_avg_ps_ProductCategory</th>\n",
       "      <td>6.687618e+08</td>\n",
       "      <td>-22.373810</td>\n",
       "      <td>8.019336</td>\n",
       "      <td>6.690966e+08</td>\n",
       "      <td>-3.207208e+04</td>\n",
       "      <td>7.911644e+04</td>\n",
       "      <td>-3.024990e+05</td>\n",
       "      <td>1.037496e+05</td>\n",
       "      <td>6.823639e+04</td>\n",
       "      <td>2.963809e+04</td>\n",
       "    </tr>\n",
       "    <tr>\n",
       "      <th>avg_ps_ProductId</th>\n",
       "      <td>1.275818e+09</td>\n",
       "      <td>-1396.425052</td>\n",
       "      <td>865.712011</td>\n",
       "      <td>1.272398e+09</td>\n",
       "      <td>7.610007e+06</td>\n",
       "      <td>1.024895e+05</td>\n",
       "      <td>6.154802e+07</td>\n",
       "      <td>6.823639e+04</td>\n",
       "      <td>8.283917e+07</td>\n",
       "      <td>-6.514632e+04</td>\n",
       "    </tr>\n",
       "    <tr>\n",
       "      <th>rt_avg_ps_ProductId</th>\n",
       "      <td>1.909841e+08</td>\n",
       "      <td>1.031706</td>\n",
       "      <td>-0.518089</td>\n",
       "      <td>1.910669e+08</td>\n",
       "      <td>-2.363180e+04</td>\n",
       "      <td>2.275738e+04</td>\n",
       "      <td>-8.385899e+04</td>\n",
       "      <td>2.963809e+04</td>\n",
       "      <td>-6.514632e+04</td>\n",
       "      <td>8.817415e+03</td>\n",
       "    </tr>\n",
       "  </tbody>\n",
       "</table>\n",
       "</div>"
      ],
      "text/plain": [
       "                                  Value  PricingStrategy     Operation  \\\n",
       "Value                      4.331507e+12   -151319.199401  56334.298899   \n",
       "PricingStrategy           -1.513192e+05         0.927947     -0.057049   \n",
       "Operation                  5.633430e+04        -0.057049      0.101468   \n",
       "PositiveAmount             4.333126e+12   -151204.498138  56247.514033   \n",
       "avg_ps_ChannelId          -2.100714e+08       -14.711814    254.493979   \n",
       "rt_avg_ps_ChannelId        5.122205e+08       -15.651016      3.128495   \n",
       "avg_ps_ProductCategory    -9.136653e+08       116.313760     98.818196   \n",
       "rt_avg_ps_ProductCategory  6.687618e+08       -22.373810      8.019336   \n",
       "avg_ps_ProductId           1.275818e+09     -1396.425052    865.712011   \n",
       "rt_avg_ps_ProductId        1.909841e+08         1.031706     -0.518089   \n",
       "\n",
       "                           PositiveAmount  avg_ps_ChannelId  \\\n",
       "Value                        4.333126e+12     -2.100714e+08   \n",
       "PricingStrategy             -1.512045e+05     -1.471181e+01   \n",
       "Operation                    5.624751e+04      2.544940e+02   \n",
       "PositiveAmount               4.334788e+12     -2.096123e+08   \n",
       "avg_ps_ChannelId            -2.096123e+08      7.992021e+06   \n",
       "rt_avg_ps_ChannelId          5.124182e+08     -5.595029e+04   \n",
       "avg_ps_ProductCategory      -9.269450e+08     -3.211840e+05   \n",
       "rt_avg_ps_ProductCategory    6.690966e+08     -3.207208e+04   \n",
       "avg_ps_ProductId             1.272398e+09      7.610007e+06   \n",
       "rt_avg_ps_ProductId          1.910669e+08     -2.363180e+04   \n",
       "\n",
       "                           rt_avg_ps_ChannelId  avg_ps_ProductCategory  \\\n",
       "Value                             5.122205e+08           -9.136653e+08   \n",
       "PricingStrategy                  -1.565102e+01            1.163138e+02   \n",
       "Operation                         3.128495e+00            9.881820e+01   \n",
       "PositiveAmount                    5.124182e+08           -9.269450e+08   \n",
       "avg_ps_ChannelId                 -5.595029e+04           -3.211840e+05   \n",
       "rt_avg_ps_ChannelId               6.081466e+04           -1.116620e+05   \n",
       "avg_ps_ProductCategory           -1.116620e+05            7.660047e+07   \n",
       "rt_avg_ps_ProductCategory         7.911644e+04           -3.024990e+05   \n",
       "avg_ps_ProductId                  1.024895e+05            6.154802e+07   \n",
       "rt_avg_ps_ProductId               2.275738e+04           -8.385899e+04   \n",
       "\n",
       "                           rt_avg_ps_ProductCategory  avg_ps_ProductId  \\\n",
       "Value                                   6.687618e+08      1.275818e+09   \n",
       "PricingStrategy                        -2.237381e+01     -1.396425e+03   \n",
       "Operation                               8.019336e+00      8.657120e+02   \n",
       "PositiveAmount                          6.690966e+08      1.272398e+09   \n",
       "avg_ps_ChannelId                       -3.207208e+04      7.610007e+06   \n",
       "rt_avg_ps_ChannelId                     7.911644e+04      1.024895e+05   \n",
       "avg_ps_ProductCategory                 -3.024990e+05      6.154802e+07   \n",
       "rt_avg_ps_ProductCategory               1.037496e+05      6.823639e+04   \n",
       "avg_ps_ProductId                        6.823639e+04      8.283917e+07   \n",
       "rt_avg_ps_ProductId                     2.963809e+04     -6.514632e+04   \n",
       "\n",
       "                           rt_avg_ps_ProductId  \n",
       "Value                             1.909841e+08  \n",
       "PricingStrategy                   1.031706e+00  \n",
       "Operation                        -5.180890e-01  \n",
       "PositiveAmount                    1.910669e+08  \n",
       "avg_ps_ChannelId                 -2.363180e+04  \n",
       "rt_avg_ps_ChannelId               2.275738e+04  \n",
       "avg_ps_ProductCategory           -8.385899e+04  \n",
       "rt_avg_ps_ProductCategory         2.963809e+04  \n",
       "avg_ps_ProductId                 -6.514632e+04  \n",
       "rt_avg_ps_ProductId               8.817415e+03  "
      ]
     },
     "execution_count": 83,
     "metadata": {},
     "output_type": "execute_result"
    },
    {
     "data": {
      "image/png": "[encoded data removed]",
      "text/plain": [
       "<Figure size 432x288 with 2 Axes>"
      ]
     },
     "metadata": {
      "needs_background": "light"
     },
     "output_type": "display_data"
    }
   ],
   "source": [
    "plot_heatmap_covariance( fraud_data.filter('FraudResult == 1').select(numerical_features).toPandas() )\n",
    "cov_"
   ]
  },
  {
   "cell_type": "markdown",
   "metadata": {},
   "source": [
    "## Outlier Analysis"
   ]
  },
  {
   "cell_type": "code",
   "execution_count": 84,
   "metadata": {},
   "outputs": [
    {
     "data": {
      "text/plain": [
       "<matplotlib.axes._subplots.AxesSubplot at 0x7fdfbf957d68>"
      ]
     },
     "execution_count": 84,
     "metadata": {},
     "output_type": "execute_result"
    },
    {
     "data": {
      "image/png": "[encoded data removed]",
      "text/plain": [
       "<Figure size 432x288 with 1 Axes>"
      ]
     },
     "metadata": {
      "needs_background": "light"
     },
     "output_type": "display_data"
    }
   ],
   "source": [
    "sns.boxplot(data=fraud_data.toPandas())"
   ]
  },
  {
   "cell_type": "code",
   "execution_count": 85,
   "metadata": {},
   "outputs": [
    {
     "data": {
      "text/plain": [
       "<matplotlib.axes._subplots.AxesSubplot at 0x7fdfbc03b080>"
      ]
     },
     "execution_count": 85,
     "metadata": {},
     "output_type": "execute_result"
    },
    {
     "data": {
      "image/png": "[encoded data removed]",
      "text/plain": [
       "<Figure size 432x288 with 1 Axes>"
      ]
     },
     "metadata": {
      "needs_background": "light"
     },
     "output_type": "display_data"
    }
   ],
   "source": [
    "sns.boxplot(data=fraud_data.filter('FraudResult == 0').toPandas())"
   ]
  },
  {
   "cell_type": "code",
   "execution_count": 86,
   "metadata": {},
   "outputs": [
    {
     "data": {
      "text/plain": [
       "<matplotlib.axes._subplots.AxesSubplot at 0x7fdfc10bc588>"
      ]
     },
     "execution_count": 86,
     "metadata": {},
     "output_type": "execute_result"
    },
    {
     "data": {
      "image/png": "[encoded data removed]",
      "text/plain": [
       "<Figure size 432x288 with 1 Axes>"
      ]
     },
     "metadata": {
      "needs_background": "light"
     },
     "output_type": "display_data"
    }
   ],
   "source": [
    "sns.boxplot(data=fraud_data.filter('FraudResult == 1').toPandas())"
   ]
  },
  {
   "cell_type": "markdown",
   "metadata": {},
   "source": [
    "# Isolation Forest"
   ]
  },
  {
   "cell_type": "code",
   "execution_count": 88,
   "metadata": {},
   "outputs": [],
   "source": [
    "def train_outlier_detection(fraud_data, numerical_features, label):\n",
    "  fraud_data_pd_x = fraud_data.select(numerical_features).toPandas()\n",
    "  fraud_data_pd_y = fraud_data.select(label).toPandas()\n",
    "\n",
    "  X_train, X_test, y_train, y_test = train_test_split(fraud_data_pd_x, fraud_data_pd_y, test_size=0.3, random_state=42)\n",
    "  return X_train, X_test, y_train, y_test"
   ]
  },
  {
   "cell_type": "code",
   "execution_count": 208,
   "metadata": {},
   "outputs": [],
   "source": [
    "X_train, X_test, y_train, y_test = train_outlier_detection(fraud_data, numerical_features, label)\n",
    "X_outliers = fraud_data.filter('FraudResult==1').select(numerical_features).toPandas()"
   ]
  },
  {
   "cell_type": "markdown",
   "metadata": {},
   "source": [
    "## Isolation Forest Predictions and precision analysis"
   ]
  },
  {
   "cell_type": "code",
   "execution_count": 91,
   "metadata": {},
   "outputs": [],
   "source": [
    "# Input:\n",
    "# TP | FP\n",
    "# FN | TN\n",
    "\n",
    "# Output:\n",
    "#   F1-score\n",
    "def compute_f1score(data):\n",
    "  tp = data[0][0]\n",
    "  fp = data[0][1]\n",
    "  fn = data[1][0]\n",
    "  tn = data[1][1]\n",
    "  # sensitivity, recall, hit rate, or true positive rate (TPR)\n",
    "  tpr = tp / (tp+fn)\n",
    "  # precision or positive predictive value (PPV)\n",
    "  ppv = tp / (tp+fp)\n",
    "  # F1 score is the harmonic mean of precision and sensitivity\n",
    "  f1_score = 2 * (ppv*tpr) / (ppv+tpr)\n",
    "  return f1_score"
   ]
  },
  {
   "cell_type": "code",
   "execution_count": 92,
   "metadata": {},
   "outputs": [],
   "source": [
    "# Input: Positive=-1 and Negative=1\n",
    "# Output: Positive=1 and Negative=0\n",
    "def norm_pred(data):\n",
    "  data = ((data*-1)+1)/2\n",
    "  return data\n",
    "\n",
    "def train_isolation_forest(X_train, X_test, y_train, y_test, X_outliers, max_sample_list, cont_list):\n",
    "  # fit the model\n",
    "  rng = np.random.RandomState(42)\n",
    "\n",
    "  graph_performance = pd.DataFrame([], columns=['f1','max','cont'])\n",
    "\n",
    "  for max_sample in max_sample_list:\n",
    "    for cont in cont_list:\n",
    "\n",
    "      clf = IsolationForest(behaviour='new', max_samples=max_sample,\n",
    "                            random_state=rng, contamination=cont)\n",
    "\n",
    "      clf.fit(X_train)\n",
    "\n",
    "      y_pred_train = clf.predict(X_train)\n",
    "      y_pred_test = clf.predict(X_test)\n",
    "      y_pred_outliers = clf.predict(X_outliers)\n",
    "\n",
    "      y_pred_test = norm_pred(y_pred_test)\n",
    "      y_pred_outliers = norm_pred(y_pred_outliers)\n",
    "\n",
    "      cm = confusion_matrix(y_test, y_pred_test)\n",
    "      f1_score = compute_f1score(cm)\n",
    "  \n",
    "      new_row = pd.DataFrame({'f1':[f1_score], 'max':[max_sample], 'cont':[cont]})\n",
    "      graph_performance = graph_performance.append(new_row)\n",
    "  return graph_performance, clf"
   ]
  },
  {
   "cell_type": "code",
   "execution_count": 93,
   "metadata": {},
   "outputs": [
    {
     "data": {
      "text/plain": [
       "<matplotlib.axes._subplots.AxesSubplot at 0x7fdfbf37a6d8>"
      ]
     },
     "execution_count": 93,
     "metadata": {},
     "output_type": "execute_result"
    },
    {
     "data": {
      "image/png": "[encoded data removed]",
      "text/plain": [
       "<Figure size 432x288 with 1 Axes>"
      ]
     },
     "metadata": {},
     "output_type": "display_data"
    }
   ],
   "source": [
    "max_sample_list = [300, 500, 700, 900]\n",
    "cont_list = [0.003, 0.05, 0.1, 0.5]\n",
    "\n",
    "graph_perf, clf_imbalanced = train_isolation_forest(X_train, X_test, y_train, y_test, X_outliers, max_sample_list, cont_list)\n",
    "\n",
    "sns.set(style='darkgrid')\n",
    "sns.lineplot(x='max', y='f1', hue='cont',  data=graph_perf)"
   ]
  },
  {
   "cell_type": "code",
   "execution_count": 94,
   "metadata": {},
   "outputs": [
    {
     "data": {
      "text/html": [
       "<div>\n",
       "<style scoped>\n",
       "    .dataframe tbody tr th:only-of-type {\n",
       "        vertical-align: middle;\n",
       "    }\n",
       "\n",
       "    .dataframe tbody tr th {\n",
       "        vertical-align: top;\n",
       "    }\n",
       "\n",
       "    .dataframe thead th {\n",
       "        text-align: right;\n",
       "    }\n",
       "</style>\n",
       "<table border=\"1\" class=\"dataframe\">\n",
       "  <thead>\n",
       "    <tr style=\"text-align: right;\">\n",
       "      <th></th>\n",
       "      <th>f1</th>\n",
       "      <th>max</th>\n",
       "      <th>cont</th>\n",
       "    </tr>\n",
       "  </thead>\n",
       "  <tbody>\n",
       "    <tr>\n",
       "      <th>0</th>\n",
       "      <td>0.999336</td>\n",
       "      <td>300</td>\n",
       "      <td>0.003</td>\n",
       "    </tr>\n",
       "  </tbody>\n",
       "</table>\n",
       "</div>"
      ],
      "text/plain": [
       "         f1  max   cont\n",
       "0  0.999336  300  0.003"
      ]
     },
     "execution_count": 94,
     "metadata": {},
     "output_type": "execute_result"
    }
   ],
   "source": [
    "graph_perf[graph_perf.f1 == graph_perf.f1.max()]"
   ]
  },
  {
   "cell_type": "markdown",
   "metadata": {},
   "source": [
    "## Data Imbalance"
   ]
  },
  {
   "cell_type": "code",
   "execution_count": 99,
   "metadata": {},
   "outputs": [
    {
     "data": {
      "text/plain": [
       "<matplotlib.axes._subplots.AxesSubplot at 0x7fdfc158df98>"
      ]
     },
     "execution_count": 99,
     "metadata": {},
     "output_type": "execute_result"
    },
    {
     "data": {
      "image/png": "[encoded data removed]",
      "text/plain": [
       "<Figure size 432x288 with 1 Axes>"
      ]
     },
     "metadata": {},
     "output_type": "display_data"
    }
   ],
   "source": [
    "pd.Series((fraud_data.toPandas())[label]).value_counts().plot.bar(title='Count - Fraud Result')"
   ]
  },
  {
   "cell_type": "markdown",
   "metadata": {},
   "source": [
    "# Balance Data"
   ]
  },
  {
   "cell_type": "markdown",
   "metadata": {},
   "source": [
    "## SMOTENC"
   ]
  },
  {
   "cell_type": "code",
   "execution_count": 115,
   "metadata": {},
   "outputs": [],
   "source": [
    "def balance_pyspark_dataframe(data, features, label, categorical_pos):\n",
    "  sm = SMOTENC(categorical_features=categorical_pos, random_state = 42)\n",
    "  data_pd = data.toPandas()\n",
    "  X_train_new, y_train_new = sm.fit_sample(data_pd[features], data_pd[label].ravel())\n",
    "  X_train_new = pd.DataFrame(X_train_new, columns=all_features)\n",
    "  y_train_new = pd.DataFrame(y_train_new, columns=[label])\n",
    "  return X_train_new, y_train_new"
   ]
  },
  {
   "cell_type": "code",
   "execution_count": 116,
   "metadata": {},
   "outputs": [],
   "source": [
    "cat_features = [0, 1, 2, 4]\n",
    "fraud_data_smotenc_x, fraud_data_smotenc_y = balance_pyspark_dataframe(fraud_data, all_features, label, cat_features)\n",
    "#fraud_data_balanced_x.to_csv('/content/fraud_data_balanced_smotenc_x.csv', index=False)\n",
    "#fraud_data_balanced_y.to_csv('/content/fraud_data_balanced_smotenc_y.csv', index=False)"
   ]
  },
  {
   "cell_type": "code",
   "execution_count": 117,
   "metadata": {},
   "outputs": [
    {
     "data": {
      "text/html": [
       "<div>\n",
       "<style scoped>\n",
       "    .dataframe tbody tr th:only-of-type {\n",
       "        vertical-align: middle;\n",
       "    }\n",
       "\n",
       "    .dataframe tbody tr th {\n",
       "        vertical-align: top;\n",
       "    }\n",
       "\n",
       "    .dataframe thead th {\n",
       "        text-align: right;\n",
       "    }\n",
       "</style>\n",
       "<table border=\"1\" class=\"dataframe\">\n",
       "  <thead>\n",
       "    <tr style=\"text-align: right;\">\n",
       "      <th></th>\n",
       "      <th>ProductId</th>\n",
       "      <th>ProductCategory</th>\n",
       "      <th>ChannelId</th>\n",
       "      <th>Value</th>\n",
       "      <th>PricingStrategy</th>\n",
       "      <th>Operation</th>\n",
       "      <th>PositiveAmount</th>\n",
       "      <th>avg_ps_ChannelId</th>\n",
       "      <th>rt_avg_ps_ChannelId</th>\n",
       "      <th>avg_ps_ProductCategory</th>\n",
       "      <th>rt_avg_ps_ProductCategory</th>\n",
       "      <th>avg_ps_ProductId</th>\n",
       "      <th>rt_avg_ps_ProductId</th>\n",
       "    </tr>\n",
       "  </thead>\n",
       "  <tbody>\n",
       "    <tr>\n",
       "      <th>0</th>\n",
       "      <td>ProductId_14</td>\n",
       "      <td>financial_services</td>\n",
       "      <td>ChannelId_3</td>\n",
       "      <td>1040</td>\n",
       "      <td>2</td>\n",
       "      <td>1</td>\n",
       "      <td>1040</td>\n",
       "      <td>8448.06</td>\n",
       "      <td>-0.876895</td>\n",
       "      <td>6504.7</td>\n",
       "      <td>-0.840116</td>\n",
       "      <td>4976.76</td>\n",
       "      <td>-0.791029</td>\n",
       "    </tr>\n",
       "    <tr>\n",
       "      <th>1</th>\n",
       "      <td>ProductId_14</td>\n",
       "      <td>financial_services</td>\n",
       "      <td>ChannelId_3</td>\n",
       "      <td>24416</td>\n",
       "      <td>2</td>\n",
       "      <td>1</td>\n",
       "      <td>24416</td>\n",
       "      <td>8448.06</td>\n",
       "      <td>1.89013</td>\n",
       "      <td>6504.7</td>\n",
       "      <td>2.75359</td>\n",
       "      <td>4976.76</td>\n",
       "      <td>3.906</td>\n",
       "    </tr>\n",
       "    <tr>\n",
       "      <th>2</th>\n",
       "      <td>ProductId_14</td>\n",
       "      <td>financial_services</td>\n",
       "      <td>ChannelId_3</td>\n",
       "      <td>3270</td>\n",
       "      <td>2</td>\n",
       "      <td>1</td>\n",
       "      <td>3270</td>\n",
       "      <td>8448.06</td>\n",
       "      <td>-0.612929</td>\n",
       "      <td>6504.7</td>\n",
       "      <td>-0.497287</td>\n",
       "      <td>4976.76</td>\n",
       "      <td>-0.342947</td>\n",
       "    </tr>\n",
       "    <tr>\n",
       "      <th>3</th>\n",
       "      <td>ProductId_14</td>\n",
       "      <td>financial_services</td>\n",
       "      <td>ChannelId_3</td>\n",
       "      <td>11100</td>\n",
       "      <td>2</td>\n",
       "      <td>1</td>\n",
       "      <td>11100</td>\n",
       "      <td>8448.06</td>\n",
       "      <td>0.313911</td>\n",
       "      <td>6504.7</td>\n",
       "      <td>0.706458</td>\n",
       "      <td>4976.76</td>\n",
       "      <td>1.23036</td>\n",
       "    </tr>\n",
       "    <tr>\n",
       "      <th>4</th>\n",
       "      <td>ProductId_14</td>\n",
       "      <td>financial_services</td>\n",
       "      <td>ChannelId_3</td>\n",
       "      <td>10700</td>\n",
       "      <td>2</td>\n",
       "      <td>1</td>\n",
       "      <td>10700</td>\n",
       "      <td>8448.06</td>\n",
       "      <td>0.266563</td>\n",
       "      <td>6504.7</td>\n",
       "      <td>0.644964</td>\n",
       "      <td>4976.76</td>\n",
       "      <td>1.14999</td>\n",
       "    </tr>\n",
       "  </tbody>\n",
       "</table>\n",
       "</div>"
      ],
      "text/plain": [
       "      ProductId     ProductCategory    ChannelId  Value PricingStrategy  \\\n",
       "0  ProductId_14  financial_services  ChannelId_3   1040               2   \n",
       "1  ProductId_14  financial_services  ChannelId_3  24416               2   \n",
       "2  ProductId_14  financial_services  ChannelId_3   3270               2   \n",
       "3  ProductId_14  financial_services  ChannelId_3  11100               2   \n",
       "4  ProductId_14  financial_services  ChannelId_3  10700               2   \n",
       "\n",
       "  Operation PositiveAmount avg_ps_ChannelId rt_avg_ps_ChannelId  \\\n",
       "0         1           1040          8448.06           -0.876895   \n",
       "1         1          24416          8448.06             1.89013   \n",
       "2         1           3270          8448.06           -0.612929   \n",
       "3         1          11100          8448.06            0.313911   \n",
       "4         1          10700          8448.06            0.266563   \n",
       "\n",
       "  avg_ps_ProductCategory rt_avg_ps_ProductCategory avg_ps_ProductId  \\\n",
       "0                 6504.7                 -0.840116          4976.76   \n",
       "1                 6504.7                   2.75359          4976.76   \n",
       "2                 6504.7                 -0.497287          4976.76   \n",
       "3                 6504.7                  0.706458          4976.76   \n",
       "4                 6504.7                  0.644964          4976.76   \n",
       "\n",
       "  rt_avg_ps_ProductId  \n",
       "0           -0.791029  \n",
       "1               3.906  \n",
       "2           -0.342947  \n",
       "3             1.23036  \n",
       "4             1.14999  "
      ]
     },
     "execution_count": 117,
     "metadata": {},
     "output_type": "execute_result"
    }
   ],
   "source": [
    "fraud_data_smotenc_x.head()"
   ]
  },
  {
   "cell_type": "code",
   "execution_count": 118,
   "metadata": {},
   "outputs": [
    {
     "data": {
      "text/plain": [
       "<matplotlib.axes._subplots.AxesSubplot at 0x7fdfc0bc8668>"
      ]
     },
     "execution_count": 118,
     "metadata": {},
     "output_type": "execute_result"
    },
    {
     "data": {
      "image/png": "[encoded data removed]",
      "text/plain": [
       "<Figure size 432x288 with 1 Axes>"
      ]
     },
     "metadata": {},
     "output_type": "display_data"
    }
   ],
   "source": [
    "pd.Series(fraud_data_smotenc_y[label]).value_counts().plot.bar(title='SMOTENC : Count - Fraud Result')"
   ]
  },
  {
   "cell_type": "markdown",
   "metadata": {},
   "source": [
    "## SMOTE"
   ]
  },
  {
   "cell_type": "code",
   "execution_count": 119,
   "metadata": {},
   "outputs": [
    {
     "name": "stderr",
     "output_type": "stream",
     "text": [
      "/home/dunfrey/anaconda3/lib/python3.7/site-packages/sklearn/utils/validation.py:724: DataConversionWarning: A column-vector y was passed when a 1d array was expected. Please change the shape of y to (n_samples, ), for example using ravel().\n",
      "  y = column_or_1d(y, warn=True)\n"
     ]
    }
   ],
   "source": [
    "X_smote = fraud_data.select(numerical_features).toPandas()\n",
    "y_smote = fraud_data.select(label).toPandas()\n",
    "\n",
    "smote_over_sampler = SMOTE(random_state=42)\n",
    "fraud_data_smote_x, fraud_data_smote_y = smote_over_sampler.fit_resample(X_smote, y_smote)"
   ]
  },
  {
   "cell_type": "code",
   "execution_count": 120,
   "metadata": {},
   "outputs": [
    {
     "data": {
      "text/plain": [
       "<matplotlib.axes._subplots.AxesSubplot at 0x7fdfc38485c0>"
      ]
     },
     "execution_count": 120,
     "metadata": {},
     "output_type": "execute_result"
    },
    {
     "data": {
      "image/png": "[encoded data removed]",
      "text/plain": [
       "<Figure size 432x288 with 1 Axes>"
      ]
     },
     "metadata": {},
     "output_type": "display_data"
    }
   ],
   "source": [
    "pd.Series(fraud_data_smote_y).value_counts().plot.bar(title='SMOTE : Count - Fraud Result')"
   ]
  },
  {
   "cell_type": "markdown",
   "metadata": {},
   "source": [
    "## RandomOverSampling"
   ]
  },
  {
   "cell_type": "code",
   "execution_count": 121,
   "metadata": {},
   "outputs": [
    {
     "name": "stderr",
     "output_type": "stream",
     "text": [
      "/home/dunfrey/anaconda3/lib/python3.7/site-packages/sklearn/utils/validation.py:724: DataConversionWarning: A column-vector y was passed when a 1d array was expected. Please change the shape of y to (n_samples, ), for example using ravel().\n",
      "  y = column_or_1d(y, warn=True)\n"
     ]
    }
   ],
   "source": [
    "X = fraud_data.select(all_features).toPandas()\n",
    "y = fraud_data.select(label).toPandas()\n",
    "\n",
    "ros = RandomOverSampler(random_state=42)\n",
    "fraud_data_ros_x, fraud_data_ros_y = ros.fit_resample(X, y)"
   ]
  },
  {
   "cell_type": "code",
   "execution_count": 122,
   "metadata": {},
   "outputs": [
    {
     "data": {
      "text/plain": [
       "<matplotlib.axes._subplots.AxesSubplot at 0x7fdfc4813c50>"
      ]
     },
     "execution_count": 122,
     "metadata": {},
     "output_type": "execute_result"
    },
    {
     "data": {
      "image/png": "[encoded data removed]",
      "text/plain": [
       "<Figure size 432x288 with 1 Axes>"
      ]
     },
     "metadata": {},
     "output_type": "display_data"
    }
   ],
   "source": [
    "pd.Series(fraud_data_ros_y).value_counts().plot.bar(title='RANDOM_OVER : Count - Fraud Result')"
   ]
  },
  {
   "cell_type": "markdown",
   "metadata": {},
   "source": [
    "## ADASYN"
   ]
  },
  {
   "cell_type": "code",
   "execution_count": 123,
   "metadata": {},
   "outputs": [
    {
     "name": "stderr",
     "output_type": "stream",
     "text": [
      "/home/dunfrey/anaconda3/lib/python3.7/site-packages/sklearn/utils/validation.py:724: DataConversionWarning: A column-vector y was passed when a 1d array was expected. Please change the shape of y to (n_samples, ), for example using ravel().\n",
      "  y = column_or_1d(y, warn=True)\n"
     ]
    }
   ],
   "source": [
    "X_adasyn = fraud_data.select(numerical_features).toPandas()\n",
    "y_adasyn = fraud_data.select(label).toPandas()\n",
    "\n",
    "adasyn_over_sampler = ADASYN(random_state=42)\n",
    "fraud_data_adasyn_x, fraud_data_adasyn_y = adasyn_over_sampler.fit_resample(X_adasyn, y_adasyn)"
   ]
  },
  {
   "cell_type": "code",
   "execution_count": 124,
   "metadata": {},
   "outputs": [
    {
     "data": {
      "text/plain": [
       "<matplotlib.axes._subplots.AxesSubplot at 0x7fdfc87dfdd8>"
      ]
     },
     "execution_count": 124,
     "metadata": {},
     "output_type": "execute_result"
    },
    {
     "data": {
      "image/png": "[encoded data removed]",
      "text/plain": [
       "<Figure size 432x288 with 1 Axes>"
      ]
     },
     "metadata": {},
     "output_type": "display_data"
    }
   ],
   "source": [
    "pd.Series(fraud_data_adasyn_y).value_counts().plot.bar(title='ADASYN : Count - Fraud Result')"
   ]
  },
  {
   "cell_type": "markdown",
   "metadata": {},
   "source": [
    "---"
   ]
  },
  {
   "cell_type": "code",
   "execution_count": 127,
   "metadata": {},
   "outputs": [
    {
     "name": "stdout",
     "output_type": "stream",
     "text": [
      "<class 'pandas.core.frame.DataFrame'>\n",
      "<class 'numpy.ndarray'>\n",
      "<class 'numpy.ndarray'>\n",
      "<class 'numpy.ndarray'>\n"
     ]
    }
   ],
   "source": [
    "print(type(fraud_data_smotenc_x))\n",
    "print(type(fraud_data_ros_x))\n",
    "print(type(fraud_data_smote_x))\n",
    "print(type(fraud_data_adasyn_x))"
   ]
  },
  {
   "cell_type": "markdown",
   "metadata": {},
   "source": [
    "---"
   ]
  },
  {
   "cell_type": "markdown",
   "metadata": {},
   "source": [
    "## Isolation Forest Evaluation of Oversampling"
   ]
  },
  {
   "cell_type": "code",
   "execution_count": 167,
   "metadata": {},
   "outputs": [],
   "source": [
    "sns.set(style='darkgrid')"
   ]
  },
  {
   "cell_type": "markdown",
   "metadata": {},
   "source": [
    "### SMOTENC"
   ]
  },
  {
   "cell_type": "code",
   "execution_count": 168,
   "metadata": {},
   "outputs": [
    {
     "data": {
      "text/plain": [
       "<matplotlib.axes._subplots.AxesSubplot at 0x7fdfc1589438>"
      ]
     },
     "execution_count": 168,
     "metadata": {},
     "output_type": "execute_result"
    },
    {
     "data": {
      "image/png": "[encoded data removed]",
      "text/plain": [
       "<Figure size 432x288 with 1 Axes>"
      ]
     },
     "metadata": {},
     "output_type": "display_data"
    }
   ],
   "source": [
    "max_sample_list_smotenc = [300, 500, 700, 900]\n",
    "cont_list_smotenc = [0.003, 0.05, 0.1, 0.5]\n",
    "X_train, X_test, y_train, y_test = train_test_split(fraud_data_smotenc_x[numerical_features], fraud_data_smotenc_y, test_size=0.3, random_state=42)\n",
    "X_outliers = fraud_data_smotenc_x[fraud_data_smotenc_y['FraudResult']==1][numerical_features]\n",
    "graph_perf_smotenc, clf = train_isolation_forest(X_train, X_test, y_train, y_test, X_outliers, max_sample_list_smotenc, cont_list_smotenc)\n",
    "\n",
    "sns.lineplot(x='max', y='f1', hue='cont',  data=graph_perf_smotenc)"
   ]
  },
  {
   "cell_type": "code",
   "execution_count": 169,
   "metadata": {},
   "outputs": [
    {
     "data": {
      "text/html": [
       "<div>\n",
       "<style scoped>\n",
       "    .dataframe tbody tr th:only-of-type {\n",
       "        vertical-align: middle;\n",
       "    }\n",
       "\n",
       "    .dataframe tbody tr th {\n",
       "        vertical-align: top;\n",
       "    }\n",
       "\n",
       "    .dataframe thead th {\n",
       "        text-align: right;\n",
       "    }\n",
       "</style>\n",
       "<table border=\"1\" class=\"dataframe\">\n",
       "  <thead>\n",
       "    <tr style=\"text-align: right;\">\n",
       "      <th></th>\n",
       "      <th>f1</th>\n",
       "      <th>max</th>\n",
       "      <th>cont</th>\n",
       "    </tr>\n",
       "  </thead>\n",
       "  <tbody>\n",
       "    <tr>\n",
       "      <th>0</th>\n",
       "      <td>0.703433</td>\n",
       "      <td>500</td>\n",
       "      <td>0.1</td>\n",
       "    </tr>\n",
       "  </tbody>\n",
       "</table>\n",
       "</div>"
      ],
      "text/plain": [
       "         f1  max  cont\n",
       "0  0.703433  500   0.1"
      ]
     },
     "execution_count": 169,
     "metadata": {},
     "output_type": "execute_result"
    }
   ],
   "source": [
    "graph_perf_smotenc[graph_perf_smotenc.f1 == graph_perf_smotenc.f1.max()]"
   ]
  },
  {
   "cell_type": "markdown",
   "metadata": {},
   "source": [
    "### SMOTE"
   ]
  },
  {
   "cell_type": "code",
   "execution_count": 170,
   "metadata": {},
   "outputs": [
    {
     "data": {
      "text/plain": [
       "<matplotlib.axes._subplots.AxesSubplot at 0x7fdfb58a2d68>"
      ]
     },
     "execution_count": 170,
     "metadata": {},
     "output_type": "execute_result"
    },
    {
     "data": {
      "image/png": "[encoded data removed]",
      "text/plain": [
       "<Figure size 432x288 with 1 Axes>"
      ]
     },
     "metadata": {},
     "output_type": "display_data"
    }
   ],
   "source": [
    "max_sample_list_smote = [300, 500, 700, 900]\n",
    "cont_list_smote = [0.003, 0.05, 0.1, 0.5]\n",
    "X_train, X_test, y_train, y_test = train_test_split(fraud_data_smote_x, fraud_data_smote_y, test_size=0.3, random_state=42)\n",
    "X_outliers = fraud_data_smote_x[fraud_data_smote_y==1]\n",
    "graph_perf_smote, clf = train_isolation_forest(X_train, X_test, y_train, y_test, X_outliers, max_sample_list_smote, cont_list_smote)\n",
    "\n",
    "sns.lineplot(x='max', y='f1', hue='cont',  data=graph_perf_smote)"
   ]
  },
  {
   "cell_type": "code",
   "execution_count": 171,
   "metadata": {},
   "outputs": [
    {
     "data": {
      "text/html": [
       "<div>\n",
       "<style scoped>\n",
       "    .dataframe tbody tr th:only-of-type {\n",
       "        vertical-align: middle;\n",
       "    }\n",
       "\n",
       "    .dataframe tbody tr th {\n",
       "        vertical-align: top;\n",
       "    }\n",
       "\n",
       "    .dataframe thead th {\n",
       "        text-align: right;\n",
       "    }\n",
       "</style>\n",
       "<table border=\"1\" class=\"dataframe\">\n",
       "  <thead>\n",
       "    <tr style=\"text-align: right;\">\n",
       "      <th></th>\n",
       "      <th>f1</th>\n",
       "      <th>max</th>\n",
       "      <th>cont</th>\n",
       "    </tr>\n",
       "  </thead>\n",
       "  <tbody>\n",
       "    <tr>\n",
       "      <th>0</th>\n",
       "      <td>0.690033</td>\n",
       "      <td>500</td>\n",
       "      <td>0.1</td>\n",
       "    </tr>\n",
       "  </tbody>\n",
       "</table>\n",
       "</div>"
      ],
      "text/plain": [
       "         f1  max  cont\n",
       "0  0.690033  500   0.1"
      ]
     },
     "execution_count": 171,
     "metadata": {},
     "output_type": "execute_result"
    }
   ],
   "source": [
    "graph_perf_smote[graph_perf_smote.f1 == graph_perf_smote.f1.max()]"
   ]
  },
  {
   "cell_type": "markdown",
   "metadata": {},
   "source": [
    "### RandomOverSampling"
   ]
  },
  {
   "cell_type": "code",
   "execution_count": 174,
   "metadata": {},
   "outputs": [
    {
     "data": {
      "text/plain": [
       "<matplotlib.axes._subplots.AxesSubplot at 0x7fdfc9cc0da0>"
      ]
     },
     "execution_count": 174,
     "metadata": {},
     "output_type": "execute_result"
    },
    {
     "data": {
      "image/png": "[encoded data removed]",
      "text/plain": [
       "<Figure size 432x288 with 1 Axes>"
      ]
     },
     "metadata": {},
     "output_type": "display_data"
    }
   ],
   "source": [
    "max_sample_list_ros = [300, 500, 700, 900]\n",
    "cont_list_ros = [0.003, 0.05, 0.1, 0.5]\n",
    "X_train, X_test, y_train, y_test = train_test_split(fraud_data_ros_x[:,3:], fraud_data_ros_y, test_size=0.3, random_state=42)\n",
    "X_outliers = fraud_data_ros_x[fraud_data_ros_y == 1][:,3:]\n",
    "graph_perf_ros, clf = train_isolation_forest(X_train, X_test, y_train, y_test, X_outliers, max_sample_list_ros, cont_list_ros)\n",
    "\n",
    "sns.lineplot(x='max', y='f1', hue='cont',  data=graph_perf_ros)"
   ]
  },
  {
   "cell_type": "code",
   "execution_count": 175,
   "metadata": {},
   "outputs": [
    {
     "data": {
      "text/html": [
       "<div>\n",
       "<style scoped>\n",
       "    .dataframe tbody tr th:only-of-type {\n",
       "        vertical-align: middle;\n",
       "    }\n",
       "\n",
       "    .dataframe tbody tr th {\n",
       "        vertical-align: top;\n",
       "    }\n",
       "\n",
       "    .dataframe thead th {\n",
       "        text-align: right;\n",
       "    }\n",
       "</style>\n",
       "<table border=\"1\" class=\"dataframe\">\n",
       "  <thead>\n",
       "    <tr style=\"text-align: right;\">\n",
       "      <th></th>\n",
       "      <th>f1</th>\n",
       "      <th>max</th>\n",
       "      <th>cont</th>\n",
       "    </tr>\n",
       "  </thead>\n",
       "  <tbody>\n",
       "    <tr>\n",
       "      <th>0</th>\n",
       "      <td>0.702732</td>\n",
       "      <td>500</td>\n",
       "      <td>0.1</td>\n",
       "    </tr>\n",
       "  </tbody>\n",
       "</table>\n",
       "</div>"
      ],
      "text/plain": [
       "         f1  max  cont\n",
       "0  0.702732  500   0.1"
      ]
     },
     "execution_count": 175,
     "metadata": {},
     "output_type": "execute_result"
    }
   ],
   "source": [
    "graph_perf_ros[graph_perf_ros.f1 == graph_perf_ros.f1.max()]"
   ]
  },
  {
   "cell_type": "markdown",
   "metadata": {},
   "source": [
    "### ADASYN"
   ]
  },
  {
   "cell_type": "code",
   "execution_count": 176,
   "metadata": {},
   "outputs": [
    {
     "data": {
      "text/plain": [
       "<matplotlib.axes._subplots.AxesSubplot at 0x7fdfbc45fef0>"
      ]
     },
     "execution_count": 176,
     "metadata": {},
     "output_type": "execute_result"
    },
    {
     "data": {
      "image/png": "[encoded data removed]",
      "text/plain": [
       "<Figure size 432x288 with 1 Axes>"
      ]
     },
     "metadata": {},
     "output_type": "display_data"
    }
   ],
   "source": [
    "max_sample_list_adasyn = [300, 500, 700, 900]\n",
    "cont_list_adasyn = [0.003, 0.05, 0.1, 0.5]\n",
    "X_train, X_test, y_train, y_test = train_test_split(fraud_data_adasyn_x, fraud_data_adasyn_y, test_size=0.3, random_state=42)\n",
    "X_outliers = fraud_data_adasyn_x[fraud_data_adasyn_y==1]\n",
    "graph_perf_adasyn, clf = train_isolation_forest(X_train, X_test, y_train, y_test, X_outliers, max_sample_list_adasyn, cont_list_adasyn)\n",
    "\n",
    "sns.lineplot(x='max', y='f1', hue='cont',  data=graph_perf_adasyn)"
   ]
  },
  {
   "cell_type": "code",
   "execution_count": 177,
   "metadata": {},
   "outputs": [
    {
     "data": {
      "text/html": [
       "<div>\n",
       "<style scoped>\n",
       "    .dataframe tbody tr th:only-of-type {\n",
       "        vertical-align: middle;\n",
       "    }\n",
       "\n",
       "    .dataframe tbody tr th {\n",
       "        vertical-align: top;\n",
       "    }\n",
       "\n",
       "    .dataframe thead th {\n",
       "        text-align: right;\n",
       "    }\n",
       "</style>\n",
       "<table border=\"1\" class=\"dataframe\">\n",
       "  <thead>\n",
       "    <tr style=\"text-align: right;\">\n",
       "      <th></th>\n",
       "      <th>f1</th>\n",
       "      <th>max</th>\n",
       "      <th>cont</th>\n",
       "    </tr>\n",
       "  </thead>\n",
       "  <tbody>\n",
       "    <tr>\n",
       "      <th>0</th>\n",
       "      <td>0.692596</td>\n",
       "      <td>500</td>\n",
       "      <td>0.1</td>\n",
       "    </tr>\n",
       "  </tbody>\n",
       "</table>\n",
       "</div>"
      ],
      "text/plain": [
       "         f1  max  cont\n",
       "0  0.692596  500   0.1"
      ]
     },
     "execution_count": 177,
     "metadata": {},
     "output_type": "execute_result"
    }
   ],
   "source": [
    "graph_perf_adasyn[graph_perf_adasyn.f1 == graph_perf_adasyn.f1.max()]"
   ]
  },
  {
   "cell_type": "markdown",
   "metadata": {},
   "source": [
    "# Isolation Forest trained with **Imbalanced** data"
   ]
  },
  {
   "cell_type": "code",
   "execution_count": 196,
   "metadata": {},
   "outputs": [],
   "source": [
    "X_train, X_test, y_train, y_test = train_test_split(fraud_data_smotenc_x[numerical_features], fraud_data_smotenc_y, test_size=0.3, random_state=42)\n",
    "X_outliers = fraud_data_smotenc_x[fraud_data_smotenc_y['FraudResult']==1][numerical_features]\n",
    "\n",
    "y_pred_train = clf_imbalanced.predict(X_train)\n",
    "y_pred_test = clf_imbalanced.predict(X_test)\n",
    "y_pred_outliers = clf_imbalanced.predict(X_outliers)\n",
    "\n",
    "y_pred_test = norm_pred(y_pred_test)\n",
    "y_pred_outliers = norm_pred(y_pred_outliers)\n",
    "\n",
    "data = confusion_matrix(y_test, y_pred_test)\n",
    "\n",
    "      \n",
    "tp = data[0][0]\n",
    "fp = data[0][1]\n",
    "fn = data[1][0]\n",
    "tn = data[1][1]\n",
    "\n",
    "# sensitivity, recall, hit rate, or true positive rate (TPR)\n",
    "tpr = tp / (tp+fn)\n",
    "\n",
    "# precision or positive predictive value (PPV)\n",
    "ppv = tp / (tp+fp)\n",
    "\n",
    "# F1 score is the harmonic mean of precision and sensitivity\n",
    "f1_score = 2 * (ppv*tpr) / (ppv+tpr)\n",
    "\n",
    "# False Positive Value (FPV)\n",
    "fpv = fp / (tn+fp)\n",
    "\n",
    "f1_score_np = np.append(f1_score_np, f1_score)\n",
    "max_sample_np = np.append(max_sample_np, max_sample_list)\n",
    "cont_np = np.append(cont_np, cont_list)\n",
    "\n",
    "info = {'f1': f1_score_np, 'max': max_sample_np, 'cont': cont_np}\n",
    "graph_perf = pd.DataFrame(info)\n",
    "\n",
    "max(graph_perf['f1'])"
   ]
  },
  {
   "cell_type": "code",
   "execution_count": 198,
   "metadata": {},
   "outputs": [
    {
     "data": {
      "image/png": "[encoded data removed]",
      "text/plain": [
       "<Figure size 432x288 with 1 Axes>"
      ]
     },
     "metadata": {},
     "output_type": "display_data"
    }
   ],
   "source": [
    "# ROC\n",
    "# IMPORTANT: first argument is true values, second argument is predicted probabilities\n",
    "fpr, tpr, thresholds = roc_curve(y_test, y_pred_test)\n",
    "plt.plot(fpr, tpr, 'r')\n",
    "plt.title('ROC curve')\n",
    "plt.xlabel('FPV (False Positive Value)')\n",
    "plt.ylabel('TPV (True Positive Value)')\n",
    "plt.grid(True)\n",
    "plt.show()"
   ]
  },
  {
   "cell_type": "markdown",
   "metadata": {},
   "source": [
    "## Add outlier feature estimation"
   ]
  },
  {
   "cell_type": "code",
   "execution_count": 202,
   "metadata": {},
   "outputs": [],
   "source": [
    "predictions = clf.predict(fraud_data_smotenc_x[numerical_features])\n",
    "fraud_data_smotenc_x['IsolationForest'] = predictions"
   ]
  },
  {
   "cell_type": "markdown",
   "metadata": {},
   "source": [
    "# Learning Curve"
   ]
  },
  {
   "cell_type": "code",
   "execution_count": 215,
   "metadata": {},
   "outputs": [],
   "source": [
    "from sklearn.naive_bayes import GaussianNB\n",
    "from sklearn.svm import SVC\n",
    "from sklearn.datasets import load_digits\n",
    "from sklearn.model_selection import learning_curve\n",
    "from sklearn.model_selection import ShuffleSplit"
   ]
  },
  {
   "cell_type": "code",
   "execution_count": 216,
   "metadata": {},
   "outputs": [],
   "source": [
    "def plot_learning_curve(estimator, title, X, y, ylim=None, cv=None,\n",
    "                        n_jobs=None, train_sizes=np.linspace(.1, 1.0, 5)):\n",
    "    \"\"\"\n",
    "    Generate a simple plot of the test and training learning curve.\n",
    "\n",
    "    Parameters\n",
    "    ----------\n",
    "    estimator : object type that implements the \"fit\" and \"predict\" methods\n",
    "        An object of that type which is cloned for each validation.\n",
    "\n",
    "    title : string\n",
    "        Title for the chart.\n",
    "\n",
    "    X : array-like, shape (n_samples, n_features)\n",
    "        Training vector, where n_samples is the number of samples and\n",
    "        n_features is the number of features.\n",
    "\n",
    "    y : array-like, shape (n_samples) or (n_samples, n_features), optional\n",
    "        Target relative to X for classification or regression;\n",
    "        None for unsupervised learning.\n",
    "\n",
    "    ylim : tuple, shape (ymin, ymax), optional\n",
    "        Defines minimum and maximum yvalues plotted.\n",
    "\n",
    "    cv : int, cross-validation generator or an iterable, optional\n",
    "        Determines the cross-validation splitting strategy.\n",
    "        Possible inputs for cv are:\n",
    "          - None, to use the default 3-fold cross-validation,\n",
    "          - integer, to specify the number of folds.\n",
    "          - :term:`CV splitter`,\n",
    "          - An iterable yielding (train, test) splits as arrays of indices.\n",
    "\n",
    "        For integer/None inputs, if ``y`` is binary or multiclass,\n",
    "        :class:`StratifiedKFold` used. If the estimator is not a classifier\n",
    "        or if ``y`` is neither binary nor multiclass, :class:`KFold` is used.\n",
    "\n",
    "        Refer :ref:`User Guide <cross_validation>` for the various\n",
    "        cross-validators that can be used here.\n",
    "\n",
    "    n_jobs : int or None, optional (default=None)\n",
    "        Number of jobs to run in parallel.\n",
    "        ``None`` means 1 unless in a :obj:`joblib.parallel_backend` context.\n",
    "        ``-1`` means using all processors. See :term:`Glossary <n_jobs>`\n",
    "        for more details.\n",
    "\n",
    "    train_sizes : array-like, shape (n_ticks,), dtype float or int\n",
    "        Relative or absolute numbers of training examples that will be used to\n",
    "        generate the learning curve. If the dtype is float, it is regarded as a\n",
    "        fraction of the maximum size of the training set (that is determined\n",
    "        by the selected validation method), i.e. it has to be within (0, 1].\n",
    "        Otherwise it is interpreted as absolute sizes of the training sets.\n",
    "        Note that for classification the number of samples usually have to\n",
    "        be big enough to contain at least one sample from each class.\n",
    "        (default: np.linspace(0.1, 1.0, 5))\n",
    "    \"\"\"\n",
    "    plt.figure()\n",
    "    plt.title(title)\n",
    "    if ylim is not None:\n",
    "        plt.ylim(*ylim)\n",
    "    plt.xlabel(\"Training examples\")\n",
    "    plt.ylabel(\"Score\")\n",
    "    train_sizes, train_scores, test_scores = learning_curve(\n",
    "        estimator, X, y, cv=cv, n_jobs=n_jobs, train_sizes=train_sizes)\n",
    "    train_scores_mean = np.mean(train_scores, axis=1)\n",
    "    train_scores_std = np.std(train_scores, axis=1)\n",
    "    test_scores_mean = np.mean(test_scores, axis=1)\n",
    "    test_scores_std = np.std(test_scores, axis=1)\n",
    "    plt.grid()\n",
    "\n",
    "    plt.fill_between(train_sizes, train_scores_mean - train_scores_std,\n",
    "                     train_scores_mean + train_scores_std, alpha=0.1,\n",
    "                     color=\"r\")\n",
    "    plt.fill_between(train_sizes, test_scores_mean - test_scores_std,\n",
    "                     test_scores_mean + test_scores_std, alpha=0.1, color=\"g\")\n",
    "    plt.plot(train_sizes, train_scores_mean, 'o-', color=\"r\",\n",
    "             label=\"Training score\")\n",
    "    plt.plot(train_sizes, test_scores_mean, 'o-', color=\"g\",\n",
    "             label=\"Cross-validation score\")\n",
    "\n",
    "    plt.legend(loc=\"best\")\n",
    "    return plt"
   ]
  },
  {
   "cell_type": "code",
   "execution_count": 219,
   "metadata": {},
   "outputs": [
    {
     "name": "stderr",
     "output_type": "stream",
     "text": [
      "/home/dunfrey/anaconda3/lib/python3.7/site-packages/joblib/externals/loky/process_executor.py:706: UserWarning: A worker stopped while some jobs were given to the executor. This can be caused by a too short worker timeout or by a memory leak.\n",
      "  \"timeout or by a memory leak.\", UserWarning\n",
      "/home/dunfrey/anaconda3/lib/python3.7/site-packages/joblib/externals/loky/process_executor.py:706: UserWarning: A worker stopped while some jobs were given to the executor. This can be caused by a too short worker timeout or by a memory leak.\n",
      "  \"timeout or by a memory leak.\", UserWarning\n"
     ]
    },
    {
     "data": {
      "image/png": "[encoded data removed]",
      "text/plain": [
       "<Figure size 576x396 with 1 Axes>"
      ]
     },
     "metadata": {},
     "output_type": "display_data"
    },
    {
     "data": {
      "image/png": "[encoded data removed]",
      "text/plain": [
       "<Figure size 576x396 with 1 Axes>"
      ]
     },
     "metadata": {},
     "output_type": "display_data"
    }
   ],
   "source": [
    "X, y = fraud_data_smotenc_x[numerical_features], fraud_data_smotenc_y\n",
    "\n",
    "title = \"Learning Curve\"\n",
    "# Cross validation with 50 iterations to get smoother mean test and train\n",
    "# score curves, each time with 20% data randomly selected as a validation set.\n",
    "cv = ShuffleSplit(n_splits=50, test_size=0.25, random_state=42)\n",
    "\n",
    "estimator = GaussianNB()\n",
    "plot_learning_curve(estimator, title, X, y, ylim=(0.95, 1.01), cv=cv, n_jobs=14)\n",
    "\n",
    "title = r\"Learning Curves\"\n",
    "# SVC is more expensive so we do a lower number of CV iterations:\n",
    "cv = ShuffleSplit(n_splits=5, test_size=0.25, random_state=42)\n",
    "estimator = SVC(gamma='auto')\n",
    "plot_learning_curve(estimator, title, X, y, (0.95, 1.01), cv=cv, n_jobs=14)\n",
    "\n",
    "plt.show()"
   ]
  },
  {
   "cell_type": "markdown",
   "metadata": {},
   "source": [
    "# Catboost Model"
   ]
  },
  {
   "cell_type": "code",
   "execution_count": 1,
   "metadata": {},
   "outputs": [
    {
     "ename": "NameError",
     "evalue": "name 'Pool' is not defined",
     "output_type": "error",
     "traceback": [
      "\u001b[0;31m---------------------------------------------------------------------------\u001b[0m",
      "\u001b[0;31mNameError\u001b[0m                                 Traceback (most recent call last)",
      "\u001b[0;32m<ipython-input-1-1fdece3836e4>\u001b[0m in \u001b[0;36m<module>\u001b[0;34m\u001b[0m\n\u001b[0;32m----> 1\u001b[0;31m cv_dataset = Pool(data=fraud_data_balanced_x,\n\u001b[0m\u001b[1;32m      2\u001b[0m                   \u001b[0mlabel\u001b[0m\u001b[0;34m=\u001b[0m\u001b[0mfraud_data_balanced_y\u001b[0m\u001b[0;34m,\u001b[0m\u001b[0;34m\u001b[0m\u001b[0;34m\u001b[0m\u001b[0m\n\u001b[1;32m      3\u001b[0m                   cat_features=cat_features)\n\u001b[1;32m      4\u001b[0m \u001b[0miterations\u001b[0m \u001b[0;34m=\u001b[0m \u001b[0;36m100\u001b[0m\u001b[0;34m\u001b[0m\u001b[0;34m\u001b[0m\u001b[0m\n\u001b[1;32m      5\u001b[0m \u001b[0mmax_depth\u001b[0m \u001b[0;34m=\u001b[0m \u001b[0;36m4\u001b[0m\u001b[0;34m\u001b[0m\u001b[0;34m\u001b[0m\u001b[0m\n",
      "\u001b[0;31mNameError\u001b[0m: name 'Pool' is not defined"
     ]
    }
   ],
   "source": [
    "cv_dataset = Pool(data=fraud_data_balanced_x,\n",
    "                  label=fraud_data_balanced_y,\n",
    "                  cat_features=cat_features)\n",
    "iterations = 100\n",
    "max_depth = 4\n",
    "num_folds = 5\n",
    "\n",
    "params = {\"iterations\": iterations,\n",
    "          \"depth\": max_depth,\n",
    "          \"loss_function\": \"Logloss\",\n",
    "          \"verbose\": False,\n",
    "          \"roc_file\": \"roc-file\"}\n",
    "\n",
    "scores = cv(cv_dataset,\n",
    "            params,\n",
    "            fold_count=num_folds,\n",
    "            plot=\"True\")\n",
    "\n",
    "model = CatBoostClassifier(max_depth=max_depth, verbose=False, max_ctr_complexity=1, iterations=iterations).fit(cv_dataset)\n",
    "\n",
    "#model.plot_tree(tree_idx=0, pool=cv_dataset)"
   ]
  },
  {
   "cell_type": "markdown",
   "metadata": {},
   "source": [
    "## AUC and ROC curves"
   ]
  },
  {
   "cell_type": "code",
   "execution_count": null,
   "metadata": {},
   "outputs": [],
   "source": [
    "data = pd.read_csv('/content/catboost_info/roc-file', sep='\\t')\n",
    "x = data['FPR']\n",
    "y = data['TPR']\n",
    "# This is the ROC curve\n",
    "plt.plot(x,y)\n",
    "plt.show() \n",
    "\n",
    "# This is the AUC\n",
    "auc = np.trapz(y,x)\n",
    "print('The AUC was: {0:.2f}.'.format(auc))"
   ]
  },
  {
   "cell_type": "markdown",
   "metadata": {},
   "source": [
    "## Feature Importance"
   ]
  },
  {
   "cell_type": "code",
   "execution_count": null,
   "metadata": {},
   "outputs": [],
   "source": [
    "model = CatBoostClassifier(iterations=50, learning_rate=0.1, random_seed=42)\n",
    "model.fit(fraud_data_balanced_x, fraud_data_balanced_y, verbose=False, plot=False, cat_features=cat_features)"
   ]
  },
  {
   "cell_type": "code",
   "execution_count": null,
   "metadata": {},
   "outputs": [],
   "source": [
    "shap.initjs()\n",
    "\n",
    "shap_values = model.get_feature_importance(Pool(fraud_data_balanced_x, fraud_data_balanced_y, cat_features=cat_features), type='ShapValues')\n",
    "expected_value = shap_values[0,-1]\n",
    "shap_values = shap_values[:,:-1]\n",
    "\n",
    "# visualize the first prediction's explanation\n",
    "shap.force_plot(expected_value, shap_values[200,:], fraud_data_balanced_x.iloc[200,:])"
   ]
  },
  {
   "cell_type": "code",
   "execution_count": null,
   "metadata": {},
   "outputs": [],
   "source": [
    "shap.initjs()\n",
    "# visualize the training set predictions\n",
    "shap.force_plot(expected_value, shap_values, fraud_data_balanced_x)"
   ]
  },
  {
   "cell_type": "code",
   "execution_count": null,
   "metadata": {},
   "outputs": [],
   "source": [
    "shap.initjs()\n",
    "# summarize the effects of all the features\n",
    "shap.summary_plot(shap_values, fraud_data_balanced_x)"
   ]
  },
  {
   "cell_type": "markdown",
   "metadata": {},
   "source": [
    "# Evaluation"
   ]
  },
  {
   "cell_type": "code",
   "execution_count": null,
   "metadata": {},
   "outputs": [],
   "source": [
    "test_data = read_data_from_web(\"https://drive.google.com/uc?export=download&id=16cRQIFW6n2th2YOK7DEsp9dQgihHDuHa\")\n",
    "test_data = test_data.withColumn('PositiveAmount', F.abs(test_data['Amount']))\n",
    "test_data = test_data.withColumn(\"Operation\", F.when(test_data.Amount > 0, 1).when(test_data.Amount < 0, -1).otherwise(0))\n",
    "columns_to_remove = ['Amount','CurrencyCode','CountryCode','BatchId','AccountId','SubscriptionId','CustomerId', 'ProviderId', 'TransactionStartTime']\n",
    "test_data = remove_feature(test_data, columns_to_remove)\n",
    "\n",
    "gen_train_data = fraud_data.filter('FraudResult == 0')\n",
    "items_list = ['ChannelId', 'ProductCategory', 'ProductId']\n",
    "\n",
    "for item in items_list:\n",
    "  mean_column_name = 'avg_ps_{0}'.format(item)\n",
    "  ratio_column_name = 'rt_avg_ps_{0}'.format(item)\n",
    "  aux = gen_train_data.select([item,'PositiveAmount']).groupBy(item).mean()\n",
    "  aux = aux.select(col(item), col('avg(PositiveAmount)').alias(mean_column_name))\n",
    "  test_data = test_data.join(aux, on=item)\n",
    "  test_data = test_data.withColumn(ratio_column_name, (F.col('PositiveAmount')-F.col(mean_column_name))/ F.col(mean_column_name))\n",
    " \n",
    "test_data = test_data.toPandas()\n",
    "predictions = clf.predict(test_data[numerical_features])\n",
    "test_data['IsolationForest'] = predictions"
   ]
  },
  {
   "cell_type": "code",
   "execution_count": null,
   "metadata": {},
   "outputs": [],
   "source": [
    "pred = Pool(data=test_data[all_features], cat_features=cat_features)\n",
    "test_pred = model.predict(pred, prediction_type='Class')"
   ]
  },
  {
   "cell_type": "code",
   "execution_count": null,
   "metadata": {},
   "outputs": [],
   "source": [
    "test_data = read_data_from_web(\"https://drive.google.com/uc?export=download&id=16cRQIFW6n2th2YOK7DEsp9dQgihHDuHa\")\n",
    "\n",
    "def save_predictions_xente(file_name, transactions_list, predictions_list):\n",
    "  file = open(file_name,'w')\n",
    "  file.write('TransactionId,FraudResult\\n')\n",
    "  for trans_id, value in zip(transactions_list, test_pred):\n",
    "    file.write('{0},{1}\\n'.format(trans_id, int(value)))\n",
    "  for item in (set(transactions_list)-id_list):\n",
    "    file.write('{0},0\\n'.format(item))\n",
    "  file.close()\n",
    "  \n",
    "file_name = '/content/xento_predictions_2.csv'  \n",
    "transactions_list = test_data['TransactionId']\n",
    "\n",
    "save_predictions_xente(file_name, transactions_list, test_pred)"
   ]
  },
  {
   "cell_type": "code",
   "execution_count": null,
   "metadata": {},
   "outputs": [],
   "source": []
  },
  {
   "cell_type": "code",
   "execution_count": null,
   "metadata": {},
   "outputs": [],
   "source": []
  },
  {
   "cell_type": "code",
   "execution_count": null,
   "metadata": {},
   "outputs": [],
   "source": []
  }
 ],
 "metadata": {
  "colab": {
   "collapsed_sections": [],
   "include_colab_link": true,
   "name": "Fraud Detection - Xente",
   "provenance": []
  },
  "kernelspec": {
   "display_name": "Python 3",
   "language": "python",
   "name": "python3"
  },
  "language_info": {
   "codemirror_mode": {
    "name": "ipython",
    "version": 3
   },
   "file_extension": ".py",
   "mimetype": "text/x-python",
   "name": "python",
   "nbconvert_exporter": "python",
   "pygments_lexer": "ipython3",
   "version": "3.7.3"
  }
 },
 "nbformat": 4,
 "nbformat_minor": 1
}
