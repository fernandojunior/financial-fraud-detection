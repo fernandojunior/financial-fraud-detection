{
  "nbformat": 4,
  "nbformat_minor": 0,
  "metadata": {
    "colab": {
      "name": "Fraud Detection - Xente",
      "provenance": [],
      "collapsed_sections": [],
      "include_colab_link": true
    },
    "kernelspec": {
      "name": "python3",
      "display_name": "Python 3"
    }
  },
  "cells": [
    {
      "cell_type": "markdown",
      "metadata": {
        "id": "view-in-github",
        "colab_type": "text"
      },
      "source": [
        "<a href=\"https://colab.research.google.com/github/fernandojunior/deteccao-fraude/blob/master/src/Fraud_Detection_Xente.ipynb\" target=\"_parent\"><img src=\"https://colab.research.google.com/assets/colab-badge.svg\" alt=\"Open In Colab\"/></a>"
      ]
    },
    {
      "cell_type": "markdown",
      "metadata": {
        "id": "ruOubwK3D3qS",
        "colab_type": "text"
      },
      "source": [
        "# Spark load lib"
      ]
    },
    {
      "cell_type": "code",
      "metadata": {
        "id": "DBD-F8SW8ljy",
        "colab_type": "code",
        "colab": {}
      },
      "source": [
        "!apt-get install openjdk-8-jdk-headless -qq > /dev/null\n",
        "!wget -q https://www-us.apache.org/dist/spark/spark-2.4.4/spark-2.4.4-bin-hadoop2.7.tgz\n",
        "!tar xf spark-2.4.4-bin-hadoop2.7.tgz\n",
        "!pip install -q findspark\n",
        "\n",
        "import os\n",
        "os.environ[\"JAVA_HOME\"] = \"/usr/lib/jvm/java-8-openjdk-amd64\"\n",
        "os.environ[\"SPARK_HOME\"] = \"/content/spark-2.4.4-bin-hadoop2.7\"\n",
        "\n",
        "import findspark\n",
        "findspark.init()\n",
        "from pyspark.sql import SparkSession\n",
        "spark = SparkSession.builder.appName('xente').getOrCreate()"
      ],
      "execution_count": 0,
      "outputs": []
    },
    {
      "cell_type": "code",
      "metadata": {
        "id": "h_raArhE8xBJ",
        "colab_type": "code",
        "outputId": "4eba0c08-6fc6-4531-807d-560de0b9dc37",
        "colab": {
          "base_uri": "https://localhost:8080/",
          "height": 1000
        }
      },
      "source": [
        "!pip install -r requirements.txt\n",
        "spark"
      ],
      "execution_count": 3,
      "outputs": [
        {
          "output_type": "stream",
          "text": [
            "Requirement already satisfied: absl-py==0.7.1 in /usr/local/lib/python3.6/dist-packages (from -r requirements.txt (line 1)) (0.7.1)\n",
            "Requirement already satisfied: alabaster==0.7.12 in /usr/local/lib/python3.6/dist-packages (from -r requirements.txt (line 2)) (0.7.12)\n",
            "Requirement already satisfied: albumentations==0.1.12 in /usr/local/lib/python3.6/dist-packages (from -r requirements.txt (line 3)) (0.1.12)\n",
            "Requirement already satisfied: altair==3.1.0 in /usr/local/lib/python3.6/dist-packages (from -r requirements.txt (line 4)) (3.1.0)\n",
            "Requirement already satisfied: astor==0.8.0 in /usr/local/lib/python3.6/dist-packages (from -r requirements.txt (line 5)) (0.8.0)\n",
            "Requirement already satisfied: astropy==3.0.5 in /usr/local/lib/python3.6/dist-packages (from -r requirements.txt (line 6)) (3.0.5)\n",
            "Requirement already satisfied: atari-py==0.1.15 in /usr/local/lib/python3.6/dist-packages (from -r requirements.txt (line 7)) (0.1.15)\n",
            "Requirement already satisfied: atomicwrites==1.3.0 in /usr/local/lib/python3.6/dist-packages (from -r requirements.txt (line 8)) (1.3.0)\n",
            "Requirement already satisfied: attrs==19.1.0 in /usr/local/lib/python3.6/dist-packages (from -r requirements.txt (line 9)) (19.1.0)\n",
            "Requirement already satisfied: audioread==2.1.8 in /usr/local/lib/python3.6/dist-packages (from -r requirements.txt (line 10)) (2.1.8)\n",
            "Requirement already satisfied: autograd==1.2 in /usr/local/lib/python3.6/dist-packages (from -r requirements.txt (line 11)) (1.2)\n",
            "Requirement already satisfied: Babel==2.7.0 in /usr/local/lib/python3.6/dist-packages (from -r requirements.txt (line 12)) (2.7.0)\n",
            "Requirement already satisfied: backcall==0.1.0 in /usr/local/lib/python3.6/dist-packages (from -r requirements.txt (line 13)) (0.1.0)\n",
            "Requirement already satisfied: backports.tempfile==1.0 in /usr/local/lib/python3.6/dist-packages (from -r requirements.txt (line 14)) (1.0)\n",
            "Requirement already satisfied: backports.weakref==1.0.post1 in /usr/local/lib/python3.6/dist-packages (from -r requirements.txt (line 15)) (1.0.post1)\n",
            "Requirement already satisfied: beautifulsoup4==4.6.3 in /usr/local/lib/python3.6/dist-packages (from -r requirements.txt (line 16)) (4.6.3)\n",
            "Requirement already satisfied: bleach==3.1.0 in /usr/local/lib/python3.6/dist-packages (from -r requirements.txt (line 17)) (3.1.0)\n",
            "Requirement already satisfied: blis==0.2.4 in /usr/local/lib/python3.6/dist-packages (from -r requirements.txt (line 18)) (0.2.4)\n",
            "Requirement already satisfied: bokeh==1.0.4 in /usr/local/lib/python3.6/dist-packages (from -r requirements.txt (line 19)) (1.0.4)\n",
            "Requirement already satisfied: boto==2.49.0 in /usr/local/lib/python3.6/dist-packages (from -r requirements.txt (line 20)) (2.49.0)\n",
            "Requirement already satisfied: boto3==1.9.175 in /usr/local/lib/python3.6/dist-packages (from -r requirements.txt (line 21)) (1.9.175)\n",
            "Requirement already satisfied: botocore==1.12.175 in /usr/local/lib/python3.6/dist-packages (from -r requirements.txt (line 22)) (1.12.175)\n",
            "Requirement already satisfied: Bottleneck==1.2.1 in /usr/local/lib/python3.6/dist-packages (from -r requirements.txt (line 23)) (1.2.1)\n",
            "Requirement already satisfied: branca==0.3.1 in /usr/local/lib/python3.6/dist-packages (from -r requirements.txt (line 24)) (0.3.1)\n",
            "Requirement already satisfied: bs4==0.0.1 in /usr/local/lib/python3.6/dist-packages (from -r requirements.txt (line 25)) (0.0.1)\n",
            "Requirement already satisfied: bz2file==0.98 in /usr/local/lib/python3.6/dist-packages (from -r requirements.txt (line 26)) (0.98)\n",
            "Requirement already satisfied: cachetools==3.1.1 in /usr/local/lib/python3.6/dist-packages (from -r requirements.txt (line 27)) (3.1.1)\n",
            "Requirement already satisfied: certifi==2019.6.16 in /usr/local/lib/python3.6/dist-packages (from -r requirements.txt (line 28)) (2019.6.16)\n",
            "Requirement already satisfied: cffi==1.12.3 in /usr/local/lib/python3.6/dist-packages (from -r requirements.txt (line 29)) (1.12.3)\n",
            "Requirement already satisfied: chainer==5.4.0 in /usr/local/lib/python3.6/dist-packages (from -r requirements.txt (line 30)) (5.4.0)\n",
            "Requirement already satisfied: chardet==3.0.4 in /usr/local/lib/python3.6/dist-packages (from -r requirements.txt (line 31)) (3.0.4)\n",
            "Requirement already satisfied: cityhash==0.2.3.post9 in /usr/local/lib/python3.6/dist-packages (from -r requirements.txt (line 32)) (0.2.3.post9)\n",
            "Requirement already satisfied: Click==7.0 in /usr/local/lib/python3.6/dist-packages (from -r requirements.txt (line 33)) (7.0)\n",
            "Requirement already satisfied: cloudpickle==0.6.1 in /usr/local/lib/python3.6/dist-packages (from -r requirements.txt (line 34)) (0.6.1)\n",
            "Requirement already satisfied: cmake==3.12.0 in /usr/local/lib/python3.6/dist-packages (from -r requirements.txt (line 35)) (3.12.0)\n",
            "Requirement already satisfied: colorlover==0.3.0 in /usr/local/lib/python3.6/dist-packages (from -r requirements.txt (line 36)) (0.3.0)\n",
            "Requirement already satisfied: community==1.0.0b1 in /usr/local/lib/python3.6/dist-packages (from -r requirements.txt (line 37)) (1.0.0b1)\n",
            "Requirement already satisfied: contextlib2==0.5.5 in /usr/local/lib/python3.6/dist-packages (from -r requirements.txt (line 38)) (0.5.5)\n",
            "Requirement already satisfied: convertdate==2.1.3 in /usr/local/lib/python3.6/dist-packages (from -r requirements.txt (line 39)) (2.1.3)\n",
            "Requirement already satisfied: coverage==3.7.1 in /usr/local/lib/python3.6/dist-packages (from -r requirements.txt (line 40)) (3.7.1)\n",
            "Requirement already satisfied: coveralls==0.5 in /usr/local/lib/python3.6/dist-packages (from -r requirements.txt (line 41)) (0.5)\n",
            "Requirement already satisfied: crcmod==1.7 in /usr/local/lib/python3.6/dist-packages (from -r requirements.txt (line 42)) (1.7)\n",
            "Requirement already satisfied: cufflinks==0.14.6 in /usr/local/lib/python3.6/dist-packages (from -r requirements.txt (line 43)) (0.14.6)\n",
            "Requirement already satisfied: cvxopt==1.2.3 in /usr/local/lib/python3.6/dist-packages (from -r requirements.txt (line 44)) (1.2.3)\n",
            "Requirement already satisfied: cvxpy==1.0.15 in /usr/local/lib/python3.6/dist-packages (from -r requirements.txt (line 45)) (1.0.15)\n",
            "Requirement already satisfied: cycler==0.10.0 in /usr/local/lib/python3.6/dist-packages (from -r requirements.txt (line 46)) (0.10.0)\n",
            "Requirement already satisfied: cymem==2.0.2 in /usr/local/lib/python3.6/dist-packages (from -r requirements.txt (line 47)) (2.0.2)\n",
            "Requirement already satisfied: Cython==0.29.10 in /usr/local/lib/python3.6/dist-packages (from -r requirements.txt (line 48)) (0.29.10)\n",
            "Requirement already satisfied: daft==0.0.4 in /usr/local/lib/python3.6/dist-packages (from -r requirements.txt (line 49)) (0.0.4)\n",
            "Requirement already satisfied: dask==1.1.5 in /usr/local/lib/python3.6/dist-packages (from -r requirements.txt (line 50)) (1.1.5)\n",
            "Requirement already satisfied: dataclasses==0.6 in /usr/local/lib/python3.6/dist-packages (from -r requirements.txt (line 51)) (0.6)\n",
            "Requirement already satisfied: datascience==0.10.6 in /usr/local/lib/python3.6/dist-packages (from -r requirements.txt (line 52)) (0.10.6)\n",
            "Requirement already satisfied: decorator==4.4.0 in /usr/local/lib/python3.6/dist-packages (from -r requirements.txt (line 53)) (4.4.0)\n",
            "Requirement already satisfied: defusedxml==0.6.0 in /usr/local/lib/python3.6/dist-packages (from -r requirements.txt (line 54)) (0.6.0)\n",
            "Requirement already satisfied: descartes==1.1.0 in /usr/local/lib/python3.6/dist-packages (from -r requirements.txt (line 55)) (1.1.0)\n",
            "Requirement already satisfied: dill==0.2.9 in /usr/local/lib/python3.6/dist-packages (from -r requirements.txt (line 56)) (0.2.9)\n",
            "Requirement already satisfied: distributed==1.25.3 in /usr/local/lib/python3.6/dist-packages (from -r requirements.txt (line 57)) (1.25.3)\n",
            "Requirement already satisfied: Django==2.2.2 in /usr/local/lib/python3.6/dist-packages (from -r requirements.txt (line 58)) (2.2.2)\n",
            "Requirement already satisfied: dlib==19.16.0 in /usr/local/lib/python3.6/dist-packages (from -r requirements.txt (line 59)) (19.16.0)\n",
            "Requirement already satisfied: dm-sonnet==1.33 in /usr/local/lib/python3.6/dist-packages (from -r requirements.txt (line 60)) (1.33)\n",
            "Requirement already satisfied: docopt==0.6.2 in /usr/local/lib/python3.6/dist-packages (from -r requirements.txt (line 61)) (0.6.2)\n",
            "Requirement already satisfied: docutils==0.14 in /usr/local/lib/python3.6/dist-packages (from -r requirements.txt (line 62)) (0.14)\n",
            "Requirement already satisfied: dopamine-rl==1.0.5 in /usr/local/lib/python3.6/dist-packages (from -r requirements.txt (line 63)) (1.0.5)\n",
            "Requirement already satisfied: easydict==1.9 in /usr/local/lib/python3.6/dist-packages (from -r requirements.txt (line 64)) (1.9)\n",
            "Requirement already satisfied: ecos==2.0.7.post1 in /usr/local/lib/python3.6/dist-packages (from -r requirements.txt (line 65)) (2.0.7.post1)\n",
            "Requirement already satisfied: editdistance==0.5.3 in /usr/local/lib/python3.6/dist-packages (from -r requirements.txt (line 66)) (0.5.3)\n",
            "Requirement already satisfied: en-core-web-sm==2.1.0 in /usr/local/lib/python3.6/dist-packages (from -r requirements.txt (line 67)) (2.1.0)\n",
            "Requirement already satisfied: entrypoints==0.3 in /usr/local/lib/python3.6/dist-packages (from -r requirements.txt (line 68)) (0.3)\n",
            "Requirement already satisfied: enum34==1.1.6 in /usr/local/lib/python3.6/dist-packages (from -r requirements.txt (line 69)) (1.1.6)\n",
            "Requirement already satisfied: ephem==3.7.6.0 in /usr/local/lib/python3.6/dist-packages (from -r requirements.txt (line 70)) (3.7.6.0)\n",
            "Requirement already satisfied: et-xmlfile==1.0.1 in /usr/local/lib/python3.6/dist-packages (from -r requirements.txt (line 71)) (1.0.1)\n",
            "Requirement already satisfied: fa2==0.3.5 in /usr/local/lib/python3.6/dist-packages (from -r requirements.txt (line 72)) (0.3.5)\n",
            "Requirement already satisfied: fancyimpute==0.4.3 in /usr/local/lib/python3.6/dist-packages (from -r requirements.txt (line 73)) (0.4.3)\n",
            "Requirement already satisfied: fastai==1.0.54 in /usr/local/lib/python3.6/dist-packages (from -r requirements.txt (line 74)) (1.0.54)\n",
            "Requirement already satisfied: fastcache==1.1.0 in /usr/local/lib/python3.6/dist-packages (from -r requirements.txt (line 75)) (1.1.0)\n",
            "Requirement already satisfied: fastdtw==0.3.2 in /usr/local/lib/python3.6/dist-packages (from -r requirements.txt (line 76)) (0.3.2)\n",
            "Requirement already satisfied: fastprogress==0.1.21 in /usr/local/lib/python3.6/dist-packages (from -r requirements.txt (line 77)) (0.1.21)\n",
            "Requirement already satisfied: fastrlock==0.4 in /usr/local/lib/python3.6/dist-packages (from -r requirements.txt (line 78)) (0.4)\n",
            "Requirement already satisfied: fbprophet==0.5 in /usr/local/lib/python3.6/dist-packages (from -r requirements.txt (line 79)) (0.5)\n",
            "Requirement already satisfied: feather-format==0.4.0 in /usr/local/lib/python3.6/dist-packages (from -r requirements.txt (line 80)) (0.4.0)\n",
            "Requirement already satisfied: featuretools==0.4.1 in /usr/local/lib/python3.6/dist-packages (from -r requirements.txt (line 81)) (0.4.1)\n",
            "Requirement already satisfied: filelock==3.0.12 in /usr/local/lib/python3.6/dist-packages (from -r requirements.txt (line 82)) (3.0.12)\n",
            "Requirement already satisfied: findspark==1.3.0 in /usr/local/lib/python3.6/dist-packages (from -r requirements.txt (line 83)) (1.3.0)\n",
            "Requirement already satisfied: fix-yahoo-finance==0.0.22 in /usr/local/lib/python3.6/dist-packages (from -r requirements.txt (line 84)) (0.0.22)\n",
            "Requirement already satisfied: Flask==1.0.3 in /usr/local/lib/python3.6/dist-packages (from -r requirements.txt (line 85)) (1.0.3)\n",
            "Requirement already satisfied: folium==0.8.3 in /usr/local/lib/python3.6/dist-packages (from -r requirements.txt (line 86)) (0.8.3)\n",
            "Requirement already satisfied: future==0.16.0 in /usr/local/lib/python3.6/dist-packages (from -r requirements.txt (line 87)) (0.16.0)\n",
            "Requirement already satisfied: gast==0.2.2 in /usr/local/lib/python3.6/dist-packages (from -r requirements.txt (line 88)) (0.2.2)\n",
            "Requirement already satisfied: GDAL==2.2.2 in /usr/lib/python3/dist-packages (from -r requirements.txt (line 89)) (2.2.2)\n",
            "Requirement already satisfied: gdown==3.6.4 in /usr/local/lib/python3.6/dist-packages (from -r requirements.txt (line 90)) (3.6.4)\n",
            "Requirement already satisfied: gensim==3.6.0 in /usr/local/lib/python3.6/dist-packages (from -r requirements.txt (line 91)) (3.6.0)\n",
            "Requirement already satisfied: geographiclib==1.49 in /usr/local/lib/python3.6/dist-packages (from -r requirements.txt (line 92)) (1.49)\n",
            "Requirement already satisfied: geopy==1.17.0 in /usr/local/lib/python3.6/dist-packages (from -r requirements.txt (line 93)) (1.17.0)\n",
            "Requirement already satisfied: gevent==1.4.0 in /usr/local/lib/python3.6/dist-packages (from -r requirements.txt (line 94)) (1.4.0)\n",
            "Requirement already satisfied: gin-config==0.1.4 in /usr/local/lib/python3.6/dist-packages (from -r requirements.txt (line 95)) (0.1.4)\n",
            "Requirement already satisfied: glob2==0.7 in /usr/local/lib/python3.6/dist-packages (from -r requirements.txt (line 96)) (0.7)\n",
            "Requirement already satisfied: google==2.0.2 in /usr/local/lib/python3.6/dist-packages (from -r requirements.txt (line 97)) (2.0.2)\n",
            "Requirement already satisfied: google-api-core==1.13.0 in /usr/local/lib/python3.6/dist-packages (from -r requirements.txt (line 98)) (1.13.0)\n",
            "Requirement already satisfied: google-api-python-client==1.7.9 in /usr/local/lib/python3.6/dist-packages (from -r requirements.txt (line 99)) (1.7.9)\n",
            "Requirement already satisfied: google-auth==1.4.2 in /usr/local/lib/python3.6/dist-packages (from -r requirements.txt (line 100)) (1.4.2)\n",
            "Requirement already satisfied: google-auth-httplib2==0.0.3 in /usr/local/lib/python3.6/dist-packages (from -r requirements.txt (line 101)) (0.0.3)\n",
            "Requirement already satisfied: google-auth-oauthlib==0.4.0 in /usr/local/lib/python3.6/dist-packages (from -r requirements.txt (line 102)) (0.4.0)\n",
            "Requirement already satisfied: google-cloud-bigquery==1.14.0 in /usr/local/lib/python3.6/dist-packages (from -r requirements.txt (line 103)) (1.14.0)\n",
            "Requirement already satisfied: google-cloud-core==1.0.2 in /usr/local/lib/python3.6/dist-packages (from -r requirements.txt (line 104)) (1.0.2)\n",
            "Requirement already satisfied: google-cloud-datastore==1.8.0 in /usr/local/lib/python3.6/dist-packages (from -r requirements.txt (line 105)) (1.8.0)\n",
            "Requirement already satisfied: google-cloud-language==1.2.0 in /usr/local/lib/python3.6/dist-packages (from -r requirements.txt (line 106)) (1.2.0)\n",
            "Requirement already satisfied: google-cloud-storage==1.16.1 in /usr/local/lib/python3.6/dist-packages (from -r requirements.txt (line 107)) (1.16.1)\n",
            "Requirement already satisfied: google-cloud-translate==1.5.0 in /usr/local/lib/python3.6/dist-packages (from -r requirements.txt (line 108)) (1.5.0)\n",
            "Requirement already satisfied: google-colab==1.0.0 in /usr/local/lib/python3.6/dist-packages (from -r requirements.txt (line 109)) (1.0.0)\n",
            "Requirement already satisfied: google-pasta==0.1.7 in /usr/local/lib/python3.6/dist-packages (from -r requirements.txt (line 110)) (0.1.7)\n",
            "Requirement already satisfied: google-resumable-media==0.3.2 in /usr/local/lib/python3.6/dist-packages (from -r requirements.txt (line 111)) (0.3.2)\n",
            "Requirement already satisfied: googleapis-common-protos==1.6.0 in /usr/local/lib/python3.6/dist-packages (from -r requirements.txt (line 112)) (1.6.0)\n",
            "Requirement already satisfied: googledrivedownloader==0.4 in /usr/local/lib/python3.6/dist-packages (from -r requirements.txt (line 113)) (0.4)\n",
            "Requirement already satisfied: graph-nets==1.0.4 in /usr/local/lib/python3.6/dist-packages (from -r requirements.txt (line 114)) (1.0.4)\n",
            "Requirement already satisfied: graphviz==0.10.1 in /usr/local/lib/python3.6/dist-packages (from -r requirements.txt (line 115)) (0.10.1)\n",
            "Requirement already satisfied: greenlet==0.4.15 in /usr/local/lib/python3.6/dist-packages (from -r requirements.txt (line 116)) (0.4.15)\n",
            "Requirement already satisfied: grpcio==1.15.0 in /usr/local/lib/python3.6/dist-packages (from -r requirements.txt (line 117)) (1.15.0)\n",
            "Requirement already satisfied: gspread==3.0.1 in /usr/local/lib/python3.6/dist-packages (from -r requirements.txt (line 118)) (3.0.1)\n",
            "Requirement already satisfied: gspread-dataframe==3.0.2 in /usr/local/lib/python3.6/dist-packages (from -r requirements.txt (line 119)) (3.0.2)\n",
            "Requirement already satisfied: gunicorn==19.9.0 in /usr/local/lib/python3.6/dist-packages (from -r requirements.txt (line 120)) (19.9.0)\n",
            "Requirement already satisfied: gym==0.10.11 in /usr/local/lib/python3.6/dist-packages (from -r requirements.txt (line 121)) (0.10.11)\n",
            "Requirement already satisfied: h5py==2.8.0 in /usr/local/lib/python3.6/dist-packages (from -r requirements.txt (line 122)) (2.8.0)\n",
            "Requirement already satisfied: HeapDict==1.0.0 in /usr/local/lib/python3.6/dist-packages (from -r requirements.txt (line 123)) (1.0.0)\n",
            "Requirement already satisfied: holidays==0.9.10 in /usr/local/lib/python3.6/dist-packages (from -r requirements.txt (line 124)) (0.9.10)\n",
            "Requirement already satisfied: html5lib==1.0.1 in /usr/local/lib/python3.6/dist-packages (from -r requirements.txt (line 125)) (1.0.1)\n",
            "Requirement already satisfied: httpimport==0.5.16 in /usr/local/lib/python3.6/dist-packages (from -r requirements.txt (line 126)) (0.5.16)\n",
            "Requirement already satisfied: httplib2==0.11.3 in /usr/local/lib/python3.6/dist-packages (from -r requirements.txt (line 127)) (0.11.3)\n",
            "Requirement already satisfied: humanize==0.5.1 in /usr/local/lib/python3.6/dist-packages (from -r requirements.txt (line 128)) (0.5.1)\n",
            "Requirement already satisfied: hyperopt==0.1.2 in /usr/local/lib/python3.6/dist-packages (from -r requirements.txt (line 129)) (0.1.2)\n",
            "Requirement already satisfied: ideep4py==2.0.0.post3 in /usr/local/lib/python3.6/dist-packages (from -r requirements.txt (line 130)) (2.0.0.post3)\n",
            "Requirement already satisfied: idna==2.8 in /usr/local/lib/python3.6/dist-packages (from -r requirements.txt (line 131)) (2.8)\n",
            "Requirement already satisfied: image==1.5.27 in /usr/local/lib/python3.6/dist-packages (from -r requirements.txt (line 132)) (1.5.27)\n",
            "Requirement already satisfied: imageio==2.4.1 in /usr/local/lib/python3.6/dist-packages (from -r requirements.txt (line 133)) (2.4.1)\n",
            "Requirement already satisfied: imagesize==1.1.0 in /usr/local/lib/python3.6/dist-packages (from -r requirements.txt (line 134)) (1.1.0)\n",
            "Requirement already satisfied: imbalanced-learn==0.4.3 in /usr/local/lib/python3.6/dist-packages (from -r requirements.txt (line 135)) (0.4.3)\n",
            "Requirement already satisfied: imblearn==0.0 in /usr/local/lib/python3.6/dist-packages (from -r requirements.txt (line 136)) (0.0)\n",
            "Requirement already satisfied: imgaug==0.2.9 in /usr/local/lib/python3.6/dist-packages (from -r requirements.txt (line 137)) (0.2.9)\n",
            "Requirement already satisfied: importlib-metadata==0.18 in /usr/local/lib/python3.6/dist-packages (from -r requirements.txt (line 138)) (0.18)\n",
            "Requirement already satisfied: imutils==0.5.2 in /usr/local/lib/python3.6/dist-packages (from -r requirements.txt (line 139)) (0.5.2)\n",
            "Requirement already satisfied: inflect==2.1.0 in /usr/local/lib/python3.6/dist-packages (from -r requirements.txt (line 140)) (2.1.0)\n",
            "Requirement already satisfied: intel-openmp==2019.0 in /usr/local/lib/python3.6/dist-packages (from -r requirements.txt (line 141)) (2019.0)\n",
            "Requirement already satisfied: intervaltree==2.1.0 in /usr/local/lib/python3.6/dist-packages (from -r requirements.txt (line 142)) (2.1.0)\n",
            "Requirement already satisfied: ipykernel==4.6.1 in /usr/local/lib/python3.6/dist-packages (from -r requirements.txt (line 143)) (4.6.1)\n",
            "Requirement already satisfied: ipython==5.5.0 in /usr/local/lib/python3.6/dist-packages (from -r requirements.txt (line 144)) (5.5.0)\n",
            "Requirement already satisfied: ipython-genutils==0.2.0 in /usr/local/lib/python3.6/dist-packages (from -r requirements.txt (line 145)) (0.2.0)\n",
            "Requirement already satisfied: ipython-sql==0.3.9 in /usr/local/lib/python3.6/dist-packages (from -r requirements.txt (line 146)) (0.3.9)\n",
            "Requirement already satisfied: ipywidgets==7.4.2 in /usr/local/lib/python3.6/dist-packages (from -r requirements.txt (line 147)) (7.4.2)\n",
            "Requirement already satisfied: itsdangerous==1.1.0 in /usr/local/lib/python3.6/dist-packages (from -r requirements.txt (line 148)) (1.1.0)\n",
            "Requirement already satisfied: jdcal==1.4.1 in /usr/local/lib/python3.6/dist-packages (from -r requirements.txt (line 149)) (1.4.1)\n",
            "Requirement already satisfied: jedi==0.14.0 in /usr/local/lib/python3.6/dist-packages (from -r requirements.txt (line 150)) (0.14.0)\n",
            "Requirement already satisfied: jieba==0.39 in /usr/local/lib/python3.6/dist-packages (from -r requirements.txt (line 151)) (0.39)\n",
            "Requirement already satisfied: Jinja2==2.10.1 in /usr/local/lib/python3.6/dist-packages (from -r requirements.txt (line 152)) (2.10.1)\n",
            "Requirement already satisfied: jmespath==0.9.4 in /usr/local/lib/python3.6/dist-packages (from -r requirements.txt (line 153)) (0.9.4)\n",
            "Requirement already satisfied: joblib==0.13.2 in /usr/local/lib/python3.6/dist-packages (from -r requirements.txt (line 154)) (0.13.2)\n",
            "Requirement already satisfied: jpeg4py==0.1.4 in /usr/local/lib/python3.6/dist-packages (from -r requirements.txt (line 155)) (0.1.4)\n",
            "Requirement already satisfied: jsonschema==2.6.0 in /usr/local/lib/python3.6/dist-packages (from -r requirements.txt (line 156)) (2.6.0)\n",
            "Requirement already satisfied: jupyter==1.0.0 in /usr/local/lib/python3.6/dist-packages (from -r requirements.txt (line 157)) (1.0.0)\n",
            "Requirement already satisfied: jupyter-client==5.2.4 in /usr/local/lib/python3.6/dist-packages (from -r requirements.txt (line 158)) (5.2.4)\n",
            "Requirement already satisfied: jupyter-console==6.0.0 in /usr/local/lib/python3.6/dist-packages (from -r requirements.txt (line 159)) (6.0.0)\n",
            "Requirement already satisfied: jupyter-core==4.5.0 in /usr/local/lib/python3.6/dist-packages (from -r requirements.txt (line 160)) (4.5.0)\n",
            "Requirement already satisfied: kaggle==1.5.4 in /usr/local/lib/python3.6/dist-packages (from -r requirements.txt (line 161)) (1.5.4)\n",
            "Requirement already satisfied: kapre==0.1.3.1 in /usr/local/lib/python3.6/dist-packages (from -r requirements.txt (line 162)) (0.1.3.1)\n",
            "Requirement already satisfied: Keras==2.2.4 in /usr/local/lib/python3.6/dist-packages (from -r requirements.txt (line 163)) (2.2.4)\n",
            "Requirement already satisfied: Keras-Applications==1.0.8 in /usr/local/lib/python3.6/dist-packages (from -r requirements.txt (line 164)) (1.0.8)\n",
            "Requirement already satisfied: Keras-Preprocessing==1.1.0 in /usr/local/lib/python3.6/dist-packages (from -r requirements.txt (line 165)) (1.1.0)\n",
            "Requirement already satisfied: keras-vis==0.4.1 in /usr/local/lib/python3.6/dist-packages (from -r requirements.txt (line 166)) (0.4.1)\n",
            "Requirement already satisfied: kiwisolver==1.1.0 in /usr/local/lib/python3.6/dist-packages (from -r requirements.txt (line 167)) (1.1.0)\n",
            "Requirement already satisfied: knnimpute==0.1.0 in /usr/local/lib/python3.6/dist-packages (from -r requirements.txt (line 168)) (0.1.0)\n",
            "Requirement already satisfied: librosa==0.6.3 in /usr/local/lib/python3.6/dist-packages (from -r requirements.txt (line 169)) (0.6.3)\n",
            "Requirement already satisfied: lightgbm==2.2.3 in /usr/local/lib/python3.6/dist-packages (from -r requirements.txt (line 170)) (2.2.3)\n",
            "Requirement already satisfied: llvmlite==0.29.0 in /usr/local/lib/python3.6/dist-packages (from -r requirements.txt (line 171)) (0.29.0)\n",
            "Requirement already satisfied: lmdb==0.95 in /usr/local/lib/python3.6/dist-packages (from -r requirements.txt (line 172)) (0.95)\n",
            "Requirement already satisfied: lucid==0.3.8 in /usr/local/lib/python3.6/dist-packages (from -r requirements.txt (line 173)) (0.3.8)\n",
            "Requirement already satisfied: lunardate==0.2.0 in /usr/local/lib/python3.6/dist-packages (from -r requirements.txt (line 174)) (0.2.0)\n",
            "Requirement already satisfied: lxml==4.2.6 in /usr/local/lib/python3.6/dist-packages (from -r requirements.txt (line 175)) (4.2.6)\n",
            "Requirement already satisfied: magenta==0.3.19 in /usr/local/lib/python3.6/dist-packages (from -r requirements.txt (line 176)) (0.3.19)\n",
            "Requirement already satisfied: Markdown==3.1.1 in /usr/local/lib/python3.6/dist-packages (from -r requirements.txt (line 177)) (3.1.1)\n",
            "Requirement already satisfied: MarkupSafe==1.1.1 in /usr/local/lib/python3.6/dist-packages (from -r requirements.txt (line 178)) (1.1.1)\n",
            "Requirement already satisfied: matplotlib==3.0.3 in /usr/local/lib/python3.6/dist-packages (from -r requirements.txt (line 179)) (3.0.3)\n",
            "Requirement already satisfied: matplotlib-venn==0.11.5 in /usr/local/lib/python3.6/dist-packages (from -r requirements.txt (line 180)) (0.11.5)\n",
            "Requirement already satisfied: mesh-tensorflow==0.0.5 in /usr/local/lib/python3.6/dist-packages (from -r requirements.txt (line 181)) (0.0.5)\n",
            "Requirement already satisfied: mido==1.2.6 in /usr/local/lib/python3.6/dist-packages (from -r requirements.txt (line 182)) (1.2.6)\n",
            "Requirement already satisfied: mir-eval==0.5 in /usr/local/lib/python3.6/dist-packages (from -r requirements.txt (line 183)) (0.5)\n",
            "Requirement already satisfied: missingno==0.4.1 in /usr/local/lib/python3.6/dist-packages (from -r requirements.txt (line 184)) (0.4.1)\n",
            "Requirement already satisfied: mistune==0.8.4 in /usr/local/lib/python3.6/dist-packages (from -r requirements.txt (line 185)) (0.8.4)\n",
            "Requirement already satisfied: mizani==0.5.4 in /usr/local/lib/python3.6/dist-packages (from -r requirements.txt (line 186)) (0.5.4)\n",
            "Requirement already satisfied: mkl==2019.0 in /usr/local/lib/python3.6/dist-packages (from -r requirements.txt (line 187)) (2019.0)\n",
            "Requirement already satisfied: mlxtend==0.14.0 in /usr/local/lib/python3.6/dist-packages (from -r requirements.txt (line 188)) (0.14.0)\n",
            "Requirement already satisfied: more-itertools==7.0.0 in /usr/local/lib/python3.6/dist-packages (from -r requirements.txt (line 189)) (7.0.0)\n",
            "Requirement already satisfied: moviepy==0.2.3.5 in /usr/local/lib/python3.6/dist-packages (from -r requirements.txt (line 190)) (0.2.3.5)\n",
            "Requirement already satisfied: mpi4py==3.0.2 in /usr/local/lib/python3.6/dist-packages (from -r requirements.txt (line 191)) (3.0.2)\n",
            "Requirement already satisfied: mpmath==1.1.0 in /usr/local/lib/python3.6/dist-packages (from -r requirements.txt (line 192)) (1.1.0)\n",
            "Requirement already satisfied: msgpack==0.5.6 in /usr/local/lib/python3.6/dist-packages (from -r requirements.txt (line 193)) (0.5.6)\n",
            "Requirement already satisfied: multiprocess==0.70.7 in /usr/local/lib/python3.6/dist-packages (from -r requirements.txt (line 194)) (0.70.7)\n",
            "Requirement already satisfied: multitasking==0.0.9 in /usr/local/lib/python3.6/dist-packages (from -r requirements.txt (line 195)) (0.0.9)\n",
            "Requirement already satisfied: murmurhash==1.0.2 in /usr/local/lib/python3.6/dist-packages (from -r requirements.txt (line 196)) (1.0.2)\n",
            "Requirement already satisfied: music21==5.5.0 in /usr/local/lib/python3.6/dist-packages (from -r requirements.txt (line 197)) (5.5.0)\n",
            "Requirement already satisfied: natsort==5.5.0 in /usr/local/lib/python3.6/dist-packages (from -r requirements.txt (line 198)) (5.5.0)\n",
            "Requirement already satisfied: nbconvert==5.5.0 in /usr/local/lib/python3.6/dist-packages (from -r requirements.txt (line 199)) (5.5.0)\n",
            "Requirement already satisfied: nbformat==4.4.0 in /usr/local/lib/python3.6/dist-packages (from -r requirements.txt (line 200)) (4.4.0)\n",
            "Requirement already satisfied: networkx==2.3 in /usr/local/lib/python3.6/dist-packages (from -r requirements.txt (line 201)) (2.3)\n",
            "Requirement already satisfied: nibabel==2.3.3 in /usr/local/lib/python3.6/dist-packages (from -r requirements.txt (line 202)) (2.3.3)\n",
            "Requirement already satisfied: nltk==3.2.5 in /usr/local/lib/python3.6/dist-packages (from -r requirements.txt (line 203)) (3.2.5)\n",
            "Requirement already satisfied: nose==1.3.7 in /usr/local/lib/python3.6/dist-packages (from -r requirements.txt (line 204)) (1.3.7)\n",
            "Requirement already satisfied: notebook==5.2.2 in /usr/local/lib/python3.6/dist-packages (from -r requirements.txt (line 205)) (5.2.2)\n",
            "Requirement already satisfied: np-utils==0.5.10.0 in /usr/local/lib/python3.6/dist-packages (from -r requirements.txt (line 206)) (0.5.10.0)\n",
            "Requirement already satisfied: numba==0.40.1 in /usr/local/lib/python3.6/dist-packages (from -r requirements.txt (line 207)) (0.40.1)\n",
            "Requirement already satisfied: numexpr==2.6.9 in /usr/local/lib/python3.6/dist-packages (from -r requirements.txt (line 208)) (2.6.9)\n",
            "Requirement already satisfied: numpy==1.16.4 in /usr/local/lib/python3.6/dist-packages (from -r requirements.txt (line 209)) (1.16.4)\n",
            "Requirement already satisfied: nvidia-ml-py3==7.352.0 in /usr/local/lib/python3.6/dist-packages (from -r requirements.txt (line 210)) (7.352.0)\n",
            "Requirement already satisfied: oauth2client==4.1.3 in /usr/local/lib/python3.6/dist-packages (from -r requirements.txt (line 211)) (4.1.3)\n",
            "Requirement already satisfied: oauthlib==3.0.1 in /usr/local/lib/python3.6/dist-packages (from -r requirements.txt (line 212)) (3.0.1)\n",
            "Requirement already satisfied: okgrade==0.4.3 in /usr/local/lib/python3.6/dist-packages (from -r requirements.txt (line 213)) (0.4.3)\n",
            "Requirement already satisfied: olefile==0.46 in /usr/local/lib/python3.6/dist-packages (from -r requirements.txt (line 214)) (0.46)\n",
            "Requirement already satisfied: opencv-contrib-python==3.4.3.18 in /usr/local/lib/python3.6/dist-packages (from -r requirements.txt (line 215)) (3.4.3.18)\n",
            "Requirement already satisfied: opencv-python==3.4.5.20 in /usr/local/lib/python3.6/dist-packages (from -r requirements.txt (line 216)) (3.4.5.20)\n",
            "Requirement already satisfied: openpyxl==2.5.9 in /usr/local/lib/python3.6/dist-packages (from -r requirements.txt (line 217)) (2.5.9)\n",
            "Requirement already satisfied: osqp==0.5.0 in /usr/local/lib/python3.6/dist-packages (from -r requirements.txt (line 218)) (0.5.0)\n",
            "Requirement already satisfied: packaging==19.0 in /usr/local/lib/python3.6/dist-packages (from -r requirements.txt (line 219)) (19.0)\n",
            "Requirement already satisfied: palettable==3.1.1 in /usr/local/lib/python3.6/dist-packages (from -r requirements.txt (line 220)) (3.1.1)\n",
            "Requirement already satisfied: pandas==0.24.2 in /usr/local/lib/python3.6/dist-packages (from -r requirements.txt (line 221)) (0.24.2)\n",
            "Requirement already satisfied: pandas-datareader==0.7.0 in /usr/local/lib/python3.6/dist-packages (from -r requirements.txt (line 222)) (0.7.0)\n",
            "Requirement already satisfied: pandas-gbq==0.4.1 in /usr/local/lib/python3.6/dist-packages (from -r requirements.txt (line 223)) (0.4.1)\n",
            "Requirement already satisfied: pandas-profiling==1.4.1 in /usr/local/lib/python3.6/dist-packages (from -r requirements.txt (line 224)) (1.4.1)\n",
            "Requirement already satisfied: pandocfilters==1.4.2 in /usr/local/lib/python3.6/dist-packages (from -r requirements.txt (line 225)) (1.4.2)\n",
            "Requirement already satisfied: parso==0.5.0 in /usr/local/lib/python3.6/dist-packages (from -r requirements.txt (line 226)) (0.5.0)\n",
            "Requirement already satisfied: pathlib==1.0.1 in /usr/local/lib/python3.6/dist-packages (from -r requirements.txt (line 227)) (1.0.1)\n",
            "Requirement already satisfied: patsy==0.5.1 in /usr/local/lib/python3.6/dist-packages (from -r requirements.txt (line 228)) (0.5.1)\n",
            "Requirement already satisfied: pexpect==4.7.0 in /usr/local/lib/python3.6/dist-packages (from -r requirements.txt (line 229)) (4.7.0)\n",
            "Requirement already satisfied: pickleshare==0.7.5 in /usr/local/lib/python3.6/dist-packages (from -r requirements.txt (line 230)) (0.7.5)\n",
            "Requirement already satisfied: Pillow==4.3.0 in /usr/local/lib/python3.6/dist-packages (from -r requirements.txt (line 231)) (4.3.0)\n",
            "Requirement already satisfied: pip-tools==3.6.1 in /usr/local/lib/python3.6/dist-packages (from -r requirements.txt (line 232)) (3.6.1)\n",
            "Requirement already satisfied: plac==0.9.6 in /usr/local/lib/python3.6/dist-packages (from -r requirements.txt (line 233)) (0.9.6)\n",
            "Requirement already satisfied: plotly==3.10.0 in /usr/local/lib/python3.6/dist-packages (from -r requirements.txt (line 234)) (3.10.0)\n",
            "Requirement already satisfied: plotnine==0.5.1 in /usr/local/lib/python3.6/dist-packages (from -r requirements.txt (line 235)) (0.5.1)\n",
            "Requirement already satisfied: pluggy==0.7.1 in /usr/local/lib/python3.6/dist-packages (from -r requirements.txt (line 236)) (0.7.1)\n",
            "Requirement already satisfied: portpicker==1.2.0 in /usr/local/lib/python3.6/dist-packages (from -r requirements.txt (line 237)) (1.2.0)\n",
            "Requirement already satisfied: prefetch-generator==1.0.1 in /usr/local/lib/python3.6/dist-packages (from -r requirements.txt (line 238)) (1.0.1)\n",
            "Requirement already satisfied: preshed==2.0.1 in /usr/local/lib/python3.6/dist-packages (from -r requirements.txt (line 239)) (2.0.1)\n",
            "Requirement already satisfied: pretty-midi==0.2.8 in /usr/local/lib/python3.6/dist-packages (from -r requirements.txt (line 240)) (0.2.8)\n",
            "Requirement already satisfied: prettytable==0.7.2 in /usr/local/lib/python3.6/dist-packages (from -r requirements.txt (line 241)) (0.7.2)\n",
            "Requirement already satisfied: progressbar2==3.38.0 in /usr/local/lib/python3.6/dist-packages (from -r requirements.txt (line 242)) (3.38.0)\n",
            "Requirement already satisfied: prometheus-client==0.7.1 in /usr/local/lib/python3.6/dist-packages (from -r requirements.txt (line 243)) (0.7.1)\n",
            "Requirement already satisfied: promise==2.2.1 in /usr/local/lib/python3.6/dist-packages (from -r requirements.txt (line 244)) (2.2.1)\n",
            "Requirement already satisfied: prompt-toolkit==1.0.16 in /usr/local/lib/python3.6/dist-packages (from -r requirements.txt (line 245)) (1.0.16)\n",
            "Requirement already satisfied: protobuf==3.7.1 in /usr/local/lib/python3.6/dist-packages (from -r requirements.txt (line 246)) (3.7.1)\n",
            "Requirement already satisfied: psutil==5.4.8 in /usr/local/lib/python3.6/dist-packages (from -r requirements.txt (line 247)) (5.4.8)\n",
            "Requirement already satisfied: psycopg2==2.7.6.1 in /usr/local/lib/python3.6/dist-packages (from -r requirements.txt (line 248)) (2.7.6.1)\n",
            "Requirement already satisfied: ptyprocess==0.6.0 in /usr/local/lib/python3.6/dist-packages (from -r requirements.txt (line 249)) (0.6.0)\n",
            "Requirement already satisfied: py==1.8.0 in /usr/local/lib/python3.6/dist-packages (from -r requirements.txt (line 250)) (1.8.0)\n",
            "Requirement already satisfied: pyarrow==0.13.0 in /usr/local/lib/python3.6/dist-packages (from -r requirements.txt (line 251)) (0.13.0)\n",
            "Requirement already satisfied: pyasn1==0.4.5 in /usr/local/lib/python3.6/dist-packages (from -r requirements.txt (line 252)) (0.4.5)\n",
            "Requirement already satisfied: pyasn1-modules==0.2.5 in /usr/local/lib/python3.6/dist-packages (from -r requirements.txt (line 253)) (0.2.5)\n",
            "Requirement already satisfied: pycocotools==2.0.0 in /usr/local/lib/python3.6/dist-packages (from -r requirements.txt (line 254)) (2.0.0)\n",
            "Requirement already satisfied: pycparser==2.19 in /usr/local/lib/python3.6/dist-packages (from -r requirements.txt (line 255)) (2.19)\n",
            "Requirement already satisfied: pydot==1.3.0 in /usr/local/lib/python3.6/dist-packages (from -r requirements.txt (line 256)) (1.3.0)\n",
            "Requirement already satisfied: pydot-ng==2.0.0 in /usr/local/lib/python3.6/dist-packages (from -r requirements.txt (line 257)) (2.0.0)\n",
            "Requirement already satisfied: pydotplus==2.0.2 in /usr/local/lib/python3.6/dist-packages (from -r requirements.txt (line 258)) (2.0.2)\n",
            "Requirement already satisfied: pyemd==0.5.1 in /usr/local/lib/python3.6/dist-packages (from -r requirements.txt (line 259)) (0.5.1)\n",
            "Requirement already satisfied: pyglet==1.3.2 in /usr/local/lib/python3.6/dist-packages (from -r requirements.txt (line 260)) (1.3.2)\n",
            "Requirement already satisfied: Pygments==2.1.3 in /usr/local/lib/python3.6/dist-packages (from -r requirements.txt (line 261)) (2.1.3)\n",
            "Requirement already satisfied: pygobject==3.26.1 in /usr/lib/python3/dist-packages (from -r requirements.txt (line 262)) (3.26.1)\n",
            "Requirement already satisfied: pymc3==3.7 in /usr/local/lib/python3.6/dist-packages (from -r requirements.txt (line 263)) (3.7)\n",
            "Requirement already satisfied: pymongo==3.8.0 in /usr/local/lib/python3.6/dist-packages (from -r requirements.txt (line 264)) (3.8.0)\n",
            "Requirement already satisfied: pymystem3==0.2.0 in /usr/local/lib/python3.6/dist-packages (from -r requirements.txt (line 265)) (0.2.0)\n",
            "Requirement already satisfied: PyOpenGL==3.1.0 in /usr/local/lib/python3.6/dist-packages (from -r requirements.txt (line 266)) (3.1.0)\n",
            "Requirement already satisfied: pyparsing==2.4.0 in /usr/local/lib/python3.6/dist-packages (from -r requirements.txt (line 267)) (2.4.0)\n",
            "Requirement already satisfied: pyrsistent==0.15.2 in /usr/local/lib/python3.6/dist-packages (from -r requirements.txt (line 268)) (0.15.2)\n",
            "Requirement already satisfied: pysndfile==1.3.3 in /usr/local/lib/python3.6/dist-packages (from -r requirements.txt (line 269)) (1.3.3)\n",
            "Requirement already satisfied: PySocks==1.7.0 in /usr/local/lib/python3.6/dist-packages (from -r requirements.txt (line 270)) (1.7.0)\n",
            "Requirement already satisfied: pystan==2.19.0.0 in /usr/local/lib/python3.6/dist-packages (from -r requirements.txt (line 271)) (2.19.0.0)\n",
            "Requirement already satisfied: pytest==3.6.4 in /usr/local/lib/python3.6/dist-packages (from -r requirements.txt (line 272)) (3.6.4)\n",
            "Requirement already satisfied: python-apt==1.6.4 in /usr/lib/python3/dist-packages (from -r requirements.txt (line 273)) (1.6.4)\n",
            "Requirement already satisfied: python-chess==0.23.11 in /usr/local/lib/python3.6/dist-packages (from -r requirements.txt (line 274)) (0.23.11)\n",
            "Requirement already satisfied: python-dateutil==2.5.3 in /usr/local/lib/python3.6/dist-packages (from -r requirements.txt (line 275)) (2.5.3)\n",
            "Requirement already satisfied: python-louvain==0.13 in /usr/local/lib/python3.6/dist-packages (from -r requirements.txt (line 276)) (0.13)\n",
            "Requirement already satisfied: python-rtmidi==1.3.0 in /usr/local/lib/python3.6/dist-packages (from -r requirements.txt (line 277)) (1.3.0)\n",
            "Requirement already satisfied: python-slugify==3.0.2 in /usr/local/lib/python3.6/dist-packages (from -r requirements.txt (line 278)) (3.0.2)\n",
            "Requirement already satisfied: python-utils==2.3.0 in /usr/local/lib/python3.6/dist-packages (from -r requirements.txt (line 279)) (2.3.0)\n",
            "Requirement already satisfied: pytz==2018.9 in /usr/local/lib/python3.6/dist-packages (from -r requirements.txt (line 280)) (2018.9)\n",
            "Requirement already satisfied: PyWavelets==1.0.3 in /usr/local/lib/python3.6/dist-packages (from -r requirements.txt (line 281)) (1.0.3)\n",
            "Requirement already satisfied: PyYAML==3.13 in /usr/local/lib/python3.6/dist-packages (from -r requirements.txt (line 282)) (3.13)\n",
            "Requirement already satisfied: pyzmq==17.0.0 in /usr/local/lib/python3.6/dist-packages (from -r requirements.txt (line 283)) (17.0.0)\n",
            "Requirement already satisfied: qtconsole==4.5.1 in /usr/local/lib/python3.6/dist-packages (from -r requirements.txt (line 284)) (4.5.1)\n",
            "Requirement already satisfied: requests==2.21.0 in /usr/local/lib/python3.6/dist-packages (from -r requirements.txt (line 285)) (2.21.0)\n",
            "Requirement already satisfied: requests-oauthlib==1.2.0 in /usr/local/lib/python3.6/dist-packages (from -r requirements.txt (line 286)) (1.2.0)\n",
            "Requirement already satisfied: resampy==0.2.1 in /usr/local/lib/python3.6/dist-packages (from -r requirements.txt (line 287)) (0.2.1)\n",
            "Requirement already satisfied: retrying==1.3.3 in /usr/local/lib/python3.6/dist-packages (from -r requirements.txt (line 288)) (1.3.3)\n",
            "Requirement already satisfied: rpy2==2.9.5 in /usr/local/lib/python3.6/dist-packages (from -r requirements.txt (line 289)) (2.9.5)\n",
            "Requirement already satisfied: rsa==4.0 in /usr/local/lib/python3.6/dist-packages (from -r requirements.txt (line 290)) (4.0)\n",
            "Requirement already satisfied: s3fs==0.2.1 in /usr/local/lib/python3.6/dist-packages (from -r requirements.txt (line 291)) (0.2.1)\n",
            "Requirement already satisfied: s3transfer==0.2.1 in /usr/local/lib/python3.6/dist-packages (from -r requirements.txt (line 292)) (0.2.1)\n",
            "Requirement already satisfied: scikit-image==0.15.0 in /usr/local/lib/python3.6/dist-packages (from -r requirements.txt (line 293)) (0.15.0)\n",
            "Requirement already satisfied: scikit-learn==0.21.2 in /usr/local/lib/python3.6/dist-packages (from -r requirements.txt (line 294)) (0.21.2)\n",
            "Requirement already satisfied: scipy==1.3.0 in /usr/local/lib/python3.6/dist-packages (from -r requirements.txt (line 295)) (1.3.0)\n",
            "Requirement already satisfied: screen-resolution-extra==0.0.0 in /usr/lib/python3/dist-packages (from -r requirements.txt (line 296)) (0.0.0)\n",
            "Requirement already satisfied: scs==2.1.0 in /usr/local/lib/python3.6/dist-packages (from -r requirements.txt (line 297)) (2.1.0)\n",
            "Requirement already satisfied: seaborn==0.9.0 in /usr/local/lib/python3.6/dist-packages (from -r requirements.txt (line 298)) (0.9.0)\n",
            "Requirement already satisfied: semantic-version==2.6.0 in /usr/local/lib/python3.6/dist-packages (from -r requirements.txt (line 299)) (2.6.0)\n",
            "Requirement already satisfied: Send2Trash==1.5.0 in /usr/local/lib/python3.6/dist-packages (from -r requirements.txt (line 300)) (1.5.0)\n",
            "Requirement already satisfied: setuptools-git==1.2 in /usr/local/lib/python3.6/dist-packages (from -r requirements.txt (line 301)) (1.2)\n",
            "Requirement already satisfied: Shapely==1.6.4.post2 in /usr/local/lib/python3.6/dist-packages (from -r requirements.txt (line 302)) (1.6.4.post2)\n",
            "Requirement already satisfied: simplegeneric==0.8.1 in /usr/local/lib/python3.6/dist-packages (from -r requirements.txt (line 303)) (0.8.1)\n",
            "Requirement already satisfied: six==1.12.0 in /usr/local/lib/python3.6/dist-packages (from -r requirements.txt (line 304)) (1.12.0)\n",
            "Requirement already satisfied: sklearn==0.0 in /usr/local/lib/python3.6/dist-packages (from -r requirements.txt (line 305)) (0.0)\n",
            "Requirement already satisfied: sklearn-pandas==1.8.0 in /usr/local/lib/python3.6/dist-packages (from -r requirements.txt (line 306)) (1.8.0)\n",
            "Requirement already satisfied: smart-open==1.8.4 in /usr/local/lib/python3.6/dist-packages (from -r requirements.txt (line 307)) (1.8.4)\n",
            "Requirement already satisfied: snowballstemmer==1.2.1 in /usr/local/lib/python3.6/dist-packages (from -r requirements.txt (line 308)) (1.2.1)\n",
            "Requirement already satisfied: sortedcontainers==2.1.0 in /usr/local/lib/python3.6/dist-packages (from -r requirements.txt (line 309)) (2.1.0)\n",
            "Requirement already satisfied: spacy==2.1.4 in /usr/local/lib/python3.6/dist-packages (from -r requirements.txt (line 310)) (2.1.4)\n",
            "Requirement already satisfied: Sphinx==1.8.5 in /usr/local/lib/python3.6/dist-packages (from -r requirements.txt (line 311)) (1.8.5)\n",
            "Requirement already satisfied: sphinxcontrib-websupport==1.1.2 in /usr/local/lib/python3.6/dist-packages (from -r requirements.txt (line 312)) (1.1.2)\n",
            "Requirement already satisfied: SQLAlchemy==1.3.5 in /usr/local/lib/python3.6/dist-packages (from -r requirements.txt (line 313)) (1.3.5)\n",
            "Requirement already satisfied: sqlparse==0.3.0 in /usr/local/lib/python3.6/dist-packages (from -r requirements.txt (line 314)) (0.3.0)\n",
            "Requirement already satisfied: srsly==0.0.7 in /usr/local/lib/python3.6/dist-packages (from -r requirements.txt (line 315)) (0.0.7)\n",
            "Requirement already satisfied: stable-baselines==2.2.1 in /usr/local/lib/python3.6/dist-packages (from -r requirements.txt (line 316)) (2.2.1)\n",
            "Requirement already satisfied: statsmodels==0.10.0 in /usr/local/lib/python3.6/dist-packages (from -r requirements.txt (line 317)) (0.10.0)\n",
            "Requirement already satisfied: sympy==1.1.1 in /usr/local/lib/python3.6/dist-packages (from -r requirements.txt (line 318)) (1.1.1)\n",
            "Requirement already satisfied: tables==3.4.4 in /usr/local/lib/python3.6/dist-packages (from -r requirements.txt (line 319)) (3.4.4)\n",
            "Requirement already satisfied: tabulate==0.8.3 in /usr/local/lib/python3.6/dist-packages (from -r requirements.txt (line 320)) (0.8.3)\n",
            "Requirement already satisfied: tblib==1.4.0 in /usr/local/lib/python3.6/dist-packages (from -r requirements.txt (line 321)) (1.4.0)\n",
            "Requirement already satisfied: tensor2tensor==1.11.0 in /usr/local/lib/python3.6/dist-packages (from -r requirements.txt (line 322)) (1.11.0)\n",
            "Requirement already satisfied: tensorboard==1.14.0 in /usr/local/lib/python3.6/dist-packages (from -r requirements.txt (line 323)) (1.14.0)\n",
            "Requirement already satisfied: tensorboardcolab==0.0.22 in /usr/local/lib/python3.6/dist-packages (from -r requirements.txt (line 324)) (0.0.22)\n",
            "Requirement already satisfied: tensorflow==1.14.0 in /usr/local/lib/python3.6/dist-packages (from -r requirements.txt (line 325)) (1.14.0)\n",
            "Requirement already satisfied: tensorflow-estimator==1.14.0 in /usr/local/lib/python3.6/dist-packages (from -r requirements.txt (line 326)) (1.14.0)\n",
            "Requirement already satisfied: tensorflow-hub==0.4.0 in /usr/local/lib/python3.6/dist-packages (from -r requirements.txt (line 327)) (0.4.0)\n",
            "Requirement already satisfied: tensorflow-metadata==0.13.0 in /usr/local/lib/python3.6/dist-packages (from -r requirements.txt (line 328)) (0.13.0)\n",
            "Requirement already satisfied: tensorflow-probability==0.7.0 in /usr/local/lib/python3.6/dist-packages (from -r requirements.txt (line 329)) (0.7.0)\n",
            "Requirement already satisfied: termcolor==1.1.0 in /usr/local/lib/python3.6/dist-packages (from -r requirements.txt (line 330)) (1.1.0)\n",
            "Requirement already satisfied: terminado==0.8.2 in /usr/local/lib/python3.6/dist-packages (from -r requirements.txt (line 331)) (0.8.2)\n",
            "Requirement already satisfied: testpath==0.4.2 in /usr/local/lib/python3.6/dist-packages (from -r requirements.txt (line 332)) (0.4.2)\n",
            "Requirement already satisfied: text-unidecode==1.2 in /usr/local/lib/python3.6/dist-packages (from -r requirements.txt (line 333)) (1.2)\n",
            "Requirement already satisfied: textblob==0.15.3 in /usr/local/lib/python3.6/dist-packages (from -r requirements.txt (line 334)) (0.15.3)\n",
            "Requirement already satisfied: textgenrnn==1.4.1 in /usr/local/lib/python3.6/dist-packages (from -r requirements.txt (line 335)) (1.4.1)\n",
            "Requirement already satisfied: tfds-nightly==1.0.2.dev201906250106 in /usr/local/lib/python3.6/dist-packages (from -r requirements.txt (line 336)) (1.0.2.dev201906250106)\n",
            "Requirement already satisfied: tflearn==0.3.2 in /usr/local/lib/python3.6/dist-packages (from -r requirements.txt (line 337)) (0.3.2)\n",
            "Requirement already satisfied: Theano==1.0.4 in /usr/local/lib/python3.6/dist-packages (from -r requirements.txt (line 338)) (1.0.4)\n",
            "Requirement already satisfied: thinc==7.0.4 in /usr/local/lib/python3.6/dist-packages (from -r requirements.txt (line 339)) (7.0.4)\n",
            "Requirement already satisfied: toolz==0.9.0 in /usr/local/lib/python3.6/dist-packages (from -r requirements.txt (line 340)) (0.9.0)\n",
            "Requirement already satisfied: torch==1.1.0 in /usr/local/lib/python3.6/dist-packages (from -r requirements.txt (line 341)) (1.1.0)\n",
            "Requirement already satisfied: torchsummary==1.5.1 in /usr/local/lib/python3.6/dist-packages (from -r requirements.txt (line 342)) (1.5.1)\n",
            "Requirement already satisfied: torchtext==0.3.1 in /usr/local/lib/python3.6/dist-packages (from -r requirements.txt (line 343)) (0.3.1)\n",
            "Requirement already satisfied: torchvision==0.3.0 in /usr/local/lib/python3.6/dist-packages (from -r requirements.txt (line 344)) (0.3.0)\n",
            "Requirement already satisfied: tornado==4.5.3 in /usr/local/lib/python3.6/dist-packages (from -r requirements.txt (line 345)) (4.5.3)\n",
            "Requirement already satisfied: tqdm==4.28.1 in /usr/local/lib/python3.6/dist-packages (from -r requirements.txt (line 346)) (4.28.1)\n",
            "Requirement already satisfied: traitlets==4.3.2 in /usr/local/lib/python3.6/dist-packages (from -r requirements.txt (line 347)) (4.3.2)\n",
            "Requirement already satisfied: tweepy==3.6.0 in /usr/local/lib/python3.6/dist-packages (from -r requirements.txt (line 348)) (3.6.0)\n",
            "Requirement already satisfied: typing==3.7.4 in /usr/local/lib/python3.6/dist-packages (from -r requirements.txt (line 349)) (3.7.4)\n",
            "Requirement already satisfied: tzlocal==1.5.1 in /usr/local/lib/python3.6/dist-packages (from -r requirements.txt (line 350)) (1.5.1)\n",
            "Requirement already satisfied: umap-learn==0.3.9 in /usr/local/lib/python3.6/dist-packages (from -r requirements.txt (line 351)) (0.3.9)\n",
            "Requirement already satisfied: uritemplate==3.0.0 in /usr/local/lib/python3.6/dist-packages (from -r requirements.txt (line 352)) (3.0.0)\n",
            "Requirement already satisfied: urllib3==1.24.3 in /usr/local/lib/python3.6/dist-packages (from -r requirements.txt (line 353)) (1.24.3)\n",
            "Requirement already satisfied: vega-datasets==0.7.0 in /usr/local/lib/python3.6/dist-packages (from -r requirements.txt (line 354)) (0.7.0)\n",
            "Requirement already satisfied: wasabi==0.2.2 in /usr/local/lib/python3.6/dist-packages (from -r requirements.txt (line 355)) (0.2.2)\n",
            "Requirement already satisfied: wcwidth==0.1.7 in /usr/local/lib/python3.6/dist-packages (from -r requirements.txt (line 356)) (0.1.7)\n",
            "Requirement already satisfied: webencodings==0.5.1 in /usr/local/lib/python3.6/dist-packages (from -r requirements.txt (line 357)) (0.5.1)\n",
            "Requirement already satisfied: Werkzeug==0.15.4 in /usr/local/lib/python3.6/dist-packages (from -r requirements.txt (line 358)) (0.15.4)\n",
            "Requirement already satisfied: wget==3.2 in /usr/local/lib/python3.6/dist-packages (from -r requirements.txt (line 359)) (3.2)\n",
            "Requirement already satisfied: widgetsnbextension==3.4.2 in /usr/local/lib/python3.6/dist-packages (from -r requirements.txt (line 360)) (3.4.2)\n",
            "Requirement already satisfied: wordcloud==1.5.0 in /usr/local/lib/python3.6/dist-packages (from -r requirements.txt (line 361)) (1.5.0)\n",
            "Requirement already satisfied: wrapt==1.11.2 in /usr/local/lib/python3.6/dist-packages (from -r requirements.txt (line 362)) (1.11.2)\n",
            "Requirement already satisfied: xarray==0.11.3 in /usr/local/lib/python3.6/dist-packages (from -r requirements.txt (line 363)) (0.11.3)\n",
            "Requirement already satisfied: xgboost==0.90 in /usr/local/lib/python3.6/dist-packages (from -r requirements.txt (line 364)) (0.90)\n",
            "Requirement already satisfied: xkit==0.0.0 in /usr/lib/python3/dist-packages (from -r requirements.txt (line 365)) (0.0.0)\n",
            "Requirement already satisfied: xlrd==1.1.0 in /usr/local/lib/python3.6/dist-packages (from -r requirements.txt (line 366)) (1.1.0)\n",
            "Requirement already satisfied: xlwt==1.3.0 in /usr/local/lib/python3.6/dist-packages (from -r requirements.txt (line 367)) (1.3.0)\n",
            "Requirement already satisfied: yellowbrick==0.9.1 in /usr/local/lib/python3.6/dist-packages (from -r requirements.txt (line 368)) (0.9.1)\n",
            "Requirement already satisfied: zict==1.0.0 in /usr/local/lib/python3.6/dist-packages (from -r requirements.txt (line 369)) (1.0.0)\n",
            "Requirement already satisfied: zipp==0.5.1 in /usr/local/lib/python3.6/dist-packages (from -r requirements.txt (line 370)) (0.5.1)\n",
            "Requirement already satisfied: zmq==0.0.0 in /usr/local/lib/python3.6/dist-packages (from -r requirements.txt (line 371)) (0.0.0)\n",
            "Requirement already satisfied: setuptools>=34.4.1 in /usr/local/lib/python3.6/dist-packages (from cufflinks==0.14.6->-r requirements.txt (line 43)) (41.2.0)\n",
            "Requirement already satisfied: wheel in /usr/local/lib/python3.6/dist-packages (from magenta==0.3.19->-r requirements.txt (line 176)) (0.33.6)\n"
          ],
          "name": "stdout"
        },
        {
          "output_type": "execute_result",
          "data": {
            "text/html": [
              "\n",
              "            <div>\n",
              "                <p><b>SparkSession - in-memory</b></p>\n",
              "                \n",
              "        <div>\n",
              "            <p><b>SparkContext</b></p>\n",
              "\n",
              "            <p><a href=\"http://1300a33dd4fb:4040\">Spark UI</a></p>\n",
              "\n",
              "            <dl>\n",
              "              <dt>Version</dt>\n",
              "                <dd><code>v2.4.4</code></dd>\n",
              "              <dt>Master</dt>\n",
              "                <dd><code>local[*]</code></dd>\n",
              "              <dt>AppName</dt>\n",
              "                <dd><code>xente</code></dd>\n",
              "            </dl>\n",
              "        </div>\n",
              "        \n",
              "            </div>\n",
              "        "
            ],
            "text/plain": [
              "<pyspark.sql.session.SparkSession at 0x7f55b7adcb00>"
            ]
          },
          "metadata": {
            "tags": []
          },
          "execution_count": 3
        }
      ]
    },
    {
      "cell_type": "markdown",
      "metadata": {
        "id": "4AjfDoGJgDYm",
        "colab_type": "text"
      },
      "source": [
        "# Load Training Data"
      ]
    },
    {
      "cell_type": "code",
      "metadata": {
        "id": "VQD2FRLWZw6P",
        "colab_type": "code",
        "colab": {}
      },
      "source": [
        "import pandas as pd\n",
        "training_data = pd.read_csv(\"https://drive.google.com/uc?export=download&id=1NrtVkKv8n_g27w5elq9HWZA1i8aFBW0G\")\n",
        "training_data.head()\n",
        "df = spark.createDataFrame(training_data)"
      ],
      "execution_count": 0,
      "outputs": []
    },
    {
      "cell_type": "markdown",
      "metadata": {
        "id": "PdWRXdYugfPt",
        "colab_type": "text"
      },
      "source": [
        "## Dicionário dos Dados\n",
        "\n",
        "*   **TransactionId:** Unique transaction identifier on platform.\n",
        "*   **BatchId:** Unique number assigned to a batch of transactions for processing.\n",
        "*   **AccountId:** Unique number identifying the customer on platform.\n",
        "*   **SubscriptionId:** Unique number identifying the customer subscription.\n",
        "*   **CustomerId:** Unique identifier attached to Account.\n",
        "*   **CurrencyCode:** Country currency.\n",
        "*   **CountryCode:** Numerical geographical code of country.\n",
        "*   **ProviderId:** Source provider of Item bought.\n",
        "*   **ProductId:** Item name being bought.\n",
        "*   **ProductCategory:** ProductIds are organized into these broader product categories.\n",
        "*   **ChannelId:** Identifies if customer used web,Android, IOS, pay later or checkout.\n",
        "*   **Amount:** Value of the transaction. Positive for debits from customer account and negative for credit into customer account.\n",
        "*   **Value:** Absolute value of the amount.\n",
        "*   **TransactionStartTime:** Transaction start time.\n",
        "*   **PricingStrategy:** Category of Xente's pricing structure for merchants.\n",
        "*   **FraudResult:** Fraud status of transaction: 1) Yes; or 0) No."
      ]
    },
    {
      "cell_type": "code",
      "metadata": {
        "id": "hnjIlCVqhAK5",
        "colab_type": "code",
        "outputId": "b850a480-4968-4446-832f-9751d4f8d1b5",
        "colab": {
          "base_uri": "https://localhost:8080/",
          "height": 341
        }
      },
      "source": [
        "df.printSchema()"
      ],
      "execution_count": 6,
      "outputs": [
        {
          "output_type": "stream",
          "text": [
            "root\n",
            " |-- TransactionId: string (nullable = true)\n",
            " |-- BatchId: string (nullable = true)\n",
            " |-- AccountId: string (nullable = true)\n",
            " |-- SubscriptionId: string (nullable = true)\n",
            " |-- CustomerId: string (nullable = true)\n",
            " |-- CurrencyCode: string (nullable = true)\n",
            " |-- CountryCode: long (nullable = true)\n",
            " |-- ProviderId: string (nullable = true)\n",
            " |-- ProductId: string (nullable = true)\n",
            " |-- ProductCategory: string (nullable = true)\n",
            " |-- ChannelId: string (nullable = true)\n",
            " |-- Amount: double (nullable = true)\n",
            " |-- Value: long (nullable = true)\n",
            " |-- TransactionStartTime: string (nullable = true)\n",
            " |-- PricingStrategy: long (nullable = true)\n",
            " |-- FraudResult: long (nullable = true)\n",
            "\n"
          ],
          "name": "stdout"
        }
      ]
    },
    {
      "cell_type": "markdown",
      "metadata": {
        "id": "Zyv5Z2E4gCdn",
        "colab_type": "text"
      },
      "source": [
        "## Análise dos Dados Faltantes"
      ]
    },
    {
      "cell_type": "code",
      "metadata": {
        "id": "Cc_NF1wrgnxu",
        "colab_type": "code",
        "outputId": "6ee5aba1-d54a-4b6a-f77c-2c9e7d3a5daa",
        "colab": {
          "base_uri": "https://localhost:8080/",
          "height": 53
        }
      },
      "source": [
        "print(df.count())\n",
        "df.na.drop(how='any').count()"
      ],
      "execution_count": 7,
      "outputs": [
        {
          "output_type": "stream",
          "text": [
            "95662\n"
          ],
          "name": "stdout"
        },
        {
          "output_type": "execute_result",
          "data": {
            "text/plain": [
              "95662"
            ]
          },
          "metadata": {
            "tags": []
          },
          "execution_count": 7
        }
      ]
    },
    {
      "cell_type": "markdown",
      "metadata": {
        "id": "4u2N8rmyxrsB",
        "colab_type": "text"
      },
      "source": [
        "**Não** há dados faltantes no dataset de **treinamento** : https://zindi.africa/competitions/xente-fraud-detection-challenge/data\n",
        "\n",
        "\n",
        "### Há linhas duplicadas?\n",
        "\n"
      ]
    },
    {
      "cell_type": "code",
      "metadata": {
        "id": "rc9ghU2aCFTf",
        "colab_type": "code",
        "outputId": "8462db5e-1324-48d1-f4ea-f76f9b55d5d4",
        "colab": {
          "base_uri": "https://localhost:8080/",
          "height": 35
        }
      },
      "source": [
        "df = df.distinct()\n",
        "print(df.count())"
      ],
      "execution_count": 8,
      "outputs": [
        {
          "output_type": "stream",
          "text": [
            "95662\n"
          ],
          "name": "stdout"
        }
      ]
    },
    {
      "cell_type": "markdown",
      "metadata": {
        "id": "QL5AJO7Cgn9-",
        "colab_type": "text"
      },
      "source": [
        "Como pode ser observado, o número de linhas são iguais, portanto, todas as linhas são distintas.\n",
        "\n",
        "### Tratamento dos Dados\n",
        "\n",
        "A oluna \"Amount\" representa o valor envolvido na operação, entretanto, se esse valor for positivo, isso indica que a transação foi débito, caso contrário, valores negativos representam operação crédito.\n",
        "\n",
        "Vamos criar uma coluna para indicar se a transação foi crédito (-1.0) ou débito (1.0), e substituir a coluna pelo vetor absoluto de \"Amount\".\n"
      ]
    },
    {
      "cell_type": "code",
      "metadata": {
        "id": "w8oSW2PlXR9N",
        "colab_type": "code",
        "colab": {
          "base_uri": "https://localhost:8080/",
          "height": 505
        },
        "outputId": "68909275-c0c1-4ac2-bcd9-03af10427dd5"
      },
      "source": [
        "import pyspark.sql.functions as F\n",
        "df = df.withColumn(\"Operation\", F.when(df.Amount > 0, 1).when(df.Amount < 0, -1).otherwise(0))\n",
        "df.show()"
      ],
      "execution_count": 40,
      "outputs": [
        {
          "output_type": "stream",
          "text": [
            "+--------------------+--------------+--------------+-------------------+---------------+------------+-----------+------------+------------+------------------+-----------+-------+-----+--------------------+---------------+-----------+--------------+---------+\n",
            "|       TransactionId|       BatchId|     AccountId|     SubscriptionId|     CustomerId|CurrencyCode|CountryCode|  ProviderId|   ProductId|   ProductCategory|  ChannelId| Amount|Value|TransactionStartTime|PricingStrategy|FraudResult|PositiveAmount|Operation|\n",
            "+--------------------+--------------+--------------+-------------------+---------------+------------+-----------+------------+------------+------------------+-----------+-------+-----+--------------------+---------------+-----------+--------------+---------+\n",
            "| TransactionId_76871| BatchId_36123|AccountId_3957| SubscriptionId_887|CustomerId_4406|         UGX|        256|ProviderId_6|ProductId_10|           airtime|ChannelId_3| 1000.0| 1000|2018-11-15T02:18:49Z|              2|          0|        1000.0|        1|\n",
            "| TransactionId_73770| BatchId_15642|AccountId_4841|SubscriptionId_3829|CustomerId_4406|         UGX|        256|ProviderId_4| ProductId_6|financial_services|ChannelId_2|  -20.0|   20|2018-11-15T02:19:08Z|              2|          0|          20.0|       -1|\n",
            "| TransactionId_26203| BatchId_53941|AccountId_4229| SubscriptionId_222|CustomerId_4683|         UGX|        256|ProviderId_6| ProductId_1|           airtime|ChannelId_3|  500.0|  500|2018-11-15T02:44:21Z|              2|          0|         500.0|        1|\n",
            "|   TransactionId_380|BatchId_102363| AccountId_648|SubscriptionId_2185| CustomerId_988|         UGX|        256|ProviderId_1|ProductId_21|      utility_bill|ChannelId_3|20000.0|21800|2018-11-15T03:32:55Z|              2|          0|       20000.0|        1|\n",
            "| TransactionId_28195| BatchId_38780|AccountId_4841|SubscriptionId_3829| CustomerId_988|         UGX|        256|ProviderId_4| ProductId_6|financial_services|ChannelId_2| -644.0|  644|2018-11-15T03:34:21Z|              2|          0|         644.0|       -1|\n",
            "| TransactionId_23223| BatchId_25954|AccountId_1078|SubscriptionId_4238|CustomerId_1432|         UGX|        256|ProviderId_6| ProductId_3|           airtime|ChannelId_3| 2000.0| 2000|2018-11-15T03:35:10Z|              2|          0|        2000.0|        1|\n",
            "|TransactionId_118063|BatchId_118460|AccountId_2442|SubscriptionId_1980|CustomerId_2858|         UGX|        256|ProviderId_5| ProductId_3|           airtime|ChannelId_3|10000.0|10000|2018-11-15T03:44:31Z|              4|          0|       10000.0|        1|\n",
            "|TransactionId_100640| BatchId_38561|AccountId_4841|SubscriptionId_3829|CustomerId_2858|         UGX|        256|ProviderId_4| ProductId_6|financial_services|ChannelId_2| -500.0|  500|2018-11-15T03:45:13Z|              2|          0|         500.0|       -1|\n",
            "| TransactionId_51905| BatchId_93774| AccountId_272|SubscriptionId_4731| CustomerId_598|         UGX|        256|ProviderId_6|ProductId_10|           airtime|ChannelId_3|  500.0|  500|2018-11-15T04:14:59Z|              2|          0|         500.0|        1|\n",
            "|TransactionId_130161| BatchId_82409| AccountId_710| SubscriptionId_920|CustomerId_1053|         UGX|        256|ProviderId_1|ProductId_15|financial_services|ChannelId_3|  600.0|  600|2018-11-15T04:31:48Z|              2|          0|         600.0|        1|\n",
            "| TransactionId_51800|BatchId_112288|AccountId_2634|SubscriptionId_3511|CustomerId_3052|         UGX|        256|ProviderId_6| ProductId_3|           airtime|ChannelId_3|  890.0|  890|2018-11-15T04:32:08Z|              2|          0|         890.0|        1|\n",
            "| TransactionId_33857|BatchId_126394|AccountId_4841|SubscriptionId_3829|CustomerId_3052|         UGX|        256|ProviderId_4| ProductId_6|financial_services|ChannelId_2|  -40.0|   40|2018-11-15T04:32:42Z|              2|          0|          40.0|       -1|\n",
            "| TransactionId_94963|BatchId_104726| AccountId_710| SubscriptionId_920|CustomerId_1053|         UGX|        256|ProviderId_1|ProductId_15|financial_services|ChannelId_3|  600.0|  600|2018-11-15T04:35:10Z|              2|          0|         600.0|        1|\n",
            "|TransactionId_104687| BatchId_59433| AccountId_710| SubscriptionId_920|CustomerId_1053|         UGX|        256|ProviderId_3|ProductId_15|financial_services|ChannelId_3| 4000.0| 4000|2018-11-15T04:47:31Z|              2|          0|        4000.0|        1|\n",
            "| TransactionId_86903| BatchId_59433| AccountId_710| SubscriptionId_920|CustomerId_1053|         UGX|        256|ProviderId_3|ProductId_15|financial_services|ChannelId_3| 4000.0| 4000|2018-11-15T04:48:09Z|              2|          0|        4000.0|        1|\n",
            "|TransactionId_118831| BatchId_59433| AccountId_710| SubscriptionId_920|CustomerId_1053|         UGX|        256|ProviderId_3|ProductId_15|financial_services|ChannelId_3| 4000.0| 4000|2018-11-15T04:51:20Z|              2|          0|        4000.0|        1|\n",
            "|TransactionId_122975| BatchId_31312|AccountId_2685|SubscriptionId_4626|CustomerId_3105|         UGX|        256|ProviderId_5|ProductId_15|financial_services|ChannelId_3|  500.0|  500|2018-11-15T04:52:37Z|              2|          0|         500.0|        1|\n",
            "| TransactionId_98367|  BatchId_6789|AccountId_2685|SubscriptionId_4626|CustomerId_3105|         UGX|        256|ProviderId_6|ProductId_11|      data_bundles|ChannelId_3| 1000.0| 1000|2018-11-15T04:54:00Z|              2|          0|        1000.0|        1|\n",
            "| TransactionId_64044|BatchId_117733|AccountId_4841|SubscriptionId_3829|CustomerId_3105|         UGX|        256|ProviderId_4| ProductId_6|financial_services|ChannelId_2|  -10.0|   10|2018-11-15T04:54:18Z|              2|          0|          10.0|       -1|\n",
            "|TransactionId_119821| BatchId_89644|AccountId_3081|SubscriptionId_4312|CustomerId_3507|         UGX|        256|ProviderId_5| ProductId_3|           airtime|ChannelId_3|  500.0|  500|2018-11-15T04:56:25Z|              4|          0|         500.0|        1|\n",
            "+--------------------+--------------+--------------+-------------------+---------------+------------+-----------+------------+------------+------------------+-----------+-------+-----+--------------------+---------------+-----------+--------------+---------+\n",
            "only showing top 20 rows\n",
            "\n"
          ],
          "name": "stdout"
        }
      ]
    },
    {
      "cell_type": "markdown",
      "metadata": {
        "id": "ELoSpuSkj24b",
        "colab_type": "text"
      },
      "source": [
        "Esses dados apresentam um problema, teoricamente a coluna \"Value\" representa o valor positivo da coluna \"Amount\", mas nota-se ligeira diferença em algumas células.\n",
        "\n"
      ]
    },
    {
      "cell_type": "code",
      "metadata": {
        "id": "noQGnmvAK5II",
        "colab_type": "code",
        "colab": {
          "base_uri": "https://localhost:8080/",
          "height": 505
        },
        "outputId": "6df525f0-a0e5-414c-bce1-98a41c09583e"
      },
      "source": [
        "from  pyspark.sql.functions import abs\n",
        "df = df.withColumn(\"PositiveAmount\", abs(df[\"Amount\"]))\n",
        "df.drop(\"Amount\")\n",
        "df.show()"
      ],
      "execution_count": 43,
      "outputs": [
        {
          "output_type": "stream",
          "text": [
            "+--------------------+--------------+--------------+-------------------+---------------+------------+-----------+------------+------------+------------------+-----------+-------+-----+--------------------+---------------+-----------+--------------+---------+\n",
            "|       TransactionId|       BatchId|     AccountId|     SubscriptionId|     CustomerId|CurrencyCode|CountryCode|  ProviderId|   ProductId|   ProductCategory|  ChannelId| Amount|Value|TransactionStartTime|PricingStrategy|FraudResult|PositiveAmount|Operation|\n",
            "+--------------------+--------------+--------------+-------------------+---------------+------------+-----------+------------+------------+------------------+-----------+-------+-----+--------------------+---------------+-----------+--------------+---------+\n",
            "| TransactionId_76871| BatchId_36123|AccountId_3957| SubscriptionId_887|CustomerId_4406|         UGX|        256|ProviderId_6|ProductId_10|           airtime|ChannelId_3| 1000.0| 1000|2018-11-15T02:18:49Z|              2|          0|        1000.0|        1|\n",
            "| TransactionId_73770| BatchId_15642|AccountId_4841|SubscriptionId_3829|CustomerId_4406|         UGX|        256|ProviderId_4| ProductId_6|financial_services|ChannelId_2|  -20.0|   20|2018-11-15T02:19:08Z|              2|          0|          20.0|       -1|\n",
            "| TransactionId_26203| BatchId_53941|AccountId_4229| SubscriptionId_222|CustomerId_4683|         UGX|        256|ProviderId_6| ProductId_1|           airtime|ChannelId_3|  500.0|  500|2018-11-15T02:44:21Z|              2|          0|         500.0|        1|\n",
            "|   TransactionId_380|BatchId_102363| AccountId_648|SubscriptionId_2185| CustomerId_988|         UGX|        256|ProviderId_1|ProductId_21|      utility_bill|ChannelId_3|20000.0|21800|2018-11-15T03:32:55Z|              2|          0|       20000.0|        1|\n",
            "| TransactionId_28195| BatchId_38780|AccountId_4841|SubscriptionId_3829| CustomerId_988|         UGX|        256|ProviderId_4| ProductId_6|financial_services|ChannelId_2| -644.0|  644|2018-11-15T03:34:21Z|              2|          0|         644.0|       -1|\n",
            "| TransactionId_23223| BatchId_25954|AccountId_1078|SubscriptionId_4238|CustomerId_1432|         UGX|        256|ProviderId_6| ProductId_3|           airtime|ChannelId_3| 2000.0| 2000|2018-11-15T03:35:10Z|              2|          0|        2000.0|        1|\n",
            "|TransactionId_118063|BatchId_118460|AccountId_2442|SubscriptionId_1980|CustomerId_2858|         UGX|        256|ProviderId_5| ProductId_3|           airtime|ChannelId_3|10000.0|10000|2018-11-15T03:44:31Z|              4|          0|       10000.0|        1|\n",
            "|TransactionId_100640| BatchId_38561|AccountId_4841|SubscriptionId_3829|CustomerId_2858|         UGX|        256|ProviderId_4| ProductId_6|financial_services|ChannelId_2| -500.0|  500|2018-11-15T03:45:13Z|              2|          0|         500.0|       -1|\n",
            "| TransactionId_51905| BatchId_93774| AccountId_272|SubscriptionId_4731| CustomerId_598|         UGX|        256|ProviderId_6|ProductId_10|           airtime|ChannelId_3|  500.0|  500|2018-11-15T04:14:59Z|              2|          0|         500.0|        1|\n",
            "|TransactionId_130161| BatchId_82409| AccountId_710| SubscriptionId_920|CustomerId_1053|         UGX|        256|ProviderId_1|ProductId_15|financial_services|ChannelId_3|  600.0|  600|2018-11-15T04:31:48Z|              2|          0|         600.0|        1|\n",
            "| TransactionId_51800|BatchId_112288|AccountId_2634|SubscriptionId_3511|CustomerId_3052|         UGX|        256|ProviderId_6| ProductId_3|           airtime|ChannelId_3|  890.0|  890|2018-11-15T04:32:08Z|              2|          0|         890.0|        1|\n",
            "| TransactionId_33857|BatchId_126394|AccountId_4841|SubscriptionId_3829|CustomerId_3052|         UGX|        256|ProviderId_4| ProductId_6|financial_services|ChannelId_2|  -40.0|   40|2018-11-15T04:32:42Z|              2|          0|          40.0|       -1|\n",
            "| TransactionId_94963|BatchId_104726| AccountId_710| SubscriptionId_920|CustomerId_1053|         UGX|        256|ProviderId_1|ProductId_15|financial_services|ChannelId_3|  600.0|  600|2018-11-15T04:35:10Z|              2|          0|         600.0|        1|\n",
            "|TransactionId_104687| BatchId_59433| AccountId_710| SubscriptionId_920|CustomerId_1053|         UGX|        256|ProviderId_3|ProductId_15|financial_services|ChannelId_3| 4000.0| 4000|2018-11-15T04:47:31Z|              2|          0|        4000.0|        1|\n",
            "| TransactionId_86903| BatchId_59433| AccountId_710| SubscriptionId_920|CustomerId_1053|         UGX|        256|ProviderId_3|ProductId_15|financial_services|ChannelId_3| 4000.0| 4000|2018-11-15T04:48:09Z|              2|          0|        4000.0|        1|\n",
            "|TransactionId_118831| BatchId_59433| AccountId_710| SubscriptionId_920|CustomerId_1053|         UGX|        256|ProviderId_3|ProductId_15|financial_services|ChannelId_3| 4000.0| 4000|2018-11-15T04:51:20Z|              2|          0|        4000.0|        1|\n",
            "|TransactionId_122975| BatchId_31312|AccountId_2685|SubscriptionId_4626|CustomerId_3105|         UGX|        256|ProviderId_5|ProductId_15|financial_services|ChannelId_3|  500.0|  500|2018-11-15T04:52:37Z|              2|          0|         500.0|        1|\n",
            "| TransactionId_98367|  BatchId_6789|AccountId_2685|SubscriptionId_4626|CustomerId_3105|         UGX|        256|ProviderId_6|ProductId_11|      data_bundles|ChannelId_3| 1000.0| 1000|2018-11-15T04:54:00Z|              2|          0|        1000.0|        1|\n",
            "| TransactionId_64044|BatchId_117733|AccountId_4841|SubscriptionId_3829|CustomerId_3105|         UGX|        256|ProviderId_4| ProductId_6|financial_services|ChannelId_2|  -10.0|   10|2018-11-15T04:54:18Z|              2|          0|          10.0|       -1|\n",
            "|TransactionId_119821| BatchId_89644|AccountId_3081|SubscriptionId_4312|CustomerId_3507|         UGX|        256|ProviderId_5| ProductId_3|           airtime|ChannelId_3|  500.0|  500|2018-11-15T04:56:25Z|              4|          0|         500.0|        1|\n",
            "+--------------------+--------------+--------------+-------------------+---------------+------------+-----------+------------+------------+------------------+-----------+-------+-----+--------------------+---------------+-----------+--------------+---------+\n",
            "only showing top 20 rows\n",
            "\n"
          ],
          "name": "stdout"
        }
      ]
    },
    {
      "cell_type": "markdown",
      "metadata": {
        "id": "rfh-N_eGK0Oi",
        "colab_type": "text"
      },
      "source": [
        "## Estatísticas Descritivas "
      ]
    },
    {
      "cell_type": "code",
      "metadata": {
        "id": "zon_nwY6EAZs",
        "colab_type": "code",
        "outputId": "926d5ea5-6bb7-4d4f-f980-891d085ebbdb",
        "colab": {
          "base_uri": "https://localhost:8080/",
          "height": 143
        }
      },
      "source": [
        "df.groupBy(\"FraudResult\").count().show()"
      ],
      "execution_count": 42,
      "outputs": [
        {
          "output_type": "stream",
          "text": [
            "+-----------+-----+\n",
            "|FraudResult|count|\n",
            "+-----------+-----+\n",
            "|          0|95469|\n",
            "|          1|  193|\n",
            "+-----------+-----+\n",
            "\n"
          ],
          "name": "stdout"
        }
      ]
    },
    {
      "cell_type": "markdown",
      "metadata": {
        "id": "MnKWxgX7EA8M",
        "colab_type": "text"
      },
      "source": [
        "Nota-se um grande desbalanceamento dos dados."
      ]
    },
    {
      "cell_type": "code",
      "metadata": {
        "id": "1UgAe0TgN_ps",
        "colab_type": "code",
        "colab": {
          "base_uri": "https://localhost:8080/",
          "height": 492
        },
        "outputId": "5ebd6f3e-3bb1-42a3-a5e0-b7e4b0b677a1"
      },
      "source": [
        "feature_cols = [\"CountryCode\", \"PositiveAmount\", \"Operation\", \"Value\", \"PricingStrategy\"]\n",
        "\n",
        "df.describe(feature_cols).show()\n",
        "print('Descrição dos dados genuínos:')\n",
        "df.select(feature_cols).filter(df['FraudResult'] == 0).toPandas().describe()"
      ],
      "execution_count": 46,
      "outputs": [
        {
          "output_type": "stream",
          "text": [
            "+-------+-----------+-----------------+------------------+------------------+------------------+\n",
            "|summary|CountryCode|   PositiveAmount|         Operation|             Value|   PricingStrategy|\n",
            "+-------+-----------+-----------------+------------------+------------------+------------------+\n",
            "|  count|      95662|            95662|             95662|             95662|             95662|\n",
            "|   mean|      256.0|9857.109892120172|0.2015847462942443| 9900.583941376932|  2.25597415901821|\n",
            "| stddev|        0.0|123095.6235138779|0.9794761961611711|123122.08777619716|0.7329241094855711|\n",
            "|    min|        256|              1.2|                -1|                 2|                 0|\n",
            "|    max|        256|        9880000.0|                 1|           9880000|                 4|\n",
            "+-------+-----------+-----------------+------------------+------------------+------------------+\n",
            "\n",
            "Descrição dos dados genuínos:\n"
          ],
          "name": "stdout"
        },
        {
          "output_type": "execute_result",
          "data": {
            "text/html": [
              "<div>\n",
              "<style scoped>\n",
              "    .dataframe tbody tr th:only-of-type {\n",
              "        vertical-align: middle;\n",
              "    }\n",
              "\n",
              "    .dataframe tbody tr th {\n",
              "        vertical-align: top;\n",
              "    }\n",
              "\n",
              "    .dataframe thead th {\n",
              "        text-align: right;\n",
              "    }\n",
              "</style>\n",
              "<table border=\"1\" class=\"dataframe\">\n",
              "  <thead>\n",
              "    <tr style=\"text-align: right;\">\n",
              "      <th></th>\n",
              "      <th>CountryCode</th>\n",
              "      <th>PositiveAmount</th>\n",
              "      <th>Operation</th>\n",
              "      <th>Value</th>\n",
              "      <th>PricingStrategy</th>\n",
              "    </tr>\n",
              "  </thead>\n",
              "  <tbody>\n",
              "    <tr>\n",
              "      <th>count</th>\n",
              "      <td>95469.0</td>\n",
              "      <td>9.546900e+04</td>\n",
              "      <td>95469.000000</td>\n",
              "      <td>9.546900e+04</td>\n",
              "      <td>95469.000000</td>\n",
              "    </tr>\n",
              "    <tr>\n",
              "      <th>mean</th>\n",
              "      <td>256.0</td>\n",
              "      <td>6.723033e+03</td>\n",
              "      <td>0.200075</td>\n",
              "      <td>6.763227e+03</td>\n",
              "      <td>2.257089</td>\n",
              "    </tr>\n",
              "    <tr>\n",
              "      <th>std</th>\n",
              "      <td>0.0</td>\n",
              "      <td>3.995819e+04</td>\n",
              "      <td>0.979786</td>\n",
              "      <td>3.999484e+04</td>\n",
              "      <td>0.731971</td>\n",
              "    </tr>\n",
              "    <tr>\n",
              "      <th>min</th>\n",
              "      <td>256.0</td>\n",
              "      <td>1.200000e+00</td>\n",
              "      <td>-1.000000</td>\n",
              "      <td>2.000000e+00</td>\n",
              "      <td>0.000000</td>\n",
              "    </tr>\n",
              "    <tr>\n",
              "      <th>25%</th>\n",
              "      <td>256.0</td>\n",
              "      <td>2.500000e+02</td>\n",
              "      <td>-1.000000</td>\n",
              "      <td>2.500000e+02</td>\n",
              "      <td>2.000000</td>\n",
              "    </tr>\n",
              "    <tr>\n",
              "      <th>50%</th>\n",
              "      <td>256.0</td>\n",
              "      <td>1.000000e+03</td>\n",
              "      <td>1.000000</td>\n",
              "      <td>1.000000e+03</td>\n",
              "      <td>2.000000</td>\n",
              "    </tr>\n",
              "    <tr>\n",
              "      <th>75%</th>\n",
              "      <td>256.0</td>\n",
              "      <td>5.000000e+03</td>\n",
              "      <td>1.000000</td>\n",
              "      <td>5.000000e+03</td>\n",
              "      <td>2.000000</td>\n",
              "    </tr>\n",
              "    <tr>\n",
              "      <th>max</th>\n",
              "      <td>256.0</td>\n",
              "      <td>2.400000e+06</td>\n",
              "      <td>1.000000</td>\n",
              "      <td>2.400000e+06</td>\n",
              "      <td>4.000000</td>\n",
              "    </tr>\n",
              "  </tbody>\n",
              "</table>\n",
              "</div>"
            ],
            "text/plain": [
              "       CountryCode  PositiveAmount     Operation         Value  PricingStrategy\n",
              "count      95469.0    9.546900e+04  95469.000000  9.546900e+04     95469.000000\n",
              "mean         256.0    6.723033e+03      0.200075  6.763227e+03         2.257089\n",
              "std            0.0    3.995819e+04      0.979786  3.999484e+04         0.731971\n",
              "min          256.0    1.200000e+00     -1.000000  2.000000e+00         0.000000\n",
              "25%          256.0    2.500000e+02     -1.000000  2.500000e+02         2.000000\n",
              "50%          256.0    1.000000e+03      1.000000  1.000000e+03         2.000000\n",
              "75%          256.0    5.000000e+03      1.000000  5.000000e+03         2.000000\n",
              "max          256.0    2.400000e+06      1.000000  2.400000e+06         4.000000"
            ]
          },
          "metadata": {
            "tags": []
          },
          "execution_count": 46
        }
      ]
    },
    {
      "cell_type": "code",
      "metadata": {
        "id": "pW9qBdT0R8vH",
        "colab_type": "code",
        "colab": {
          "base_uri": "https://localhost:8080/",
          "height": 312
        },
        "outputId": "56161633-5843-4aab-a671-59896a80d019"
      },
      "source": [
        "print('Descrição dos dados fraudulentos:')\n",
        "df.select(feature_cols).filter(df['FraudResult'] == 1).toPandas().describe()"
      ],
      "execution_count": 49,
      "outputs": [
        {
          "output_type": "stream",
          "text": [
            "Descrição dos dados fraudulentos:\n"
          ],
          "name": "stdout"
        },
        {
          "output_type": "execute_result",
          "data": {
            "text/html": [
              "<div>\n",
              "<style scoped>\n",
              "    .dataframe tbody tr th:only-of-type {\n",
              "        vertical-align: middle;\n",
              "    }\n",
              "\n",
              "    .dataframe tbody tr th {\n",
              "        vertical-align: top;\n",
              "    }\n",
              "\n",
              "    .dataframe thead th {\n",
              "        text-align: right;\n",
              "    }\n",
              "</style>\n",
              "<table border=\"1\" class=\"dataframe\">\n",
              "  <thead>\n",
              "    <tr style=\"text-align: right;\">\n",
              "      <th></th>\n",
              "      <th>CountryCode</th>\n",
              "      <th>PositiveAmount</th>\n",
              "      <th>Operation</th>\n",
              "      <th>Value</th>\n",
              "      <th>PricingStrategy</th>\n",
              "    </tr>\n",
              "  </thead>\n",
              "  <tbody>\n",
              "    <tr>\n",
              "      <th>count</th>\n",
              "      <td>193.0</td>\n",
              "      <td>1.930000e+02</td>\n",
              "      <td>193.000000</td>\n",
              "      <td>1.930000e+02</td>\n",
              "      <td>193.000000</td>\n",
              "    </tr>\n",
              "    <tr>\n",
              "      <th>mean</th>\n",
              "      <td>256.0</td>\n",
              "      <td>1.560153e+06</td>\n",
              "      <td>0.948187</td>\n",
              "      <td>1.561820e+06</td>\n",
              "      <td>1.704663</td>\n",
              "    </tr>\n",
              "    <tr>\n",
              "      <th>std</th>\n",
              "      <td>0.0</td>\n",
              "      <td>2.082015e+06</td>\n",
              "      <td>0.318540</td>\n",
              "      <td>2.081227e+06</td>\n",
              "      <td>0.963300</td>\n",
              "    </tr>\n",
              "    <tr>\n",
              "      <th>min</th>\n",
              "      <td>256.0</td>\n",
              "      <td>5.000000e+02</td>\n",
              "      <td>-1.000000</td>\n",
              "      <td>5.000000e+02</td>\n",
              "      <td>0.000000</td>\n",
              "    </tr>\n",
              "    <tr>\n",
              "      <th>25%</th>\n",
              "      <td>256.0</td>\n",
              "      <td>5.000000e+05</td>\n",
              "      <td>1.000000</td>\n",
              "      <td>5.000000e+05</td>\n",
              "      <td>2.000000</td>\n",
              "    </tr>\n",
              "    <tr>\n",
              "      <th>50%</th>\n",
              "      <td>256.0</td>\n",
              "      <td>6.500000e+05</td>\n",
              "      <td>1.000000</td>\n",
              "      <td>6.500000e+05</td>\n",
              "      <td>2.000000</td>\n",
              "    </tr>\n",
              "    <tr>\n",
              "      <th>75%</th>\n",
              "      <td>256.0</td>\n",
              "      <td>2.000000e+06</td>\n",
              "      <td>1.000000</td>\n",
              "      <td>2.000000e+06</td>\n",
              "      <td>2.000000</td>\n",
              "    </tr>\n",
              "    <tr>\n",
              "      <th>max</th>\n",
              "      <td>256.0</td>\n",
              "      <td>9.880000e+06</td>\n",
              "      <td>1.000000</td>\n",
              "      <td>9.880000e+06</td>\n",
              "      <td>4.000000</td>\n",
              "    </tr>\n",
              "  </tbody>\n",
              "</table>\n",
              "</div>"
            ],
            "text/plain": [
              "       CountryCode  PositiveAmount   Operation         Value  PricingStrategy\n",
              "count        193.0    1.930000e+02  193.000000  1.930000e+02       193.000000\n",
              "mean         256.0    1.560153e+06    0.948187  1.561820e+06         1.704663\n",
              "std            0.0    2.082015e+06    0.318540  2.081227e+06         0.963300\n",
              "min          256.0    5.000000e+02   -1.000000  5.000000e+02         0.000000\n",
              "25%          256.0    5.000000e+05    1.000000  5.000000e+05         2.000000\n",
              "50%          256.0    6.500000e+05    1.000000  6.500000e+05         2.000000\n",
              "75%          256.0    2.000000e+06    1.000000  2.000000e+06         2.000000\n",
              "max          256.0    9.880000e+06    1.000000  9.880000e+06         4.000000"
            ]
          },
          "metadata": {
            "tags": []
          },
          "execution_count": 49
        }
      ]
    },
    {
      "cell_type": "markdown",
      "metadata": {
        "id": "3ICv9WGKj9uA",
        "colab_type": "text"
      },
      "source": [
        "Algumas coisas para se observar na distribuição dos dados:\n",
        "\n",
        "*   Ao menos 25% das operações genuínas são de crédito, enquanto nas fraudes passam de 75% de operações de débito.\n",
        "*   Em relação ao valor da transação, o valor médio de uma transação genuína é de \\$ 6763 (mediana de: \\$ 1000), enquanto nas transações fraudulentas o valor médio é de \\$ 1.561.820 (mediana de \\$ 650.000).\n",
        "*   O tipo de operação também muda bastante, o valor médio é pelo menos 4 vezes maior em transações fraudulentas."
      ]
    },
    {
      "cell_type": "markdown",
      "metadata": {
        "id": "tLIKtkauvmlO",
        "colab_type": "text"
      },
      "source": [
        "### Associação Fraude-Transação"
      ]
    },
    {
      "cell_type": "code",
      "metadata": {
        "id": "Zl_pcjzqDTJr",
        "colab_type": "code",
        "colab": {}
      },
      "source": [
        "group_fraud = df.groupBy('FraudResult')"
      ],
      "execution_count": 0,
      "outputs": []
    },
    {
      "cell_type": "code",
      "metadata": {
        "id": "LT3ZX15z_DbZ",
        "colab_type": "code",
        "outputId": "d21f2372-3655-463e-a31f-a624e7780376",
        "colab": {
          "base_uri": "https://localhost:8080/",
          "height": 117
        }
      },
      "source": [
        "from pyspark.sql.functions import countDistinct\n",
        "df.select(countDistinct('FraudResult').alias('I/O')).show()"
      ],
      "execution_count": 0,
      "outputs": [
        {
          "output_type": "stream",
          "text": [
            "+---+\n",
            "|I/O|\n",
            "+---+\n",
            "|  2|\n",
            "+---+\n",
            "\n"
          ],
          "name": "stdout"
        }
      ]
    },
    {
      "cell_type": "code",
      "metadata": {
        "id": "3--MgVFKyer4",
        "colab_type": "code",
        "outputId": "abfcd31d-40c6-4c8f-eec8-c90c2d9bc095",
        "colab": {
          "base_uri": "https://localhost:8080/",
          "height": 70
        }
      },
      "source": [
        "print('Quantity of frauds: ' + str(df.filter(df['FraudResult'] == 1).count()) )\n",
        "\n",
        "example_fraud = df.filter(df['FraudResult'] == 1).collect()\n",
        "example_fraud[0]"
      ],
      "execution_count": 0,
      "outputs": [
        {
          "output_type": "stream",
          "text": [
            "Quantity of frauds: 193\n"
          ],
          "name": "stdout"
        },
        {
          "output_type": "execute_result",
          "data": {
            "text/plain": [
              "Row(TransactionId='TransactionId_60873', BatchId='BatchId_93685', AccountId='AccountId_3832', SubscriptionId='SubscriptionId_4161', CustomerId='CustomerId_4275', CurrencyCode='UGX', CountryCode=256, ProviderId='ProviderId_3', ProductId='ProductId_15', ProductCategory='financial_services', ChannelId='ChannelId_3', Amount=700000.0, Value=700000, TransactionStartTime='2018-11-15T08:04:51Z', PricingStrategy=0, FraudResult=1)"
            ]
          },
          "metadata": {
            "tags": []
          },
          "execution_count": 24
        }
      ]
    },
    {
      "cell_type": "code",
      "metadata": {
        "id": "rO82ECVJ-rZR",
        "colab_type": "code",
        "colab": {}
      },
      "source": [
        "#TransactionId = TransactionId_76871\n",
        "#TransactionId = 76871\n",
        "example_fraud.split(df['TransactionId'], '_')[1]"
      ],
      "execution_count": 0,
      "outputs": []
    },
    {
      "cell_type": "markdown",
      "metadata": {
        "id": "xvJq34MMg3l1",
        "colab_type": "text"
      },
      "source": [
        "## Análise de Normalidade"
      ]
    },
    {
      "cell_type": "code",
      "metadata": {
        "id": "YcVSNLnSgzP8",
        "colab_type": "code",
        "colab": {}
      },
      "source": [
        ""
      ],
      "execution_count": 0,
      "outputs": []
    },
    {
      "cell_type": "markdown",
      "metadata": {
        "id": "hOiuofWSgz_V",
        "colab_type": "text"
      },
      "source": [
        "## Análise e Tratamento de Outliers"
      ]
    },
    {
      "cell_type": "code",
      "metadata": {
        "id": "QmS5AbG6g3CF",
        "colab_type": "code",
        "colab": {}
      },
      "source": [
        ""
      ],
      "execution_count": 0,
      "outputs": []
    },
    {
      "cell_type": "markdown",
      "metadata": {
        "id": "NknYGkIfgvUb",
        "colab_type": "text"
      },
      "source": [
        "## Análise de Variância\n"
      ]
    },
    {
      "cell_type": "code",
      "metadata": {
        "id": "WA8iaQekgums",
        "colab_type": "code",
        "colab": {}
      },
      "source": [
        ""
      ],
      "execution_count": 0,
      "outputs": []
    },
    {
      "cell_type": "markdown",
      "metadata": {
        "id": "c_z0E7EQhGQF",
        "colab_type": "text"
      },
      "source": [
        "## Análise de Correlação"
      ]
    },
    {
      "cell_type": "code",
      "metadata": {
        "id": "v2hZBBtKhFF-",
        "colab_type": "code",
        "colab": {}
      },
      "source": [
        ""
      ],
      "execution_count": 0,
      "outputs": []
    },
    {
      "cell_type": "markdown",
      "metadata": {
        "id": "PMLjTqwBhIYu",
        "colab_type": "text"
      },
      "source": [
        "## Análise e Tratamento dos dados desbalanceados"
      ]
    },
    {
      "cell_type": "code",
      "metadata": {
        "id": "4ffDdBjzh74L",
        "colab_type": "code",
        "colab": {}
      },
      "source": [
        ""
      ],
      "execution_count": 0,
      "outputs": []
    },
    {
      "cell_type": "code",
      "metadata": {
        "id": "e_6inQwBhFq-",
        "colab_type": "code",
        "colab": {}
      },
      "source": [
        ""
      ],
      "execution_count": 0,
      "outputs": []
    },
    {
      "cell_type": "markdown",
      "metadata": {
        "id": "8KGYZAAWhLOL",
        "colab_type": "text"
      },
      "source": [
        "# Preparação dos Dados\n",
        "\n",
        "## Conversão dos dados Categóricos"
      ]
    },
    {
      "cell_type": "code",
      "metadata": {
        "id": "mXH0sHR0hFt1",
        "colab_type": "code",
        "colab": {}
      },
      "source": [
        ""
      ],
      "execution_count": 0,
      "outputs": []
    },
    {
      "cell_type": "markdown",
      "metadata": {
        "id": "iNlz2rNbhotM",
        "colab_type": "text"
      },
      "source": [
        "## Normalização dos Dados"
      ]
    },
    {
      "cell_type": "code",
      "metadata": {
        "id": "5jXh25MNho00",
        "colab_type": "code",
        "colab": {}
      },
      "source": [
        ""
      ],
      "execution_count": 0,
      "outputs": []
    },
    {
      "cell_type": "markdown",
      "metadata": {
        "id": "qnDjrmZahboK",
        "colab_type": "text"
      },
      "source": [
        "## Extração de características"
      ]
    },
    {
      "cell_type": "code",
      "metadata": {
        "id": "vH76rO5egsvt",
        "colab_type": "code",
        "colab": {}
      },
      "source": [
        ""
      ],
      "execution_count": 0,
      "outputs": []
    },
    {
      "cell_type": "markdown",
      "metadata": {
        "id": "gmUYmoR7h388",
        "colab_type": "text"
      },
      "source": [
        "# Modelagem"
      ]
    },
    {
      "cell_type": "code",
      "metadata": {
        "id": "9-GAmumrh5F7",
        "colab_type": "code",
        "colab": {}
      },
      "source": [
        ""
      ],
      "execution_count": 0,
      "outputs": []
    },
    {
      "cell_type": "markdown",
      "metadata": {
        "id": "ntV26sc1h6ad",
        "colab_type": "text"
      },
      "source": [
        "# Avaliação\n"
      ]
    },
    {
      "cell_type": "code",
      "metadata": {
        "id": "QmaqcbXn4g7S",
        "colab_type": "code",
        "outputId": "55796f6e-1294-4450-bd47-205fcbdd1b7e",
        "colab": {
          "base_uri": "https://localhost:8080/",
          "height": 204
        }
      },
      "source": [
        "import pandas as pd\n",
        "test_data = pd.read_csv(\"https://drive.google.com/uc?export=download&id=16cRQIFW6n2th2YOK7DEsp9dQgihHDuHa\")\n",
        "test_data.head()"
      ],
      "execution_count": 0,
      "outputs": [
        {
          "output_type": "execute_result",
          "data": {
            "text/html": [
              "<div>\n",
              "<style scoped>\n",
              "    .dataframe tbody tr th:only-of-type {\n",
              "        vertical-align: middle;\n",
              "    }\n",
              "\n",
              "    .dataframe tbody tr th {\n",
              "        vertical-align: top;\n",
              "    }\n",
              "\n",
              "    .dataframe thead th {\n",
              "        text-align: right;\n",
              "    }\n",
              "</style>\n",
              "<table border=\"1\" class=\"dataframe\">\n",
              "  <thead>\n",
              "    <tr style=\"text-align: right;\">\n",
              "      <th></th>\n",
              "      <th>TransactionId</th>\n",
              "      <th>BatchId</th>\n",
              "      <th>AccountId</th>\n",
              "      <th>SubscriptionId</th>\n",
              "      <th>CustomerId</th>\n",
              "      <th>CurrencyCode</th>\n",
              "      <th>CountryCode</th>\n",
              "      <th>ProviderId</th>\n",
              "      <th>ProductId</th>\n",
              "      <th>ProductCategory</th>\n",
              "      <th>ChannelId</th>\n",
              "      <th>Amount</th>\n",
              "      <th>Value</th>\n",
              "      <th>TransactionStartTime</th>\n",
              "      <th>PricingStrategy</th>\n",
              "    </tr>\n",
              "  </thead>\n",
              "  <tbody>\n",
              "    <tr>\n",
              "      <th>0</th>\n",
              "      <td>TransactionId_50600</td>\n",
              "      <td>BatchId_35028</td>\n",
              "      <td>AccountId_2441</td>\n",
              "      <td>SubscriptionId_4426</td>\n",
              "      <td>CustomerId_2857</td>\n",
              "      <td>UGX</td>\n",
              "      <td>256</td>\n",
              "      <td>ProviderId_5</td>\n",
              "      <td>ProductId_3</td>\n",
              "      <td>airtime</td>\n",
              "      <td>ChannelId_3</td>\n",
              "      <td>1000.0</td>\n",
              "      <td>1000</td>\n",
              "      <td>2019-02-13T10:01:40Z</td>\n",
              "      <td>4</td>\n",
              "    </tr>\n",
              "    <tr>\n",
              "      <th>1</th>\n",
              "      <td>TransactionId_95109</td>\n",
              "      <td>BatchId_45139</td>\n",
              "      <td>AccountId_3439</td>\n",
              "      <td>SubscriptionId_2643</td>\n",
              "      <td>CustomerId_3874</td>\n",
              "      <td>UGX</td>\n",
              "      <td>256</td>\n",
              "      <td>ProviderId_5</td>\n",
              "      <td>ProductId_15</td>\n",
              "      <td>financial_services</td>\n",
              "      <td>ChannelId_3</td>\n",
              "      <td>2000.0</td>\n",
              "      <td>2000</td>\n",
              "      <td>2019-02-13T10:02:12Z</td>\n",
              "      <td>2</td>\n",
              "    </tr>\n",
              "    <tr>\n",
              "      <th>2</th>\n",
              "      <td>TransactionId_47357</td>\n",
              "      <td>BatchId_74887</td>\n",
              "      <td>AccountId_4841</td>\n",
              "      <td>SubscriptionId_3829</td>\n",
              "      <td>CustomerId_2857</td>\n",
              "      <td>UGX</td>\n",
              "      <td>256</td>\n",
              "      <td>ProviderId_4</td>\n",
              "      <td>ProductId_6</td>\n",
              "      <td>financial_services</td>\n",
              "      <td>ChannelId_2</td>\n",
              "      <td>-50.0</td>\n",
              "      <td>50</td>\n",
              "      <td>2019-02-13T10:02:30Z</td>\n",
              "      <td>2</td>\n",
              "    </tr>\n",
              "    <tr>\n",
              "      <th>3</th>\n",
              "      <td>TransactionId_28185</td>\n",
              "      <td>BatchId_11025</td>\n",
              "      <td>AccountId_2685</td>\n",
              "      <td>SubscriptionId_4626</td>\n",
              "      <td>CustomerId_3105</td>\n",
              "      <td>UGX</td>\n",
              "      <td>256</td>\n",
              "      <td>ProviderId_5</td>\n",
              "      <td>ProductId_10</td>\n",
              "      <td>airtime</td>\n",
              "      <td>ChannelId_3</td>\n",
              "      <td>3000.0</td>\n",
              "      <td>3000</td>\n",
              "      <td>2019-02-13T10:02:38Z</td>\n",
              "      <td>4</td>\n",
              "    </tr>\n",
              "    <tr>\n",
              "      <th>4</th>\n",
              "      <td>TransactionId_22140</td>\n",
              "      <td>BatchId_29804</td>\n",
              "      <td>AccountId_4841</td>\n",
              "      <td>SubscriptionId_3829</td>\n",
              "      <td>CustomerId_3105</td>\n",
              "      <td>UGX</td>\n",
              "      <td>256</td>\n",
              "      <td>ProviderId_4</td>\n",
              "      <td>ProductId_6</td>\n",
              "      <td>financial_services</td>\n",
              "      <td>ChannelId_2</td>\n",
              "      <td>-60.0</td>\n",
              "      <td>60</td>\n",
              "      <td>2019-02-13T10:02:58Z</td>\n",
              "      <td>2</td>\n",
              "    </tr>\n",
              "  </tbody>\n",
              "</table>\n",
              "</div>"
            ],
            "text/plain": [
              "         TransactionId        BatchId  ...  TransactionStartTime PricingStrategy\n",
              "0  TransactionId_50600  BatchId_35028  ...  2019-02-13T10:01:40Z               4\n",
              "1  TransactionId_95109  BatchId_45139  ...  2019-02-13T10:02:12Z               2\n",
              "2  TransactionId_47357  BatchId_74887  ...  2019-02-13T10:02:30Z               2\n",
              "3  TransactionId_28185  BatchId_11025  ...  2019-02-13T10:02:38Z               4\n",
              "4  TransactionId_22140  BatchId_29804  ...  2019-02-13T10:02:58Z               2\n",
              "\n",
              "[5 rows x 15 columns]"
            ]
          },
          "metadata": {
            "tags": []
          },
          "execution_count": 1
        }
      ]
    },
    {
      "cell_type": "markdown",
      "metadata": {
        "id": "bNP3KDHT7QOg",
        "colab_type": "text"
      },
      "source": [
        "### Análise de dados "
      ]
    },
    {
      "cell_type": "code",
      "metadata": {
        "id": "32ZjajZv6u2q",
        "colab_type": "code",
        "outputId": "41813863-6632-4a21-89c1-11e780141e9b",
        "colab": {
          "base_uri": "https://localhost:8080/",
          "height": 53
        }
      },
      "source": [
        "df_test = spark.createDataFrame(test_data)\n",
        "print(df_test.count())\n",
        "df_test.na.drop(how='any').count()"
      ],
      "execution_count": 0,
      "outputs": [
        {
          "output_type": "stream",
          "text": [
            "45019\n"
          ],
          "name": "stdout"
        },
        {
          "output_type": "execute_result",
          "data": {
            "text/plain": [
              "45019"
            ]
          },
          "metadata": {
            "tags": []
          },
          "execution_count": 5
        }
      ]
    }
  ]
}