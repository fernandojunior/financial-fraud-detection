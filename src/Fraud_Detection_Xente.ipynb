{
 "cells": [
  {
   "cell_type": "markdown",
   "metadata": {
    "colab_type": "text",
    "id": "view-in-github"
   },
   "source": [
    "<a href=\"https://colab.research.google.com/github/fernandojunior/deteccao-fraude/blob/master/src/Fraud_Detection_Xente.ipynb\" target=\"_parent\"><img src=\"https://colab.research.google.com/assets/colab-badge.svg\" alt=\"Open In Colab\"/></a>"
   ]
  },
  {
   "cell_type": "markdown",
   "metadata": {
    "colab_type": "text",
    "id": "ruOubwK3D3qS"
   },
   "source": [
    "# Spark load lib"
   ]
  },
  {
   "cell_type": "code",
   "execution_count": 7,
   "metadata": {
    "colab": {},
    "colab_type": "code",
    "id": "DBD-F8SW8ljy"
   },
   "outputs": [],
   "source": [
    "'''!apt-get install openjdk-8-jdk-headless -qq > /dev/null\n",
    "!wget -q https://www-us.apache.org/dist/spark/spark-2.4.4/spark-2.4.4-bin-hadoop2.7.tgz\n",
    "!tar xf spark-2.4.4-bin-hadoop2.7.tgz\n",
    "!pip install pandas_ml\n",
    "!pip install -q findspark\n",
    "!pip install catboost\n",
    "!pip install -U imbalanced-learn\n",
    "!pip install pyod seaborn catboost plotly_express==0.4.0\n",
    "!pip install --upgrade pyod\n",
    "!pip install shap\n",
    "!pip install --user --upgrade ipywidgets\n",
    "!jupyter nbextension enable --py widgetsnbextension\n",
    "#!pip install -r requirements.txt'''\n",
    "\n",
    "import os\n",
    "#os.environ[\"JAVA_HOME\"] = \"/usr/lib/jvm/java-8-openjdk-amd64\"\n",
    "#os.environ[\"SPARK_HOME\"] = \"/content/spark-2.4.4-bin-hadoop2.7\"\n",
    "\n",
    "from pyspark.sql import SparkSession\n",
    "spark = SparkSession.builder.appName('xente').getOrCreate()\n",
    "spark\n",
    "\n",
    "import pandas as pd\n",
    "import matplotlib.pyplot as plt\n",
    "import numpy as np\n",
    "import seaborn as sns\n",
    "import pyspark.sql.functions as F\n",
    "import shap\n",
    "import catboost\n",
    "from catboost import Pool, CatBoostClassifier, cv\n",
    "\n",
    "from pyspark.sql.types import IntegerType, DoubleType\n",
    "from pyspark.sql.functions import mean, udf, array, col\n",
    "from pyspark.ml.feature import StringIndexer, VectorAssembler\n",
    "from pyspark.ml.linalg import Vectors\n",
    "from imblearn.over_sampling import RandomOverSampler, SMOTE, SMOTENC, ADASYN\n",
    "from sklearn.ensemble import IsolationForest\n",
    "from sklearn.model_selection import train_test_split, learning_curve, ShuffleSplit\n",
    "from sklearn.naive_bayes import GaussianNB\n",
    "from sklearn.svm import SVC\n",
    "from sklearn.metrics import (accuracy_score, classification_report, confusion_matrix,\n",
    "                              f1_score, precision_score, recall_score, roc_auc_score)"
   ]
  },
  {
   "cell_type": "markdown",
   "metadata": {
    "colab_type": "text",
    "id": "4AjfDoGJgDYm"
   },
   "source": [
    "# Load Training Data"
   ]
  },
  {
   "cell_type": "code",
   "execution_count": 8,
   "metadata": {
    "colab": {},
    "colab_type": "code",
    "id": "VQD2FRLWZw6P"
   },
   "outputs": [],
   "source": [
    "def read_data_from_web(url):\n",
    "  data = pd.read_csv(url)\n",
    "  spark_data = spark.createDataFrame(data)\n",
    "  return spark_data\n",
    "\n",
    "fraud_data = read_data_from_web(\"https://drive.google.com/uc?export=download&id=1NrtVkKv8n_g27w5elq9HWZA1i8aFBW0G\")\n",
    "df_backup = fraud_data"
   ]
  },
  {
   "cell_type": "code",
   "execution_count": 21,
   "metadata": {},
   "outputs": [
    {
     "name": "stdout",
     "output_type": "stream",
     "text": [
      "+-------------------+------------+------------+------------------+-----------+-------+-----+---------------+-----------+\n",
      "|      TransactionId|  ProviderId|   ProductId|   ProductCategory|  ChannelId| Amount|Value|PricingStrategy|FraudResult|\n",
      "+-------------------+------------+------------+------------------+-----------+-------+-----+---------------+-----------+\n",
      "|TransactionId_76871|ProviderId_6|ProductId_10|           airtime|ChannelId_3| 1000.0| 1000|              2|          0|\n",
      "|TransactionId_73770|ProviderId_4| ProductId_6|financial_services|ChannelId_2|  -20.0|   20|              2|          0|\n",
      "|TransactionId_26203|ProviderId_6| ProductId_1|           airtime|ChannelId_3|  500.0|  500|              2|          0|\n",
      "|  TransactionId_380|ProviderId_1|ProductId_21|      utility_bill|ChannelId_3|20000.0|21800|              2|          0|\n",
      "|TransactionId_28195|ProviderId_4| ProductId_6|financial_services|ChannelId_2| -644.0|  644|              2|          0|\n",
      "+-------------------+------------+------------+------------------+-----------+-------+-----+---------------+-----------+\n",
      "only showing top 5 rows\n",
      "\n"
     ]
    }
   ],
   "source": [
    "fraud_data.show(5)"
   ]
  },
  {
   "cell_type": "markdown",
   "metadata": {
    "colab_type": "text",
    "id": "PdWRXdYugfPt"
   },
   "source": [
    "## Data Dictionary\n",
    "\n",
    "*   **TransactionId:** Unique transaction identifier on platform.\n",
    "*   **BatchId:** Unique number assigned to a batch of transactions for processing.\n",
    "*   **AccountId:** Unique number identifying the customer on platform.\n",
    "*   **SubscriptionId:** Unique number identifying the customer subscription.\n",
    "*   **CustomerId:** Unique identifier attached to Account.\n",
    "*   **CurrencyCode:** Country currency.\n",
    "*   **CountryCode:** Numerical geographical code of country.\n",
    "*   **ProviderId:** Source provider of Item bought.\n",
    "*   **ProductId:** Item name being bought.\n",
    "*   **ProductCategory:** ProductIds are organized into these broader product categories.\n",
    "*   **ChannelId:** Identifies if customer used web,Android, IOS, pay later or checkout.\n",
    "*   **Amount:** Value of the transaction. Positive for debits from customer account and negative for credit into customer account.\n",
    "*   **Value:** Absolute value of the amount.\n",
    "*   **TransactionStartTime:** Transaction start time.\n",
    "*   **PricingStrategy:** Category of Xente's pricing structure for merchants.\n",
    "*   **FraudResult:** Fraud status of transaction: 1) Yes; or 0) No."
   ]
  },
  {
   "cell_type": "code",
   "execution_count": 9,
   "metadata": {
    "colab": {
     "base_uri": "https://localhost:8080/",
     "height": 341
    },
    "colab_type": "code",
    "id": "hnjIlCVqhAK5",
    "outputId": "b850a480-4968-4446-832f-9751d4f8d1b5"
   },
   "outputs": [
    {
     "name": "stdout",
     "output_type": "stream",
     "text": [
      "root\n",
      " |-- TransactionId: string (nullable = true)\n",
      " |-- BatchId: string (nullable = true)\n",
      " |-- AccountId: string (nullable = true)\n",
      " |-- SubscriptionId: string (nullable = true)\n",
      " |-- CustomerId: string (nullable = true)\n",
      " |-- CurrencyCode: string (nullable = true)\n",
      " |-- CountryCode: long (nullable = true)\n",
      " |-- ProviderId: string (nullable = true)\n",
      " |-- ProductId: string (nullable = true)\n",
      " |-- ProductCategory: string (nullable = true)\n",
      " |-- ChannelId: string (nullable = true)\n",
      " |-- Amount: double (nullable = true)\n",
      " |-- Value: long (nullable = true)\n",
      " |-- TransactionStartTime: string (nullable = true)\n",
      " |-- PricingStrategy: long (nullable = true)\n",
      " |-- FraudResult: long (nullable = true)\n",
      "\n"
     ]
    }
   ],
   "source": [
    "fraud_data.printSchema()"
   ]
  },
  {
   "cell_type": "markdown",
   "metadata": {
    "colab_type": "text",
    "id": "Zyv5Z2E4gCdn"
   },
   "source": [
    "# Data Preprocessing"
   ]
  },
  {
   "cell_type": "markdown",
   "metadata": {},
   "source": [
    "## Missing Data Analysis"
   ]
  },
  {
   "cell_type": "code",
   "execution_count": 10,
   "metadata": {
    "colab": {
     "base_uri": "https://localhost:8080/",
     "height": 53
    },
    "colab_type": "code",
    "id": "Cc_NF1wrgnxu",
    "outputId": "6ee5aba1-d54a-4b6a-f77c-2c9e7d3a5daa"
   },
   "outputs": [
    {
     "name": "stdout",
     "output_type": "stream",
     "text": [
      "There is missing data? False.\n"
     ]
    }
   ],
   "source": [
    "def there_is_missing_data(data):\n",
    "  return data.count() != data.na.drop(how='any').count()\n",
    "\n",
    "print('There is missing data? {0}.'.format(there_is_missing_data(fraud_data)))"
   ]
  },
  {
   "cell_type": "markdown",
   "metadata": {},
   "source": [
    "## Duplicated line?"
   ]
  },
  {
   "cell_type": "code",
   "execution_count": 12,
   "metadata": {},
   "outputs": [
    {
     "name": "stdout",
     "output_type": "stream",
     "text": [
      "There is distinct data? False.\n"
     ]
    }
   ],
   "source": [
    "def there_is_duplicate_lines(data):\n",
    "  return data.count() != data.distinct().count()\n",
    "\n",
    "print('There is distinct data? {0}.'.format(there_is_duplicate_lines(fraud_data)))"
   ]
  },
  {
   "cell_type": "markdown",
   "metadata": {},
   "source": [
    "## Data Treatment"
   ]
  },
  {
   "cell_type": "code",
   "execution_count": 13,
   "metadata": {},
   "outputs": [
    {
     "name": "stdout",
     "output_type": "stream",
     "text": [
      "+-------+\n",
      "|   diff|\n",
      "+-------+\n",
      "|    0.0|\n",
      "|    0.0|\n",
      "|    0.0|\n",
      "|-1800.0|\n",
      "|    0.0|\n",
      "|    0.0|\n",
      "|    0.0|\n",
      "|    0.0|\n",
      "|    0.0|\n",
      "|    0.0|\n",
      "|    0.0|\n",
      "|    0.0|\n",
      "|    0.0|\n",
      "|    0.0|\n",
      "|    0.0|\n",
      "|    0.0|\n",
      "|    0.0|\n",
      "|    0.0|\n",
      "|    0.0|\n",
      "|    0.0|\n",
      "+-------+\n",
      "only showing top 20 rows\n",
      "\n"
     ]
    }
   ],
   "source": [
    "fraud_data.withColumn('diff', F.abs(fraud_data['Amount'])-F.col('Value')).select('diff').show()"
   ]
  },
  {
   "cell_type": "markdown",
   "metadata": {},
   "source": [
    "It shows the real transaction value. To be precise, we need to categorize the transaction, but first, let us remove unuseful features."
   ]
  },
  {
   "cell_type": "markdown",
   "metadata": {},
   "source": [
    "## Removing unuseful features"
   ]
  },
  {
   "cell_type": "code",
   "execution_count": 28,
   "metadata": {},
   "outputs": [
    {
     "name": "stdout",
     "output_type": "stream",
     "text": [
      "Different CurrencyCode Values: \t\t 1\n",
      "Different de CountryCode Values: \t 1\n",
      "Different de TransactionId Values: \t 95662\n"
     ]
    }
   ],
   "source": [
    "print('Different CurrencyCode Values: \\t\\t {0}'.format(fraud_data.select('CurrencyCode').distinct().count()))\n",
    "print('Different de CountryCode Values: \\t {0}'.format(fraud_data.select('CountryCode').distinct().count()))\n",
    "print('Different de TransactionId Values: \\t {0}'.format(fraud_data.select('TransactionId').distinct().count()))"
   ]
  },
  {
   "cell_type": "markdown",
   "metadata": {},
   "source": [
    "CurrencyCode and CountryCode columns have the same value in whole dataset, genuine or fraud."
   ]
  },
  {
   "cell_type": "code",
   "execution_count": 14,
   "metadata": {},
   "outputs": [],
   "source": [
    "# data: dataframe - columns: column list to remove\n",
    "def remove_feature(data, columns_in):\n",
    "  return data.drop(*columns_in)"
   ]
  },
  {
   "cell_type": "code",
   "execution_count": 16,
   "metadata": {},
   "outputs": [],
   "source": [
    "def clean_data(fraud_data, columns_to_remove):\n",
    "  fraud_data = remove_feature(fraud_data, columns_to_remove)\n",
    "  return fraud_data"
   ]
  },
  {
   "cell_type": "code",
   "execution_count": 17,
   "metadata": {},
   "outputs": [],
   "source": [
    "columns_to_remove = ['CurrencyCode','CountryCode','BatchId','AccountId','SubscriptionId','CustomerId', 'TransactionStartTime']\n",
    "fraud_data = clean_data(fraud_data, columns_to_remove)"
   ]
  },
  {
   "cell_type": "code",
   "execution_count": 24,
   "metadata": {},
   "outputs": [
    {
     "name": "stdout",
     "output_type": "stream",
     "text": [
      "+-------------------+------------+------------+------------------+-----------+-------+-----+---------------+-----------+\n",
      "|      TransactionId|  ProviderId|   ProductId|   ProductCategory|  ChannelId| Amount|Value|PricingStrategy|FraudResult|\n",
      "+-------------------+------------+------------+------------------+-----------+-------+-----+---------------+-----------+\n",
      "|TransactionId_76871|ProviderId_6|ProductId_10|           airtime|ChannelId_3| 1000.0| 1000|              2|          0|\n",
      "|TransactionId_73770|ProviderId_4| ProductId_6|financial_services|ChannelId_2|  -20.0|   20|              2|          0|\n",
      "|TransactionId_26203|ProviderId_6| ProductId_1|           airtime|ChannelId_3|  500.0|  500|              2|          0|\n",
      "|  TransactionId_380|ProviderId_1|ProductId_21|      utility_bill|ChannelId_3|20000.0|21800|              2|          0|\n",
      "|TransactionId_28195|ProviderId_4| ProductId_6|financial_services|ChannelId_2| -644.0|  644|              2|          0|\n",
      "+-------------------+------------+------------+------------------+-----------+-------+-----+---------------+-----------+\n",
      "only showing top 5 rows\n",
      "\n"
     ]
    }
   ],
   "source": [
    "fraud_data.show(5)"
   ]
  },
  {
   "cell_type": "markdown",
   "metadata": {},
   "source": [
    "## Categorizing columns values"
   ]
  },
  {
   "cell_type": "code",
   "execution_count": 30,
   "metadata": {},
   "outputs": [],
   "source": [
    "fraud_data = fraud_data.withColumn('ProviderId_int', F.split(fraud_data['ProviderId'], '_').getItem(1).cast(IntegerType()) )\n",
    "fraud_data = fraud_data.withColumn('ProductId_int', F.split(fraud_data['ProductId'], '_').getItem(1).cast(IntegerType()) )\n",
    "fraud_data = fraud_data.withColumn('ChannelId_int', F.split(fraud_data['ChannelId'], '_').getItem(1).cast(IntegerType()) )"
   ]
  },
  {
   "cell_type": "markdown",
   "metadata": {},
   "source": [
    "# Creating Features"
   ]
  },
  {
   "cell_type": "markdown",
   "metadata": {},
   "source": [
    "## Removing dependeces"
   ]
  },
  {
   "cell_type": "raw",
   "metadata": {},
   "source": [
    "The column Amount represents the operation value but if that value is positive its indicates a debit transaction, otherwise is credit (negative values).\n",
    "Creating the Operation column \n",
    "    -1 : credit \n",
    "    1  : debit"
   ]
  },
  {
   "cell_type": "code",
   "execution_count": 32,
   "metadata": {},
   "outputs": [],
   "source": [
    "def get_features_augmentation(fraud_data, clean=False):\n",
    "  fraud_data = fraud_data.withColumn(\"Operation\", F.when(fraud_data.Amount > 0, 1).when(fraud_data.Amount < 0, -1).otherwise(0))\n",
    "  fraud_data = fraud_data.withColumn('PositiveAmount', F.abs(fraud_data['Amount']))\n",
    "  \n",
    "  gen_train_data = fraud_data.filter('FraudResult == 0')\n",
    "  items_list = ['ChannelId', 'ProductCategory', 'ProductId']\n",
    "\n",
    "  for item in items_list:\n",
    "    mean_column_name = 'avg_ps_{0}'.format(item)\n",
    "    ratio_column_name = 'rt_avg_ps_{0}'.format(item)\n",
    "    aux = gen_train_data.select([item,'PositiveAmount']).groupBy(item).mean()\n",
    "    aux = aux.select(col(item), col('avg(PositiveAmount)').alias(mean_column_name))\n",
    "    fraud_data = fraud_data.join(aux, on=item)\n",
    "    fraud_data = fraud_data.withColumn(ratio_column_name, (F.col('PositiveAmount')-F.col(mean_column_name))/ F.col(mean_column_name))\n",
    "  \n",
    "  if clean:\n",
    "    fraud_data = clean_data(fraud_data)\n",
    "  \n",
    "  return fraud_data"
   ]
  },
  {
   "cell_type": "code",
   "execution_count": 33,
   "metadata": {},
   "outputs": [],
   "source": [
    "fraud_data = get_features_augmentation(fraud_data)\n",
    "fraud_data = clean_data(fraud_data, columns_to_remove = ['Amount'])"
   ]
  },
  {
   "cell_type": "code",
   "execution_count": 35,
   "metadata": {},
   "outputs": [
    {
     "name": "stdout",
     "output_type": "stream",
     "text": [
      "root\n",
      " |-- ProductId: string (nullable = true)\n",
      " |-- ProductCategory: string (nullable = true)\n",
      " |-- ChannelId: string (nullable = true)\n",
      " |-- TransactionId: string (nullable = true)\n",
      " |-- BatchId: string (nullable = true)\n",
      " |-- AccountId: string (nullable = true)\n",
      " |-- SubscriptionId: string (nullable = true)\n",
      " |-- CustomerId: string (nullable = true)\n",
      " |-- CurrencyCode: string (nullable = true)\n",
      " |-- CountryCode: long (nullable = true)\n",
      " |-- ProviderId: string (nullable = true)\n",
      " |-- Value: long (nullable = true)\n",
      " |-- TransactionStartTime: string (nullable = true)\n",
      " |-- PricingStrategy: long (nullable = true)\n",
      " |-- FraudResult: long (nullable = true)\n",
      " |-- ProviderId_cat: integer (nullable = true)\n",
      " |-- ProductId_cat: integer (nullable = true)\n",
      " |-- ChannelId_cat: integer (nullable = true)\n",
      " |-- Operation: integer (nullable = false)\n",
      " |-- PositiveAmount: double (nullable = true)\n",
      " |-- avg_ps_ChannelId: double (nullable = true)\n",
      " |-- rt_avg_ps_ChannelId: double (nullable = true)\n",
      " |-- avg_ps_ProductCategory: double (nullable = true)\n",
      " |-- rt_avg_ps_ProductCategory: double (nullable = true)\n",
      " |-- avg_ps_ProductId: double (nullable = true)\n",
      " |-- rt_avg_ps_ProductId: double (nullable = true)\n",
      "\n"
     ]
    }
   ],
   "source": [
    "fraud_data.printSchema()"
   ]
  },
  {
   "cell_type": "markdown",
   "metadata": {},
   "source": [
    "# Data Analysis"
   ]
  },
  {
   "cell_type": "markdown",
   "metadata": {},
   "source": [
    "ProductCategory have a bias to fraud transaction"
   ]
  },
  {
   "cell_type": "code",
   "execution_count": 37,
   "metadata": {},
   "outputs": [
    {
     "name": "stdout",
     "output_type": "stream",
     "text": [
      "+------------------+-----+\n",
      "|   ProductCategory|count|\n",
      "+------------------+-----+\n",
      "|            ticket|  216|\n",
      "|                tv| 1279|\n",
      "|             other|    2|\n",
      "|           airtime|45009|\n",
      "|         transport|   23|\n",
      "|      data_bundles| 1613|\n",
      "|            movies|  175|\n",
      "|      utility_bill| 1908|\n",
      "|financial_services|45244|\n",
      "+------------------+-----+\n",
      "\n"
     ]
    }
   ],
   "source": [
    "fraud_data.filter('FraudResult == 0').groupBy('ProductCategory' ).count().show()"
   ]
  },
  {
   "cell_type": "code",
   "execution_count": 38,
   "metadata": {},
   "outputs": [
    {
     "name": "stdout",
     "output_type": "stream",
     "text": [
      "+------------------+-----+\n",
      "|   ProductCategory|count|\n",
      "+------------------+-----+\n",
      "|         transport|    2|\n",
      "|           airtime|   18|\n",
      "|      utility_bill|   12|\n",
      "|financial_services|  161|\n",
      "+------------------+-----+\n",
      "\n"
     ]
    }
   ],
   "source": [
    "fraud_data.filter('FraudResult == 1').groupBy('ProductCategory' ).count().show()"
   ]
  },
  {
   "cell_type": "markdown",
   "metadata": {},
   "source": [
    "Counting the number of transactions by category, let us normalize and show in histogram graphic.\n",
    "\n",
    "Percebe-se que as transações fraudulentas (representadas em azul), incidem principalmente em operações do tipo Serviço financeiro, como também Airtime e Utility_bill."
   ]
  },
  {
   "cell_type": "code",
   "execution_count": 36,
   "metadata": {},
   "outputs": [
    {
     "data": {
      "image/png": "[encoded data removed]",
      "text/plain": [
       "<Figure size 455.75x360 with 1 Axes>"
      ]
     },
     "metadata": {
      "needs_background": "light"
     },
     "output_type": "display_data"
    }
   ],
   "source": [
    "df1 = fraud_data.filter('FraudResult == 0').groupBy('ProductCategory' ).count()\n",
    "df1 = df1.withColumnRenamed('count', 'gen_count')\n",
    "\n",
    "df2 = fraud_data.filter('FraudResult == 1').groupBy('ProductCategory' ).count()\n",
    "df2 = df2.withColumnRenamed('count', 'fraud_count')\n",
    "\n",
    "new_df = df1.join(df2, on=['ProductCategory'], how='left_outer')\n",
    "new_df = new_df.fillna({'fraud_count': '0'})\n",
    "\n",
    "new_df_pd = new_df.toPandas()\n",
    "new_df_pd['gen_count'] = new_df_pd['gen_count']/sum(new_df_pd['gen_count'])\n",
    "new_df_pd['fraud_count'] = new_df_pd['fraud_count']/sum(new_df_pd['fraud_count'])\n",
    "new_df_pd = pd.melt(new_df_pd, id_vars='ProductCategory', value_vars=['fraud_count', 'gen_count'], value_name='value')\n",
    "\n",
    "sns.catplot(y='ProductCategory', hue='variable', x='value', kind='bar', data=new_df_pd);"
   ]
  },
  {
   "cell_type": "markdown",
   "metadata": {},
   "source": [
    "Categorizing ProductCategory"
   ]
  },
  {
   "cell_type": "code",
   "execution_count": 40,
   "metadata": {},
   "outputs": [],
   "source": [
    "indexer = StringIndexer(inputCol = 'ProductCategory', outputCol='ProductCategory_int')\n",
    "fraud_data = indexer.fit(fraud_data).transform(fraud_data)"
   ]
  },
  {
   "cell_type": "markdown",
   "metadata": {},
   "source": [
    "# Statistics"
   ]
  },
  {
   "cell_type": "markdown",
   "metadata": {},
   "source": [
    "## Imbalanced dataset"
   ]
  },
  {
   "cell_type": "code",
   "execution_count": 42,
   "metadata": {},
   "outputs": [
    {
     "name": "stdout",
     "output_type": "stream",
     "text": [
      "+-----------+-----+\n",
      "|FraudResult|count|\n",
      "+-----------+-----+\n",
      "|          0|95469|\n",
      "|          1|  193|\n",
      "+-----------+-----+\n",
      "\n",
      "Os dados fraudulentos representam 0.202% dos dados.\n"
     ]
    }
   ],
   "source": [
    "fraud_data.groupBy(\"FraudResult\").count().show()\n",
    "outlier_fraction = fraud_data.filter(\"FraudResult == 1\").count() / fraud_data.filter(\"FraudResult == 0\").count()\n",
    "print('Os dados fraudulentos representam {0:.3f}% dos dados.'.format(outlier_fraction*100))"
   ]
  },
  {
   "cell_type": "markdown",
   "metadata": {},
   "source": [
    "## Descriptive analysis of numerical variables"
   ]
  },
  {
   "cell_type": "code",
   "execution_count": 43,
   "metadata": {},
   "outputs": [],
   "source": [
    "#feature_cols = ['PositiveAmount','Operation','Value','PricingStrategy','ProviderId_int','ProductId_int','ChannelId_int','ProductCategory_int']\n",
    "feature_cols = ['PositiveAmount','Operation','Value','PricingStrategy']"
   ]
  },
  {
   "cell_type": "code",
   "execution_count": 45,
   "metadata": {},
   "outputs": [
    {
     "name": "stdout",
     "output_type": "stream",
     "text": [
      "Fraud data set\n"
     ]
    },
    {
     "data": {
      "text/html": [
       "<div>\n",
       "<style scoped>\n",
       "    .dataframe tbody tr th:only-of-type {\n",
       "        vertical-align: middle;\n",
       "    }\n",
       "\n",
       "    .dataframe tbody tr th {\n",
       "        vertical-align: top;\n",
       "    }\n",
       "\n",
       "    .dataframe thead th {\n",
       "        text-align: right;\n",
       "    }\n",
       "</style>\n",
       "<table border=\"1\" class=\"dataframe\">\n",
       "  <thead>\n",
       "    <tr style=\"text-align: right;\">\n",
       "      <th></th>\n",
       "      <th>PositiveAmount</th>\n",
       "      <th>Operation</th>\n",
       "      <th>Value</th>\n",
       "      <th>PricingStrategy</th>\n",
       "    </tr>\n",
       "  </thead>\n",
       "  <tbody>\n",
       "    <tr>\n",
       "      <th>count</th>\n",
       "      <td>1.930000e+02</td>\n",
       "      <td>193.000000</td>\n",
       "      <td>1.930000e+02</td>\n",
       "      <td>193.000000</td>\n",
       "    </tr>\n",
       "    <tr>\n",
       "      <th>mean</th>\n",
       "      <td>1.560153e+06</td>\n",
       "      <td>0.948187</td>\n",
       "      <td>1.561820e+06</td>\n",
       "      <td>1.704663</td>\n",
       "    </tr>\n",
       "    <tr>\n",
       "      <th>std</th>\n",
       "      <td>2.082015e+06</td>\n",
       "      <td>0.318540</td>\n",
       "      <td>2.081227e+06</td>\n",
       "      <td>0.963300</td>\n",
       "    </tr>\n",
       "    <tr>\n",
       "      <th>min</th>\n",
       "      <td>5.000000e+02</td>\n",
       "      <td>-1.000000</td>\n",
       "      <td>5.000000e+02</td>\n",
       "      <td>0.000000</td>\n",
       "    </tr>\n",
       "    <tr>\n",
       "      <th>25%</th>\n",
       "      <td>5.000000e+05</td>\n",
       "      <td>1.000000</td>\n",
       "      <td>5.000000e+05</td>\n",
       "      <td>2.000000</td>\n",
       "    </tr>\n",
       "    <tr>\n",
       "      <th>50%</th>\n",
       "      <td>6.500000e+05</td>\n",
       "      <td>1.000000</td>\n",
       "      <td>6.500000e+05</td>\n",
       "      <td>2.000000</td>\n",
       "    </tr>\n",
       "    <tr>\n",
       "      <th>75%</th>\n",
       "      <td>2.000000e+06</td>\n",
       "      <td>1.000000</td>\n",
       "      <td>2.000000e+06</td>\n",
       "      <td>2.000000</td>\n",
       "    </tr>\n",
       "    <tr>\n",
       "      <th>max</th>\n",
       "      <td>9.880000e+06</td>\n",
       "      <td>1.000000</td>\n",
       "      <td>9.880000e+06</td>\n",
       "      <td>4.000000</td>\n",
       "    </tr>\n",
       "  </tbody>\n",
       "</table>\n",
       "</div>"
      ],
      "text/plain": [
       "       PositiveAmount   Operation         Value  PricingStrategy\n",
       "count    1.930000e+02  193.000000  1.930000e+02       193.000000\n",
       "mean     1.560153e+06    0.948187  1.561820e+06         1.704663\n",
       "std      2.082015e+06    0.318540  2.081227e+06         0.963300\n",
       "min      5.000000e+02   -1.000000  5.000000e+02         0.000000\n",
       "25%      5.000000e+05    1.000000  5.000000e+05         2.000000\n",
       "50%      6.500000e+05    1.000000  6.500000e+05         2.000000\n",
       "75%      2.000000e+06    1.000000  2.000000e+06         2.000000\n",
       "max      9.880000e+06    1.000000  9.880000e+06         4.000000"
      ]
     },
     "execution_count": 45,
     "metadata": {},
     "output_type": "execute_result"
    }
   ],
   "source": [
    "print('Fraud data set')\n",
    "fraud_data.select(feature_cols).filter(fraud_data['FraudResult'] == 1).toPandas().describe()"
   ]
  },
  {
   "cell_type": "code",
   "execution_count": 46,
   "metadata": {},
   "outputs": [
    {
     "name": "stdout",
     "output_type": "stream",
     "text": [
      "Genuine data set\n"
     ]
    },
    {
     "data": {
      "text/html": [
       "<div>\n",
       "<style scoped>\n",
       "    .dataframe tbody tr th:only-of-type {\n",
       "        vertical-align: middle;\n",
       "    }\n",
       "\n",
       "    .dataframe tbody tr th {\n",
       "        vertical-align: top;\n",
       "    }\n",
       "\n",
       "    .dataframe thead th {\n",
       "        text-align: right;\n",
       "    }\n",
       "</style>\n",
       "<table border=\"1\" class=\"dataframe\">\n",
       "  <thead>\n",
       "    <tr style=\"text-align: right;\">\n",
       "      <th></th>\n",
       "      <th>PositiveAmount</th>\n",
       "      <th>Operation</th>\n",
       "      <th>Value</th>\n",
       "      <th>PricingStrategy</th>\n",
       "    </tr>\n",
       "  </thead>\n",
       "  <tbody>\n",
       "    <tr>\n",
       "      <th>count</th>\n",
       "      <td>9.546900e+04</td>\n",
       "      <td>95469.000000</td>\n",
       "      <td>9.546900e+04</td>\n",
       "      <td>95469.000000</td>\n",
       "    </tr>\n",
       "    <tr>\n",
       "      <th>mean</th>\n",
       "      <td>6.723033e+03</td>\n",
       "      <td>0.200075</td>\n",
       "      <td>6.763227e+03</td>\n",
       "      <td>2.257089</td>\n",
       "    </tr>\n",
       "    <tr>\n",
       "      <th>std</th>\n",
       "      <td>3.995819e+04</td>\n",
       "      <td>0.979786</td>\n",
       "      <td>3.999484e+04</td>\n",
       "      <td>0.731971</td>\n",
       "    </tr>\n",
       "    <tr>\n",
       "      <th>min</th>\n",
       "      <td>1.200000e+00</td>\n",
       "      <td>-1.000000</td>\n",
       "      <td>2.000000e+00</td>\n",
       "      <td>0.000000</td>\n",
       "    </tr>\n",
       "    <tr>\n",
       "      <th>25%</th>\n",
       "      <td>2.500000e+02</td>\n",
       "      <td>-1.000000</td>\n",
       "      <td>2.500000e+02</td>\n",
       "      <td>2.000000</td>\n",
       "    </tr>\n",
       "    <tr>\n",
       "      <th>50%</th>\n",
       "      <td>1.000000e+03</td>\n",
       "      <td>1.000000</td>\n",
       "      <td>1.000000e+03</td>\n",
       "      <td>2.000000</td>\n",
       "    </tr>\n",
       "    <tr>\n",
       "      <th>75%</th>\n",
       "      <td>5.000000e+03</td>\n",
       "      <td>1.000000</td>\n",
       "      <td>5.000000e+03</td>\n",
       "      <td>2.000000</td>\n",
       "    </tr>\n",
       "    <tr>\n",
       "      <th>max</th>\n",
       "      <td>2.400000e+06</td>\n",
       "      <td>1.000000</td>\n",
       "      <td>2.400000e+06</td>\n",
       "      <td>4.000000</td>\n",
       "    </tr>\n",
       "  </tbody>\n",
       "</table>\n",
       "</div>"
      ],
      "text/plain": [
       "       PositiveAmount     Operation         Value  PricingStrategy\n",
       "count    9.546900e+04  95469.000000  9.546900e+04     95469.000000\n",
       "mean     6.723033e+03      0.200075  6.763227e+03         2.257089\n",
       "std      3.995819e+04      0.979786  3.999484e+04         0.731971\n",
       "min      1.200000e+00     -1.000000  2.000000e+00         0.000000\n",
       "25%      2.500000e+02     -1.000000  2.500000e+02         2.000000\n",
       "50%      1.000000e+03      1.000000  1.000000e+03         2.000000\n",
       "75%      5.000000e+03      1.000000  5.000000e+03         2.000000\n",
       "max      2.400000e+06      1.000000  2.400000e+06         4.000000"
      ]
     },
     "execution_count": 46,
     "metadata": {},
     "output_type": "execute_result"
    }
   ],
   "source": [
    "print('Genuine data set')\n",
    "fraud_data.select(feature_cols).filter(fraud_data['FraudResult'] == 0).toPandas().describe()"
   ]
  },
  {
   "cell_type": "code",
   "execution_count": 48,
   "metadata": {},
   "outputs": [
    {
     "name": "stdout",
     "output_type": "stream",
     "text": [
      "Mean Value of transactions US$ 9900.58\n"
     ]
    }
   ],
   "source": [
    "mean_value = fraud_data.select(mean(fraud_data['value'])).collect()[0][0]\n",
    "\n",
    "print('Mean Value of transactions US$ {0:.2f}'.format(mean_value))"
   ]
  },
  {
   "cell_type": "code",
   "execution_count": 51,
   "metadata": {},
   "outputs": [
    {
     "name": "stdout",
     "output_type": "stream",
     "text": [
      "Fraud Transactions under average value: \t1.04%.\n",
      "Fraud Transactions over average value: \t98.96%.\n",
      "\n",
      "Genuine Transactions under average value: \t80.61%.\n",
      "Genuine Transactions over average value: \t\t19.39%.\n"
     ]
    }
   ],
   "source": [
    "percentFraudByAvgValueLow = fraud_data.filter(\"FraudResult == 1 and PositiveAmount < \" + str(mean_value) ).count() / fraud_data.filter('FraudResult == 1').count()\n",
    "percentGenByAvgValueLow = fraud_data.filter(\"FraudResult == 0 and PositiveAmount < \"+ str(mean_value) ).count() / fraud_data.filter('FraudResult == 0').count()\n",
    "\n",
    "percentFraudByAvgValueHigh = fraud_data.filter(\"FraudResult == 1 and PositiveAmount > \"+ str(mean_value) ).count() / fraud_data.filter('FraudResult == 1').count()\n",
    "percentGenByAvgValueHigh = fraud_data.filter(\"FraudResult == 0 and PositiveAmount > \"+ str(mean_value) ).count() / fraud_data.filter('FraudResult == 0').count()\n",
    "\n",
    "\n",
    "print('Fraud Transactions under average value: \\t{0:.2f}%.'.format(percentFraudByAvgValueLow * 100))\n",
    "print('Fraud Transactions over average value: \\t{0:.2f}%.\\n'.format(percentFraudByAvgValueHigh * 100))\n",
    "\n",
    "print('Genuine Transactions under average value: \\t{0:.2f}%.'.format(percentGenByAvgValueLow * 100))\n",
    "print('Genuine Transactions over average value: \\t\\t{0:.2f}%.'.format(percentGenByAvgValueHigh * 100))"
   ]
  },
  {
   "cell_type": "raw",
   "metadata": {},
   "source": [
    "Under average value of dataset\n",
    "1% : Fraud transactions\n",
    "80% : Genuine transactions\n",
    "\n",
    "- Most transactions are below average, ie there is a general consumption pattern, where there are many transactions costing little, and few transactions costing a lot, justifying why you pulled the average value up. \n",
    "- This bias in transaction values is greater when referring to fraudulent transactions."
   ]
  },
  {
   "cell_type": "code",
   "execution_count": 53,
   "metadata": {},
   "outputs": [
    {
     "name": "stdout",
     "output_type": "stream",
     "text": [
      "Average Value of a fraud transaction: \t\tUS$ 1561819.54.\n",
      "Average Value of a genuine transaction: \tUS$ 6763.23.\n"
     ]
    }
   ],
   "source": [
    "mean_val_fraud = fraud_data.filter(\"FraudResult == 1\").select(mean(fraud_data['value'])).collect()[0][0]\n",
    "mean_val_notfraud = fraud_data.filter(\"FraudResult == 0\").select(mean(fraud_data['value'])).collect()[0][0]\n",
    "\n",
    "print('Average Value of a fraud transaction: \\t\\tUS$ {0:.2f}.'.format(mean_val_fraud))\n",
    "print('Average Value of a genuine transaction: \\tUS$ {0:.2f}.'.format(mean_val_notfraud))"
   ]
  },
  {
   "cell_type": "code",
   "execution_count": 54,
   "metadata": {},
   "outputs": [
    {
     "name": "stdout",
     "output_type": "stream",
     "text": [
      "Mount of fraud transaction over the average: \t\t27.5%\n",
      "Mount of genuine transaction over the average: \t20.4%\n"
     ]
    }
   ],
   "source": [
    "percentFraud2ByAvgValue = fraud_data.filter(\"FraudResult == 1 and PositiveAmount > \"+ str(mean_val_fraud) ).count() / fraud_data.filter('FraudResult == 1').count()\n",
    "percentGen2ByAvgValue = fraud_data.filter(\"FraudResult == 0 and PositiveAmount > \"+ str(mean_val_notfraud) ).count() / fraud_data.filter('FraudResult == 0').count()\n",
    "\n",
    "print('Mount of fraud transaction over the average: \\t\\t{0:.1f}%'.format(percentFraud2ByAvgValue * 100))\n",
    "print('Mount of genuine transaction over the average: \\t{0:.1f}%'.format(percentGen2ByAvgValue * 100))"
   ]
  },
  {
   "cell_type": "code",
   "execution_count": 56,
   "metadata": {},
   "outputs": [
    {
     "name": "stdout",
     "output_type": "stream",
     "text": [
      "Debit Fraud Transaction:  97.4%.\n",
      "Credit Fraud Transaction: 2.6%.\n",
      "\n",
      "Debit Genuine Transaction:  60.0%.\n",
      "Credit Genuine Transaction: 40.0%.\n"
     ]
    }
   ],
   "source": [
    "percentFraudByOperation = fraud_data.filter(\"FraudResult == 1 and Operation == 1 \").count() / fraud_data.filter('FraudResult == 1').count()\n",
    "percentGenByOperation = fraud_data.filter(\"FraudResult == 0 and Operation == 1 \").count() / fraud_data.filter('FraudResult == 0').count()\n",
    "\n",
    "print('Debit Fraud Transaction:  {0:.1f}%.'.format(percentFraudByOperation * 100))\n",
    "print('Credit Fraud Transaction: {0:.1f}%.\\n'.format(100-(percentFraudByOperation * 100)))\n",
    "\n",
    "print('Debit Genuine Transaction:  {0:.1f}%.'.format(percentGenByOperation * 100))\n",
    "print('Credit Genuine Transaction: {0:.1f}%.'.format(100-(percentGenByOperation * 100)))"
   ]
  },
  {
   "cell_type": "raw",
   "metadata": {},
   "source": [
    "- 25% of Genuine Transactions are credit\n",
    "- 75% of Fraud Transactions are debit\n",
    "- Average Value of a Genuine Transaction is $6,763.00 (mean:  $1,000.00)\n",
    "- Average Value of a Fraud Transaction is $1,561,820.00 (mean:  $650,000).\n",
    "O tipo de operação também muda bastante, o valor médio é pelo menos 4 vezes maior em transações fraudulentas."
   ]
  }
 ],
 "metadata": {
  "colab": {
   "collapsed_sections": [],
   "include_colab_link": true,
   "name": "Fraud Detection - Xente",
   "provenance": []
  },
  "kernelspec": {
   "display_name": "Python 3",
   "language": "python",
   "name": "python3"
  },
  "language_info": {
   "codemirror_mode": {
    "name": "ipython",
    "version": 3
   },
   "file_extension": ".py",
   "mimetype": "text/x-python",
   "name": "python",
   "nbconvert_exporter": "python",
   "pygments_lexer": "ipython3",
   "version": "3.7.3"
  }
 },
 "nbformat": 4,
 "nbformat_minor": 1
}
