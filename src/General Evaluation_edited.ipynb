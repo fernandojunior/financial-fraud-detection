{
 "cells": [
  {
   "cell_type": "markdown",
   "metadata": {},
   "source": [
    "### Importing libs"
   ]
  },
  {
   "cell_type": "code",
   "execution_count": 1,
   "metadata": {},
   "outputs": [],
   "source": [
    "import numpy as np\n",
    "from sklearn.model_selection import train_test_split\n",
    "import pyspark.sql.functions as F\n",
    "\n",
    "import sys\n",
    "sys.path.insert(0, 'models/')\n",
    "\n",
    "import balance as bal\n",
    "import cat_boost as cat\n",
    "import isolation_forest\n",
    "import parameters as param\n",
    "import preprocessing as preprocess\n",
    "import visualization as vis\n",
    "import statistics as stats\n",
    "import io_module as io\n",
    "\n",
    "# This param when defined as True will execute the complete code, so slowly processing time\n",
    "# because is require to execute all checks and print all not essential functions.\n",
    "# When defined as False, a fast processing is applied with all core functionalities working\n",
    "# well.\n",
    "full_execution = False\n",
    "verbose_mode = True\n",
    "\n",
    "label = 'FraudResult'\n",
    "genuine_label = 'FraudResult==0'\n",
    "fraud_label = 'FraudResult==1'\n",
    "categorical_positions = [0, 1, 2, 4];"
   ]
  },
  {
   "cell_type": "markdown",
   "metadata": {},
   "source": [
    "### Reading Data"
   ]
  },
  {
   "cell_type": "code",
   "execution_count": 2,
   "metadata": {},
   "outputs": [],
   "source": [
    "columns_to_remove = ['Amount','TransactionStartTime','BatchId','SubscriptionId','TransactionId','AccountId','CustomerId','ProviderId','ProductCategory','CurrencyCode','CountryCode']"
   ]
  },
  {
   "cell_type": "code",
   "execution_count": 3,
   "metadata": {},
   "outputs": [],
   "source": [
    "# Read Fraud Detection Challenge data\n",
    "train_data = io.read_spark_data_frame(param.get_file_name('training_data'))\n",
    "\n",
    "# Create new features and remove the non used features\n",
    "train_data = preprocess.get_features_augmentation(train_data)\n",
    "train_data = train_data.drop(*columns_to_remove)"
   ]
  },
  {
   "cell_type": "code",
   "execution_count": 4,
   "metadata": {},
   "outputs": [],
   "source": [
    "numerical_features_augmented = ['PricingStrategy','Value','Operation', 'PositiveAmount',\n",
    "                            'Hour', 'DayOfYear', 'WeekOfYear', 'Month',\n",
    "                            'avg_ps_Hour','min_ps_Hour','max_ps_Hour','rt_avg_ps_Hour',\n",
    "                            'avg_ps_DayOfYear','min_ps_DayOfYear','max_ps_DayOfYear','rt_avg_ps_DayOfYear',\n",
    "                            'avg_ps_WeekOfYear','min_ps_WeekOfYear','max_ps_WeekOfYear','rt_avg_ps_WeekOfYear',#0-21\n",
    "                            'avg_ps_Month','min_ps_Month','max_ps_Month','rt_avg_ps_Month',\n",
    "                            'avg_ps_AccountId','min_ps_AccountId','max_ps_AccountId','rt_avg_ps_AccountId',\n",
    "                            'avg_ps_ChannelId','min_ps_ChannelId','max_ps_ChannelId','rt_avg_ps_ChannelId',\n",
    "                            'avg_ps_ProductCategory','min_ps_ProductCategory','max_ps_ProductCategory','rt_avg_ps_ProductCategory',\n",
    "                            'avg_ps_ProductId','min_ps_ProductId','max_ps_ProductId','rt_avg_ps_ProductId',#41\n",
    "                            'pi_Hour','pi_DayOfYear','pi_WeekOfYear','pi_Month',\n",
    "                            'pi_AccountId','pi_ChannelId','pi_ProductCategory','pi_ProductId',\n",
    "                            'Ps_pr_dayWeek_pr_Month','Ps_pr_dayYear_pr_WeekYear','OpCredSum_pr_Month','OpDebtSum_pr_Month']\n",
    "label = 'FraudResult'"
   ]
  },
  {
   "cell_type": "code",
   "execution_count": 5,
   "metadata": {},
   "outputs": [
    {
     "data": {
      "text/plain": [
       "Index(['Month', 'WeekOfYear', 'DayOfYear', 'Hour', 'ProductId', 'ChannelId',\n",
       "       'Value', 'PricingStrategy', 'FraudResult', 'Operation',\n",
       "       'PositiveAmount', 'DayOfWeek', 'Ps_pr_dayWeek_pr_Month',\n",
       "       'Ps_pr_dayYear_pr_WeekYear', 'OpCredSum_pr_Month', 'OpDebtSum_pr_Month',\n",
       "       'avg_ps_AccountId', 'min_ps_AccountId', 'max_ps_AccountId',\n",
       "       'pi_AccountId', 'rt_avg_ps_AccountId', 'avg_ps_ChannelId',\n",
       "       'min_ps_ChannelId', 'max_ps_ChannelId', 'pi_ChannelId',\n",
       "       'rt_avg_ps_ChannelId', 'avg_ps_ProductCategory',\n",
       "       'min_ps_ProductCategory', 'max_ps_ProductCategory',\n",
       "       'pi_ProductCategory', 'rt_avg_ps_ProductCategory', 'avg_ps_ProductId',\n",
       "       'min_ps_ProductId', 'max_ps_ProductId', 'pi_ProductId',\n",
       "       'rt_avg_ps_ProductId', 'avg_ps_Hour', 'min_ps_Hour', 'max_ps_Hour',\n",
       "       'pi_Hour', 'rt_avg_ps_Hour', 'avg_ps_DayOfYear', 'min_ps_DayOfYear',\n",
       "       'max_ps_DayOfYear', 'pi_DayOfYear', 'rt_avg_ps_DayOfYear',\n",
       "       'avg_ps_WeekOfYear', 'min_ps_WeekOfYear', 'max_ps_WeekOfYear',\n",
       "       'pi_WeekOfYear', 'rt_avg_ps_WeekOfYear', 'avg_ps_Month', 'min_ps_Month',\n",
       "       'max_ps_Month', 'pi_Month', 'rt_avg_ps_Month'],\n",
       "      dtype='object')"
      ]
     },
     "execution_count": 5,
     "metadata": {},
     "output_type": "execute_result"
    }
   ],
   "source": [
    "train_data.toPandas().columns"
   ]
  },
  {
   "cell_type": "code",
   "execution_count": 6,
   "metadata": {},
   "outputs": [],
   "source": [
    "x = train_data[numerical_features_augmented].toPandas()\n",
    "y = train_data.select(label).toPandas()"
   ]
  },
  {
   "cell_type": "code",
   "execution_count": 7,
   "metadata": {},
   "outputs": [],
   "source": [
    "x = np.array(x)\n",
    "y = np.array(y.iloc[:,0])"
   ]
  },
  {
   "cell_type": "markdown",
   "metadata": {},
   "source": [
    "### Isolation Forest"
   ]
  },
  {
   "cell_type": "code",
   "execution_count": 8,
   "metadata": {},
   "outputs": [],
   "source": [
    "all_features = ['ChannelId','ProductId','PricingStrategy','Value','Operation', 'PositiveAmount',\n",
    "                            'Hour', 'DayOfYear', 'WeekOfYear', 'Month',\n",
    "                            'avg_ps_Hour','min_ps_Hour','max_ps_Hour','rt_avg_ps_Hour',\n",
    "                            'avg_ps_DayOfYear','min_ps_DayOfYear','max_ps_DayOfYear','rt_avg_ps_DayOfYear',\n",
    "                            'avg_ps_WeekOfYear','min_ps_WeekOfYear','max_ps_WeekOfYear','rt_avg_ps_WeekOfYear',#0-21\n",
    "                            'avg_ps_Month','min_ps_Month','max_ps_Month','rt_avg_ps_Month',\n",
    "                            'avg_ps_AccountId','min_ps_AccountId','max_ps_AccountId','rt_avg_ps_AccountId',\n",
    "                            'avg_ps_ChannelId','min_ps_ChannelId','max_ps_ChannelId','rt_avg_ps_ChannelId',\n",
    "                            'avg_ps_ProductCategory','min_ps_ProductCategory','max_ps_ProductCategory','rt_avg_ps_ProductCategory',\n",
    "                            'avg_ps_ProductId','min_ps_ProductId','max_ps_ProductId','rt_avg_ps_ProductId',#41\n",
    "                            'pi_Hour','pi_DayOfYear','pi_WeekOfYear','pi_Month',\n",
    "                            'pi_AccountId','pi_ChannelId','pi_ProductCategory','pi_ProductId',\n",
    "               'Ps_pr_dayWeek_pr_Month','Ps_pr_dayYear_pr_WeekYear','OpCredSum_pr_Month','OpDebtSum_pr_Month']"
   ]
  },
  {
   "cell_type": "code",
   "execution_count": 9,
   "metadata": {},
   "outputs": [],
   "source": [
    "categorical_features = ['ProductId', 'ProductCategory', 'ChannelId']"
   ]
  },
  {
   "cell_type": "code",
   "execution_count": 10,
   "metadata": {},
   "outputs": [],
   "source": [
    "import pandas as pd\n",
    "x_data, y_data = bal.balance_using_smotenc(train_data, all_features, label, categorical_positions)\n",
    "#x_data = pd.read_csv('../data/x_data_smotenc.csv')\n",
    "#y_data = pd.read_csv('../data/y_data_smotenc.csv')\n",
    "\n",
    "x = np.array(x_data.iloc[:,:])\n",
    "y = np.array(y_data.iloc[:,0])"
   ]
  },
  {
   "cell_type": "code",
   "execution_count": 11,
   "metadata": {
    "scrolled": true
   },
   "outputs": [
    {
     "data": {
      "text/plain": [
       "IsolationForest(behaviour='new', bootstrap=False, contamination=0.5,\n",
       "                max_features=1.0, max_samples=15000, n_estimators=100,\n",
       "                n_jobs=None, random_state=42, verbose=0, warm_start=False)"
      ]
     },
     "execution_count": 11,
     "metadata": {},
     "output_type": "execute_result"
    }
   ],
   "source": [
    "import sklearn.ensemble as ens\n",
    "isolation = ens.IsolationForest(behaviour='new', max_samples=15000,\n",
    "                                         random_state=42, contamination=0.5)\n",
    "isolation.fit(x[:,3:])"
   ]
  },
  {
   "cell_type": "code",
   "execution_count": 12,
   "metadata": {},
   "outputs": [],
   "source": [
    "isolation_pred = isolation.predict(x[:,3:])\n",
    "new_x = np.column_stack([x[:,3:], isolation_pred])"
   ]
  },
  {
   "cell_type": "markdown",
   "metadata": {},
   "source": [
    "### CatBoost"
   ]
  },
  {
   "cell_type": "code",
   "execution_count": 13,
   "metadata": {
    "scrolled": true
   },
   "outputs": [
    {
     "name": "stdout",
     "output_type": "stream",
     "text": [
      "Learning rate set to 0.216522\n",
      "0:\tlearn: 0.2399977\ttotal: 94.7ms\tremaining: 28.3s\n",
      "1:\tlearn: 0.0837839\ttotal: 140ms\tremaining: 20.8s\n",
      "2:\tlearn: 0.0352742\ttotal: 183ms\tremaining: 18.2s\n",
      "3:\tlearn: 0.0175653\ttotal: 244ms\tremaining: 18.1s\n",
      "4:\tlearn: 0.0111039\ttotal: 290ms\tremaining: 17.1s\n",
      "5:\tlearn: 0.0078380\ttotal: 331ms\tremaining: 16.2s\n",
      "6:\tlearn: 0.0068944\ttotal: 369ms\tremaining: 15.4s\n",
      "7:\tlearn: 0.0057787\ttotal: 413ms\tremaining: 15.1s\n",
      "8:\tlearn: 0.0051617\ttotal: 463ms\tremaining: 15s\n",
      "9:\tlearn: 0.0048251\ttotal: 504ms\tremaining: 14.6s\n",
      "10:\tlearn: 0.0044142\ttotal: 543ms\tremaining: 14.3s\n",
      "11:\tlearn: 0.0039026\ttotal: 584ms\tremaining: 14s\n",
      "12:\tlearn: 0.0035306\ttotal: 627ms\tremaining: 13.8s\n",
      "13:\tlearn: 0.0033302\ttotal: 664ms\tremaining: 13.6s\n",
      "14:\tlearn: 0.0029920\ttotal: 724ms\tremaining: 13.8s\n",
      "15:\tlearn: 0.0028615\ttotal: 781ms\tremaining: 13.9s\n",
      "16:\tlearn: 0.0027328\ttotal: 824ms\tremaining: 13.7s\n",
      "17:\tlearn: 0.0025683\ttotal: 867ms\tremaining: 13.6s\n",
      "18:\tlearn: 0.0024186\ttotal: 910ms\tremaining: 13.5s\n",
      "19:\tlearn: 0.0023089\ttotal: 972ms\tremaining: 13.6s\n",
      "20:\tlearn: 0.0020935\ttotal: 1.02s\tremaining: 13.5s\n",
      "21:\tlearn: 0.0020104\ttotal: 1.05s\tremaining: 13.3s\n",
      "22:\tlearn: 0.0019504\ttotal: 1.09s\tremaining: 13.2s\n",
      "23:\tlearn: 0.0018095\ttotal: 1.13s\tremaining: 13s\n",
      "24:\tlearn: 0.0017426\ttotal: 1.17s\tremaining: 12.9s\n",
      "25:\tlearn: 0.0016371\ttotal: 1.23s\tremaining: 13s\n",
      "26:\tlearn: 0.0016193\ttotal: 1.27s\tremaining: 12.8s\n",
      "27:\tlearn: 0.0015465\ttotal: 1.3s\tremaining: 12.7s\n",
      "28:\tlearn: 0.0014950\ttotal: 1.34s\tremaining: 12.6s\n",
      "29:\tlearn: 0.0014273\ttotal: 1.38s\tremaining: 12.4s\n",
      "30:\tlearn: 0.0013767\ttotal: 1.42s\tremaining: 12.3s\n",
      "31:\tlearn: 0.0013606\ttotal: 1.46s\tremaining: 12.3s\n",
      "32:\tlearn: 0.0013181\ttotal: 1.5s\tremaining: 12.1s\n",
      "33:\tlearn: 0.0012829\ttotal: 1.54s\tremaining: 12.1s\n",
      "34:\tlearn: 0.0012369\ttotal: 1.58s\tremaining: 12s\n",
      "35:\tlearn: 0.0011668\ttotal: 1.63s\tremaining: 11.9s\n",
      "36:\tlearn: 0.0011335\ttotal: 1.67s\tremaining: 11.9s\n",
      "37:\tlearn: 0.0011134\ttotal: 1.71s\tremaining: 11.8s\n",
      "38:\tlearn: 0.0010913\ttotal: 1.74s\tremaining: 11.7s\n",
      "39:\tlearn: 0.0010763\ttotal: 1.78s\tremaining: 11.6s\n",
      "40:\tlearn: 0.0010196\ttotal: 1.82s\tremaining: 11.5s\n",
      "41:\tlearn: 0.0009660\ttotal: 1.87s\tremaining: 11.5s\n",
      "42:\tlearn: 0.0009270\ttotal: 1.92s\tremaining: 11.4s\n",
      "43:\tlearn: 0.0008858\ttotal: 1.96s\tremaining: 11.4s\n",
      "44:\tlearn: 0.0008540\ttotal: 2s\tremaining: 11.3s\n",
      "45:\tlearn: 0.0008152\ttotal: 2.04s\tremaining: 11.3s\n",
      "46:\tlearn: 0.0008044\ttotal: 2.07s\tremaining: 11.2s\n",
      "47:\tlearn: 0.0007901\ttotal: 2.11s\tremaining: 11.1s\n",
      "48:\tlearn: 0.0007733\ttotal: 2.15s\tremaining: 11s\n",
      "49:\tlearn: 0.0007536\ttotal: 2.19s\tremaining: 11s\n",
      "50:\tlearn: 0.0007148\ttotal: 2.23s\tremaining: 10.9s\n",
      "51:\tlearn: 0.0006777\ttotal: 2.27s\tremaining: 10.8s\n",
      "52:\tlearn: 0.0006581\ttotal: 2.31s\tremaining: 10.8s\n",
      "53:\tlearn: 0.0006183\ttotal: 2.35s\tremaining: 10.7s\n",
      "54:\tlearn: 0.0005996\ttotal: 2.39s\tremaining: 10.7s\n",
      "55:\tlearn: 0.0005713\ttotal: 2.43s\tremaining: 10.6s\n",
      "56:\tlearn: 0.0005611\ttotal: 2.47s\tremaining: 10.5s\n",
      "57:\tlearn: 0.0005542\ttotal: 2.51s\tremaining: 10.5s\n",
      "58:\tlearn: 0.0005361\ttotal: 2.54s\tremaining: 10.4s\n",
      "59:\tlearn: 0.0005194\ttotal: 2.58s\tremaining: 10.3s\n",
      "60:\tlearn: 0.0005098\ttotal: 2.65s\tremaining: 10.4s\n",
      "61:\tlearn: 0.0004990\ttotal: 2.69s\tremaining: 10.3s\n",
      "62:\tlearn: 0.0004792\ttotal: 2.72s\tremaining: 10.2s\n",
      "63:\tlearn: 0.0004687\ttotal: 2.77s\tremaining: 10.2s\n",
      "64:\tlearn: 0.0004607\ttotal: 2.8s\tremaining: 10.1s\n",
      "65:\tlearn: 0.0004436\ttotal: 2.85s\tremaining: 10.1s\n",
      "66:\tlearn: 0.0004384\ttotal: 2.88s\tremaining: 10s\n",
      "67:\tlearn: 0.0004297\ttotal: 2.92s\tremaining: 9.96s\n",
      "68:\tlearn: 0.0004121\ttotal: 2.96s\tremaining: 9.9s\n",
      "69:\tlearn: 0.0004089\ttotal: 3s\tremaining: 9.85s\n",
      "70:\tlearn: 0.0003970\ttotal: 3.04s\tremaining: 9.79s\n",
      "71:\tlearn: 0.0003932\ttotal: 3.07s\tremaining: 9.72s\n",
      "72:\tlearn: 0.0003901\ttotal: 3.12s\tremaining: 9.69s\n",
      "73:\tlearn: 0.0003817\ttotal: 3.16s\tremaining: 9.64s\n",
      "74:\tlearn: 0.0003744\ttotal: 3.2s\tremaining: 9.59s\n",
      "75:\tlearn: 0.0003707\ttotal: 3.23s\tremaining: 9.53s\n",
      "76:\tlearn: 0.0003656\ttotal: 3.27s\tremaining: 9.47s\n",
      "77:\tlearn: 0.0003638\ttotal: 3.31s\tremaining: 9.41s\n",
      "78:\tlearn: 0.0003568\ttotal: 3.35s\tremaining: 9.38s\n",
      "79:\tlearn: 0.0003514\ttotal: 3.39s\tremaining: 9.33s\n",
      "80:\tlearn: 0.0003473\ttotal: 3.43s\tremaining: 9.27s\n",
      "81:\tlearn: 0.0003432\ttotal: 3.46s\tremaining: 9.21s\n",
      "82:\tlearn: 0.0003367\ttotal: 3.5s\tremaining: 9.15s\n",
      "83:\tlearn: 0.0003330\ttotal: 3.54s\tremaining: 9.1s\n",
      "84:\tlearn: 0.0003234\ttotal: 3.58s\tremaining: 9.07s\n",
      "85:\tlearn: 0.0003209\ttotal: 3.63s\tremaining: 9.02s\n",
      "86:\tlearn: 0.0003201\ttotal: 3.66s\tremaining: 8.96s\n",
      "87:\tlearn: 0.0003163\ttotal: 3.7s\tremaining: 8.9s\n",
      "88:\tlearn: 0.0003114\ttotal: 3.73s\tremaining: 8.85s\n",
      "89:\tlearn: 0.0003073\ttotal: 3.77s\tremaining: 8.79s\n",
      "90:\tlearn: 0.0003028\ttotal: 3.82s\tremaining: 8.77s\n",
      "91:\tlearn: 0.0002984\ttotal: 3.86s\tremaining: 8.72s\n",
      "92:\tlearn: 0.0002940\ttotal: 3.89s\tremaining: 8.66s\n",
      "93:\tlearn: 0.0002897\ttotal: 3.93s\tremaining: 8.61s\n",
      "94:\tlearn: 0.0002845\ttotal: 3.97s\tremaining: 8.57s\n",
      "95:\tlearn: 0.0002819\ttotal: 4.01s\tremaining: 8.51s\n",
      "96:\tlearn: 0.0002745\ttotal: 4.05s\tremaining: 8.47s\n",
      "97:\tlearn: 0.0002733\ttotal: 4.09s\tremaining: 8.42s\n",
      "98:\tlearn: 0.0002651\ttotal: 4.12s\tremaining: 8.37s\n",
      "99:\tlearn: 0.0002636\ttotal: 4.16s\tremaining: 8.32s\n",
      "100:\tlearn: 0.0002612\ttotal: 4.19s\tremaining: 8.26s\n",
      "101:\tlearn: 0.0002600\ttotal: 4.23s\tremaining: 8.21s\n",
      "102:\tlearn: 0.0002554\ttotal: 4.28s\tremaining: 8.18s\n",
      "103:\tlearn: 0.0002541\ttotal: 4.31s\tremaining: 8.13s\n",
      "104:\tlearn: 0.0002524\ttotal: 4.35s\tremaining: 8.09s\n",
      "105:\tlearn: 0.0002491\ttotal: 4.39s\tremaining: 8.04s\n",
      "106:\tlearn: 0.0002445\ttotal: 4.43s\tremaining: 7.99s\n",
      "107:\tlearn: 0.0002409\ttotal: 4.47s\tremaining: 7.95s\n",
      "108:\tlearn: 0.0002401\ttotal: 4.51s\tremaining: 7.91s\n",
      "109:\tlearn: 0.0002365\ttotal: 4.55s\tremaining: 7.86s\n",
      "110:\tlearn: 0.0002339\ttotal: 4.59s\tremaining: 7.82s\n",
      "111:\tlearn: 0.0002311\ttotal: 4.63s\tremaining: 7.77s\n",
      "112:\tlearn: 0.0002290\ttotal: 4.67s\tremaining: 7.72s\n",
      "113:\tlearn: 0.0002260\ttotal: 4.7s\tremaining: 7.67s\n",
      "114:\tlearn: 0.0002189\ttotal: 4.75s\tremaining: 7.64s\n",
      "115:\tlearn: 0.0002159\ttotal: 4.79s\tremaining: 7.6s\n",
      "116:\tlearn: 0.0002123\ttotal: 4.83s\tremaining: 7.56s\n",
      "117:\tlearn: 0.0002112\ttotal: 4.87s\tremaining: 7.52s\n",
      "118:\tlearn: 0.0002104\ttotal: 4.91s\tremaining: 7.47s\n",
      "119:\tlearn: 0.0002085\ttotal: 4.95s\tremaining: 7.43s\n",
      "120:\tlearn: 0.0002068\ttotal: 5s\tremaining: 7.39s\n",
      "121:\tlearn: 0.0002062\ttotal: 5.03s\tremaining: 7.34s\n",
      "122:\tlearn: 0.0002028\ttotal: 5.07s\tremaining: 7.3s\n",
      "123:\tlearn: 0.0002009\ttotal: 5.11s\tremaining: 7.25s\n",
      "124:\tlearn: 0.0001999\ttotal: 5.14s\tremaining: 7.2s\n",
      "125:\tlearn: 0.0001987\ttotal: 5.18s\tremaining: 7.16s\n",
      "126:\tlearn: 0.0001959\ttotal: 5.22s\tremaining: 7.12s\n",
      "127:\tlearn: 0.0001940\ttotal: 5.27s\tremaining: 7.08s\n",
      "128:\tlearn: 0.0001912\ttotal: 5.3s\tremaining: 7.03s\n",
      "129:\tlearn: 0.0001884\ttotal: 5.34s\tremaining: 6.98s\n",
      "130:\tlearn: 0.0001869\ttotal: 5.38s\tremaining: 6.94s\n",
      "131:\tlearn: 0.0001863\ttotal: 5.42s\tremaining: 6.9s\n",
      "132:\tlearn: 0.0001848\ttotal: 5.46s\tremaining: 6.86s\n",
      "133:\tlearn: 0.0001833\ttotal: 5.5s\tremaining: 6.81s\n",
      "134:\tlearn: 0.0001828\ttotal: 5.54s\tremaining: 6.77s\n",
      "135:\tlearn: 0.0001807\ttotal: 5.58s\tremaining: 6.73s\n",
      "136:\tlearn: 0.0001799\ttotal: 5.61s\tremaining: 6.68s\n",
      "137:\tlearn: 0.0001782\ttotal: 5.66s\tremaining: 6.64s\n",
      "138:\tlearn: 0.0001771\ttotal: 5.69s\tremaining: 6.59s\n",
      "139:\tlearn: 0.0001765\ttotal: 5.73s\tremaining: 6.55s\n",
      "140:\tlearn: 0.0001742\ttotal: 5.77s\tremaining: 6.51s\n",
      "141:\tlearn: 0.0001736\ttotal: 5.81s\tremaining: 6.46s\n",
      "142:\tlearn: 0.0001728\ttotal: 5.85s\tremaining: 6.42s\n",
      "143:\tlearn: 0.0001720\ttotal: 5.89s\tremaining: 6.38s\n",
      "144:\tlearn: 0.0001707\ttotal: 5.93s\tremaining: 6.34s\n",
      "145:\tlearn: 0.0001689\ttotal: 5.97s\tremaining: 6.3s\n",
      "146:\tlearn: 0.0001672\ttotal: 6.01s\tremaining: 6.25s\n",
      "147:\tlearn: 0.0001654\ttotal: 6.05s\tremaining: 6.21s\n",
      "148:\tlearn: 0.0001646\ttotal: 6.08s\tremaining: 6.17s\n",
      "149:\tlearn: 0.0001635\ttotal: 6.13s\tremaining: 6.13s\n",
      "150:\tlearn: 0.0001618\ttotal: 6.17s\tremaining: 6.09s\n",
      "151:\tlearn: 0.0001615\ttotal: 6.21s\tremaining: 6.04s\n",
      "152:\tlearn: 0.0001604\ttotal: 6.24s\tremaining: 6s\n",
      "153:\tlearn: 0.0001596\ttotal: 6.28s\tremaining: 5.95s\n",
      "154:\tlearn: 0.0001588\ttotal: 6.32s\tremaining: 5.91s\n",
      "155:\tlearn: 0.0001578\ttotal: 6.37s\tremaining: 5.88s\n",
      "156:\tlearn: 0.0001570\ttotal: 6.41s\tremaining: 5.84s\n",
      "157:\tlearn: 0.0001563\ttotal: 6.45s\tremaining: 5.79s\n",
      "158:\tlearn: 0.0001556\ttotal: 6.48s\tremaining: 5.75s\n",
      "159:\tlearn: 0.0001549\ttotal: 6.52s\tremaining: 5.7s\n",
      "160:\tlearn: 0.0001537\ttotal: 6.56s\tremaining: 5.66s\n"
     ]
    },
    {
     "name": "stdout",
     "output_type": "stream",
     "text": [
      "161:\tlearn: 0.0001531\ttotal: 6.61s\tremaining: 5.63s\n",
      "162:\tlearn: 0.0001522\ttotal: 6.65s\tremaining: 5.59s\n",
      "163:\tlearn: 0.0001511\ttotal: 6.68s\tremaining: 5.54s\n",
      "164:\tlearn: 0.0001507\ttotal: 6.72s\tremaining: 5.5s\n",
      "165:\tlearn: 0.0001501\ttotal: 6.75s\tremaining: 5.45s\n",
      "166:\tlearn: 0.0001487\ttotal: 6.79s\tremaining: 5.41s\n",
      "167:\tlearn: 0.0001479\ttotal: 6.84s\tremaining: 5.37s\n",
      "168:\tlearn: 0.0001471\ttotal: 6.88s\tremaining: 5.33s\n",
      "169:\tlearn: 0.0001467\ttotal: 6.92s\tremaining: 5.29s\n",
      "170:\tlearn: 0.0001463\ttotal: 6.95s\tremaining: 5.24s\n",
      "171:\tlearn: 0.0001459\ttotal: 6.99s\tremaining: 5.2s\n",
      "172:\tlearn: 0.0001455\ttotal: 7.02s\tremaining: 5.16s\n",
      "173:\tlearn: 0.0001447\ttotal: 7.07s\tremaining: 5.12s\n",
      "174:\tlearn: 0.0001445\ttotal: 7.1s\tremaining: 5.07s\n",
      "175:\tlearn: 0.0001439\ttotal: 7.14s\tremaining: 5.03s\n",
      "176:\tlearn: 0.0001431\ttotal: 7.18s\tremaining: 4.99s\n",
      "177:\tlearn: 0.0001427\ttotal: 7.21s\tremaining: 4.94s\n",
      "178:\tlearn: 0.0001426\ttotal: 7.25s\tremaining: 4.9s\n",
      "179:\tlearn: 0.0001422\ttotal: 7.29s\tremaining: 4.86s\n",
      "180:\tlearn: 0.0001417\ttotal: 7.33s\tremaining: 4.82s\n",
      "181:\tlearn: 0.0001414\ttotal: 7.37s\tremaining: 4.78s\n",
      "182:\tlearn: 0.0001410\ttotal: 7.41s\tremaining: 4.74s\n",
      "183:\tlearn: 0.0001408\ttotal: 7.44s\tremaining: 4.69s\n",
      "184:\tlearn: 0.0001405\ttotal: 7.48s\tremaining: 4.65s\n",
      "185:\tlearn: 0.0001394\ttotal: 7.53s\tremaining: 4.61s\n",
      "186:\tlearn: 0.0001390\ttotal: 7.57s\tremaining: 4.57s\n",
      "187:\tlearn: 0.0001389\ttotal: 7.6s\tremaining: 4.53s\n",
      "188:\tlearn: 0.0001378\ttotal: 7.64s\tremaining: 4.49s\n",
      "189:\tlearn: 0.0001376\ttotal: 7.68s\tremaining: 4.44s\n",
      "190:\tlearn: 0.0001372\ttotal: 7.71s\tremaining: 4.4s\n",
      "191:\tlearn: 0.0001367\ttotal: 7.76s\tremaining: 4.36s\n",
      "192:\tlearn: 0.0001366\ttotal: 7.79s\tremaining: 4.32s\n",
      "193:\tlearn: 0.0001358\ttotal: 7.83s\tremaining: 4.28s\n",
      "194:\tlearn: 0.0001355\ttotal: 7.87s\tremaining: 4.24s\n",
      "195:\tlearn: 0.0001350\ttotal: 7.91s\tremaining: 4.2s\n",
      "196:\tlearn: 0.0001347\ttotal: 7.94s\tremaining: 4.15s\n",
      "197:\tlearn: 0.0001344\ttotal: 7.99s\tremaining: 4.11s\n",
      "198:\tlearn: 0.0001341\ttotal: 8.02s\tremaining: 4.07s\n",
      "199:\tlearn: 0.0001335\ttotal: 8.06s\tremaining: 4.03s\n",
      "200:\tlearn: 0.0001335\ttotal: 8.1s\tremaining: 3.99s\n",
      "201:\tlearn: 0.0001334\ttotal: 8.13s\tremaining: 3.94s\n",
      "202:\tlearn: 0.0001333\ttotal: 8.17s\tremaining: 3.9s\n",
      "203:\tlearn: 0.0001328\ttotal: 8.21s\tremaining: 3.86s\n",
      "204:\tlearn: 0.0001323\ttotal: 8.25s\tremaining: 3.82s\n",
      "205:\tlearn: 0.0001320\ttotal: 8.29s\tremaining: 3.78s\n",
      "206:\tlearn: 0.0001319\ttotal: 8.32s\tremaining: 3.74s\n",
      "207:\tlearn: 0.0001315\ttotal: 8.36s\tremaining: 3.7s\n",
      "208:\tlearn: 0.0001313\ttotal: 8.4s\tremaining: 3.66s\n",
      "209:\tlearn: 0.0001309\ttotal: 8.45s\tremaining: 3.62s\n",
      "210:\tlearn: 0.0001307\ttotal: 8.48s\tremaining: 3.58s\n",
      "211:\tlearn: 0.0001306\ttotal: 8.52s\tremaining: 3.54s\n",
      "212:\tlearn: 0.0001302\ttotal: 8.55s\tremaining: 3.49s\n",
      "213:\tlearn: 0.0001300\ttotal: 8.59s\tremaining: 3.45s\n",
      "214:\tlearn: 0.0001297\ttotal: 8.65s\tremaining: 3.42s\n",
      "215:\tlearn: 0.0001292\ttotal: 8.69s\tremaining: 3.38s\n",
      "216:\tlearn: 0.0001290\ttotal: 8.73s\tremaining: 3.34s\n",
      "217:\tlearn: 0.0001288\ttotal: 8.76s\tremaining: 3.3s\n",
      "218:\tlearn: 0.0001286\ttotal: 8.8s\tremaining: 3.25s\n",
      "219:\tlearn: 0.0001285\ttotal: 8.84s\tremaining: 3.21s\n",
      "220:\tlearn: 0.0001282\ttotal: 8.88s\tremaining: 3.17s\n",
      "221:\tlearn: 0.0001281\ttotal: 8.91s\tremaining: 3.13s\n",
      "222:\tlearn: 0.0001278\ttotal: 8.95s\tremaining: 3.09s\n",
      "223:\tlearn: 0.0001273\ttotal: 8.99s\tremaining: 3.05s\n",
      "224:\tlearn: 0.0001269\ttotal: 9.03s\tremaining: 3.01s\n",
      "225:\tlearn: 0.0001268\ttotal: 9.07s\tremaining: 2.97s\n",
      "226:\tlearn: 0.0001267\ttotal: 9.11s\tremaining: 2.93s\n",
      "227:\tlearn: 0.0001265\ttotal: 9.15s\tremaining: 2.89s\n",
      "228:\tlearn: 0.0001265\ttotal: 9.19s\tremaining: 2.85s\n",
      "229:\tlearn: 0.0001259\ttotal: 9.23s\tremaining: 2.81s\n",
      "230:\tlearn: 0.0001256\ttotal: 9.27s\tremaining: 2.77s\n",
      "231:\tlearn: 0.0001253\ttotal: 9.31s\tremaining: 2.73s\n",
      "232:\tlearn: 0.0001252\ttotal: 9.35s\tremaining: 2.69s\n",
      "233:\tlearn: 0.0001247\ttotal: 9.39s\tremaining: 2.65s\n",
      "234:\tlearn: 0.0001244\ttotal: 9.43s\tremaining: 2.61s\n",
      "235:\tlearn: 0.0001240\ttotal: 9.47s\tremaining: 2.57s\n",
      "236:\tlearn: 0.0001239\ttotal: 9.5s\tremaining: 2.52s\n",
      "237:\tlearn: 0.0001237\ttotal: 9.54s\tremaining: 2.48s\n",
      "238:\tlearn: 0.0001236\ttotal: 9.59s\tremaining: 2.45s\n",
      "239:\tlearn: 0.0001234\ttotal: 9.62s\tremaining: 2.41s\n",
      "240:\tlearn: 0.0001230\ttotal: 9.68s\tremaining: 2.37s\n",
      "241:\tlearn: 0.0001229\ttotal: 9.73s\tremaining: 2.33s\n",
      "242:\tlearn: 0.0001226\ttotal: 9.77s\tremaining: 2.29s\n",
      "243:\tlearn: 0.0001225\ttotal: 9.81s\tremaining: 2.25s\n",
      "244:\tlearn: 0.0001225\ttotal: 9.85s\tremaining: 2.21s\n",
      "245:\tlearn: 0.0001224\ttotal: 9.89s\tremaining: 2.17s\n",
      "246:\tlearn: 0.0001224\ttotal: 9.93s\tremaining: 2.13s\n",
      "247:\tlearn: 0.0001222\ttotal: 9.96s\tremaining: 2.09s\n",
      "248:\tlearn: 0.0001221\ttotal: 10s\tremaining: 2.05s\n",
      "249:\tlearn: 0.0001220\ttotal: 10s\tremaining: 2.01s\n",
      "250:\tlearn: 0.0001220\ttotal: 10.1s\tremaining: 1.97s\n",
      "251:\tlearn: 0.0001217\ttotal: 10.1s\tremaining: 1.93s\n",
      "252:\tlearn: 0.0001216\ttotal: 10.2s\tremaining: 1.89s\n",
      "253:\tlearn: 0.0001213\ttotal: 10.2s\tremaining: 1.85s\n",
      "254:\tlearn: 0.0001211\ttotal: 10.2s\tremaining: 1.81s\n",
      "255:\tlearn: 0.0001209\ttotal: 10.3s\tremaining: 1.77s\n",
      "256:\tlearn: 0.0001208\ttotal: 10.3s\tremaining: 1.73s\n",
      "257:\tlearn: 0.0001206\ttotal: 10.4s\tremaining: 1.69s\n",
      "258:\tlearn: 0.0001204\ttotal: 10.4s\tremaining: 1.65s\n",
      "259:\tlearn: 0.0001203\ttotal: 10.4s\tremaining: 1.61s\n",
      "260:\tlearn: 0.0001203\ttotal: 10.5s\tremaining: 1.56s\n",
      "261:\tlearn: 0.0001201\ttotal: 10.5s\tremaining: 1.52s\n",
      "262:\tlearn: 0.0001201\ttotal: 10.6s\tremaining: 1.48s\n",
      "263:\tlearn: 0.0001198\ttotal: 10.6s\tremaining: 1.44s\n",
      "264:\tlearn: 0.0001197\ttotal: 10.6s\tremaining: 1.4s\n",
      "265:\tlearn: 0.0001196\ttotal: 10.7s\tremaining: 1.36s\n",
      "266:\tlearn: 0.0001195\ttotal: 10.7s\tremaining: 1.32s\n",
      "267:\tlearn: 0.0001195\ttotal: 10.7s\tremaining: 1.28s\n",
      "268:\tlearn: 0.0001192\ttotal: 10.8s\tremaining: 1.24s\n",
      "269:\tlearn: 0.0001192\ttotal: 10.8s\tremaining: 1.2s\n",
      "270:\tlearn: 0.0001190\ttotal: 10.9s\tremaining: 1.16s\n",
      "271:\tlearn: 0.0001189\ttotal: 10.9s\tremaining: 1.12s\n",
      "272:\tlearn: 0.0001188\ttotal: 10.9s\tremaining: 1.08s\n",
      "273:\tlearn: 0.0001187\ttotal: 11s\tremaining: 1.04s\n",
      "274:\tlearn: 0.0001183\ttotal: 11s\tremaining: 1s\n",
      "275:\tlearn: 0.0001181\ttotal: 11.1s\tremaining: 961ms\n",
      "276:\tlearn: 0.0001180\ttotal: 11.1s\tremaining: 921ms\n",
      "277:\tlearn: 0.0001180\ttotal: 11.1s\tremaining: 881ms\n",
      "278:\tlearn: 0.0001180\ttotal: 11.2s\tremaining: 841ms\n",
      "279:\tlearn: 0.0001179\ttotal: 11.2s\tremaining: 801ms\n",
      "280:\tlearn: 0.0001179\ttotal: 11.3s\tremaining: 761ms\n",
      "281:\tlearn: 0.0001178\ttotal: 11.3s\tremaining: 721ms\n",
      "282:\tlearn: 0.0001178\ttotal: 11.3s\tremaining: 681ms\n",
      "283:\tlearn: 0.0001177\ttotal: 11.4s\tremaining: 641ms\n",
      "284:\tlearn: 0.0001176\ttotal: 11.4s\tremaining: 601ms\n",
      "285:\tlearn: 0.0001175\ttotal: 11.5s\tremaining: 561ms\n",
      "286:\tlearn: 0.0001175\ttotal: 11.5s\tremaining: 520ms\n",
      "287:\tlearn: 0.0001175\ttotal: 11.5s\tremaining: 480ms\n",
      "288:\tlearn: 0.0001175\ttotal: 11.6s\tremaining: 440ms\n",
      "289:\tlearn: 0.0001172\ttotal: 11.6s\tremaining: 400ms\n",
      "290:\tlearn: 0.0001170\ttotal: 11.6s\tremaining: 360ms\n",
      "291:\tlearn: 0.0001169\ttotal: 11.7s\tremaining: 320ms\n",
      "292:\tlearn: 0.0001169\ttotal: 11.7s\tremaining: 280ms\n",
      "293:\tlearn: 0.0001168\ttotal: 11.8s\tremaining: 240ms\n",
      "294:\tlearn: 0.0001168\ttotal: 11.8s\tremaining: 200ms\n",
      "295:\tlearn: 0.0001168\ttotal: 11.8s\tremaining: 160ms\n",
      "296:\tlearn: 0.0001168\ttotal: 11.9s\tremaining: 120ms\n",
      "297:\tlearn: 0.0001167\ttotal: 11.9s\tremaining: 79.9ms\n",
      "298:\tlearn: 0.0001167\ttotal: 11.9s\tremaining: 40ms\n",
      "299:\tlearn: 0.0001166\ttotal: 12s\tremaining: 0us\n"
     ]
    }
   ],
   "source": [
    "from catboost import CatBoostClassifier\n",
    "model = CatBoostClassifier(max_depth=8, iterations=300)\n",
    "model.fit(new_x, y);"
   ]
  },
  {
   "cell_type": "markdown",
   "metadata": {},
   "source": [
    "### Fixing feature augmentation"
   ]
  },
  {
   "cell_type": "code",
   "execution_count": 14,
   "metadata": {},
   "outputs": [],
   "source": [
    "# Evaluating with test data\n",
    "test_data = io.read_spark_data_frame(param.get_file_name('testing_data'))\n",
    "transactions_list = [item for item in test_data.toPandas()['TransactionId']]\n",
    "#test_data = np.array(test_data[all_features].toPandas())"
   ]
  },
  {
   "cell_type": "code",
   "execution_count": 15,
   "metadata": {},
   "outputs": [],
   "source": [
    "test_data = preprocess.get_features_augmentation_test(test_data)\n",
    "test_data = test_data.drop(*columns_to_remove)"
   ]
  },
  {
   "cell_type": "code",
   "execution_count": 16,
   "metadata": {},
   "outputs": [
    {
     "data": {
      "text/html": [
       "<div>\n",
       "<style scoped>\n",
       "    .dataframe tbody tr th:only-of-type {\n",
       "        vertical-align: middle;\n",
       "    }\n",
       "\n",
       "    .dataframe tbody tr th {\n",
       "        vertical-align: top;\n",
       "    }\n",
       "\n",
       "    .dataframe thead th {\n",
       "        text-align: right;\n",
       "    }\n",
       "</style>\n",
       "<table border=\"1\" class=\"dataframe\">\n",
       "  <thead>\n",
       "    <tr style=\"text-align: right;\">\n",
       "      <th></th>\n",
       "      <th>PricingStrategy</th>\n",
       "      <th>Value</th>\n",
       "      <th>Operation</th>\n",
       "      <th>PositiveAmount</th>\n",
       "      <th>Hour</th>\n",
       "      <th>DayOfYear</th>\n",
       "      <th>WeekOfYear</th>\n",
       "      <th>Month</th>\n",
       "      <th>avg_ps_Hour</th>\n",
       "      <th>min_ps_Hour</th>\n",
       "      <th>...</th>\n",
       "      <th>pi_WeekOfYear</th>\n",
       "      <th>pi_Month</th>\n",
       "      <th>pi_AccountId</th>\n",
       "      <th>pi_ChannelId</th>\n",
       "      <th>pi_ProductCategory</th>\n",
       "      <th>pi_ProductId</th>\n",
       "      <th>Ps_pr_dayWeek_pr_Month</th>\n",
       "      <th>Ps_pr_dayYear_pr_WeekYear</th>\n",
       "      <th>OpCredSum_pr_Month</th>\n",
       "      <th>OpDebtSum_pr_Month</th>\n",
       "    </tr>\n",
       "  </thead>\n",
       "  <tbody>\n",
       "    <tr>\n",
       "      <th>0</th>\n",
       "      <td>2</td>\n",
       "      <td>25</td>\n",
       "      <td>-1</td>\n",
       "      <td>25.0</td>\n",
       "      <td>12</td>\n",
       "      <td>61</td>\n",
       "      <td>9</td>\n",
       "      <td>3</td>\n",
       "      <td>7106.418461</td>\n",
       "      <td>6.0</td>\n",
       "      <td>...</td>\n",
       "      <td>2.178888</td>\n",
       "      <td>2.340354</td>\n",
       "      <td>2.002797</td>\n",
       "      <td>2.159123</td>\n",
       "      <td>1.981198</td>\n",
       "      <td>1.999737</td>\n",
       "      <td>1.190476</td>\n",
       "      <td>0.045537</td>\n",
       "      <td>8921.666667</td>\n",
       "      <td>6084.666667</td>\n",
       "    </tr>\n",
       "  </tbody>\n",
       "</table>\n",
       "<p>1 rows × 52 columns</p>\n",
       "</div>"
      ],
      "text/plain": [
       "   PricingStrategy  Value  Operation  PositiveAmount  Hour  DayOfYear  \\\n",
       "0                2     25         -1            25.0    12         61   \n",
       "\n",
       "   WeekOfYear  Month  avg_ps_Hour  min_ps_Hour  ...  pi_WeekOfYear  pi_Month  \\\n",
       "0           9      3  7106.418461          6.0  ...       2.178888  2.340354   \n",
       "\n",
       "   pi_AccountId  pi_ChannelId  pi_ProductCategory  pi_ProductId  \\\n",
       "0      2.002797      2.159123            1.981198      1.999737   \n",
       "\n",
       "   Ps_pr_dayWeek_pr_Month  Ps_pr_dayYear_pr_WeekYear  OpCredSum_pr_Month  \\\n",
       "0                1.190476                   0.045537         8921.666667   \n",
       "\n",
       "   OpDebtSum_pr_Month  \n",
       "0         6084.666667  \n",
       "\n",
       "[1 rows x 52 columns]"
      ]
     },
     "execution_count": 16,
     "metadata": {},
     "output_type": "execute_result"
    }
   ],
   "source": [
    "test_data[numerical_features_augmented].toPandas().head(1)"
   ]
  },
  {
   "cell_type": "code",
   "execution_count": 17,
   "metadata": {},
   "outputs": [],
   "source": [
    "t_data = np.array(test_data[numerical_features_augmented].toPandas())"
   ]
  },
  {
   "cell_type": "code",
   "execution_count": 18,
   "metadata": {},
   "outputs": [],
   "source": [
    "isolation_pred = isolation.predict(t_data[:,1:])"
   ]
  },
  {
   "cell_type": "code",
   "execution_count": 19,
   "metadata": {},
   "outputs": [],
   "source": [
    "t_data = np.column_stack([t_data, isolation_pred])"
   ]
  },
  {
   "cell_type": "code",
   "execution_count": 20,
   "metadata": {},
   "outputs": [],
   "source": [
    "predictions = model.predict(t_data)"
   ]
  },
  {
   "cell_type": "code",
   "execution_count": 21,
   "metadata": {},
   "outputs": [],
   "source": [
    "data = (predictions+1) % 2           \n",
    "io.save_predictions_xente('../data/predictions_001.txt', transactions_list, data)"
   ]
  },
  {
   "cell_type": "code",
   "execution_count": null,
   "metadata": {},
   "outputs": [],
   "source": []
  }
 ],
 "metadata": {
  "kernelspec": {
   "display_name": "Python 3",
   "language": "python",
   "name": "python3"
  },
  "language_info": {
   "codemirror_mode": {
    "name": "ipython",
    "version": 3
   },
   "file_extension": ".py",
   "mimetype": "text/x-python",
   "name": "python",
   "nbconvert_exporter": "python",
   "pygments_lexer": "ipython3",
   "version": "3.7.3"
  }
 },
 "nbformat": 4,
 "nbformat_minor": 2
}
