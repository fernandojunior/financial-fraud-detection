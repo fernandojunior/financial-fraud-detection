{
 "cells": [
  {
   "cell_type": "markdown",
   "metadata": {},
   "source": [
    "### Import libs"
   ]
  },
  {
   "cell_type": "code",
   "execution_count": 2,
   "metadata": {},
   "outputs": [],
   "source": [
    "import numpy as np\n",
    "from sklearn.model_selection import train_test_split\n",
    "import pyspark.sql.functions as F\n",
    "import pyod\n",
    "import sys\n",
    "sys.path.insert(0, 'models/')\n",
    "\n",
    "import balance as bal\n",
    "import cat_boost as cat\n",
    "import isolation_forest\n",
    "import parameters as param\n",
    "import preprocessing as preprocess\n",
    "import visualization as vis\n",
    "import statistics as stats\n",
    "import io_module as io\n",
    "\n",
    "# This param when defined as True will execute the complete code, so slowly processing time\n",
    "# because is require to execute all checks and print all not essential functions.\n",
    "# When defined as False, a fast processing is applied with all core functionalities working\n",
    "# well.\n",
    "full_execution = False\n",
    "verbose_mode = True\n",
    "\n",
    "all_features = ['ProductId', 'ProductCategory', 'ChannelId', 'Value', 'PricingStrategy', 'Operation', 'PositiveAmount',\n",
    "                'avg_ps_ChannelId', 'rt_avg_ps_ChannelId', 'avg_ps_ProductCategory', 'rt_avg_ps_ProductCategory',\n",
    "                'avg_ps_ProductId', 'rt_avg_ps_ProductId']\n",
    "columns_to_remove = ['CurrencyCode', 'CountryCode', 'BatchId', 'AccountId', 'SubscriptionId',\n",
    "                     'CustomerId', 'TransactionStartTime', 'Amount']\n",
    "categorical_features = ['ProductId', 'ProductCategory', 'ChannelId']\n",
    "numerical_features = ['PositiveAmount', 'Operation', 'Value', 'PricingStrategy']\n",
    "numerical_features_augmented = ['Value', 'PricingStrategy', 'Operation', 'PositiveAmount', 'avg_ps_ChannelId',\n",
    "                                'rt_avg_ps_ChannelId', 'avg_ps_ProductCategory', 'rt_avg_ps_ProductCategory',\n",
    "                                'avg_ps_ProductId', 'rt_avg_ps_ProductId']\n",
    "\n",
    "label = 'FraudResult'\n",
    "genuine_label = 'FraudResult==0'\n",
    "fraud_label = 'FraudResult==1'\n",
    "categorical_positions = [0, 1, 2, 4];"
   ]
  },
  {
   "cell_type": "markdown",
   "metadata": {},
   "source": [
    "### Read Data"
   ]
  },
  {
   "cell_type": "code",
   "execution_count": 4,
   "metadata": {},
   "outputs": [],
   "source": [
    "# Read Fraud Detection Challenge data\n",
    "train_data = io.read_spark_data_frame(param.get_file_name('training_data'))\n",
    "train_data = preprocess.get_features_augmentation(train_data)\n",
    "train_data = train_data.drop(*columns_to_remove)"
   ]
  },
  {
   "cell_type": "code",
   "execution_count": 20,
   "metadata": {},
   "outputs": [],
   "source": [
    "x_data = train_data[numerical_features_augmented].toPandas()\n",
    "y_data = train_data[[label]].toPandas()"
   ]
  },
  {
   "cell_type": "code",
   "execution_count": 42,
   "metadata": {},
   "outputs": [],
   "source": [
    "from sklearn.model_selection import train_test_split\n",
    "\n",
    "x_train, x_test, y_train, y_test = train_test_split(x_data, y_data, test_size=0.15, random_state=42)"
   ]
  },
  {
   "cell_type": "code",
   "execution_count": 45,
   "metadata": {},
   "outputs": [],
   "source": [
    "from pyod.models.knn import KNN\n",
    "from pyod.utils.data import evaluate_print\n",
    "\n",
    "# train kNN detector\n",
    "clf_name = 'KNN'\n",
    "clf = KNN()\n",
    "clf.fit(x_train);"
   ]
  },
  {
   "cell_type": "code",
   "execution_count": 46,
   "metadata": {},
   "outputs": [],
   "source": [
    "# get the prediction labels and outlier scores of the training data\n",
    "y_train_pred = clf.labels_  # binary labels (0: inliers, 1: outliers)\n",
    "y_train_scores = clf.decision_scores_  # raw outlier scores\n",
    "\n",
    "# get the prediction on the test data\n",
    "y_test_pred = clf.predict(x_test)  # outlier labels (0 or 1)\n",
    "y_test_scores = clf.decision_function(x_test)  # outlier scores"
   ]
  },
  {
   "cell_type": "code",
   "execution_count": 47,
   "metadata": {},
   "outputs": [
    {
     "name": "stdout",
     "output_type": "stream",
     "text": [
      "\n",
      "On Training Data:\n",
      "KNN ROC:0.7779, precision @ rank n:0.3902\n",
      "\n",
      "On Test Data:\n",
      "KNN ROC:0.8224, precision @ rank n:0.3704\n"
     ]
    }
   ],
   "source": [
    "# evaluate and print the results\n",
    "print(\"\\nOn Training Data:\")\n",
    "evaluate_print(clf_name, y_train, y_train_scores)\n",
    "print(\"\\nOn Test Data:\")\n",
    "evaluate_print(clf_name, y_test, y_test_scores)"
   ]
  },
  {
   "cell_type": "markdown",
   "metadata": {},
   "source": [
    "### Testing data"
   ]
  },
  {
   "cell_type": "code",
   "execution_count": 88,
   "metadata": {},
   "outputs": [],
   "source": [
    "# Read Fraud Detection Challenge data\n",
    "test_data = io.read_spark_data_frame(param.get_file_name('testing_data'))"
   ]
  },
  {
   "cell_type": "code",
   "execution_count": 89,
   "metadata": {},
   "outputs": [],
   "source": [
    "test_data = preprocess.get_features_augmentation(test_data)\n",
    "test_data = train_data.drop(*columns_to_remove)"
   ]
  },
  {
   "cell_type": "code",
   "execution_count": null,
   "metadata": {},
   "outputs": [],
   "source": [
    "x_data = test_data[numerical_features_augmented].toPandas()"
   ]
  },
  {
   "cell_type": "code",
   "execution_count": null,
   "metadata": {},
   "outputs": [],
   "source": [
    "y_test_pred = clf.predict(x_data)"
   ]
  },
  {
   "cell_type": "code",
   "execution_count": null,
   "metadata": {},
   "outputs": [],
   "source": [
    "io.save_predictions_xente('../data/predictions_000.txt', transactions_list, y_test_pred)"
   ]
  }
 ],
 "metadata": {
  "kernelspec": {
   "display_name": "Python 3",
   "language": "python",
   "name": "python3"
  },
  "language_info": {
   "codemirror_mode": {
    "name": "ipython",
    "version": 3
   },
   "file_extension": ".py",
   "mimetype": "text/x-python",
   "name": "python",
   "nbconvert_exporter": "python",
   "pygments_lexer": "ipython3",
   "version": "3.7.1"
  }
 },
 "nbformat": 4,
 "nbformat_minor": 2
}
